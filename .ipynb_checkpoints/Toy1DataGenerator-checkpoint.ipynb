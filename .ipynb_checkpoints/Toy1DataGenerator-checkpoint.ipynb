{
 "cells": [
  {
   "cell_type": "code",
   "execution_count": 21,
   "metadata": {},
   "outputs": [],
   "source": [
    "import svgwrite\n",
    "import random\n",
    "from svglib.svglib import svg2rlg\n",
    "from reportlab.graphics import renderPM\n",
    "\n"
   ]
  },
  {
   "cell_type": "code",
   "execution_count": 19,
   "metadata": {},
   "outputs": [],
   "source": [
    "def shape_create():\n",
    "    x_min = random.randrange(10,50)\n",
    "    y_min = random.randrange(10,50)\n",
    "    x_circ = random.randrange(10,50)\n",
    "    y_circ = random.randrange(10,50)\n",
    "    rad_circ = 4\n",
    "    rec_size = 15\n",
    "    x_max = x_min + rec_size\n",
    "    y_max = y_min + rec_size\n",
    "\n",
    "    in_square = False\n",
    "    on_line = False\n",
    "    out_square = False\n",
    "    \n",
    "    if x_circ < (x_max + rad_circ) and x_circ > (x_min - rad_circ) :\n",
    "        if y_circ < (y_max + rad_circ) and y_circ > (y_min - rad_circ) :\n",
    "            if abs(x_min - x_circ) <= rad_circ:\n",
    "                on_line = True\n",
    "            elif abs(x_max - x_circ) <= rad_circ:\n",
    "                on_line = True\n",
    "            elif abs(y_min - y_circ) <= rad_circ:\n",
    "                on_line = True\n",
    "            elif abs(y_max - y_circ) <= rad_circ:\n",
    "                on_line = True\n",
    "            else :\n",
    "                in_square = True\n",
    "        else:\n",
    "            out_square = True\n",
    "    else:\n",
    "        out_square = True\n",
    "    \n",
    "    if in_square:\n",
    "        return 0, x_min, y_min, x_max, y_max, x_circ, y_circ, rad_circ, rec_size\n",
    "    if on_line:\n",
    "        return 1, x_min, y_min, x_max, y_max, x_circ, y_circ, rad_circ, rec_size\n",
    "    if out_square:\n",
    "        return 2, x_min, y_min, x_max, y_max, x_circ, y_circ, rad_circ, rec_size \n",
    "    else:\n",
    "        return 2, x_min, y_min, x_max, y_max, x_circ, y_circ, rad_circ, rec_size "
   ]
  },
  {
   "cell_type": "code",
   "execution_count": 20,
   "metadata": {},
   "outputs": [
    {
     "name": "stdout",
     "output_type": "stream",
     "text": [
      "67974\n"
     ]
    }
   ],
   "source": [
    "svg_size_width = 70\n",
    "svg_size_height = 70\n",
    "\n",
    "in_square_count = 1000\n",
    "out_square_count = 1000\n",
    "on_line_count = 1000\n",
    "\n",
    "count = 0\n",
    "\n",
    "while (in_square_count != 0) or (on_line_count != 0) or (out_square_count != 0) :\n",
    "    count += 1\n",
    "    pos, x_min, y_min, x_max, y_max, x_circ, y_circ, rad_circ, rec_size = shape_create()\n",
    "    if pos == 0:\n",
    "        if in_square_count == 0:\n",
    "            continue\n",
    "        in_square_count -= 1\n",
    "        name = \"in_square\" + str(in_square_count) + \".svg\"\n",
    "    if pos == 1:\n",
    "        if on_line_count == 0:\n",
    "            continue\n",
    "        on_line_count -= 1\n",
    "        name = \"on_line\" + str(on_line_count) + \".svg\"\n",
    "    if pos == 2:\n",
    "        if out_square_count == 0:\n",
    "            continue\n",
    "        out_square_count -= 1\n",
    "        name = \"out_square\" + str(out_square_count) + \".svg\"\n",
    "\n",
    "    dwg = svgwrite.Drawing(name, (svg_size_width, svg_size_height))\n",
    "\n",
    "    dwg.add(dwg.rect((x_min, y_min), (rec_size,rec_size),\n",
    "        stroke=svgwrite.rgb(0, 0, 0, '%'), \n",
    "        fill='white')\n",
    "    )\n",
    "    dwg.add(dwg.circle(center=(x_circ,y_circ),\n",
    "    r=rad_circ, \n",
    "    stroke=svgwrite.rgb(0, 0, 0, '%'),\n",
    "    fill='white')\n",
    "    )\n",
    "    dwg.save()\n",
    "    drawing = svg2rlg(name)\n",
    "    new_name = name.strip(\".svg\")\n",
    "    new_name = new_name + \".png\"\n",
    "    renderPM.drawToFile(drawing, new_name, fmt=\"PNG\")\n",
    "\n",
    "print(count) \n",
    "\n"
   ]
  },
  {
   "cell_type": "code",
   "execution_count": 8,
   "metadata": {},
   "outputs": [
    {
     "name": "stdout",
     "output_type": "stream",
     "text": [
      "Collecting svglib\n",
      "  Downloading https://files.pythonhosted.org/packages/f4/46/a3d3ae2e04222ef70e8b9fd19296afe2d79ce1c818a754b7621a87dfd632/svglib-0.9.3.tar.gz (899kB)\n",
      "Collecting reportlab (from svglib)\n",
      "  Downloading https://files.pythonhosted.org/packages/2c/b9/6efd5ee0319338a4dcfbb5ed6053f5e8a54f356f054c1be1601384361759/reportlab-3.5.34-cp37-cp37m-win_amd64.whl (2.3MB)\n",
      "Requirement already satisfied: lxml in c:\\users\\colly\\anaconda3\\lib\\site-packages (from svglib) (4.4.1)\n",
      "Requirement already satisfied: tinycss2>=0.6.0 in c:\\users\\colly\\anaconda3\\lib\\site-packages (from svglib) (1.0.2)\n",
      "Requirement already satisfied: cssselect2>=0.2.0 in c:\\users\\colly\\anaconda3\\lib\\site-packages (from svglib) (0.2.2)\n",
      "Requirement already satisfied: pillow>=4.0.0 in c:\\users\\colly\\anaconda3\\lib\\site-packages (from reportlab->svglib) (6.2.0)\n",
      "Requirement already satisfied: setuptools>=39.2.0 in c:\\users\\colly\\anaconda3\\lib\\site-packages (from tinycss2>=0.6.0->svglib) (41.4.0)\n",
      "Requirement already satisfied: webencodings>=0.4 in c:\\users\\colly\\anaconda3\\lib\\site-packages (from tinycss2>=0.6.0->svglib) (0.5.1)\n",
      "Building wheels for collected packages: svglib\n",
      "  Building wheel for svglib (setup.py): started\n",
      "  Building wheel for svglib (setup.py): finished with status 'done'\n",
      "  Created wheel for svglib: filename=svglib-0.9.3-cp37-none-any.whl size=26701 sha256=00cb8ef0480ad62bb8eb31b2faa44018f24409b2da4a5b32645c121b27fc17ed\n",
      "  Stored in directory: C:\\Users\\colly\\AppData\\Local\\pip\\Cache\\wheels\\d7\\ed\\d4\\89b387a059d87e1c01d309c6b87d600947ceffc3d035bb18d1\n",
      "Successfully built svglib\n",
      "Installing collected packages: reportlab, svglib\n",
      "Successfully installed reportlab-3.5.34 svglib-0.9.3\n"
     ]
    }
   ],
   "source": [
    "# Install a pip package in the current Jupyter kernel\n",
    "import sys\n",
    "!{sys.executable} -m pip install svglib"
   ]
  }
 ],
 "metadata": {
  "kernelspec": {
   "display_name": "Python 3",
   "language": "python",
   "name": "python3"
  },
  "language_info": {
   "codemirror_mode": {
    "name": "ipython",
    "version": 3
   },
   "file_extension": ".py",
   "mimetype": "text/x-python",
   "name": "python",
   "nbconvert_exporter": "python",
   "pygments_lexer": "ipython3",
   "version": "3.7.4"
  }
 },
 "nbformat": 4,
 "nbformat_minor": 2
}
