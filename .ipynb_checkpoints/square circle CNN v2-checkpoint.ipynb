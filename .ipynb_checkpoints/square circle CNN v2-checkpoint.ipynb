{
 "cells": [
  {
   "cell_type": "code",
   "execution_count": 19,
   "metadata": {},
   "outputs": [],
   "source": [
    "from __future__ import print_function\n",
    "import keras\n",
    "from keras.models import Sequential\n",
    "from keras.layers import Dense, Dropout, Flatten\n",
    "from keras.layers import Conv2D, MaxPooling2D\n",
    "from keras import backend as K\n",
    "\n",
    "batch_size = 64\n",
    "num_classes = 1\n",
    "epochs = 5\n",
    "\n",
    "# input image dimensions\n",
    "img_rows, img_cols = 28, 28\n",
    "\n"
   ]
  },
  {
   "cell_type": "code",
   "execution_count": 20,
   "metadata": {},
   "outputs": [
    {
     "data": {
      "image/png": "[encoded data removed]",
      "text/plain": [
       "<Figure size 432x288 with 1 Axes>"
      ]
     },
     "metadata": {
      "needs_background": "light"
     },
     "output_type": "display_data"
    },
    {
     "name": "stdout",
     "output_type": "stream",
     "text": [
      "0\n"
     ]
    },
    {
     "data": {
      "image/png": "[encoded data removed]",
      "text/plain": [
       "<Figure size 432x288 with 1 Axes>"
      ]
     },
     "metadata": {
      "needs_background": "light"
     },
     "output_type": "display_data"
    },
    {
     "name": "stdout",
     "output_type": "stream",
     "text": [
      "1\n"
     ]
    },
    {
     "name": "stderr",
     "output_type": "stream",
     "text": [
      "100%|██████████| 4000/4000 [00:08<00:00, 451.16it/s]\n",
      "100%|██████████| 4000/4000 [00:07<00:00, 557.69it/s]\n"
     ]
    }
   ],
   "source": [
    "\n",
    "import numpy as np\n",
    "import matplotlib.pyplot as plt\n",
    "import os\n",
    "import cv2\n",
    "from tqdm import tqdm\n",
    "import csv\n",
    "from sklearn.utils import shuffle\n",
    "from sklearn.model_selection import train_test_split\n",
    "from skimage.transform import rotate\n",
    "from keras.models import Sequential\n",
    "from keras.layers import Dense\n",
    "\n",
    "\n",
    "trainxs = []\n",
    "trainximgs = []\n",
    "trainys = []\n",
    "\n",
    "DATADIR = r\"C:\\Users\\colly\\Desktop\\squarevscircle\"\n",
    "\n",
    "CATEGORIES = [\"squarev2\", \"circlev2\"]\n",
    "#CATEGORIES = [\"out_square\", \"in_square\", \"on_line\"]\n",
    "\n",
    "for category in CATEGORIES:\n",
    "    path = os.path.join(DATADIR,category) \n",
    "    class_num = CATEGORIES.index(category)\n",
    "    for img in os.listdir(path):  \n",
    "        img_array = cv2.imread(os.path.join(path,img) ,cv2.IMREAD_GRAYSCALE)  # convert to array\n",
    "        img_array = cv2.bitwise_not(img_array)\n",
    "        plt.imshow(img_array, cmap='gray')  # graph it\n",
    "        plt.show()  # display!\n",
    "        print(class_num)\n",
    "          # we just want one for now so break\n",
    "        break\n",
    "\n",
    "\n",
    "for category in CATEGORIES:  \n",
    "\n",
    "    path = os.path.join(DATADIR,category)  \n",
    "    class_num = CATEGORIES.index(category)  # get the classification  (0 or a 1). 0=notinsquare 1=insquare\n",
    "\n",
    "    for img in tqdm(os.listdir(path)):  # iterate over each image per point value\n",
    "        img_array = cv2.imread(os.path.join(path,img) ,cv2.IMREAD_GRAYSCALE)  # convert to array\n",
    "        img_array = cv2.bitwise_not(img_array)\n",
    "        new_img_array = rotate(img_array, 90)\n",
    "        new_img_array1 = rotate(img_array, 180)\n",
    "        new_img_array2 = rotate(img_array, 270)\n",
    "\n",
    "        trainys.append(class_num)\n",
    "        trainys.append(class_num)\n",
    "        trainys.append(class_num)\n",
    "        trainys.append(class_num)\n",
    "        trainxs.append(new_img_array)\n",
    "        trainxs.append(new_img_array1)\n",
    "        trainxs.append(new_img_array2)\n",
    "        trainxs.append(img_array)\n",
    "            \n"
   ]
  },
  {
   "cell_type": "code",
   "execution_count": 21,
   "metadata": {},
   "outputs": [
    {
     "name": "stdout",
     "output_type": "stream",
     "text": [
      "(25600, 28, 28)\n"
     ]
    }
   ],
   "source": [
    "from sklearn.model_selection import train_test_split\n",
    "\n",
    "trainxs1 = np.asarray(trainxs, dtype=np.float32)\n",
    "trainys1 = np.asarray(trainys, dtype=np.float32)\n",
    "\n",
    "from sklearn.model_selection import train_test_split\n",
    "\n",
    "x_train, x_test, y_train, y_test = train_test_split(trainxs1, trainys1, test_size=0.2, random_state=42)\n",
    "\n",
    "\n",
    "print(x_train.shape)"
   ]
  },
  {
   "cell_type": "code",
   "execution_count": 22,
   "metadata": {},
   "outputs": [
    {
     "data": {
      "text/plain": [
       "(25600, 28, 28, 1)"
      ]
     },
     "execution_count": 22,
     "metadata": {},
     "output_type": "execute_result"
    }
   ],
   "source": [
    "x_train = x_train.reshape(x_train.shape[0], img_rows, img_cols, 1)\n",
    "#x_test = x_test.reshape(x_test.shape[0], img_rows, img_cols, 1)\n",
    "input_shape = (img_rows, img_cols, 1)\n",
    "x_train.shape"
   ]
  },
  {
   "cell_type": "code",
   "execution_count": 23,
   "metadata": {},
   "outputs": [
    {
     "name": "stdout",
     "output_type": "stream",
     "text": [
      "yes\n",
      "x_train shape: (25600, 28, 28, 1)\n",
      "x_train shape: (25600, 28, 28, 1)\n",
      "25600 train samples\n",
      "6400 test samples\n",
      "Model: \"sequential_2\"\n",
      "_________________________________________________________________\n",
      "Layer (type)                 Output Shape              Param #   \n",
      "=================================================================\n",
      "conv2d_3 (Conv2D)            (None, 20, 20, 32)        2624      \n",
      "_________________________________________________________________\n",
      "conv2d_4 (Conv2D)            (None, 18, 18, 64)        18496     \n",
      "_________________________________________________________________\n",
      "max_pooling2d_2 (MaxPooling2 (None, 9, 9, 64)          0         \n",
      "_________________________________________________________________\n",
      "dropout_3 (Dropout)          (None, 9, 9, 64)          0         \n",
      "_________________________________________________________________\n",
      "flatten_2 (Flatten)          (None, 5184)              0         \n",
      "_________________________________________________________________\n",
      "dense_3 (Dense)              (None, 128)               663680    \n",
      "_________________________________________________________________\n",
      "dropout_4 (Dropout)          (None, 128)               0         \n",
      "_________________________________________________________________\n",
      "dense_4 (Dense)              (None, 1)                 129       \n",
      "=================================================================\n",
      "Total params: 684,929\n",
      "Trainable params: 684,929\n",
      "Non-trainable params: 0\n",
      "_________________________________________________________________\n"
     ]
    }
   ],
   "source": [
    "print(\"yes\")\n",
    "print('x_train shape:', x_train.shape)\n",
    "x_train = x_train.reshape(x_train.shape[0], img_rows, img_cols, 1)\n",
    "x_test = x_test.reshape(x_test.shape[0], img_rows, img_cols, 1)\n",
    "input_shape = (img_rows, img_cols, 1)\n",
    "\n",
    "#print(x_train[3])\n",
    "x_train = x_train.astype('float32')\n",
    "x_test = x_test.astype('float32')\n",
    "x_train /= 255\n",
    "x_test /= 255\n",
    "print('x_train shape:', x_train.shape)\n",
    "print(x_train.shape[0], 'train samples')\n",
    "print(x_test.shape[0], 'test samples')\n",
    "\n",
    "\n",
    "model = Sequential()\n",
    "model.add(Conv2D(32, kernel_size=(9, 9),\n",
    "                 activation='relu',\n",
    "                 input_shape=input_shape))\n",
    "model.add(Conv2D(64, (3, 3), activation='relu'))\n",
    "model.add(MaxPooling2D(pool_size=(2, 2)))\n",
    "model.add(Dropout(0.25))\n",
    "model.add(Flatten())\n",
    "model.add(Dense(128, activation='relu'))\n",
    "model.add(Dropout(0.5))\n",
    "model.add(Dense(1, activation='sigmoid'))\n",
    "\n",
    "model.compile(loss=keras.losses.binary_crossentropy,\n",
    "              optimizer=keras.optimizers.Adadelta(),\n",
    "              metrics=['accuracy'])\n",
    "model.summary()"
   ]
  },
  {
   "cell_type": "code",
   "execution_count": 24,
   "metadata": {},
   "outputs": [
    {
     "name": "stdout",
     "output_type": "stream",
     "text": [
      "Train on 25600 samples, validate on 6400 samples\n",
      "Epoch 1/5\n"
     ]
    },
    {
     "name": "stdout",
     "output_type": "stream",
     "text": [
      "11776/25600 [============>.................] - ETA: 4:48 - loss: 0.6952 - accuracy: 0.50 - ETA: 2:56 - loss: 0.6900 - accuracy: 0.54 - ETA: 2:20 - loss: 0.6877 - accuracy: 0.55 - ETA: 2:01 - loss: 0.6839 - accuracy: 0.54 - ETA: 1:48 - loss: 0.6862 - accuracy: 0.52 - ETA: 1:39 - loss: 0.6865 - accuracy: 0.51 - ETA: 1:34 - loss: 0.6822 - accuracy: 0.52 - ETA: 1:30 - loss: 0.6797 - accuracy: 0.50 - ETA: 1:26 - loss: 0.6799 - accuracy: 0.50 - ETA: 1:23 - loss: 0.6786 - accuracy: 0.51 - ETA: 1:21 - loss: 0.6799 - accuracy: 0.51 - ETA: 1:19 - loss: 0.6767 - accuracy: 0.51 - ETA: 1:17 - loss: 0.6706 - accuracy: 0.52 - ETA: 1:16 - loss: 0.6658 - accuracy: 0.53 - ETA: 1:15 - loss: 0.6655 - accuracy: 0.52 - ETA: 1:14 - loss: 0.6648 - accuracy: 0.52 - ETA: 1:13 - loss: 0.6654 - accuracy: 0.53 - ETA: 1:12 - loss: 0.6653 - accuracy: 0.53 - ETA: 1:11 - loss: 0.6654 - accuracy: 0.53 - ETA: 1:10 - loss: 0.6639 - accuracy: 0.53 - ETA: 1:10 - loss: 0.6616 - accuracy: 0.53 - ETA: 1:09 - loss: 0.6615 - accuracy: 0.53 - ETA: 1:08 - loss: 0.6639 - accuracy: 0.53 - ETA: 1:07 - loss: 0.6635 - accuracy: 0.53 - ETA: 1:07 - loss: 0.6619 - accuracy: 0.53 - ETA: 1:06 - loss: 0.6623 - accuracy: 0.53 - ETA: 1:06 - loss: 0.6589 - accuracy: 0.54 - ETA: 1:05 - loss: 0.6577 - accuracy: 0.54 - ETA: 1:05 - loss: 0.6558 - accuracy: 0.54 - ETA: 1:04 - loss: 0.6586 - accuracy: 0.54 - ETA: 1:04 - loss: 0.6580 - accuracy: 0.54 - ETA: 1:03 - loss: 0.6576 - accuracy: 0.54 - ETA: 1:03 - loss: 0.6561 - accuracy: 0.54 - ETA: 1:03 - loss: 0.6568 - accuracy: 0.54 - ETA: 1:02 - loss: 0.6554 - accuracy: 0.54 - ETA: 1:02 - loss: 0.6541 - accuracy: 0.54 - ETA: 1:01 - loss: 0.6509 - accuracy: 0.55 - ETA: 1:01 - loss: 0.6486 - accuracy: 0.55 - ETA: 1:01 - loss: 0.6454 - accuracy: 0.55 - ETA: 1:00 - loss: 0.6425 - accuracy: 0.55 - ETA: 1:00 - loss: 0.6418 - accuracy: 0.55 - ETA: 1:00 - loss: 0.6424 - accuracy: 0.55 - ETA: 59s - loss: 0.6437 - accuracy: 0.5567 - ETA: 59s - loss: 0.6438 - accuracy: 0.556 - ETA: 59s - loss: 0.6433 - accuracy: 0.556 - ETA: 58s - loss: 0.6420 - accuracy: 0.556 - ETA: 58s - loss: 0.6421 - accuracy: 0.555 - ETA: 58s - loss: 0.6411 - accuracy: 0.555 - ETA: 58s - loss: 0.6406 - accuracy: 0.557 - ETA: 57s - loss: 0.6399 - accuracy: 0.556 - ETA: 57s - loss: 0.6394 - accuracy: 0.556 - ETA: 57s - loss: 0.6382 - accuracy: 0.557 - ETA: 57s - loss: 0.6370 - accuracy: 0.557 - ETA: 56s - loss: 0.6358 - accuracy: 0.559 - ETA: 56s - loss: 0.6352 - accuracy: 0.558 - ETA: 56s - loss: 0.6347 - accuracy: 0.558 - ETA: 56s - loss: 0.6349 - accuracy: 0.558 - ETA: 55s - loss: 0.6341 - accuracy: 0.559 - ETA: 55s - loss: 0.6337 - accuracy: 0.558 - ETA: 55s - loss: 0.6332 - accuracy: 0.558 - ETA: 55s - loss: 0.6333 - accuracy: 0.558 - ETA: 55s - loss: 0.6351 - accuracy: 0.558 - ETA: 55s - loss: 0.6355 - accuracy: 0.558 - ETA: 55s - loss: 0.6353 - accuracy: 0.559 - ETA: 54s - loss: 0.6352 - accuracy: 0.557 - ETA: 54s - loss: 0.6345 - accuracy: 0.558 - ETA: 54s - loss: 0.6343 - accuracy: 0.558 - ETA: 54s - loss: 0.6340 - accuracy: 0.558 - ETA: 53s - loss: 0.6327 - accuracy: 0.560 - ETA: 53s - loss: 0.6318 - accuracy: 0.560 - ETA: 53s - loss: 0.6308 - accuracy: 0.562 - ETA: 53s - loss: 0.6302 - accuracy: 0.562 - ETA: 53s - loss: 0.6289 - accuracy: 0.561 - ETA: 52s - loss: 0.6278 - accuracy: 0.562 - ETA: 52s - loss: 0.6271 - accuracy: 0.563 - ETA: 52s - loss: 0.6259 - accuracy: 0.564 - ETA: 52s - loss: 0.6249 - accuracy: 0.565 - ETA: 52s - loss: 0.6251 - accuracy: 0.565 - ETA: 51s - loss: 0.6247 - accuracy: 0.566 - ETA: 51s - loss: 0.6240 - accuracy: 0.567 - ETA: 51s - loss: 0.6239 - accuracy: 0.567 - ETA: 51s - loss: 0.6228 - accuracy: 0.568 - ETA: 51s - loss: 0.6216 - accuracy: 0.568 - ETA: 50s - loss: 0.6200 - accuracy: 0.569 - ETA: 50s - loss: 0.6222 - accuracy: 0.569 - ETA: 50s - loss: 0.6223 - accuracy: 0.569 - ETA: 50s - loss: 0.6227 - accuracy: 0.568 - ETA: 49s - loss: 0.6224 - accuracy: 0.569 - ETA: 49s - loss: 0.6221 - accuracy: 0.569 - ETA: 49s - loss: 0.6212 - accuracy: 0.571 - ETA: 49s - loss: 0.6203 - accuracy: 0.572 - ETA: 49s - loss: 0.6199 - accuracy: 0.573 - ETA: 49s - loss: 0.6199 - accuracy: 0.574 - ETA: 49s - loss: 0.6195 - accuracy: 0.574 - ETA: 48s - loss: 0.6191 - accuracy: 0.574 - ETA: 48s - loss: 0.6184 - accuracy: 0.575 - ETA: 48s - loss: 0.6186 - accuracy: 0.574 - ETA: 48s - loss: 0.6179 - accuracy: 0.576 - ETA: 48s - loss: 0.6176 - accuracy: 0.576 - ETA: 48s - loss: 0.6176 - accuracy: 0.575 - ETA: 47s - loss: 0.6169 - accuracy: 0.575 - ETA: 47s - loss: 0.6164 - accuracy: 0.577 - ETA: 47s - loss: 0.6166 - accuracy: 0.577 - ETA: 47s - loss: 0.6160 - accuracy: 0.577 - ETA: 47s - loss: 0.6155 - accuracy: 0.578 - ETA: 47s - loss: 0.6150 - accuracy: 0.579 - ETA: 47s - loss: 0.6144 - accuracy: 0.579 - ETA: 46s - loss: 0.6138 - accuracy: 0.579 - ETA: 46s - loss: 0.6129 - accuracy: 0.579 - ETA: 46s - loss: 0.6128 - accuracy: 0.580 - ETA: 46s - loss: 0.6122 - accuracy: 0.581 - ETA: 46s - loss: 0.6117 - accuracy: 0.580 - ETA: 45s - loss: 0.6111 - accuracy: 0.581 - ETA: 45s - loss: 0.6115 - accuracy: 0.581 - ETA: 45s - loss: 0.6111 - accuracy: 0.583 - ETA: 45s - loss: 0.6108 - accuracy: 0.583 - ETA: 45s - loss: 0.6100 - accuracy: 0.584 - ETA: 45s - loss: 0.6093 - accuracy: 0.585 - ETA: 44s - loss: 0.6087 - accuracy: 0.585 - ETA: 44s - loss: 0.6082 - accuracy: 0.585 - ETA: 44s - loss: 0.6075 - accuracy: 0.585 - ETA: 44s - loss: 0.6071 - accuracy: 0.585 - ETA: 44s - loss: 0.6067 - accuracy: 0.585 - ETA: 44s - loss: 0.6062 - accuracy: 0.586 - ETA: 43s - loss: 0.6057 - accuracy: 0.586 - ETA: 43s - loss: 0.6056 - accuracy: 0.586 - ETA: 43s - loss: 0.6052 - accuracy: 0.586 - ETA: 43s - loss: 0.6049 - accuracy: 0.586 - ETA: 43s - loss: 0.6043 - accuracy: 0.587 - ETA: 43s - loss: 0.6043 - accuracy: 0.587 - ETA: 42s - loss: 0.6042 - accuracy: 0.588 - ETA: 42s - loss: 0.6038 - accuracy: 0.589 - ETA: 42s - loss: 0.6037 - accuracy: 0.590 - ETA: 42s - loss: 0.6040 - accuracy: 0.589 - ETA: 42s - loss: 0.6035 - accuracy: 0.589 - ETA: 42s - loss: 0.6029 - accuracy: 0.589 - ETA: 41s - loss: 0.6028 - accuracy: 0.590 - ETA: 41s - loss: 0.6033 - accuracy: 0.590 - ETA: 41s - loss: 0.6037 - accuracy: 0.590 - ETA: 41s - loss: 0.6032 - accuracy: 0.591 - ETA: 41s - loss: 0.6029 - accuracy: 0.591 - ETA: 40s - loss: 0.6025 - accuracy: 0.592 - ETA: 40s - loss: 0.6020 - accuracy: 0.593 - ETA: 40s - loss: 0.6022 - accuracy: 0.593 - ETA: 40s - loss: 0.6015 - accuracy: 0.593 - ETA: 40s - loss: 0.6011 - accuracy: 0.593 - ETA: 40s - loss: 0.6009 - accuracy: 0.594 - ETA: 39s - loss: 0.6007 - accuracy: 0.594 - ETA: 39s - loss: 0.6004 - accuracy: 0.596 - ETA: 39s - loss: 0.6005 - accuracy: 0.595 - ETA: 39s - loss: 0.6001 - accuracy: 0.596 - ETA: 39s - loss: 0.5995 - accuracy: 0.596 - ETA: 39s - loss: 0.6001 - accuracy: 0.597 - ETA: 38s - loss: 0.5998 - accuracy: 0.597 - ETA: 38s - loss: 0.5992 - accuracy: 0.597 - ETA: 38s - loss: 0.5989 - accuracy: 0.598 - ETA: 38s - loss: 0.5985 - accuracy: 0.598 - ETA: 38s - loss: 0.5982 - accuracy: 0.599 - ETA: 38s - loss: 0.5977 - accuracy: 0.600 - ETA: 37s - loss: 0.5980 - accuracy: 0.600 - ETA: 37s - loss: 0.5981 - accuracy: 0.600 - ETA: 37s - loss: 0.5980 - accuracy: 0.601 - ETA: 37s - loss: 0.5979 - accuracy: 0.602 - ETA: 37s - loss: 0.5978 - accuracy: 0.602 - ETA: 37s - loss: 0.5977 - accuracy: 0.603 - ETA: 36s - loss: 0.5974 - accuracy: 0.603 - ETA: 36s - loss: 0.5972 - accuracy: 0.603 - ETA: 36s - loss: 0.5968 - accuracy: 0.604 - ETA: 36s - loss: 0.5964 - accuracy: 0.604 - ETA: 36s - loss: 0.5960 - accuracy: 0.604 - ETA: 36s - loss: 0.5959 - accuracy: 0.604 - ETA: 35s - loss: 0.5959 - accuracy: 0.605 - ETA: 35s - loss: 0.5956 - accuracy: 0.605 - ETA: 35s - loss: 0.5955 - accuracy: 0.606 - ETA: 35s - loss: 0.5952 - accuracy: 0.606 - ETA: 35s - loss: 0.5951 - accuracy: 0.606 - ETA: 35s - loss: 0.5954 - accuracy: 0.606 - ETA: 34s - loss: 0.5953 - accuracy: 0.606 - ETA: 34s - loss: 0.5952 - accuracy: 0.606 - ETA: 34s - loss: 0.5949 - accuracy: 0.606 - ETA: 34s - loss: 0.5947 - accuracy: 0.607 - ETA: 34s - loss: 0.5955 - accuracy: 0.606 - ETA: 34s - loss: 0.5950 - accuracy: 0.606 - ETA: 33s - loss: 0.5947 - accuracy: 0.60623744/25600 [==========================>...] - ETA: 33s - loss: 0.5946 - accuracy: 0.607 - ETA: 33s - loss: 0.5945 - accuracy: 0.607 - ETA: 33s - loss: 0.5939 - accuracy: 0.608 - ETA: 33s - loss: 0.5935 - accuracy: 0.608 - ETA: 33s - loss: 0.5929 - accuracy: 0.609 - ETA: 32s - loss: 0.5925 - accuracy: 0.609 - ETA: 32s - loss: 0.5923 - accuracy: 0.610 - ETA: 32s - loss: 0.5923 - accuracy: 0.610 - ETA: 32s - loss: 0.5917 - accuracy: 0.611 - ETA: 32s - loss: 0.5912 - accuracy: 0.612 - ETA: 32s - loss: 0.5913 - accuracy: 0.612 - ETA: 32s - loss: 0.5909 - accuracy: 0.612 - ETA: 31s - loss: 0.5909 - accuracy: 0.612 - ETA: 31s - loss: 0.5909 - accuracy: 0.613 - ETA: 31s - loss: 0.5908 - accuracy: 0.613 - ETA: 31s - loss: 0.5906 - accuracy: 0.614 - ETA: 31s - loss: 0.5904 - accuracy: 0.614 - ETA: 31s - loss: 0.5904 - accuracy: 0.615 - ETA: 30s - loss: 0.5903 - accuracy: 0.616 - ETA: 30s - loss: 0.5900 - accuracy: 0.616 - ETA: 30s - loss: 0.5895 - accuracy: 0.617 - ETA: 30s - loss: 0.5893 - accuracy: 0.617 - ETA: 30s - loss: 0.5890 - accuracy: 0.618 - ETA: 30s - loss: 0.5889 - accuracy: 0.618 - ETA: 30s - loss: 0.5887 - accuracy: 0.618 - ETA: 29s - loss: 0.5886 - accuracy: 0.618 - ETA: 29s - loss: 0.5880 - accuracy: 0.618 - ETA: 29s - loss: 0.5878 - accuracy: 0.619 - ETA: 29s - loss: 0.5878 - accuracy: 0.619 - ETA: 29s - loss: 0.5877 - accuracy: 0.619 - ETA: 29s - loss: 0.5876 - accuracy: 0.619 - ETA: 28s - loss: 0.5877 - accuracy: 0.619 - ETA: 28s - loss: 0.5878 - accuracy: 0.619 - ETA: 28s - loss: 0.5878 - accuracy: 0.619 - ETA: 28s - loss: 0.5878 - accuracy: 0.619 - ETA: 28s - loss: 0.5877 - accuracy: 0.620 - ETA: 28s - loss: 0.5877 - accuracy: 0.620 - ETA: 27s - loss: 0.5874 - accuracy: 0.620 - ETA: 27s - loss: 0.5869 - accuracy: 0.621 - ETA: 27s - loss: 0.5869 - accuracy: 0.620 - ETA: 27s - loss: 0.5866 - accuracy: 0.621 - ETA: 27s - loss: 0.5863 - accuracy: 0.621 - ETA: 27s - loss: 0.5862 - accuracy: 0.621 - ETA: 27s - loss: 0.5860 - accuracy: 0.621 - ETA: 26s - loss: 0.5860 - accuracy: 0.622 - ETA: 26s - loss: 0.5856 - accuracy: 0.622 - ETA: 26s - loss: 0.5851 - accuracy: 0.623 - ETA: 26s - loss: 0.5848 - accuracy: 0.624 - ETA: 26s - loss: 0.5847 - accuracy: 0.623 - ETA: 26s - loss: 0.5848 - accuracy: 0.623 - ETA: 25s - loss: 0.5847 - accuracy: 0.623 - ETA: 25s - loss: 0.5845 - accuracy: 0.624 - ETA: 25s - loss: 0.5843 - accuracy: 0.624 - ETA: 25s - loss: 0.5841 - accuracy: 0.625 - ETA: 25s - loss: 0.5840 - accuracy: 0.625 - ETA: 25s - loss: 0.5837 - accuracy: 0.625 - ETA: 24s - loss: 0.5838 - accuracy: 0.625 - ETA: 24s - loss: 0.5837 - accuracy: 0.625 - ETA: 24s - loss: 0.5832 - accuracy: 0.626 - ETA: 24s - loss: 0.5830 - accuracy: 0.626 - ETA: 24s - loss: 0.5827 - accuracy: 0.627 - ETA: 24s - loss: 0.5823 - accuracy: 0.627 - ETA: 24s - loss: 0.5818 - accuracy: 0.628 - ETA: 23s - loss: 0.5814 - accuracy: 0.629 - ETA: 23s - loss: 0.5811 - accuracy: 0.630 - ETA: 23s - loss: 0.5813 - accuracy: 0.629 - ETA: 23s - loss: 0.5813 - accuracy: 0.629 - ETA: 23s - loss: 0.5812 - accuracy: 0.629 - ETA: 23s - loss: 0.5814 - accuracy: 0.629 - ETA: 22s - loss: 0.5813 - accuracy: 0.629 - ETA: 22s - loss: 0.5809 - accuracy: 0.630 - ETA: 22s - loss: 0.5806 - accuracy: 0.630 - ETA: 22s - loss: 0.5806 - accuracy: 0.630 - ETA: 22s - loss: 0.5806 - accuracy: 0.630 - ETA: 22s - loss: 0.5805 - accuracy: 0.631 - ETA: 21s - loss: 0.5802 - accuracy: 0.631 - ETA: 21s - loss: 0.5799 - accuracy: 0.631 - ETA: 21s - loss: 0.5797 - accuracy: 0.632 - ETA: 21s - loss: 0.5793 - accuracy: 0.632 - ETA: 21s - loss: 0.5791 - accuracy: 0.633 - ETA: 21s - loss: 0.5788 - accuracy: 0.633 - ETA: 20s - loss: 0.5785 - accuracy: 0.633 - ETA: 20s - loss: 0.5783 - accuracy: 0.633 - ETA: 20s - loss: 0.5779 - accuracy: 0.634 - ETA: 20s - loss: 0.5777 - accuracy: 0.634 - ETA: 20s - loss: 0.5775 - accuracy: 0.635 - ETA: 20s - loss: 0.5770 - accuracy: 0.635 - ETA: 20s - loss: 0.5770 - accuracy: 0.635 - ETA: 19s - loss: 0.5766 - accuracy: 0.636 - ETA: 19s - loss: 0.5762 - accuracy: 0.636 - ETA: 19s - loss: 0.5759 - accuracy: 0.637 - ETA: 19s - loss: 0.5760 - accuracy: 0.637 - ETA: 19s - loss: 0.5759 - accuracy: 0.637 - ETA: 19s - loss: 0.5761 - accuracy: 0.636 - ETA: 18s - loss: 0.5759 - accuracy: 0.637 - ETA: 18s - loss: 0.5758 - accuracy: 0.637 - ETA: 18s - loss: 0.5755 - accuracy: 0.638 - ETA: 18s - loss: 0.5753 - accuracy: 0.638 - ETA: 18s - loss: 0.5751 - accuracy: 0.638 - ETA: 18s - loss: 0.5750 - accuracy: 0.638 - ETA: 17s - loss: 0.5745 - accuracy: 0.639 - ETA: 17s - loss: 0.5741 - accuracy: 0.639 - ETA: 17s - loss: 0.5738 - accuracy: 0.640 - ETA: 17s - loss: 0.5735 - accuracy: 0.640 - ETA: 17s - loss: 0.5729 - accuracy: 0.641 - ETA: 17s - loss: 0.5727 - accuracy: 0.641 - ETA: 17s - loss: 0.5724 - accuracy: 0.641 - ETA: 16s - loss: 0.5721 - accuracy: 0.642 - ETA: 16s - loss: 0.5733 - accuracy: 0.641 - ETA: 16s - loss: 0.5737 - accuracy: 0.641 - ETA: 16s - loss: 0.5737 - accuracy: 0.641 - ETA: 16s - loss: 0.5735 - accuracy: 0.641 - ETA: 16s - loss: 0.5734 - accuracy: 0.641 - ETA: 15s - loss: 0.5734 - accuracy: 0.641 - ETA: 15s - loss: 0.5734 - accuracy: 0.640 - ETA: 15s - loss: 0.5734 - accuracy: 0.640 - ETA: 15s - loss: 0.5734 - accuracy: 0.641 - ETA: 15s - loss: 0.5733 - accuracy: 0.641 - ETA: 15s - loss: 0.5729 - accuracy: 0.641 - ETA: 14s - loss: 0.5730 - accuracy: 0.642 - ETA: 14s - loss: 0.5726 - accuracy: 0.642 - ETA: 14s - loss: 0.5723 - accuracy: 0.643 - ETA: 14s - loss: 0.5719 - accuracy: 0.643 - ETA: 14s - loss: 0.5715 - accuracy: 0.644 - ETA: 14s - loss: 0.5713 - accuracy: 0.644 - ETA: 14s - loss: 0.5711 - accuracy: 0.644 - ETA: 13s - loss: 0.5708 - accuracy: 0.645 - ETA: 13s - loss: 0.5705 - accuracy: 0.645 - ETA: 13s - loss: 0.5703 - accuracy: 0.646 - ETA: 13s - loss: 0.5701 - accuracy: 0.646 - ETA: 13s - loss: 0.5698 - accuracy: 0.646 - ETA: 13s - loss: 0.5694 - accuracy: 0.647 - ETA: 12s - loss: 0.5691 - accuracy: 0.647 - ETA: 12s - loss: 0.5689 - accuracy: 0.648 - ETA: 12s - loss: 0.5685 - accuracy: 0.648 - ETA: 12s - loss: 0.5683 - accuracy: 0.648 - ETA: 12s - loss: 0.5679 - accuracy: 0.649 - ETA: 12s - loss: 0.5679 - accuracy: 0.649 - ETA: 12s - loss: 0.5678 - accuracy: 0.650 - ETA: 11s - loss: 0.5675 - accuracy: 0.650 - ETA: 11s - loss: 0.5674 - accuracy: 0.650 - ETA: 11s - loss: 0.5673 - accuracy: 0.650 - ETA: 11s - loss: 0.5670 - accuracy: 0.650 - ETA: 11s - loss: 0.5668 - accuracy: 0.651 - ETA: 11s - loss: 0.5666 - accuracy: 0.651 - ETA: 10s - loss: 0.5665 - accuracy: 0.651 - ETA: 10s - loss: 0.5662 - accuracy: 0.651 - ETA: 10s - loss: 0.5657 - accuracy: 0.652 - ETA: 10s - loss: 0.5654 - accuracy: 0.652 - ETA: 10s - loss: 0.5654 - accuracy: 0.652 - ETA: 10s - loss: 0.5653 - accuracy: 0.652 - ETA: 10s - loss: 0.5657 - accuracy: 0.652 - ETA: 9s - loss: 0.5655 - accuracy: 0.652 - ETA: 9s - loss: 0.5652 - accuracy: 0.65 - ETA: 9s - loss: 0.5650 - accuracy: 0.65 - ETA: 9s - loss: 0.5645 - accuracy: 0.65 - ETA: 9s - loss: 0.5640 - accuracy: 0.65 - ETA: 9s - loss: 0.5634 - accuracy: 0.65 - ETA: 8s - loss: 0.5630 - accuracy: 0.65 - ETA: 8s - loss: 0.5627 - accuracy: 0.65 - ETA: 8s - loss: 0.5627 - accuracy: 0.65 - ETA: 8s - loss: 0.5629 - accuracy: 0.65 - ETA: 8s - loss: 0.5627 - accuracy: 0.65 - ETA: 8s - loss: 0.5624 - accuracy: 0.65 - ETA: 7s - loss: 0.5620 - accuracy: 0.65 - ETA: 7s - loss: 0.5618 - accuracy: 0.65 - ETA: 7s - loss: 0.5616 - accuracy: 0.65 - ETA: 7s - loss: 0.5612 - accuracy: 0.65 - ETA: 7s - loss: 0.5608 - accuracy: 0.65 - ETA: 7s - loss: 0.5606 - accuracy: 0.65 - ETA: 7s - loss: 0.5603 - accuracy: 0.65 - ETA: 6s - loss: 0.5601 - accuracy: 0.65 - ETA: 6s - loss: 0.5597 - accuracy: 0.65 - ETA: 6s - loss: 0.5593 - accuracy: 0.66 - ETA: 6s - loss: 0.5593 - accuracy: 0.66 - ETA: 6s - loss: 0.5594 - accuracy: 0.66 - ETA: 6s - loss: 0.5593 - accuracy: 0.66 - ETA: 5s - loss: 0.5589 - accuracy: 0.66 - ETA: 5s - loss: 0.5585 - accuracy: 0.66 - ETA: 5s - loss: 0.5583 - accuracy: 0.66 - ETA: 5s - loss: 0.5584 - accuracy: 0.66 - ETA: 5s - loss: 0.5584 - accuracy: 0.66 - ETA: 5s - loss: 0.5580 - accuracy: 0.66 - ETA: 4s - loss: 0.5578 - accuracy: 0.66 - ETA: 4s - loss: 0.5574 - accuracy: 0.66 - ETA: 4s - loss: 0.5571 - accuracy: 0.66 - ETA: 4s - loss: 0.5568 - accuracy: 0.6629"
     ]
    },
    {
     "name": "stdout",
     "output_type": "stream",
     "text": [
      "25600/25600 [==============================] - ETA: 4s - loss: 0.5563 - accuracy: 0.66 - ETA: 4s - loss: 0.5560 - accuracy: 0.66 - ETA: 4s - loss: 0.5554 - accuracy: 0.66 - ETA: 3s - loss: 0.5550 - accuracy: 0.66 - ETA: 3s - loss: 0.5552 - accuracy: 0.66 - ETA: 3s - loss: 0.5552 - accuracy: 0.66 - ETA: 3s - loss: 0.5551 - accuracy: 0.66 - ETA: 3s - loss: 0.5547 - accuracy: 0.66 - ETA: 3s - loss: 0.5544 - accuracy: 0.66 - ETA: 2s - loss: 0.5543 - accuracy: 0.66 - ETA: 2s - loss: 0.5540 - accuracy: 0.66 - ETA: 2s - loss: 0.5535 - accuracy: 0.66 - ETA: 2s - loss: 0.5532 - accuracy: 0.66 - ETA: 2s - loss: 0.5526 - accuracy: 0.66 - ETA: 2s - loss: 0.5523 - accuracy: 0.66 - ETA: 2s - loss: 0.5522 - accuracy: 0.66 - ETA: 1s - loss: 0.5519 - accuracy: 0.66 - ETA: 1s - loss: 0.5516 - accuracy: 0.66 - ETA: 1s - loss: 0.5511 - accuracy: 0.66 - ETA: 1s - loss: 0.5506 - accuracy: 0.66 - ETA: 1s - loss: 0.5503 - accuracy: 0.66 - ETA: 1s - loss: 0.5500 - accuracy: 0.66 - ETA: 0s - loss: 0.5497 - accuracy: 0.66 - ETA: 0s - loss: 0.5500 - accuracy: 0.66 - ETA: 0s - loss: 0.5503 - accuracy: 0.66 - ETA: 0s - loss: 0.5502 - accuracy: 0.66 - ETA: 0s - loss: 0.5498 - accuracy: 0.67 - ETA: 0s - loss: 0.5502 - accuracy: 0.67 - 65s 3ms/step - loss: 0.5501 - accuracy: 0.6702 - val_loss: 0.4644 - val_accuracy: 0.7589\n",
      "Epoch 2/5\n"
     ]
    },
    {
     "name": "stdout",
     "output_type": "stream",
     "text": [
      "11904/25600 [============>.................] - ETA: 58s - loss: 0.4559 - accuracy: 0.750 - ETA: 1:01 - loss: 0.4755 - accuracy: 0.76 - ETA: 1:00 - loss: 0.4394 - accuracy: 0.77 - ETA: 1:01 - loss: 0.4260 - accuracy: 0.78 - ETA: 1:00 - loss: 0.4289 - accuracy: 0.78 - ETA: 1:04 - loss: 0.4182 - accuracy: 0.79 - ETA: 1:07 - loss: 0.4128 - accuracy: 0.79 - ETA: 1:07 - loss: 0.4162 - accuracy: 0.79 - ETA: 1:07 - loss: 0.4232 - accuracy: 0.79 - ETA: 1:10 - loss: 0.4221 - accuracy: 0.79 - ETA: 1:10 - loss: 0.4345 - accuracy: 0.78 - ETA: 1:09 - loss: 0.4383 - accuracy: 0.79 - ETA: 1:08 - loss: 0.4387 - accuracy: 0.78 - ETA: 1:08 - loss: 0.4341 - accuracy: 0.79 - ETA: 1:07 - loss: 0.4352 - accuracy: 0.78 - ETA: 1:06 - loss: 0.4353 - accuracy: 0.78 - ETA: 1:05 - loss: 0.4390 - accuracy: 0.78 - ETA: 1:05 - loss: 0.4458 - accuracy: 0.77 - ETA: 1:05 - loss: 0.4442 - accuracy: 0.77 - ETA: 1:06 - loss: 0.4397 - accuracy: 0.78 - ETA: 1:06 - loss: 0.4394 - accuracy: 0.78 - ETA: 1:06 - loss: 0.4374 - accuracy: 0.78 - ETA: 1:06 - loss: 0.4346 - accuracy: 0.78 - ETA: 1:06 - loss: 0.4326 - accuracy: 0.78 - ETA: 1:05 - loss: 0.4296 - accuracy: 0.78 - ETA: 1:05 - loss: 0.4282 - accuracy: 0.78 - ETA: 1:04 - loss: 0.4238 - accuracy: 0.79 - ETA: 1:04 - loss: 0.4320 - accuracy: 0.78 - ETA: 1:04 - loss: 0.4449 - accuracy: 0.77 - ETA: 1:04 - loss: 0.4470 - accuracy: 0.77 - ETA: 1:04 - loss: 0.4461 - accuracy: 0.77 - ETA: 1:03 - loss: 0.4472 - accuracy: 0.77 - ETA: 1:03 - loss: 0.4481 - accuracy: 0.77 - ETA: 1:02 - loss: 0.4501 - accuracy: 0.77 - ETA: 1:02 - loss: 0.4473 - accuracy: 0.77 - ETA: 1:01 - loss: 0.4489 - accuracy: 0.77 - ETA: 1:01 - loss: 0.4495 - accuracy: 0.77 - ETA: 1:01 - loss: 0.4490 - accuracy: 0.77 - ETA: 1:00 - loss: 0.4495 - accuracy: 0.77 - ETA: 1:00 - loss: 0.4463 - accuracy: 0.77 - ETA: 1:00 - loss: 0.4454 - accuracy: 0.77 - ETA: 59s - loss: 0.4433 - accuracy: 0.7783 - ETA: 59s - loss: 0.4408 - accuracy: 0.781 - ETA: 59s - loss: 0.4390 - accuracy: 0.782 - ETA: 58s - loss: 0.4381 - accuracy: 0.782 - ETA: 58s - loss: 0.4352 - accuracy: 0.784 - ETA: 58s - loss: 0.4352 - accuracy: 0.785 - ETA: 58s - loss: 0.4397 - accuracy: 0.782 - ETA: 58s - loss: 0.4379 - accuracy: 0.784 - ETA: 57s - loss: 0.4368 - accuracy: 0.784 - ETA: 57s - loss: 0.4373 - accuracy: 0.784 - ETA: 57s - loss: 0.4393 - accuracy: 0.782 - ETA: 57s - loss: 0.4387 - accuracy: 0.783 - ETA: 57s - loss: 0.4387 - accuracy: 0.783 - ETA: 57s - loss: 0.4363 - accuracy: 0.785 - ETA: 57s - loss: 0.4357 - accuracy: 0.786 - ETA: 57s - loss: 0.4335 - accuracy: 0.787 - ETA: 57s - loss: 0.4316 - accuracy: 0.788 - ETA: 57s - loss: 0.4297 - accuracy: 0.789 - ETA: 56s - loss: 0.4283 - accuracy: 0.790 - ETA: 56s - loss: 0.4270 - accuracy: 0.791 - ETA: 56s - loss: 0.4253 - accuracy: 0.792 - ETA: 56s - loss: 0.4242 - accuracy: 0.792 - ETA: 55s - loss: 0.4242 - accuracy: 0.793 - ETA: 55s - loss: 0.4256 - accuracy: 0.792 - ETA: 55s - loss: 0.4291 - accuracy: 0.790 - ETA: 55s - loss: 0.4319 - accuracy: 0.787 - ETA: 54s - loss: 0.4347 - accuracy: 0.784 - ETA: 54s - loss: 0.4334 - accuracy: 0.785 - ETA: 54s - loss: 0.4326 - accuracy: 0.785 - ETA: 54s - loss: 0.4314 - accuracy: 0.786 - ETA: 53s - loss: 0.4305 - accuracy: 0.786 - ETA: 53s - loss: 0.4290 - accuracy: 0.788 - ETA: 53s - loss: 0.4272 - accuracy: 0.789 - ETA: 53s - loss: 0.4254 - accuracy: 0.791 - ETA: 53s - loss: 0.4245 - accuracy: 0.791 - ETA: 53s - loss: 0.4225 - accuracy: 0.792 - ETA: 53s - loss: 0.4204 - accuracy: 0.794 - ETA: 54s - loss: 0.4191 - accuracy: 0.795 - ETA: 53s - loss: 0.4190 - accuracy: 0.796 - ETA: 53s - loss: 0.4220 - accuracy: 0.794 - ETA: 53s - loss: 0.4237 - accuracy: 0.793 - ETA: 53s - loss: 0.4232 - accuracy: 0.793 - ETA: 53s - loss: 0.4218 - accuracy: 0.794 - ETA: 54s - loss: 0.4216 - accuracy: 0.794 - ETA: 54s - loss: 0.4210 - accuracy: 0.795 - ETA: 54s - loss: 0.4199 - accuracy: 0.796 - ETA: 54s - loss: 0.4189 - accuracy: 0.796 - ETA: 54s - loss: 0.4181 - accuracy: 0.797 - ETA: 54s - loss: 0.4175 - accuracy: 0.797 - ETA: 54s - loss: 0.4159 - accuracy: 0.798 - ETA: 54s - loss: 0.4154 - accuracy: 0.798 - ETA: 54s - loss: 0.4156 - accuracy: 0.799 - ETA: 53s - loss: 0.4144 - accuracy: 0.799 - ETA: 54s - loss: 0.4140 - accuracy: 0.800 - ETA: 53s - loss: 0.4128 - accuracy: 0.800 - ETA: 53s - loss: 0.4125 - accuracy: 0.801 - ETA: 53s - loss: 0.4117 - accuracy: 0.801 - ETA: 53s - loss: 0.4100 - accuracy: 0.802 - ETA: 53s - loss: 0.4100 - accuracy: 0.802 - ETA: 52s - loss: 0.4100 - accuracy: 0.802 - ETA: 52s - loss: 0.4132 - accuracy: 0.800 - ETA: 52s - loss: 0.4131 - accuracy: 0.799 - ETA: 52s - loss: 0.4126 - accuracy: 0.800 - ETA: 51s - loss: 0.4121 - accuracy: 0.800 - ETA: 51s - loss: 0.4116 - accuracy: 0.800 - ETA: 51s - loss: 0.4111 - accuracy: 0.800 - ETA: 51s - loss: 0.4108 - accuracy: 0.801 - ETA: 50s - loss: 0.4098 - accuracy: 0.801 - ETA: 50s - loss: 0.4083 - accuracy: 0.802 - ETA: 50s - loss: 0.4071 - accuracy: 0.803 - ETA: 50s - loss: 0.4070 - accuracy: 0.803 - ETA: 50s - loss: 0.4074 - accuracy: 0.803 - ETA: 49s - loss: 0.4086 - accuracy: 0.803 - ETA: 49s - loss: 0.4092 - accuracy: 0.802 - ETA: 49s - loss: 0.4085 - accuracy: 0.803 - ETA: 49s - loss: 0.4079 - accuracy: 0.803 - ETA: 49s - loss: 0.4081 - accuracy: 0.803 - ETA: 48s - loss: 0.4073 - accuracy: 0.803 - ETA: 48s - loss: 0.4066 - accuracy: 0.804 - ETA: 48s - loss: 0.4062 - accuracy: 0.804 - ETA: 48s - loss: 0.4056 - accuracy: 0.804 - ETA: 48s - loss: 0.4065 - accuracy: 0.804 - ETA: 47s - loss: 0.4088 - accuracy: 0.802 - ETA: 47s - loss: 0.4107 - accuracy: 0.801 - ETA: 47s - loss: 0.4102 - accuracy: 0.801 - ETA: 47s - loss: 0.4095 - accuracy: 0.802 - ETA: 46s - loss: 0.4087 - accuracy: 0.802 - ETA: 46s - loss: 0.4079 - accuracy: 0.803 - ETA: 46s - loss: 0.4081 - accuracy: 0.803 - ETA: 46s - loss: 0.4077 - accuracy: 0.803 - ETA: 46s - loss: 0.4067 - accuracy: 0.804 - ETA: 45s - loss: 0.4059 - accuracy: 0.804 - ETA: 45s - loss: 0.4053 - accuracy: 0.805 - ETA: 45s - loss: 0.4048 - accuracy: 0.805 - ETA: 45s - loss: 0.4045 - accuracy: 0.805 - ETA: 44s - loss: 0.4043 - accuracy: 0.805 - ETA: 44s - loss: 0.4044 - accuracy: 0.805 - ETA: 44s - loss: 0.4038 - accuracy: 0.806 - ETA: 44s - loss: 0.4028 - accuracy: 0.807 - ETA: 44s - loss: 0.4020 - accuracy: 0.807 - ETA: 43s - loss: 0.4015 - accuracy: 0.807 - ETA: 43s - loss: 0.4024 - accuracy: 0.807 - ETA: 43s - loss: 0.4037 - accuracy: 0.806 - ETA: 43s - loss: 0.4052 - accuracy: 0.805 - ETA: 43s - loss: 0.4054 - accuracy: 0.805 - ETA: 43s - loss: 0.4047 - accuracy: 0.805 - ETA: 42s - loss: 0.4043 - accuracy: 0.806 - ETA: 42s - loss: 0.4036 - accuracy: 0.806 - ETA: 42s - loss: 0.4026 - accuracy: 0.807 - ETA: 42s - loss: 0.4016 - accuracy: 0.808 - ETA: 42s - loss: 0.4009 - accuracy: 0.808 - ETA: 41s - loss: 0.4002 - accuracy: 0.809 - ETA: 41s - loss: 0.3994 - accuracy: 0.809 - ETA: 41s - loss: 0.3986 - accuracy: 0.810 - ETA: 41s - loss: 0.3984 - accuracy: 0.810 - ETA: 41s - loss: 0.3973 - accuracy: 0.810 - ETA: 41s - loss: 0.3960 - accuracy: 0.811 - ETA: 40s - loss: 0.3957 - accuracy: 0.811 - ETA: 40s - loss: 0.3953 - accuracy: 0.811 - ETA: 40s - loss: 0.3943 - accuracy: 0.812 - ETA: 40s - loss: 0.3943 - accuracy: 0.812 - ETA: 40s - loss: 0.3933 - accuracy: 0.813 - ETA: 40s - loss: 0.3925 - accuracy: 0.813 - ETA: 40s - loss: 0.3917 - accuracy: 0.813 - ETA: 39s - loss: 0.3918 - accuracy: 0.813 - ETA: 39s - loss: 0.3937 - accuracy: 0.812 - ETA: 39s - loss: 0.3937 - accuracy: 0.813 - ETA: 39s - loss: 0.3932 - accuracy: 0.813 - ETA: 39s - loss: 0.3932 - accuracy: 0.813 - ETA: 39s - loss: 0.3934 - accuracy: 0.813 - ETA: 38s - loss: 0.3928 - accuracy: 0.813 - ETA: 38s - loss: 0.3924 - accuracy: 0.813 - ETA: 38s - loss: 0.3931 - accuracy: 0.813 - ETA: 38s - loss: 0.3942 - accuracy: 0.812 - ETA: 38s - loss: 0.3937 - accuracy: 0.813 - ETA: 38s - loss: 0.3933 - accuracy: 0.813 - ETA: 38s - loss: 0.3927 - accuracy: 0.813 - ETA: 38s - loss: 0.3924 - accuracy: 0.814 - ETA: 37s - loss: 0.3921 - accuracy: 0.814 - ETA: 37s - loss: 0.3916 - accuracy: 0.814 - ETA: 37s - loss: 0.3908 - accuracy: 0.814 - ETA: 37s - loss: 0.3904 - accuracy: 0.815 - ETA: 37s - loss: 0.3902 - accuracy: 0.815 - ETA: 37s - loss: 0.3898 - accuracy: 0.815 - ETA: 36s - loss: 0.3888 - accuracy: 0.816223872/25600 [==========================>...] - ETA: 36s - loss: 0.3887 - accuracy: 0.816 - ETA: 36s - loss: 0.3882 - accuracy: 0.816 - ETA: 36s - loss: 0.3878 - accuracy: 0.816 - ETA: 36s - loss: 0.3884 - accuracy: 0.816 - ETA: 36s - loss: 0.3888 - accuracy: 0.815 - ETA: 36s - loss: 0.3883 - accuracy: 0.816 - ETA: 35s - loss: 0.3874 - accuracy: 0.816 - ETA: 35s - loss: 0.3873 - accuracy: 0.816 - ETA: 35s - loss: 0.3869 - accuracy: 0.816 - ETA: 35s - loss: 0.3867 - accuracy: 0.816 - ETA: 35s - loss: 0.3866 - accuracy: 0.816 - ETA: 34s - loss: 0.3862 - accuracy: 0.817 - ETA: 34s - loss: 0.3857 - accuracy: 0.817 - ETA: 34s - loss: 0.3851 - accuracy: 0.817 - ETA: 34s - loss: 0.3841 - accuracy: 0.818 - ETA: 34s - loss: 0.3835 - accuracy: 0.818 - ETA: 34s - loss: 0.3828 - accuracy: 0.819 - ETA: 33s - loss: 0.3826 - accuracy: 0.819 - ETA: 33s - loss: 0.3818 - accuracy: 0.819 - ETA: 33s - loss: 0.3810 - accuracy: 0.820 - ETA: 33s - loss: 0.3804 - accuracy: 0.820 - ETA: 33s - loss: 0.3801 - accuracy: 0.820 - ETA: 33s - loss: 0.3802 - accuracy: 0.820 - ETA: 32s - loss: 0.3818 - accuracy: 0.819 - ETA: 32s - loss: 0.3816 - accuracy: 0.820 - ETA: 32s - loss: 0.3812 - accuracy: 0.820 - ETA: 32s - loss: 0.3810 - accuracy: 0.820 - ETA: 32s - loss: 0.3802 - accuracy: 0.821 - ETA: 32s - loss: 0.3802 - accuracy: 0.821 - ETA: 31s - loss: 0.3797 - accuracy: 0.821 - ETA: 31s - loss: 0.3795 - accuracy: 0.821 - ETA: 31s - loss: 0.3793 - accuracy: 0.821 - ETA: 31s - loss: 0.3792 - accuracy: 0.821 - ETA: 31s - loss: 0.3788 - accuracy: 0.821 - ETA: 30s - loss: 0.3779 - accuracy: 0.822 - ETA: 30s - loss: 0.3776 - accuracy: 0.822 - ETA: 30s - loss: 0.3777 - accuracy: 0.822 - ETA: 30s - loss: 0.3773 - accuracy: 0.822 - ETA: 30s - loss: 0.3769 - accuracy: 0.822 - ETA: 30s - loss: 0.3763 - accuracy: 0.823 - ETA: 29s - loss: 0.3758 - accuracy: 0.823 - ETA: 29s - loss: 0.3752 - accuracy: 0.823 - ETA: 29s - loss: 0.3743 - accuracy: 0.824 - ETA: 29s - loss: 0.3737 - accuracy: 0.824 - ETA: 29s - loss: 0.3732 - accuracy: 0.824 - ETA: 28s - loss: 0.3740 - accuracy: 0.824 - ETA: 28s - loss: 0.3746 - accuracy: 0.824 - ETA: 28s - loss: 0.3747 - accuracy: 0.824 - ETA: 28s - loss: 0.3741 - accuracy: 0.824 - ETA: 28s - loss: 0.3737 - accuracy: 0.824 - ETA: 28s - loss: 0.3734 - accuracy: 0.825 - ETA: 27s - loss: 0.3730 - accuracy: 0.825 - ETA: 27s - loss: 0.3726 - accuracy: 0.825 - ETA: 27s - loss: 0.3719 - accuracy: 0.825 - ETA: 27s - loss: 0.3714 - accuracy: 0.826 - ETA: 27s - loss: 0.3706 - accuracy: 0.826 - ETA: 27s - loss: 0.3698 - accuracy: 0.827 - ETA: 26s - loss: 0.3693 - accuracy: 0.827 - ETA: 26s - loss: 0.3686 - accuracy: 0.827 - ETA: 26s - loss: 0.3682 - accuracy: 0.828 - ETA: 26s - loss: 0.3676 - accuracy: 0.828 - ETA: 26s - loss: 0.3665 - accuracy: 0.829 - ETA: 25s - loss: 0.3661 - accuracy: 0.829 - ETA: 25s - loss: 0.3657 - accuracy: 0.829 - ETA: 25s - loss: 0.3651 - accuracy: 0.829 - ETA: 25s - loss: 0.3643 - accuracy: 0.830 - ETA: 25s - loss: 0.3639 - accuracy: 0.830 - ETA: 25s - loss: 0.3632 - accuracy: 0.830 - ETA: 24s - loss: 0.3633 - accuracy: 0.830 - ETA: 24s - loss: 0.3626 - accuracy: 0.831 - ETA: 24s - loss: 0.3620 - accuracy: 0.831 - ETA: 24s - loss: 0.3617 - accuracy: 0.831 - ETA: 24s - loss: 0.3633 - accuracy: 0.831 - ETA: 24s - loss: 0.3636 - accuracy: 0.831 - ETA: 23s - loss: 0.3637 - accuracy: 0.831 - ETA: 23s - loss: 0.3632 - accuracy: 0.831 - ETA: 23s - loss: 0.3630 - accuracy: 0.831 - ETA: 23s - loss: 0.3625 - accuracy: 0.831 - ETA: 23s - loss: 0.3621 - accuracy: 0.832 - ETA: 22s - loss: 0.3617 - accuracy: 0.832 - ETA: 22s - loss: 0.3612 - accuracy: 0.832 - ETA: 22s - loss: 0.3612 - accuracy: 0.832 - ETA: 22s - loss: 0.3613 - accuracy: 0.832 - ETA: 22s - loss: 0.3614 - accuracy: 0.832 - ETA: 22s - loss: 0.3614 - accuracy: 0.832 - ETA: 21s - loss: 0.3614 - accuracy: 0.832 - ETA: 21s - loss: 0.3610 - accuracy: 0.832 - ETA: 21s - loss: 0.3605 - accuracy: 0.832 - ETA: 21s - loss: 0.3600 - accuracy: 0.833 - ETA: 21s - loss: 0.3594 - accuracy: 0.833 - ETA: 21s - loss: 0.3591 - accuracy: 0.833 - ETA: 20s - loss: 0.3587 - accuracy: 0.833 - ETA: 20s - loss: 0.3580 - accuracy: 0.834 - ETA: 20s - loss: 0.3576 - accuracy: 0.834 - ETA: 20s - loss: 0.3569 - accuracy: 0.834 - ETA: 20s - loss: 0.3566 - accuracy: 0.834 - ETA: 20s - loss: 0.3563 - accuracy: 0.834 - ETA: 19s - loss: 0.3558 - accuracy: 0.835 - ETA: 19s - loss: 0.3555 - accuracy: 0.835 - ETA: 19s - loss: 0.3547 - accuracy: 0.835 - ETA: 19s - loss: 0.3545 - accuracy: 0.835 - ETA: 19s - loss: 0.3548 - accuracy: 0.835 - ETA: 19s - loss: 0.3558 - accuracy: 0.835 - ETA: 18s - loss: 0.3558 - accuracy: 0.835 - ETA: 18s - loss: 0.3551 - accuracy: 0.835 - ETA: 18s - loss: 0.3543 - accuracy: 0.836 - ETA: 18s - loss: 0.3538 - accuracy: 0.836 - ETA: 18s - loss: 0.3533 - accuracy: 0.836 - ETA: 17s - loss: 0.3529 - accuracy: 0.836 - ETA: 17s - loss: 0.3523 - accuracy: 0.837 - ETA: 17s - loss: 0.3518 - accuracy: 0.837 - ETA: 17s - loss: 0.3513 - accuracy: 0.837 - ETA: 17s - loss: 0.3510 - accuracy: 0.837 - ETA: 17s - loss: 0.3513 - accuracy: 0.837 - ETA: 16s - loss: 0.3522 - accuracy: 0.837 - ETA: 16s - loss: 0.3525 - accuracy: 0.836 - ETA: 16s - loss: 0.3521 - accuracy: 0.837 - ETA: 16s - loss: 0.3518 - accuracy: 0.837 - ETA: 16s - loss: 0.3514 - accuracy: 0.837 - ETA: 16s - loss: 0.3509 - accuracy: 0.837 - ETA: 15s - loss: 0.3504 - accuracy: 0.838 - ETA: 15s - loss: 0.3497 - accuracy: 0.838 - ETA: 15s - loss: 0.3492 - accuracy: 0.838 - ETA: 15s - loss: 0.3490 - accuracy: 0.839 - ETA: 15s - loss: 0.3484 - accuracy: 0.839 - ETA: 15s - loss: 0.3478 - accuracy: 0.839 - ETA: 14s - loss: 0.3474 - accuracy: 0.839 - ETA: 14s - loss: 0.3469 - accuracy: 0.840 - ETA: 14s - loss: 0.3464 - accuracy: 0.840 - ETA: 14s - loss: 0.3462 - accuracy: 0.840 - ETA: 14s - loss: 0.3456 - accuracy: 0.840 - ETA: 14s - loss: 0.3451 - accuracy: 0.840 - ETA: 13s - loss: 0.3448 - accuracy: 0.841 - ETA: 13s - loss: 0.3446 - accuracy: 0.841 - ETA: 13s - loss: 0.3440 - accuracy: 0.841 - ETA: 13s - loss: 0.3434 - accuracy: 0.841 - ETA: 13s - loss: 0.3429 - accuracy: 0.842 - ETA: 12s - loss: 0.3428 - accuracy: 0.842 - ETA: 12s - loss: 0.3426 - accuracy: 0.842 - ETA: 12s - loss: 0.3425 - accuracy: 0.842 - ETA: 12s - loss: 0.3425 - accuracy: 0.842 - ETA: 12s - loss: 0.3420 - accuracy: 0.842 - ETA: 12s - loss: 0.3415 - accuracy: 0.842 - ETA: 11s - loss: 0.3413 - accuracy: 0.842 - ETA: 11s - loss: 0.3406 - accuracy: 0.843 - ETA: 11s - loss: 0.3401 - accuracy: 0.843 - ETA: 11s - loss: 0.3398 - accuracy: 0.843 - ETA: 11s - loss: 0.3394 - accuracy: 0.843 - ETA: 11s - loss: 0.3391 - accuracy: 0.844 - ETA: 10s - loss: 0.3386 - accuracy: 0.844 - ETA: 10s - loss: 0.3379 - accuracy: 0.844 - ETA: 10s - loss: 0.3375 - accuracy: 0.844 - ETA: 10s - loss: 0.3372 - accuracy: 0.844 - ETA: 10s - loss: 0.3373 - accuracy: 0.844 - ETA: 10s - loss: 0.3367 - accuracy: 0.845 - ETA: 9s - loss: 0.3362 - accuracy: 0.845 - ETA: 9s - loss: 0.3355 - accuracy: 0.84 - ETA: 9s - loss: 0.3354 - accuracy: 0.84 - ETA: 9s - loss: 0.3356 - accuracy: 0.84 - ETA: 9s - loss: 0.3354 - accuracy: 0.84 - ETA: 9s - loss: 0.3349 - accuracy: 0.84 - ETA: 8s - loss: 0.3346 - accuracy: 0.84 - ETA: 8s - loss: 0.3341 - accuracy: 0.84 - ETA: 8s - loss: 0.3340 - accuracy: 0.84 - ETA: 8s - loss: 0.3338 - accuracy: 0.84 - ETA: 8s - loss: 0.3340 - accuracy: 0.84 - ETA: 8s - loss: 0.3340 - accuracy: 0.84 - ETA: 7s - loss: 0.3336 - accuracy: 0.84 - ETA: 7s - loss: 0.3333 - accuracy: 0.84 - ETA: 7s - loss: 0.3330 - accuracy: 0.84 - ETA: 7s - loss: 0.3327 - accuracy: 0.84 - ETA: 7s - loss: 0.3325 - accuracy: 0.84 - ETA: 6s - loss: 0.3323 - accuracy: 0.84 - ETA: 6s - loss: 0.3321 - accuracy: 0.84 - ETA: 6s - loss: 0.3320 - accuracy: 0.84 - ETA: 6s - loss: 0.3319 - accuracy: 0.84 - ETA: 6s - loss: 0.3319 - accuracy: 0.84 - ETA: 6s - loss: 0.3317 - accuracy: 0.84 - ETA: 5s - loss: 0.3313 - accuracy: 0.84 - ETA: 5s - loss: 0.3314 - accuracy: 0.84 - ETA: 5s - loss: 0.3317 - accuracy: 0.84 - ETA: 5s - loss: 0.3316 - accuracy: 0.84 - ETA: 5s - loss: 0.3311 - accuracy: 0.84 - ETA: 5s - loss: 0.3309 - accuracy: 0.84 - ETA: 4s - loss: 0.3307 - accuracy: 0.84 - ETA: 4s - loss: 0.3302 - accuracy: 0.84 - ETA: 4s - loss: 0.3298 - accuracy: 0.8489"
     ]
    },
    {
     "name": "stdout",
     "output_type": "stream",
     "text": [
      "25600/25600 [==============================] - ETA: 4s - loss: 0.3295 - accuracy: 0.84 - ETA: 4s - loss: 0.3292 - accuracy: 0.84 - ETA: 4s - loss: 0.3290 - accuracy: 0.84 - ETA: 3s - loss: 0.3287 - accuracy: 0.84 - ETA: 3s - loss: 0.3287 - accuracy: 0.84 - ETA: 3s - loss: 0.3286 - accuracy: 0.84 - ETA: 3s - loss: 0.3284 - accuracy: 0.84 - ETA: 3s - loss: 0.3283 - accuracy: 0.84 - ETA: 3s - loss: 0.3280 - accuracy: 0.85 - ETA: 2s - loss: 0.3277 - accuracy: 0.85 - ETA: 2s - loss: 0.3273 - accuracy: 0.85 - ETA: 2s - loss: 0.3270 - accuracy: 0.85 - ETA: 2s - loss: 0.3265 - accuracy: 0.85 - ETA: 2s - loss: 0.3267 - accuracy: 0.85 - ETA: 2s - loss: 0.3274 - accuracy: 0.85 - ETA: 1s - loss: 0.3275 - accuracy: 0.85 - ETA: 1s - loss: 0.3272 - accuracy: 0.85 - ETA: 1s - loss: 0.3268 - accuracy: 0.85 - ETA: 1s - loss: 0.3264 - accuracy: 0.85 - ETA: 1s - loss: 0.3260 - accuracy: 0.85 - ETA: 1s - loss: 0.3256 - accuracy: 0.85 - ETA: 0s - loss: 0.3252 - accuracy: 0.85 - ETA: 0s - loss: 0.3248 - accuracy: 0.85 - ETA: 0s - loss: 0.3245 - accuracy: 0.85 - ETA: 0s - loss: 0.3242 - accuracy: 0.85 - ETA: 0s - loss: 0.3239 - accuracy: 0.85 - 71s 3ms/step - loss: 0.3236 - accuracy: 0.8523 - val_loss: 0.2213 - val_accuracy: 0.9000\n",
      "Epoch 3/5\n"
     ]
    },
    {
     "name": "stdout",
     "output_type": "stream",
     "text": [
      "11904/25600 [============>.................] - ETA: 59s - loss: 0.2232 - accuracy: 0.875 - ETA: 1:00 - loss: 0.1741 - accuracy: 0.91 - ETA: 1:01 - loss: 0.1936 - accuracy: 0.90 - ETA: 1:01 - loss: 0.1995 - accuracy: 0.90 - ETA: 1:01 - loss: 0.2106 - accuracy: 0.89 - ETA: 1:01 - loss: 0.2183 - accuracy: 0.89 - ETA: 1:01 - loss: 0.2342 - accuracy: 0.88 - ETA: 1:01 - loss: 0.2277 - accuracy: 0.88 - ETA: 1:01 - loss: 0.2240 - accuracy: 0.88 - ETA: 1:01 - loss: 0.2171 - accuracy: 0.89 - ETA: 1:00 - loss: 0.2094 - accuracy: 0.89 - ETA: 1:00 - loss: 0.2057 - accuracy: 0.90 - ETA: 1:00 - loss: 0.2060 - accuracy: 0.90 - ETA: 1:00 - loss: 0.2088 - accuracy: 0.90 - ETA: 1:00 - loss: 0.2104 - accuracy: 0.90 - ETA: 1:00 - loss: 0.2090 - accuracy: 0.90 - ETA: 1:00 - loss: 0.2087 - accuracy: 0.90 - ETA: 1:00 - loss: 0.2033 - accuracy: 0.90 - ETA: 59s - loss: 0.1985 - accuracy: 0.9071 - ETA: 59s - loss: 0.2029 - accuracy: 0.906 - ETA: 59s - loss: 0.2023 - accuracy: 0.907 - ETA: 59s - loss: 0.2041 - accuracy: 0.905 - ETA: 59s - loss: 0.2065 - accuracy: 0.903 - ETA: 59s - loss: 0.2093 - accuracy: 0.902 - ETA: 58s - loss: 0.2090 - accuracy: 0.901 - ETA: 58s - loss: 0.2085 - accuracy: 0.903 - ETA: 58s - loss: 0.2093 - accuracy: 0.903 - ETA: 58s - loss: 0.2078 - accuracy: 0.905 - ETA: 58s - loss: 0.2045 - accuracy: 0.907 - ETA: 58s - loss: 0.2024 - accuracy: 0.908 - ETA: 58s - loss: 0.2035 - accuracy: 0.908 - ETA: 57s - loss: 0.2058 - accuracy: 0.907 - ETA: 57s - loss: 0.2122 - accuracy: 0.903 - ETA: 57s - loss: 0.2141 - accuracy: 0.902 - ETA: 57s - loss: 0.2138 - accuracy: 0.902 - ETA: 57s - loss: 0.2130 - accuracy: 0.902 - ETA: 57s - loss: 0.2116 - accuracy: 0.902 - ETA: 57s - loss: 0.2142 - accuracy: 0.900 - ETA: 57s - loss: 0.2181 - accuracy: 0.897 - ETA: 57s - loss: 0.2188 - accuracy: 0.896 - ETA: 57s - loss: 0.2173 - accuracy: 0.897 - ETA: 56s - loss: 0.2146 - accuracy: 0.899 - ETA: 56s - loss: 0.2144 - accuracy: 0.899 - ETA: 56s - loss: 0.2116 - accuracy: 0.900 - ETA: 56s - loss: 0.2114 - accuracy: 0.901 - ETA: 56s - loss: 0.2093 - accuracy: 0.902 - ETA: 56s - loss: 0.2106 - accuracy: 0.901 - ETA: 56s - loss: 0.2117 - accuracy: 0.900 - ETA: 56s - loss: 0.2102 - accuracy: 0.901 - ETA: 56s - loss: 0.2091 - accuracy: 0.901 - ETA: 56s - loss: 0.2074 - accuracy: 0.902 - ETA: 56s - loss: 0.2053 - accuracy: 0.904 - ETA: 56s - loss: 0.2044 - accuracy: 0.904 - ETA: 55s - loss: 0.2043 - accuracy: 0.904 - ETA: 55s - loss: 0.2036 - accuracy: 0.905 - ETA: 55s - loss: 0.2018 - accuracy: 0.906 - ETA: 55s - loss: 0.2028 - accuracy: 0.905 - ETA: 55s - loss: 0.2041 - accuracy: 0.904 - ETA: 55s - loss: 0.2037 - accuracy: 0.903 - ETA: 55s - loss: 0.2036 - accuracy: 0.903 - ETA: 55s - loss: 0.2047 - accuracy: 0.903 - ETA: 54s - loss: 0.2064 - accuracy: 0.902 - ETA: 54s - loss: 0.2077 - accuracy: 0.902 - ETA: 54s - loss: 0.2075 - accuracy: 0.902 - ETA: 54s - loss: 0.2063 - accuracy: 0.903 - ETA: 54s - loss: 0.2065 - accuracy: 0.903 - ETA: 54s - loss: 0.2075 - accuracy: 0.902 - ETA: 54s - loss: 0.2063 - accuracy: 0.903 - ETA: 54s - loss: 0.2067 - accuracy: 0.902 - ETA: 53s - loss: 0.2071 - accuracy: 0.901 - ETA: 53s - loss: 0.2070 - accuracy: 0.901 - ETA: 53s - loss: 0.2066 - accuracy: 0.902 - ETA: 53s - loss: 0.2061 - accuracy: 0.902 - ETA: 53s - loss: 0.2067 - accuracy: 0.901 - ETA: 53s - loss: 0.2078 - accuracy: 0.901 - ETA: 53s - loss: 0.2112 - accuracy: 0.900 - ETA: 52s - loss: 0.2107 - accuracy: 0.901 - ETA: 52s - loss: 0.2099 - accuracy: 0.901 - ETA: 52s - loss: 0.2098 - accuracy: 0.901 - ETA: 52s - loss: 0.2086 - accuracy: 0.902 - ETA: 52s - loss: 0.2086 - accuracy: 0.902 - ETA: 52s - loss: 0.2084 - accuracy: 0.902 - ETA: 52s - loss: 0.2080 - accuracy: 0.902 - ETA: 51s - loss: 0.2080 - accuracy: 0.902 - ETA: 51s - loss: 0.2073 - accuracy: 0.902 - ETA: 51s - loss: 0.2069 - accuracy: 0.903 - ETA: 51s - loss: 0.2066 - accuracy: 0.903 - ETA: 51s - loss: 0.2058 - accuracy: 0.903 - ETA: 51s - loss: 0.2053 - accuracy: 0.903 - ETA: 50s - loss: 0.2046 - accuracy: 0.904 - ETA: 50s - loss: 0.2034 - accuracy: 0.904 - ETA: 50s - loss: 0.2029 - accuracy: 0.905 - ETA: 50s - loss: 0.2036 - accuracy: 0.905 - ETA: 50s - loss: 0.2032 - accuracy: 0.905 - ETA: 50s - loss: 0.2034 - accuracy: 0.905 - ETA: 49s - loss: 0.2035 - accuracy: 0.905 - ETA: 49s - loss: 0.2029 - accuracy: 0.905 - ETA: 49s - loss: 0.2025 - accuracy: 0.905 - ETA: 49s - loss: 0.2023 - accuracy: 0.906 - ETA: 49s - loss: 0.2024 - accuracy: 0.905 - ETA: 49s - loss: 0.2032 - accuracy: 0.905 - ETA: 48s - loss: 0.2031 - accuracy: 0.905 - ETA: 48s - loss: 0.2028 - accuracy: 0.905 - ETA: 48s - loss: 0.2024 - accuracy: 0.905 - ETA: 48s - loss: 0.2020 - accuracy: 0.906 - ETA: 48s - loss: 0.2019 - accuracy: 0.906 - ETA: 48s - loss: 0.2016 - accuracy: 0.906 - ETA: 47s - loss: 0.2005 - accuracy: 0.907 - ETA: 47s - loss: 0.1998 - accuracy: 0.907 - ETA: 47s - loss: 0.1993 - accuracy: 0.907 - ETA: 47s - loss: 0.1989 - accuracy: 0.907 - ETA: 47s - loss: 0.1990 - accuracy: 0.907 - ETA: 47s - loss: 0.1999 - accuracy: 0.906 - ETA: 47s - loss: 0.2013 - accuracy: 0.906 - ETA: 46s - loss: 0.2016 - accuracy: 0.906 - ETA: 46s - loss: 0.2018 - accuracy: 0.906 - ETA: 46s - loss: 0.2018 - accuracy: 0.906 - ETA: 46s - loss: 0.2020 - accuracy: 0.906 - ETA: 46s - loss: 0.2020 - accuracy: 0.906 - ETA: 47s - loss: 0.2029 - accuracy: 0.905 - ETA: 47s - loss: 0.2023 - accuracy: 0.906 - ETA: 47s - loss: 0.2024 - accuracy: 0.906 - ETA: 46s - loss: 0.2015 - accuracy: 0.906 - ETA: 46s - loss: 0.2006 - accuracy: 0.907 - ETA: 48s - loss: 0.2016 - accuracy: 0.906 - ETA: 48s - loss: 0.2024 - accuracy: 0.906 - ETA: 48s - loss: 0.2022 - accuracy: 0.906 - ETA: 48s - loss: 0.2020 - accuracy: 0.906 - ETA: 49s - loss: 0.2012 - accuracy: 0.906 - ETA: 49s - loss: 0.2002 - accuracy: 0.907 - ETA: 50s - loss: 0.2005 - accuracy: 0.907 - ETA: 50s - loss: 0.2006 - accuracy: 0.907 - ETA: 51s - loss: 0.2006 - accuracy: 0.907 - ETA: 51s - loss: 0.2003 - accuracy: 0.907 - ETA: 51s - loss: 0.2000 - accuracy: 0.907 - ETA: 51s - loss: 0.1995 - accuracy: 0.907 - ETA: 51s - loss: 0.1988 - accuracy: 0.908 - ETA: 51s - loss: 0.1989 - accuracy: 0.908 - ETA: 51s - loss: 0.1990 - accuracy: 0.908 - ETA: 51s - loss: 0.1993 - accuracy: 0.908 - ETA: 51s - loss: 0.1985 - accuracy: 0.908 - ETA: 51s - loss: 0.1981 - accuracy: 0.908 - ETA: 50s - loss: 0.1981 - accuracy: 0.909 - ETA: 50s - loss: 0.1975 - accuracy: 0.909 - ETA: 50s - loss: 0.1979 - accuracy: 0.908 - ETA: 49s - loss: 0.1973 - accuracy: 0.909 - ETA: 49s - loss: 0.1966 - accuracy: 0.909 - ETA: 49s - loss: 0.1964 - accuracy: 0.909 - ETA: 49s - loss: 0.1964 - accuracy: 0.909 - ETA: 49s - loss: 0.1961 - accuracy: 0.909 - ETA: 49s - loss: 0.1956 - accuracy: 0.909 - ETA: 48s - loss: 0.1963 - accuracy: 0.909 - ETA: 48s - loss: 0.1964 - accuracy: 0.909 - ETA: 48s - loss: 0.1965 - accuracy: 0.909 - ETA: 48s - loss: 0.1976 - accuracy: 0.908 - ETA: 47s - loss: 0.1978 - accuracy: 0.908 - ETA: 47s - loss: 0.1976 - accuracy: 0.909 - ETA: 47s - loss: 0.1973 - accuracy: 0.909 - ETA: 47s - loss: 0.1969 - accuracy: 0.909 - ETA: 47s - loss: 0.1964 - accuracy: 0.909 - ETA: 46s - loss: 0.1963 - accuracy: 0.909 - ETA: 46s - loss: 0.1958 - accuracy: 0.909 - ETA: 46s - loss: 0.1954 - accuracy: 0.910 - ETA: 46s - loss: 0.1955 - accuracy: 0.910 - ETA: 46s - loss: 0.1955 - accuracy: 0.910 - ETA: 46s - loss: 0.1952 - accuracy: 0.910 - ETA: 45s - loss: 0.1945 - accuracy: 0.910 - ETA: 45s - loss: 0.1938 - accuracy: 0.911 - ETA: 45s - loss: 0.1938 - accuracy: 0.911 - ETA: 45s - loss: 0.1935 - accuracy: 0.911 - ETA: 45s - loss: 0.1934 - accuracy: 0.911 - ETA: 44s - loss: 0.1931 - accuracy: 0.911 - ETA: 44s - loss: 0.1930 - accuracy: 0.911 - ETA: 44s - loss: 0.1924 - accuracy: 0.911 - ETA: 44s - loss: 0.1922 - accuracy: 0.911 - ETA: 44s - loss: 0.1922 - accuracy: 0.911 - ETA: 43s - loss: 0.1920 - accuracy: 0.911 - ETA: 43s - loss: 0.1919 - accuracy: 0.912 - ETA: 43s - loss: 0.1913 - accuracy: 0.912 - ETA: 43s - loss: 0.1911 - accuracy: 0.912 - ETA: 43s - loss: 0.1909 - accuracy: 0.912 - ETA: 42s - loss: 0.1908 - accuracy: 0.912 - ETA: 42s - loss: 0.1906 - accuracy: 0.913 - ETA: 42s - loss: 0.1900 - accuracy: 0.913 - ETA: 42s - loss: 0.1897 - accuracy: 0.913 - ETA: 42s - loss: 0.1893 - accuracy: 0.913923872/25600 [==========================>...] - ETA: 41s - loss: 0.1892 - accuracy: 0.913 - ETA: 41s - loss: 0.1888 - accuracy: 0.914 - ETA: 41s - loss: 0.1885 - accuracy: 0.914 - ETA: 41s - loss: 0.1883 - accuracy: 0.914 - ETA: 41s - loss: 0.1881 - accuracy: 0.914 - ETA: 41s - loss: 0.1884 - accuracy: 0.914 - ETA: 41s - loss: 0.1889 - accuracy: 0.914 - ETA: 40s - loss: 0.1889 - accuracy: 0.914 - ETA: 40s - loss: 0.1895 - accuracy: 0.914 - ETA: 40s - loss: 0.1895 - accuracy: 0.914 - ETA: 40s - loss: 0.1893 - accuracy: 0.914 - ETA: 40s - loss: 0.1898 - accuracy: 0.913 - ETA: 39s - loss: 0.1904 - accuracy: 0.913 - ETA: 39s - loss: 0.1902 - accuracy: 0.913 - ETA: 39s - loss: 0.1898 - accuracy: 0.914 - ETA: 39s - loss: 0.1896 - accuracy: 0.914 - ETA: 38s - loss: 0.1898 - accuracy: 0.913 - ETA: 38s - loss: 0.1894 - accuracy: 0.913 - ETA: 38s - loss: 0.1895 - accuracy: 0.913 - ETA: 38s - loss: 0.1894 - accuracy: 0.913 - ETA: 38s - loss: 0.1891 - accuracy: 0.914 - ETA: 37s - loss: 0.1894 - accuracy: 0.913 - ETA: 37s - loss: 0.1899 - accuracy: 0.913 - ETA: 37s - loss: 0.1894 - accuracy: 0.914 - ETA: 37s - loss: 0.1894 - accuracy: 0.914 - ETA: 37s - loss: 0.1891 - accuracy: 0.914 - ETA: 36s - loss: 0.1888 - accuracy: 0.914 - ETA: 36s - loss: 0.1885 - accuracy: 0.914 - ETA: 36s - loss: 0.1882 - accuracy: 0.914 - ETA: 36s - loss: 0.1879 - accuracy: 0.914 - ETA: 35s - loss: 0.1881 - accuracy: 0.914 - ETA: 35s - loss: 0.1881 - accuracy: 0.914 - ETA: 35s - loss: 0.1880 - accuracy: 0.915 - ETA: 35s - loss: 0.1885 - accuracy: 0.914 - ETA: 35s - loss: 0.1885 - accuracy: 0.914 - ETA: 35s - loss: 0.1882 - accuracy: 0.915 - ETA: 34s - loss: 0.1879 - accuracy: 0.915 - ETA: 34s - loss: 0.1873 - accuracy: 0.915 - ETA: 34s - loss: 0.1869 - accuracy: 0.915 - ETA: 34s - loss: 0.1868 - accuracy: 0.915 - ETA: 33s - loss: 0.1869 - accuracy: 0.915 - ETA: 33s - loss: 0.1874 - accuracy: 0.915 - ETA: 33s - loss: 0.1879 - accuracy: 0.914 - ETA: 33s - loss: 0.1881 - accuracy: 0.914 - ETA: 33s - loss: 0.1882 - accuracy: 0.914 - ETA: 32s - loss: 0.1881 - accuracy: 0.915 - ETA: 32s - loss: 0.1876 - accuracy: 0.915 - ETA: 32s - loss: 0.1876 - accuracy: 0.915 - ETA: 32s - loss: 0.1876 - accuracy: 0.915 - ETA: 32s - loss: 0.1875 - accuracy: 0.915 - ETA: 31s - loss: 0.1872 - accuracy: 0.915 - ETA: 31s - loss: 0.1869 - accuracy: 0.915 - ETA: 31s - loss: 0.1867 - accuracy: 0.915 - ETA: 31s - loss: 0.1864 - accuracy: 0.915 - ETA: 31s - loss: 0.1865 - accuracy: 0.915 - ETA: 30s - loss: 0.1862 - accuracy: 0.915 - ETA: 30s - loss: 0.1861 - accuracy: 0.915 - ETA: 30s - loss: 0.1870 - accuracy: 0.915 - ETA: 30s - loss: 0.1872 - accuracy: 0.915 - ETA: 30s - loss: 0.1870 - accuracy: 0.915 - ETA: 29s - loss: 0.1868 - accuracy: 0.915 - ETA: 29s - loss: 0.1864 - accuracy: 0.915 - ETA: 29s - loss: 0.1860 - accuracy: 0.915 - ETA: 29s - loss: 0.1857 - accuracy: 0.915 - ETA: 29s - loss: 0.1855 - accuracy: 0.915 - ETA: 28s - loss: 0.1854 - accuracy: 0.915 - ETA: 28s - loss: 0.1853 - accuracy: 0.915 - ETA: 28s - loss: 0.1854 - accuracy: 0.915 - ETA: 28s - loss: 0.1858 - accuracy: 0.915 - ETA: 27s - loss: 0.1857 - accuracy: 0.915 - ETA: 27s - loss: 0.1853 - accuracy: 0.915 - ETA: 27s - loss: 0.1850 - accuracy: 0.916 - ETA: 27s - loss: 0.1846 - accuracy: 0.916 - ETA: 27s - loss: 0.1847 - accuracy: 0.916 - ETA: 26s - loss: 0.1843 - accuracy: 0.916 - ETA: 26s - loss: 0.1842 - accuracy: 0.916 - ETA: 26s - loss: 0.1840 - accuracy: 0.916 - ETA: 26s - loss: 0.1840 - accuracy: 0.916 - ETA: 26s - loss: 0.1836 - accuracy: 0.916 - ETA: 25s - loss: 0.1835 - accuracy: 0.916 - ETA: 25s - loss: 0.1835 - accuracy: 0.916 - ETA: 25s - loss: 0.1835 - accuracy: 0.916 - ETA: 25s - loss: 0.1836 - accuracy: 0.916 - ETA: 25s - loss: 0.1833 - accuracy: 0.916 - ETA: 24s - loss: 0.1833 - accuracy: 0.916 - ETA: 24s - loss: 0.1834 - accuracy: 0.916 - ETA: 24s - loss: 0.1831 - accuracy: 0.916 - ETA: 24s - loss: 0.1828 - accuracy: 0.916 - ETA: 24s - loss: 0.1827 - accuracy: 0.916 - ETA: 23s - loss: 0.1825 - accuracy: 0.916 - ETA: 23s - loss: 0.1822 - accuracy: 0.917 - ETA: 23s - loss: 0.1821 - accuracy: 0.917 - ETA: 23s - loss: 0.1821 - accuracy: 0.917 - ETA: 23s - loss: 0.1819 - accuracy: 0.917 - ETA: 22s - loss: 0.1818 - accuracy: 0.917 - ETA: 22s - loss: 0.1816 - accuracy: 0.917 - ETA: 22s - loss: 0.1817 - accuracy: 0.917 - ETA: 22s - loss: 0.1822 - accuracy: 0.917 - ETA: 21s - loss: 0.1821 - accuracy: 0.917 - ETA: 21s - loss: 0.1819 - accuracy: 0.917 - ETA: 21s - loss: 0.1820 - accuracy: 0.917 - ETA: 21s - loss: 0.1819 - accuracy: 0.917 - ETA: 21s - loss: 0.1816 - accuracy: 0.917 - ETA: 20s - loss: 0.1815 - accuracy: 0.917 - ETA: 20s - loss: 0.1814 - accuracy: 0.917 - ETA: 20s - loss: 0.1816 - accuracy: 0.917 - ETA: 20s - loss: 0.1819 - accuracy: 0.917 - ETA: 20s - loss: 0.1817 - accuracy: 0.917 - ETA: 19s - loss: 0.1815 - accuracy: 0.917 - ETA: 19s - loss: 0.1814 - accuracy: 0.917 - ETA: 19s - loss: 0.1814 - accuracy: 0.917 - ETA: 19s - loss: 0.1814 - accuracy: 0.917 - ETA: 19s - loss: 0.1813 - accuracy: 0.917 - ETA: 19s - loss: 0.1813 - accuracy: 0.917 - ETA: 18s - loss: 0.1811 - accuracy: 0.917 - ETA: 18s - loss: 0.1808 - accuracy: 0.917 - ETA: 18s - loss: 0.1809 - accuracy: 0.917 - ETA: 18s - loss: 0.1808 - accuracy: 0.917 - ETA: 18s - loss: 0.1808 - accuracy: 0.917 - ETA: 17s - loss: 0.1810 - accuracy: 0.917 - ETA: 17s - loss: 0.1809 - accuracy: 0.917 - ETA: 17s - loss: 0.1808 - accuracy: 0.917 - ETA: 17s - loss: 0.1807 - accuracy: 0.917 - ETA: 17s - loss: 0.1805 - accuracy: 0.917 - ETA: 16s - loss: 0.1807 - accuracy: 0.917 - ETA: 16s - loss: 0.1808 - accuracy: 0.917 - ETA: 16s - loss: 0.1806 - accuracy: 0.917 - ETA: 16s - loss: 0.1805 - accuracy: 0.917 - ETA: 16s - loss: 0.1804 - accuracy: 0.917 - ETA: 15s - loss: 0.1805 - accuracy: 0.917 - ETA: 15s - loss: 0.1803 - accuracy: 0.917 - ETA: 15s - loss: 0.1801 - accuracy: 0.918 - ETA: 15s - loss: 0.1800 - accuracy: 0.918 - ETA: 15s - loss: 0.1799 - accuracy: 0.918 - ETA: 15s - loss: 0.1798 - accuracy: 0.918 - ETA: 14s - loss: 0.1796 - accuracy: 0.918 - ETA: 14s - loss: 0.1794 - accuracy: 0.918 - ETA: 14s - loss: 0.1793 - accuracy: 0.918 - ETA: 14s - loss: 0.1792 - accuracy: 0.918 - ETA: 14s - loss: 0.1791 - accuracy: 0.918 - ETA: 13s - loss: 0.1793 - accuracy: 0.918 - ETA: 13s - loss: 0.1792 - accuracy: 0.918 - ETA: 13s - loss: 0.1790 - accuracy: 0.918 - ETA: 13s - loss: 0.1789 - accuracy: 0.918 - ETA: 13s - loss: 0.1790 - accuracy: 0.918 - ETA: 13s - loss: 0.1790 - accuracy: 0.918 - ETA: 12s - loss: 0.1786 - accuracy: 0.918 - ETA: 12s - loss: 0.1785 - accuracy: 0.918 - ETA: 12s - loss: 0.1782 - accuracy: 0.918 - ETA: 12s - loss: 0.1780 - accuracy: 0.918 - ETA: 12s - loss: 0.1779 - accuracy: 0.918 - ETA: 11s - loss: 0.1779 - accuracy: 0.918 - ETA: 11s - loss: 0.1779 - accuracy: 0.918 - ETA: 11s - loss: 0.1779 - accuracy: 0.918 - ETA: 11s - loss: 0.1778 - accuracy: 0.918 - ETA: 11s - loss: 0.1781 - accuracy: 0.918 - ETA: 10s - loss: 0.1779 - accuracy: 0.918 - ETA: 10s - loss: 0.1778 - accuracy: 0.918 - ETA: 10s - loss: 0.1777 - accuracy: 0.918 - ETA: 10s - loss: 0.1774 - accuracy: 0.918 - ETA: 10s - loss: 0.1774 - accuracy: 0.918 - ETA: 9s - loss: 0.1776 - accuracy: 0.918 - ETA: 9s - loss: 0.1775 - accuracy: 0.91 - ETA: 9s - loss: 0.1775 - accuracy: 0.91 - ETA: 9s - loss: 0.1773 - accuracy: 0.91 - ETA: 9s - loss: 0.1771 - accuracy: 0.91 - ETA: 9s - loss: 0.1770 - accuracy: 0.91 - ETA: 8s - loss: 0.1768 - accuracy: 0.91 - ETA: 8s - loss: 0.1768 - accuracy: 0.91 - ETA: 8s - loss: 0.1769 - accuracy: 0.91 - ETA: 8s - loss: 0.1768 - accuracy: 0.91 - ETA: 8s - loss: 0.1765 - accuracy: 0.91 - ETA: 7s - loss: 0.1763 - accuracy: 0.91 - ETA: 7s - loss: 0.1761 - accuracy: 0.91 - ETA: 7s - loss: 0.1759 - accuracy: 0.91 - ETA: 7s - loss: 0.1760 - accuracy: 0.91 - ETA: 7s - loss: 0.1759 - accuracy: 0.91 - ETA: 6s - loss: 0.1759 - accuracy: 0.91 - ETA: 6s - loss: 0.1761 - accuracy: 0.91 - ETA: 6s - loss: 0.1759 - accuracy: 0.91 - ETA: 6s - loss: 0.1758 - accuracy: 0.91 - ETA: 6s - loss: 0.1756 - accuracy: 0.91 - ETA: 5s - loss: 0.1754 - accuracy: 0.91 - ETA: 5s - loss: 0.1757 - accuracy: 0.91 - ETA: 5s - loss: 0.1757 - accuracy: 0.91 - ETA: 5s - loss: 0.1755 - accuracy: 0.91 - ETA: 5s - loss: 0.1756 - accuracy: 0.9197"
     ]
    },
    {
     "name": "stdout",
     "output_type": "stream",
     "text": [
      "25600/25600 [==============================] - ETA: 4s - loss: 0.1755 - accuracy: 0.91 - ETA: 4s - loss: 0.1752 - accuracy: 0.91 - ETA: 4s - loss: 0.1751 - accuracy: 0.91 - ETA: 4s - loss: 0.1750 - accuracy: 0.92 - ETA: 4s - loss: 0.1748 - accuracy: 0.92 - ETA: 4s - loss: 0.1748 - accuracy: 0.92 - ETA: 3s - loss: 0.1750 - accuracy: 0.91 - ETA: 3s - loss: 0.1749 - accuracy: 0.91 - ETA: 3s - loss: 0.1748 - accuracy: 0.92 - ETA: 3s - loss: 0.1745 - accuracy: 0.92 - ETA: 3s - loss: 0.1745 - accuracy: 0.92 - ETA: 2s - loss: 0.1746 - accuracy: 0.92 - ETA: 2s - loss: 0.1745 - accuracy: 0.92 - ETA: 2s - loss: 0.1743 - accuracy: 0.92 - ETA: 2s - loss: 0.1742 - accuracy: 0.92 - ETA: 2s - loss: 0.1740 - accuracy: 0.92 - ETA: 1s - loss: 0.1740 - accuracy: 0.92 - ETA: 1s - loss: 0.1740 - accuracy: 0.92 - ETA: 1s - loss: 0.1737 - accuracy: 0.92 - ETA: 1s - loss: 0.1736 - accuracy: 0.92 - ETA: 1s - loss: 0.1734 - accuracy: 0.92 - ETA: 0s - loss: 0.1732 - accuracy: 0.92 - ETA: 0s - loss: 0.1733 - accuracy: 0.92 - ETA: 0s - loss: 0.1739 - accuracy: 0.92 - ETA: 0s - loss: 0.1741 - accuracy: 0.92 - ETA: 0s - loss: 0.1741 - accuracy: 0.92 - 80s 3ms/step - loss: 0.1739 - accuracy: 0.9207 - val_loss: 0.1268 - val_accuracy: 0.9361\n",
      "Epoch 4/5\n"
     ]
    },
    {
     "name": "stdout",
     "output_type": "stream",
     "text": [
      "11904/25600 [============>.................] - ETA: 56s - loss: 0.1237 - accuracy: 0.937 - ETA: 56s - loss: 0.1223 - accuracy: 0.929 - ETA: 59s - loss: 0.1246 - accuracy: 0.921 - ETA: 1:07 - loss: 0.1323 - accuracy: 0.92 - ETA: 1:11 - loss: 0.1175 - accuracy: 0.93 - ETA: 1:12 - loss: 0.1136 - accuracy: 0.93 - ETA: 1:13 - loss: 0.1159 - accuracy: 0.93 - ETA: 1:12 - loss: 0.1107 - accuracy: 0.93 - ETA: 1:10 - loss: 0.1133 - accuracy: 0.93 - ETA: 1:08 - loss: 0.1207 - accuracy: 0.93 - ETA: 1:07 - loss: 0.1234 - accuracy: 0.93 - ETA: 1:08 - loss: 0.1275 - accuracy: 0.93 - ETA: 1:07 - loss: 0.1346 - accuracy: 0.92 - ETA: 1:07 - loss: 0.1348 - accuracy: 0.93 - ETA: 1:06 - loss: 0.1430 - accuracy: 0.92 - ETA: 1:05 - loss: 0.1461 - accuracy: 0.92 - ETA: 1:04 - loss: 0.1472 - accuracy: 0.92 - ETA: 1:04 - loss: 0.1476 - accuracy: 0.92 - ETA: 1:03 - loss: 0.1480 - accuracy: 0.92 - ETA: 1:02 - loss: 0.1479 - accuracy: 0.92 - ETA: 1:02 - loss: 0.1511 - accuracy: 0.92 - ETA: 1:01 - loss: 0.1488 - accuracy: 0.92 - ETA: 1:00 - loss: 0.1486 - accuracy: 0.92 - ETA: 1:00 - loss: 0.1484 - accuracy: 0.92 - ETA: 59s - loss: 0.1522 - accuracy: 0.9244 - ETA: 59s - loss: 0.1542 - accuracy: 0.924 - ETA: 58s - loss: 0.1502 - accuracy: 0.927 - ETA: 58s - loss: 0.1494 - accuracy: 0.928 - ETA: 58s - loss: 0.1479 - accuracy: 0.928 - ETA: 59s - loss: 0.1462 - accuracy: 0.929 - ETA: 58s - loss: 0.1470 - accuracy: 0.928 - ETA: 58s - loss: 0.1456 - accuracy: 0.928 - ETA: 58s - loss: 0.1468 - accuracy: 0.927 - ETA: 57s - loss: 0.1460 - accuracy: 0.928 - ETA: 57s - loss: 0.1444 - accuracy: 0.929 - ETA: 57s - loss: 0.1443 - accuracy: 0.929 - ETA: 56s - loss: 0.1434 - accuracy: 0.930 - ETA: 56s - loss: 0.1442 - accuracy: 0.930 - ETA: 56s - loss: 0.1430 - accuracy: 0.930 - ETA: 56s - loss: 0.1438 - accuracy: 0.929 - ETA: 56s - loss: 0.1480 - accuracy: 0.928 - ETA: 56s - loss: 0.1474 - accuracy: 0.928 - ETA: 56s - loss: 0.1453 - accuracy: 0.930 - ETA: 55s - loss: 0.1450 - accuracy: 0.930 - ETA: 55s - loss: 0.1449 - accuracy: 0.929 - ETA: 55s - loss: 0.1440 - accuracy: 0.930 - ETA: 55s - loss: 0.1432 - accuracy: 0.930 - ETA: 55s - loss: 0.1414 - accuracy: 0.931 - ETA: 55s - loss: 0.1404 - accuracy: 0.932 - ETA: 54s - loss: 0.1402 - accuracy: 0.932 - ETA: 54s - loss: 0.1409 - accuracy: 0.932 - ETA: 54s - loss: 0.1418 - accuracy: 0.932 - ETA: 54s - loss: 0.1415 - accuracy: 0.932 - ETA: 54s - loss: 0.1416 - accuracy: 0.932 - ETA: 54s - loss: 0.1420 - accuracy: 0.931 - ETA: 53s - loss: 0.1417 - accuracy: 0.931 - ETA: 53s - loss: 0.1403 - accuracy: 0.932 - ETA: 53s - loss: 0.1399 - accuracy: 0.933 - ETA: 53s - loss: 0.1391 - accuracy: 0.934 - ETA: 53s - loss: 0.1398 - accuracy: 0.933 - ETA: 52s - loss: 0.1395 - accuracy: 0.933 - ETA: 52s - loss: 0.1392 - accuracy: 0.933 - ETA: 52s - loss: 0.1391 - accuracy: 0.933 - ETA: 52s - loss: 0.1387 - accuracy: 0.933 - ETA: 52s - loss: 0.1382 - accuracy: 0.934 - ETA: 52s - loss: 0.1382 - accuracy: 0.934 - ETA: 52s - loss: 0.1383 - accuracy: 0.934 - ETA: 51s - loss: 0.1386 - accuracy: 0.934 - ETA: 51s - loss: 0.1392 - accuracy: 0.934 - ETA: 51s - loss: 0.1388 - accuracy: 0.934 - ETA: 51s - loss: 0.1379 - accuracy: 0.935 - ETA: 51s - loss: 0.1382 - accuracy: 0.934 - ETA: 50s - loss: 0.1384 - accuracy: 0.934 - ETA: 50s - loss: 0.1375 - accuracy: 0.935 - ETA: 50s - loss: 0.1410 - accuracy: 0.934 - ETA: 50s - loss: 0.1399 - accuracy: 0.934 - ETA: 50s - loss: 0.1398 - accuracy: 0.934 - ETA: 49s - loss: 0.1408 - accuracy: 0.933 - ETA: 49s - loss: 0.1396 - accuracy: 0.934 - ETA: 49s - loss: 0.1403 - accuracy: 0.934 - ETA: 49s - loss: 0.1395 - accuracy: 0.934 - ETA: 49s - loss: 0.1393 - accuracy: 0.934 - ETA: 49s - loss: 0.1387 - accuracy: 0.934 - ETA: 48s - loss: 0.1395 - accuracy: 0.934 - ETA: 48s - loss: 0.1398 - accuracy: 0.934 - ETA: 48s - loss: 0.1399 - accuracy: 0.934 - ETA: 48s - loss: 0.1393 - accuracy: 0.934 - ETA: 48s - loss: 0.1391 - accuracy: 0.934 - ETA: 48s - loss: 0.1390 - accuracy: 0.935 - ETA: 47s - loss: 0.1391 - accuracy: 0.934 - ETA: 47s - loss: 0.1389 - accuracy: 0.934 - ETA: 47s - loss: 0.1394 - accuracy: 0.934 - ETA: 47s - loss: 0.1397 - accuracy: 0.933 - ETA: 47s - loss: 0.1420 - accuracy: 0.932 - ETA: 46s - loss: 0.1438 - accuracy: 0.932 - ETA: 46s - loss: 0.1435 - accuracy: 0.932 - ETA: 46s - loss: 0.1446 - accuracy: 0.931 - ETA: 46s - loss: 0.1439 - accuracy: 0.932 - ETA: 46s - loss: 0.1442 - accuracy: 0.931 - ETA: 45s - loss: 0.1441 - accuracy: 0.931 - ETA: 45s - loss: 0.1443 - accuracy: 0.931 - ETA: 45s - loss: 0.1446 - accuracy: 0.931 - ETA: 45s - loss: 0.1451 - accuracy: 0.930 - ETA: 45s - loss: 0.1453 - accuracy: 0.930 - ETA: 45s - loss: 0.1453 - accuracy: 0.930 - ETA: 45s - loss: 0.1457 - accuracy: 0.930 - ETA: 44s - loss: 0.1456 - accuracy: 0.930 - ETA: 44s - loss: 0.1449 - accuracy: 0.931 - ETA: 44s - loss: 0.1454 - accuracy: 0.930 - ETA: 44s - loss: 0.1452 - accuracy: 0.930 - ETA: 44s - loss: 0.1455 - accuracy: 0.930 - ETA: 44s - loss: 0.1454 - accuracy: 0.930 - ETA: 43s - loss: 0.1450 - accuracy: 0.930 - ETA: 43s - loss: 0.1442 - accuracy: 0.931 - ETA: 43s - loss: 0.1438 - accuracy: 0.931 - ETA: 43s - loss: 0.1434 - accuracy: 0.931 - ETA: 43s - loss: 0.1437 - accuracy: 0.931 - ETA: 43s - loss: 0.1438 - accuracy: 0.931 - ETA: 42s - loss: 0.1444 - accuracy: 0.931 - ETA: 42s - loss: 0.1443 - accuracy: 0.931 - ETA: 42s - loss: 0.1439 - accuracy: 0.931 - ETA: 42s - loss: 0.1435 - accuracy: 0.931 - ETA: 42s - loss: 0.1436 - accuracy: 0.931 - ETA: 42s - loss: 0.1434 - accuracy: 0.931 - ETA: 42s - loss: 0.1435 - accuracy: 0.931 - ETA: 41s - loss: 0.1440 - accuracy: 0.931 - ETA: 41s - loss: 0.1443 - accuracy: 0.931 - ETA: 41s - loss: 0.1438 - accuracy: 0.931 - ETA: 41s - loss: 0.1436 - accuracy: 0.931 - ETA: 41s - loss: 0.1437 - accuracy: 0.931 - ETA: 41s - loss: 0.1435 - accuracy: 0.931 - ETA: 41s - loss: 0.1442 - accuracy: 0.931 - ETA: 40s - loss: 0.1449 - accuracy: 0.931 - ETA: 40s - loss: 0.1445 - accuracy: 0.931 - ETA: 40s - loss: 0.1444 - accuracy: 0.931 - ETA: 40s - loss: 0.1440 - accuracy: 0.931 - ETA: 40s - loss: 0.1437 - accuracy: 0.931 - ETA: 40s - loss: 0.1443 - accuracy: 0.931 - ETA: 39s - loss: 0.1440 - accuracy: 0.931 - ETA: 39s - loss: 0.1437 - accuracy: 0.931 - ETA: 39s - loss: 0.1445 - accuracy: 0.931 - ETA: 39s - loss: 0.1444 - accuracy: 0.931 - ETA: 39s - loss: 0.1440 - accuracy: 0.931 - ETA: 39s - loss: 0.1441 - accuracy: 0.931 - ETA: 38s - loss: 0.1438 - accuracy: 0.931 - ETA: 38s - loss: 0.1436 - accuracy: 0.931 - ETA: 38s - loss: 0.1435 - accuracy: 0.931 - ETA: 38s - loss: 0.1439 - accuracy: 0.931 - ETA: 38s - loss: 0.1436 - accuracy: 0.931 - ETA: 38s - loss: 0.1442 - accuracy: 0.931 - ETA: 38s - loss: 0.1444 - accuracy: 0.931 - ETA: 37s - loss: 0.1442 - accuracy: 0.931 - ETA: 37s - loss: 0.1437 - accuracy: 0.931 - ETA: 37s - loss: 0.1446 - accuracy: 0.931 - ETA: 37s - loss: 0.1446 - accuracy: 0.931 - ETA: 37s - loss: 0.1440 - accuracy: 0.931 - ETA: 37s - loss: 0.1445 - accuracy: 0.931 - ETA: 37s - loss: 0.1447 - accuracy: 0.931 - ETA: 36s - loss: 0.1445 - accuracy: 0.931 - ETA: 36s - loss: 0.1446 - accuracy: 0.930 - ETA: 36s - loss: 0.1442 - accuracy: 0.931 - ETA: 36s - loss: 0.1446 - accuracy: 0.930 - ETA: 36s - loss: 0.1449 - accuracy: 0.930 - ETA: 36s - loss: 0.1447 - accuracy: 0.930 - ETA: 35s - loss: 0.1444 - accuracy: 0.930 - ETA: 35s - loss: 0.1447 - accuracy: 0.930 - ETA: 35s - loss: 0.1443 - accuracy: 0.931 - ETA: 35s - loss: 0.1439 - accuracy: 0.931 - ETA: 35s - loss: 0.1442 - accuracy: 0.930 - ETA: 35s - loss: 0.1443 - accuracy: 0.930 - ETA: 35s - loss: 0.1439 - accuracy: 0.931 - ETA: 34s - loss: 0.1440 - accuracy: 0.930 - ETA: 34s - loss: 0.1443 - accuracy: 0.930 - ETA: 34s - loss: 0.1443 - accuracy: 0.930 - ETA: 34s - loss: 0.1443 - accuracy: 0.930 - ETA: 34s - loss: 0.1444 - accuracy: 0.930 - ETA: 34s - loss: 0.1442 - accuracy: 0.930 - ETA: 34s - loss: 0.1440 - accuracy: 0.930 - ETA: 33s - loss: 0.1437 - accuracy: 0.930 - ETA: 33s - loss: 0.1438 - accuracy: 0.930 - ETA: 33s - loss: 0.1438 - accuracy: 0.930 - ETA: 33s - loss: 0.1441 - accuracy: 0.930 - ETA: 33s - loss: 0.1441 - accuracy: 0.930 - ETA: 33s - loss: 0.1441 - accuracy: 0.930 - ETA: 33s - loss: 0.1440 - accuracy: 0.930 - ETA: 32s - loss: 0.1437 - accuracy: 0.930423872/25600 [==========================>...] - ETA: 32s - loss: 0.1435 - accuracy: 0.930 - ETA: 32s - loss: 0.1436 - accuracy: 0.930 - ETA: 32s - loss: 0.1433 - accuracy: 0.930 - ETA: 32s - loss: 0.1432 - accuracy: 0.930 - ETA: 32s - loss: 0.1430 - accuracy: 0.931 - ETA: 31s - loss: 0.1426 - accuracy: 0.931 - ETA: 31s - loss: 0.1426 - accuracy: 0.931 - ETA: 31s - loss: 0.1425 - accuracy: 0.931 - ETA: 31s - loss: 0.1430 - accuracy: 0.930 - ETA: 31s - loss: 0.1428 - accuracy: 0.931 - ETA: 31s - loss: 0.1430 - accuracy: 0.931 - ETA: 30s - loss: 0.1430 - accuracy: 0.931 - ETA: 30s - loss: 0.1431 - accuracy: 0.931 - ETA: 30s - loss: 0.1430 - accuracy: 0.931 - ETA: 30s - loss: 0.1428 - accuracy: 0.931 - ETA: 30s - loss: 0.1429 - accuracy: 0.931 - ETA: 30s - loss: 0.1428 - accuracy: 0.931 - ETA: 29s - loss: 0.1433 - accuracy: 0.930 - ETA: 29s - loss: 0.1437 - accuracy: 0.930 - ETA: 29s - loss: 0.1437 - accuracy: 0.930 - ETA: 29s - loss: 0.1438 - accuracy: 0.930 - ETA: 29s - loss: 0.1442 - accuracy: 0.930 - ETA: 29s - loss: 0.1440 - accuracy: 0.930 - ETA: 28s - loss: 0.1438 - accuracy: 0.930 - ETA: 28s - loss: 0.1435 - accuracy: 0.930 - ETA: 28s - loss: 0.1433 - accuracy: 0.930 - ETA: 28s - loss: 0.1433 - accuracy: 0.930 - ETA: 28s - loss: 0.1433 - accuracy: 0.930 - ETA: 28s - loss: 0.1433 - accuracy: 0.930 - ETA: 27s - loss: 0.1430 - accuracy: 0.930 - ETA: 27s - loss: 0.1430 - accuracy: 0.930 - ETA: 27s - loss: 0.1440 - accuracy: 0.930 - ETA: 27s - loss: 0.1449 - accuracy: 0.930 - ETA: 27s - loss: 0.1450 - accuracy: 0.930 - ETA: 27s - loss: 0.1452 - accuracy: 0.929 - ETA: 26s - loss: 0.1450 - accuracy: 0.930 - ETA: 26s - loss: 0.1449 - accuracy: 0.930 - ETA: 26s - loss: 0.1449 - accuracy: 0.930 - ETA: 26s - loss: 0.1449 - accuracy: 0.930 - ETA: 26s - loss: 0.1448 - accuracy: 0.930 - ETA: 26s - loss: 0.1448 - accuracy: 0.930 - ETA: 25s - loss: 0.1449 - accuracy: 0.930 - ETA: 25s - loss: 0.1449 - accuracy: 0.929 - ETA: 25s - loss: 0.1451 - accuracy: 0.929 - ETA: 25s - loss: 0.1453 - accuracy: 0.929 - ETA: 25s - loss: 0.1452 - accuracy: 0.929 - ETA: 25s - loss: 0.1452 - accuracy: 0.929 - ETA: 25s - loss: 0.1451 - accuracy: 0.929 - ETA: 24s - loss: 0.1448 - accuracy: 0.929 - ETA: 24s - loss: 0.1448 - accuracy: 0.929 - ETA: 24s - loss: 0.1449 - accuracy: 0.929 - ETA: 24s - loss: 0.1448 - accuracy: 0.929 - ETA: 24s - loss: 0.1448 - accuracy: 0.929 - ETA: 24s - loss: 0.1446 - accuracy: 0.929 - ETA: 23s - loss: 0.1445 - accuracy: 0.930 - ETA: 23s - loss: 0.1445 - accuracy: 0.930 - ETA: 23s - loss: 0.1445 - accuracy: 0.930 - ETA: 23s - loss: 0.1447 - accuracy: 0.929 - ETA: 23s - loss: 0.1446 - accuracy: 0.929 - ETA: 23s - loss: 0.1446 - accuracy: 0.929 - ETA: 22s - loss: 0.1445 - accuracy: 0.930 - ETA: 22s - loss: 0.1442 - accuracy: 0.930 - ETA: 22s - loss: 0.1439 - accuracy: 0.930 - ETA: 22s - loss: 0.1439 - accuracy: 0.930 - ETA: 22s - loss: 0.1439 - accuracy: 0.930 - ETA: 22s - loss: 0.1445 - accuracy: 0.930 - ETA: 22s - loss: 0.1448 - accuracy: 0.929 - ETA: 21s - loss: 0.1451 - accuracy: 0.929 - ETA: 21s - loss: 0.1451 - accuracy: 0.929 - ETA: 21s - loss: 0.1453 - accuracy: 0.929 - ETA: 21s - loss: 0.1453 - accuracy: 0.929 - ETA: 21s - loss: 0.1454 - accuracy: 0.929 - ETA: 21s - loss: 0.1451 - accuracy: 0.929 - ETA: 20s - loss: 0.1450 - accuracy: 0.929 - ETA: 20s - loss: 0.1449 - accuracy: 0.930 - ETA: 20s - loss: 0.1447 - accuracy: 0.930 - ETA: 20s - loss: 0.1445 - accuracy: 0.930 - ETA: 20s - loss: 0.1443 - accuracy: 0.930 - ETA: 20s - loss: 0.1442 - accuracy: 0.930 - ETA: 20s - loss: 0.1440 - accuracy: 0.930 - ETA: 19s - loss: 0.1442 - accuracy: 0.930 - ETA: 19s - loss: 0.1440 - accuracy: 0.930 - ETA: 19s - loss: 0.1439 - accuracy: 0.930 - ETA: 19s - loss: 0.1438 - accuracy: 0.930 - ETA: 19s - loss: 0.1441 - accuracy: 0.930 - ETA: 19s - loss: 0.1440 - accuracy: 0.930 - ETA: 19s - loss: 0.1440 - accuracy: 0.930 - ETA: 18s - loss: 0.1440 - accuracy: 0.930 - ETA: 18s - loss: 0.1440 - accuracy: 0.930 - ETA: 18s - loss: 0.1440 - accuracy: 0.930 - ETA: 18s - loss: 0.1443 - accuracy: 0.930 - ETA: 18s - loss: 0.1443 - accuracy: 0.930 - ETA: 18s - loss: 0.1443 - accuracy: 0.930 - ETA: 18s - loss: 0.1443 - accuracy: 0.930 - ETA: 17s - loss: 0.1443 - accuracy: 0.930 - ETA: 17s - loss: 0.1443 - accuracy: 0.930 - ETA: 17s - loss: 0.1448 - accuracy: 0.929 - ETA: 17s - loss: 0.1450 - accuracy: 0.929 - ETA: 17s - loss: 0.1448 - accuracy: 0.929 - ETA: 17s - loss: 0.1448 - accuracy: 0.929 - ETA: 16s - loss: 0.1447 - accuracy: 0.929 - ETA: 16s - loss: 0.1446 - accuracy: 0.929 - ETA: 16s - loss: 0.1444 - accuracy: 0.929 - ETA: 16s - loss: 0.1444 - accuracy: 0.929 - ETA: 16s - loss: 0.1443 - accuracy: 0.929 - ETA: 16s - loss: 0.1444 - accuracy: 0.929 - ETA: 16s - loss: 0.1443 - accuracy: 0.929 - ETA: 15s - loss: 0.1440 - accuracy: 0.929 - ETA: 15s - loss: 0.1441 - accuracy: 0.929 - ETA: 15s - loss: 0.1444 - accuracy: 0.929 - ETA: 15s - loss: 0.1443 - accuracy: 0.929 - ETA: 15s - loss: 0.1443 - accuracy: 0.929 - ETA: 15s - loss: 0.1441 - accuracy: 0.929 - ETA: 15s - loss: 0.1439 - accuracy: 0.929 - ETA: 14s - loss: 0.1439 - accuracy: 0.929 - ETA: 14s - loss: 0.1439 - accuracy: 0.929 - ETA: 14s - loss: 0.1438 - accuracy: 0.929 - ETA: 14s - loss: 0.1438 - accuracy: 0.929 - ETA: 14s - loss: 0.1437 - accuracy: 0.929 - ETA: 14s - loss: 0.1437 - accuracy: 0.929 - ETA: 13s - loss: 0.1438 - accuracy: 0.929 - ETA: 13s - loss: 0.1438 - accuracy: 0.929 - ETA: 13s - loss: 0.1437 - accuracy: 0.929 - ETA: 13s - loss: 0.1439 - accuracy: 0.929 - ETA: 13s - loss: 0.1440 - accuracy: 0.929 - ETA: 13s - loss: 0.1438 - accuracy: 0.929 - ETA: 13s - loss: 0.1435 - accuracy: 0.929 - ETA: 12s - loss: 0.1437 - accuracy: 0.929 - ETA: 12s - loss: 0.1436 - accuracy: 0.929 - ETA: 12s - loss: 0.1435 - accuracy: 0.929 - ETA: 12s - loss: 0.1435 - accuracy: 0.929 - ETA: 12s - loss: 0.1434 - accuracy: 0.929 - ETA: 12s - loss: 0.1433 - accuracy: 0.929 - ETA: 11s - loss: 0.1432 - accuracy: 0.929 - ETA: 11s - loss: 0.1431 - accuracy: 0.930 - ETA: 11s - loss: 0.1432 - accuracy: 0.930 - ETA: 11s - loss: 0.1432 - accuracy: 0.930 - ETA: 11s - loss: 0.1430 - accuracy: 0.930 - ETA: 11s - loss: 0.1429 - accuracy: 0.930 - ETA: 11s - loss: 0.1428 - accuracy: 0.930 - ETA: 10s - loss: 0.1430 - accuracy: 0.930 - ETA: 10s - loss: 0.1428 - accuracy: 0.930 - ETA: 10s - loss: 0.1431 - accuracy: 0.929 - ETA: 10s - loss: 0.1434 - accuracy: 0.929 - ETA: 10s - loss: 0.1436 - accuracy: 0.929 - ETA: 10s - loss: 0.1435 - accuracy: 0.929 - ETA: 10s - loss: 0.1433 - accuracy: 0.929 - ETA: 9s - loss: 0.1431 - accuracy: 0.930 - ETA: 9s - loss: 0.1429 - accuracy: 0.93 - ETA: 9s - loss: 0.1431 - accuracy: 0.93 - ETA: 9s - loss: 0.1435 - accuracy: 0.92 - ETA: 9s - loss: 0.1436 - accuracy: 0.92 - ETA: 9s - loss: 0.1435 - accuracy: 0.92 - ETA: 8s - loss: 0.1433 - accuracy: 0.92 - ETA: 8s - loss: 0.1432 - accuracy: 0.92 - ETA: 8s - loss: 0.1432 - accuracy: 0.92 - ETA: 8s - loss: 0.1433 - accuracy: 0.92 - ETA: 8s - loss: 0.1432 - accuracy: 0.93 - ETA: 8s - loss: 0.1432 - accuracy: 0.93 - ETA: 8s - loss: 0.1431 - accuracy: 0.93 - ETA: 7s - loss: 0.1430 - accuracy: 0.93 - ETA: 7s - loss: 0.1429 - accuracy: 0.93 - ETA: 7s - loss: 0.1428 - accuracy: 0.93 - ETA: 7s - loss: 0.1429 - accuracy: 0.93 - ETA: 7s - loss: 0.1432 - accuracy: 0.92 - ETA: 7s - loss: 0.1430 - accuracy: 0.93 - ETA: 7s - loss: 0.1429 - accuracy: 0.93 - ETA: 6s - loss: 0.1428 - accuracy: 0.93 - ETA: 6s - loss: 0.1426 - accuracy: 0.93 - ETA: 6s - loss: 0.1427 - accuracy: 0.93 - ETA: 6s - loss: 0.1427 - accuracy: 0.93 - ETA: 6s - loss: 0.1425 - accuracy: 0.93 - ETA: 6s - loss: 0.1426 - accuracy: 0.93 - ETA: 5s - loss: 0.1425 - accuracy: 0.93 - ETA: 5s - loss: 0.1425 - accuracy: 0.93 - ETA: 5s - loss: 0.1425 - accuracy: 0.93 - ETA: 5s - loss: 0.1424 - accuracy: 0.93 - ETA: 5s - loss: 0.1424 - accuracy: 0.93 - ETA: 5s - loss: 0.1425 - accuracy: 0.93 - ETA: 5s - loss: 0.1425 - accuracy: 0.92 - ETA: 4s - loss: 0.1424 - accuracy: 0.92 - ETA: 4s - loss: 0.1423 - accuracy: 0.93 - ETA: 4s - loss: 0.1423 - accuracy: 0.92 - ETA: 4s - loss: 0.1422 - accuracy: 0.93 - ETA: 4s - loss: 0.1422 - accuracy: 0.93 - ETA: 4s - loss: 0.1422 - accuracy: 0.92 - ETA: 4s - loss: 0.1423 - accuracy: 0.9299"
     ]
    },
    {
     "name": "stdout",
     "output_type": "stream",
     "text": [
      "25600/25600 [==============================] - ETA: 3s - loss: 0.1422 - accuracy: 0.92 - ETA: 3s - loss: 0.1423 - accuracy: 0.92 - ETA: 3s - loss: 0.1422 - accuracy: 0.92 - ETA: 3s - loss: 0.1421 - accuracy: 0.92 - ETA: 3s - loss: 0.1420 - accuracy: 0.92 - ETA: 3s - loss: 0.1418 - accuracy: 0.93 - ETA: 3s - loss: 0.1418 - accuracy: 0.93 - ETA: 2s - loss: 0.1416 - accuracy: 0.93 - ETA: 2s - loss: 0.1414 - accuracy: 0.93 - ETA: 2s - loss: 0.1416 - accuracy: 0.93 - ETA: 2s - loss: 0.1415 - accuracy: 0.93 - ETA: 2s - loss: 0.1413 - accuracy: 0.93 - ETA: 2s - loss: 0.1414 - accuracy: 0.93 - ETA: 1s - loss: 0.1414 - accuracy: 0.93 - ETA: 1s - loss: 0.1412 - accuracy: 0.93 - ETA: 1s - loss: 0.1410 - accuracy: 0.93 - ETA: 1s - loss: 0.1408 - accuracy: 0.93 - ETA: 1s - loss: 0.1407 - accuracy: 0.93 - ETA: 1s - loss: 0.1406 - accuracy: 0.93 - ETA: 1s - loss: 0.1406 - accuracy: 0.93 - ETA: 0s - loss: 0.1405 - accuracy: 0.93 - ETA: 0s - loss: 0.1405 - accuracy: 0.93 - ETA: 0s - loss: 0.1406 - accuracy: 0.93 - ETA: 0s - loss: 0.1407 - accuracy: 0.93 - ETA: 0s - loss: 0.1407 - accuracy: 0.93 - ETA: 0s - loss: 0.1407 - accuracy: 0.93 - 64s 2ms/step - loss: 0.1406 - accuracy: 0.9307 - val_loss: 0.1176 - val_accuracy: 0.9347\n",
      "Epoch 5/5\n"
     ]
    },
    {
     "name": "stdout",
     "output_type": "stream",
     "text": [
      "11904/25600 [============>.................] - ETA: 1:02 - loss: 0.0869 - accuracy: 0.93 - ETA: 57s - loss: 0.0776 - accuracy: 0.9453 - ETA: 56s - loss: 0.0993 - accuracy: 0.942 - ETA: 57s - loss: 0.1286 - accuracy: 0.929 - ETA: 56s - loss: 0.1395 - accuracy: 0.918 - ETA: 56s - loss: 0.1347 - accuracy: 0.921 - ETA: 55s - loss: 0.1318 - accuracy: 0.921 - ETA: 55s - loss: 0.1382 - accuracy: 0.918 - ETA: 55s - loss: 0.1342 - accuracy: 0.921 - ETA: 55s - loss: 0.1384 - accuracy: 0.918 - ETA: 55s - loss: 0.1387 - accuracy: 0.917 - ETA: 54s - loss: 0.1443 - accuracy: 0.915 - ETA: 54s - loss: 0.1466 - accuracy: 0.915 - ETA: 54s - loss: 0.1457 - accuracy: 0.918 - ETA: 55s - loss: 0.1482 - accuracy: 0.915 - ETA: 55s - loss: 0.1559 - accuracy: 0.913 - ETA: 55s - loss: 0.1562 - accuracy: 0.912 - ETA: 55s - loss: 0.1540 - accuracy: 0.914 - ETA: 55s - loss: 0.1511 - accuracy: 0.917 - ETA: 55s - loss: 0.1483 - accuracy: 0.920 - ETA: 54s - loss: 0.1466 - accuracy: 0.921 - ETA: 54s - loss: 0.1466 - accuracy: 0.920 - ETA: 54s - loss: 0.1484 - accuracy: 0.920 - ETA: 54s - loss: 0.1497 - accuracy: 0.919 - ETA: 54s - loss: 0.1493 - accuracy: 0.920 - ETA: 54s - loss: 0.1486 - accuracy: 0.920 - ETA: 54s - loss: 0.1465 - accuracy: 0.921 - ETA: 54s - loss: 0.1448 - accuracy: 0.921 - ETA: 54s - loss: 0.1431 - accuracy: 0.923 - ETA: 53s - loss: 0.1438 - accuracy: 0.923 - ETA: 53s - loss: 0.1433 - accuracy: 0.924 - ETA: 53s - loss: 0.1414 - accuracy: 0.926 - ETA: 53s - loss: 0.1437 - accuracy: 0.926 - ETA: 53s - loss: 0.1444 - accuracy: 0.926 - ETA: 52s - loss: 0.1437 - accuracy: 0.926 - ETA: 52s - loss: 0.1440 - accuracy: 0.926 - ETA: 52s - loss: 0.1441 - accuracy: 0.926 - ETA: 52s - loss: 0.1441 - accuracy: 0.926 - ETA: 52s - loss: 0.1435 - accuracy: 0.927 - ETA: 51s - loss: 0.1438 - accuracy: 0.926 - ETA: 51s - loss: 0.1427 - accuracy: 0.927 - ETA: 51s - loss: 0.1410 - accuracy: 0.928 - ETA: 51s - loss: 0.1411 - accuracy: 0.928 - ETA: 51s - loss: 0.1397 - accuracy: 0.929 - ETA: 51s - loss: 0.1400 - accuracy: 0.928 - ETA: 51s - loss: 0.1411 - accuracy: 0.928 - ETA: 51s - loss: 0.1400 - accuracy: 0.928 - ETA: 50s - loss: 0.1384 - accuracy: 0.930 - ETA: 50s - loss: 0.1371 - accuracy: 0.930 - ETA: 50s - loss: 0.1366 - accuracy: 0.931 - ETA: 50s - loss: 0.1359 - accuracy: 0.932 - ETA: 50s - loss: 0.1352 - accuracy: 0.932 - ETA: 50s - loss: 0.1353 - accuracy: 0.931 - ETA: 50s - loss: 0.1380 - accuracy: 0.930 - ETA: 49s - loss: 0.1382 - accuracy: 0.930 - ETA: 49s - loss: 0.1377 - accuracy: 0.930 - ETA: 49s - loss: 0.1372 - accuracy: 0.931 - ETA: 49s - loss: 0.1364 - accuracy: 0.932 - ETA: 49s - loss: 0.1357 - accuracy: 0.932 - ETA: 49s - loss: 0.1368 - accuracy: 0.931 - ETA: 49s - loss: 0.1353 - accuracy: 0.932 - ETA: 48s - loss: 0.1357 - accuracy: 0.932 - ETA: 48s - loss: 0.1361 - accuracy: 0.931 - ETA: 48s - loss: 0.1362 - accuracy: 0.931 - ETA: 48s - loss: 0.1355 - accuracy: 0.932 - ETA: 48s - loss: 0.1360 - accuracy: 0.931 - ETA: 48s - loss: 0.1356 - accuracy: 0.931 - ETA: 48s - loss: 0.1351 - accuracy: 0.932 - ETA: 48s - loss: 0.1365 - accuracy: 0.930 - ETA: 47s - loss: 0.1368 - accuracy: 0.930 - ETA: 47s - loss: 0.1370 - accuracy: 0.930 - ETA: 47s - loss: 0.1384 - accuracy: 0.930 - ETA: 47s - loss: 0.1381 - accuracy: 0.930 - ETA: 47s - loss: 0.1371 - accuracy: 0.931 - ETA: 47s - loss: 0.1372 - accuracy: 0.930 - ETA: 47s - loss: 0.1370 - accuracy: 0.930 - ETA: 47s - loss: 0.1372 - accuracy: 0.931 - ETA: 47s - loss: 0.1373 - accuracy: 0.931 - ETA: 47s - loss: 0.1367 - accuracy: 0.931 - ETA: 47s - loss: 0.1374 - accuracy: 0.930 - ETA: 47s - loss: 0.1392 - accuracy: 0.930 - ETA: 47s - loss: 0.1393 - accuracy: 0.929 - ETA: 47s - loss: 0.1397 - accuracy: 0.929 - ETA: 46s - loss: 0.1392 - accuracy: 0.929 - ETA: 46s - loss: 0.1399 - accuracy: 0.929 - ETA: 46s - loss: 0.1406 - accuracy: 0.928 - ETA: 46s - loss: 0.1403 - accuracy: 0.929 - ETA: 46s - loss: 0.1398 - accuracy: 0.929 - ETA: 46s - loss: 0.1399 - accuracy: 0.929 - ETA: 46s - loss: 0.1398 - accuracy: 0.929 - ETA: 46s - loss: 0.1401 - accuracy: 0.929 - ETA: 46s - loss: 0.1391 - accuracy: 0.929 - ETA: 46s - loss: 0.1384 - accuracy: 0.930 - ETA: 46s - loss: 0.1374 - accuracy: 0.930 - ETA: 45s - loss: 0.1379 - accuracy: 0.930 - ETA: 46s - loss: 0.1383 - accuracy: 0.930 - ETA: 46s - loss: 0.1379 - accuracy: 0.930 - ETA: 46s - loss: 0.1399 - accuracy: 0.930 - ETA: 46s - loss: 0.1409 - accuracy: 0.929 - ETA: 46s - loss: 0.1407 - accuracy: 0.929 - ETA: 46s - loss: 0.1410 - accuracy: 0.929 - ETA: 46s - loss: 0.1407 - accuracy: 0.929 - ETA: 46s - loss: 0.1401 - accuracy: 0.930 - ETA: 46s - loss: 0.1410 - accuracy: 0.929 - ETA: 46s - loss: 0.1408 - accuracy: 0.929 - ETA: 47s - loss: 0.1405 - accuracy: 0.929 - ETA: 46s - loss: 0.1405 - accuracy: 0.929 - ETA: 46s - loss: 0.1404 - accuracy: 0.930 - ETA: 46s - loss: 0.1410 - accuracy: 0.929 - ETA: 46s - loss: 0.1409 - accuracy: 0.929 - ETA: 46s - loss: 0.1412 - accuracy: 0.929 - ETA: 46s - loss: 0.1411 - accuracy: 0.929 - ETA: 46s - loss: 0.1411 - accuracy: 0.929 - ETA: 46s - loss: 0.1416 - accuracy: 0.929 - ETA: 46s - loss: 0.1408 - accuracy: 0.929 - ETA: 46s - loss: 0.1407 - accuracy: 0.929 - ETA: 46s - loss: 0.1405 - accuracy: 0.929 - ETA: 46s - loss: 0.1406 - accuracy: 0.929 - ETA: 46s - loss: 0.1409 - accuracy: 0.929 - ETA: 46s - loss: 0.1408 - accuracy: 0.929 - ETA: 45s - loss: 0.1406 - accuracy: 0.929 - ETA: 46s - loss: 0.1411 - accuracy: 0.929 - ETA: 46s - loss: 0.1409 - accuracy: 0.929 - ETA: 46s - loss: 0.1415 - accuracy: 0.929 - ETA: 46s - loss: 0.1412 - accuracy: 0.929 - ETA: 46s - loss: 0.1409 - accuracy: 0.929 - ETA: 46s - loss: 0.1410 - accuracy: 0.929 - ETA: 46s - loss: 0.1410 - accuracy: 0.929 - ETA: 46s - loss: 0.1406 - accuracy: 0.929 - ETA: 46s - loss: 0.1405 - accuracy: 0.929 - ETA: 46s - loss: 0.1410 - accuracy: 0.929 - ETA: 47s - loss: 0.1406 - accuracy: 0.929 - ETA: 47s - loss: 0.1402 - accuracy: 0.929 - ETA: 47s - loss: 0.1397 - accuracy: 0.929 - ETA: 47s - loss: 0.1392 - accuracy: 0.930 - ETA: 46s - loss: 0.1394 - accuracy: 0.930 - ETA: 46s - loss: 0.1402 - accuracy: 0.930 - ETA: 46s - loss: 0.1401 - accuracy: 0.930 - ETA: 46s - loss: 0.1411 - accuracy: 0.929 - ETA: 46s - loss: 0.1405 - accuracy: 0.930 - ETA: 46s - loss: 0.1404 - accuracy: 0.930 - ETA: 46s - loss: 0.1397 - accuracy: 0.930 - ETA: 46s - loss: 0.1397 - accuracy: 0.930 - ETA: 46s - loss: 0.1398 - accuracy: 0.930 - ETA: 46s - loss: 0.1393 - accuracy: 0.931 - ETA: 46s - loss: 0.1396 - accuracy: 0.930 - ETA: 46s - loss: 0.1391 - accuracy: 0.931 - ETA: 46s - loss: 0.1389 - accuracy: 0.931 - ETA: 46s - loss: 0.1390 - accuracy: 0.931 - ETA: 46s - loss: 0.1387 - accuracy: 0.931 - ETA: 45s - loss: 0.1386 - accuracy: 0.931 - ETA: 45s - loss: 0.1384 - accuracy: 0.931 - ETA: 45s - loss: 0.1384 - accuracy: 0.931 - ETA: 45s - loss: 0.1385 - accuracy: 0.931 - ETA: 45s - loss: 0.1388 - accuracy: 0.931 - ETA: 44s - loss: 0.1385 - accuracy: 0.931 - ETA: 44s - loss: 0.1382 - accuracy: 0.931 - ETA: 44s - loss: 0.1383 - accuracy: 0.931 - ETA: 44s - loss: 0.1382 - accuracy: 0.931 - ETA: 44s - loss: 0.1384 - accuracy: 0.931 - ETA: 44s - loss: 0.1380 - accuracy: 0.931 - ETA: 43s - loss: 0.1381 - accuracy: 0.931 - ETA: 43s - loss: 0.1382 - accuracy: 0.931 - ETA: 43s - loss: 0.1384 - accuracy: 0.931 - ETA: 43s - loss: 0.1382 - accuracy: 0.931 - ETA: 43s - loss: 0.1384 - accuracy: 0.931 - ETA: 42s - loss: 0.1385 - accuracy: 0.931 - ETA: 42s - loss: 0.1385 - accuracy: 0.931 - ETA: 42s - loss: 0.1389 - accuracy: 0.931 - ETA: 42s - loss: 0.1389 - accuracy: 0.931 - ETA: 42s - loss: 0.1390 - accuracy: 0.931 - ETA: 41s - loss: 0.1387 - accuracy: 0.931 - ETA: 41s - loss: 0.1386 - accuracy: 0.931 - ETA: 41s - loss: 0.1386 - accuracy: 0.931 - ETA: 41s - loss: 0.1384 - accuracy: 0.931 - ETA: 41s - loss: 0.1382 - accuracy: 0.931 - ETA: 41s - loss: 0.1382 - accuracy: 0.932 - ETA: 41s - loss: 0.1381 - accuracy: 0.932 - ETA: 40s - loss: 0.1380 - accuracy: 0.932 - ETA: 40s - loss: 0.1379 - accuracy: 0.932 - ETA: 40s - loss: 0.1380 - accuracy: 0.932 - ETA: 40s - loss: 0.1377 - accuracy: 0.932 - ETA: 40s - loss: 0.1377 - accuracy: 0.932 - ETA: 40s - loss: 0.1373 - accuracy: 0.932 - ETA: 39s - loss: 0.1371 - accuracy: 0.932 - ETA: 39s - loss: 0.1370 - accuracy: 0.932523872/25600 [==========================>...] - ETA: 39s - loss: 0.1370 - accuracy: 0.932 - ETA: 39s - loss: 0.1373 - accuracy: 0.932 - ETA: 39s - loss: 0.1369 - accuracy: 0.932 - ETA: 39s - loss: 0.1366 - accuracy: 0.932 - ETA: 39s - loss: 0.1364 - accuracy: 0.932 - ETA: 39s - loss: 0.1363 - accuracy: 0.933 - ETA: 38s - loss: 0.1362 - accuracy: 0.933 - ETA: 38s - loss: 0.1362 - accuracy: 0.933 - ETA: 38s - loss: 0.1360 - accuracy: 0.933 - ETA: 38s - loss: 0.1357 - accuracy: 0.933 - ETA: 38s - loss: 0.1355 - accuracy: 0.933 - ETA: 38s - loss: 0.1351 - accuracy: 0.933 - ETA: 37s - loss: 0.1347 - accuracy: 0.934 - ETA: 37s - loss: 0.1348 - accuracy: 0.933 - ETA: 37s - loss: 0.1350 - accuracy: 0.933 - ETA: 37s - loss: 0.1348 - accuracy: 0.933 - ETA: 37s - loss: 0.1346 - accuracy: 0.934 - ETA: 36s - loss: 0.1344 - accuracy: 0.934 - ETA: 36s - loss: 0.1346 - accuracy: 0.933 - ETA: 36s - loss: 0.1349 - accuracy: 0.933 - ETA: 36s - loss: 0.1351 - accuracy: 0.933 - ETA: 36s - loss: 0.1351 - accuracy: 0.933 - ETA: 36s - loss: 0.1351 - accuracy: 0.933 - ETA: 36s - loss: 0.1346 - accuracy: 0.933 - ETA: 35s - loss: 0.1347 - accuracy: 0.933 - ETA: 35s - loss: 0.1348 - accuracy: 0.933 - ETA: 35s - loss: 0.1345 - accuracy: 0.933 - ETA: 35s - loss: 0.1345 - accuracy: 0.933 - ETA: 34s - loss: 0.1344 - accuracy: 0.933 - ETA: 34s - loss: 0.1345 - accuracy: 0.933 - ETA: 34s - loss: 0.1348 - accuracy: 0.933 - ETA: 34s - loss: 0.1347 - accuracy: 0.933 - ETA: 34s - loss: 0.1342 - accuracy: 0.933 - ETA: 34s - loss: 0.1340 - accuracy: 0.933 - ETA: 33s - loss: 0.1342 - accuracy: 0.933 - ETA: 33s - loss: 0.1341 - accuracy: 0.933 - ETA: 33s - loss: 0.1338 - accuracy: 0.934 - ETA: 33s - loss: 0.1341 - accuracy: 0.933 - ETA: 33s - loss: 0.1343 - accuracy: 0.933 - ETA: 32s - loss: 0.1347 - accuracy: 0.933 - ETA: 32s - loss: 0.1346 - accuracy: 0.933 - ETA: 32s - loss: 0.1347 - accuracy: 0.933 - ETA: 32s - loss: 0.1344 - accuracy: 0.933 - ETA: 31s - loss: 0.1344 - accuracy: 0.933 - ETA: 31s - loss: 0.1341 - accuracy: 0.933 - ETA: 31s - loss: 0.1338 - accuracy: 0.933 - ETA: 31s - loss: 0.1337 - accuracy: 0.933 - ETA: 31s - loss: 0.1338 - accuracy: 0.933 - ETA: 30s - loss: 0.1337 - accuracy: 0.933 - ETA: 30s - loss: 0.1337 - accuracy: 0.933 - ETA: 30s - loss: 0.1335 - accuracy: 0.933 - ETA: 30s - loss: 0.1335 - accuracy: 0.933 - ETA: 30s - loss: 0.1332 - accuracy: 0.934 - ETA: 30s - loss: 0.1332 - accuracy: 0.933 - ETA: 30s - loss: 0.1330 - accuracy: 0.934 - ETA: 29s - loss: 0.1329 - accuracy: 0.934 - ETA: 29s - loss: 0.1332 - accuracy: 0.933 - ETA: 29s - loss: 0.1330 - accuracy: 0.933 - ETA: 29s - loss: 0.1328 - accuracy: 0.934 - ETA: 29s - loss: 0.1330 - accuracy: 0.934 - ETA: 28s - loss: 0.1329 - accuracy: 0.934 - ETA: 28s - loss: 0.1329 - accuracy: 0.934 - ETA: 28s - loss: 0.1332 - accuracy: 0.933 - ETA: 28s - loss: 0.1332 - accuracy: 0.933 - ETA: 28s - loss: 0.1333 - accuracy: 0.933 - ETA: 27s - loss: 0.1333 - accuracy: 0.933 - ETA: 27s - loss: 0.1335 - accuracy: 0.933 - ETA: 27s - loss: 0.1334 - accuracy: 0.933 - ETA: 27s - loss: 0.1333 - accuracy: 0.933 - ETA: 27s - loss: 0.1335 - accuracy: 0.933 - ETA: 26s - loss: 0.1333 - accuracy: 0.933 - ETA: 26s - loss: 0.1331 - accuracy: 0.933 - ETA: 26s - loss: 0.1329 - accuracy: 0.933 - ETA: 26s - loss: 0.1328 - accuracy: 0.933 - ETA: 26s - loss: 0.1327 - accuracy: 0.933 - ETA: 26s - loss: 0.1327 - accuracy: 0.933 - ETA: 25s - loss: 0.1326 - accuracy: 0.933 - ETA: 25s - loss: 0.1325 - accuracy: 0.933 - ETA: 25s - loss: 0.1326 - accuracy: 0.933 - ETA: 25s - loss: 0.1325 - accuracy: 0.933 - ETA: 24s - loss: 0.1323 - accuracy: 0.934 - ETA: 24s - loss: 0.1321 - accuracy: 0.934 - ETA: 24s - loss: 0.1320 - accuracy: 0.934 - ETA: 24s - loss: 0.1318 - accuracy: 0.934 - ETA: 24s - loss: 0.1318 - accuracy: 0.934 - ETA: 23s - loss: 0.1317 - accuracy: 0.934 - ETA: 23s - loss: 0.1319 - accuracy: 0.934 - ETA: 23s - loss: 0.1327 - accuracy: 0.934 - ETA: 23s - loss: 0.1325 - accuracy: 0.934 - ETA: 23s - loss: 0.1323 - accuracy: 0.934 - ETA: 22s - loss: 0.1320 - accuracy: 0.934 - ETA: 22s - loss: 0.1320 - accuracy: 0.934 - ETA: 22s - loss: 0.1317 - accuracy: 0.934 - ETA: 22s - loss: 0.1317 - accuracy: 0.934 - ETA: 22s - loss: 0.1315 - accuracy: 0.934 - ETA: 22s - loss: 0.1315 - accuracy: 0.934 - ETA: 21s - loss: 0.1317 - accuracy: 0.934 - ETA: 21s - loss: 0.1319 - accuracy: 0.934 - ETA: 21s - loss: 0.1319 - accuracy: 0.934 - ETA: 21s - loss: 0.1318 - accuracy: 0.934 - ETA: 21s - loss: 0.1318 - accuracy: 0.934 - ETA: 20s - loss: 0.1317 - accuracy: 0.934 - ETA: 20s - loss: 0.1320 - accuracy: 0.934 - ETA: 20s - loss: 0.1320 - accuracy: 0.934 - ETA: 20s - loss: 0.1323 - accuracy: 0.934 - ETA: 20s - loss: 0.1324 - accuracy: 0.933 - ETA: 19s - loss: 0.1324 - accuracy: 0.933 - ETA: 19s - loss: 0.1326 - accuracy: 0.933 - ETA: 19s - loss: 0.1325 - accuracy: 0.934 - ETA: 19s - loss: 0.1324 - accuracy: 0.934 - ETA: 19s - loss: 0.1324 - accuracy: 0.933 - ETA: 18s - loss: 0.1326 - accuracy: 0.933 - ETA: 18s - loss: 0.1325 - accuracy: 0.933 - ETA: 18s - loss: 0.1327 - accuracy: 0.933 - ETA: 18s - loss: 0.1324 - accuracy: 0.933 - ETA: 18s - loss: 0.1325 - accuracy: 0.933 - ETA: 18s - loss: 0.1325 - accuracy: 0.933 - ETA: 17s - loss: 0.1325 - accuracy: 0.933 - ETA: 17s - loss: 0.1326 - accuracy: 0.933 - ETA: 17s - loss: 0.1325 - accuracy: 0.933 - ETA: 17s - loss: 0.1325 - accuracy: 0.933 - ETA: 17s - loss: 0.1325 - accuracy: 0.933 - ETA: 16s - loss: 0.1323 - accuracy: 0.933 - ETA: 16s - loss: 0.1322 - accuracy: 0.933 - ETA: 16s - loss: 0.1322 - accuracy: 0.933 - ETA: 16s - loss: 0.1324 - accuracy: 0.933 - ETA: 16s - loss: 0.1322 - accuracy: 0.933 - ETA: 16s - loss: 0.1321 - accuracy: 0.933 - ETA: 15s - loss: 0.1320 - accuracy: 0.934 - ETA: 15s - loss: 0.1321 - accuracy: 0.933 - ETA: 15s - loss: 0.1322 - accuracy: 0.933 - ETA: 15s - loss: 0.1323 - accuracy: 0.933 - ETA: 15s - loss: 0.1321 - accuracy: 0.933 - ETA: 14s - loss: 0.1320 - accuracy: 0.934 - ETA: 14s - loss: 0.1320 - accuracy: 0.934 - ETA: 14s - loss: 0.1321 - accuracy: 0.934 - ETA: 14s - loss: 0.1319 - accuracy: 0.934 - ETA: 14s - loss: 0.1321 - accuracy: 0.934 - ETA: 14s - loss: 0.1323 - accuracy: 0.934 - ETA: 13s - loss: 0.1321 - accuracy: 0.934 - ETA: 13s - loss: 0.1322 - accuracy: 0.934 - ETA: 13s - loss: 0.1323 - accuracy: 0.933 - ETA: 13s - loss: 0.1322 - accuracy: 0.933 - ETA: 13s - loss: 0.1321 - accuracy: 0.933 - ETA: 12s - loss: 0.1319 - accuracy: 0.934 - ETA: 12s - loss: 0.1318 - accuracy: 0.934 - ETA: 12s - loss: 0.1317 - accuracy: 0.934 - ETA: 12s - loss: 0.1316 - accuracy: 0.934 - ETA: 12s - loss: 0.1315 - accuracy: 0.934 - ETA: 12s - loss: 0.1315 - accuracy: 0.934 - ETA: 11s - loss: 0.1314 - accuracy: 0.934 - ETA: 11s - loss: 0.1312 - accuracy: 0.934 - ETA: 11s - loss: 0.1311 - accuracy: 0.934 - ETA: 11s - loss: 0.1313 - accuracy: 0.934 - ETA: 11s - loss: 0.1311 - accuracy: 0.934 - ETA: 10s - loss: 0.1309 - accuracy: 0.934 - ETA: 10s - loss: 0.1311 - accuracy: 0.934 - ETA: 10s - loss: 0.1311 - accuracy: 0.934 - ETA: 10s - loss: 0.1311 - accuracy: 0.934 - ETA: 10s - loss: 0.1312 - accuracy: 0.934 - ETA: 10s - loss: 0.1314 - accuracy: 0.934 - ETA: 9s - loss: 0.1312 - accuracy: 0.934 - ETA: 9s - loss: 0.1311 - accuracy: 0.93 - ETA: 9s - loss: 0.1310 - accuracy: 0.93 - ETA: 9s - loss: 0.1312 - accuracy: 0.93 - ETA: 9s - loss: 0.1310 - accuracy: 0.93 - ETA: 8s - loss: 0.1313 - accuracy: 0.93 - ETA: 8s - loss: 0.1312 - accuracy: 0.93 - ETA: 8s - loss: 0.1311 - accuracy: 0.93 - ETA: 8s - loss: 0.1311 - accuracy: 0.93 - ETA: 8s - loss: 0.1315 - accuracy: 0.93 - ETA: 7s - loss: 0.1317 - accuracy: 0.93 - ETA: 7s - loss: 0.1316 - accuracy: 0.93 - ETA: 7s - loss: 0.1316 - accuracy: 0.93 - ETA: 7s - loss: 0.1315 - accuracy: 0.93 - ETA: 7s - loss: 0.1315 - accuracy: 0.93 - ETA: 7s - loss: 0.1312 - accuracy: 0.93 - ETA: 6s - loss: 0.1310 - accuracy: 0.93 - ETA: 6s - loss: 0.1312 - accuracy: 0.93 - ETA: 6s - loss: 0.1310 - accuracy: 0.93 - ETA: 6s - loss: 0.1309 - accuracy: 0.93 - ETA: 6s - loss: 0.1308 - accuracy: 0.93 - ETA: 5s - loss: 0.1306 - accuracy: 0.93 - ETA: 5s - loss: 0.1307 - accuracy: 0.93 - ETA: 5s - loss: 0.1305 - accuracy: 0.93 - ETA: 5s - loss: 0.1306 - accuracy: 0.93 - ETA: 5s - loss: 0.1307 - accuracy: 0.9346"
     ]
    },
    {
     "name": "stdout",
     "output_type": "stream",
     "text": [
      "25600/25600 [==============================] - ETA: 4s - loss: 0.1305 - accuracy: 0.93 - ETA: 4s - loss: 0.1305 - accuracy: 0.93 - ETA: 4s - loss: 0.1307 - accuracy: 0.93 - ETA: 4s - loss: 0.1305 - accuracy: 0.93 - ETA: 4s - loss: 0.1304 - accuracy: 0.93 - ETA: 3s - loss: 0.1305 - accuracy: 0.93 - ETA: 3s - loss: 0.1305 - accuracy: 0.93 - ETA: 3s - loss: 0.1305 - accuracy: 0.93 - ETA: 3s - loss: 0.1306 - accuracy: 0.93 - ETA: 3s - loss: 0.1305 - accuracy: 0.93 - ETA: 3s - loss: 0.1304 - accuracy: 0.93 - ETA: 2s - loss: 0.1304 - accuracy: 0.93 - ETA: 2s - loss: 0.1303 - accuracy: 0.93 - ETA: 2s - loss: 0.1303 - accuracy: 0.93 - ETA: 2s - loss: 0.1303 - accuracy: 0.93 - ETA: 2s - loss: 0.1302 - accuracy: 0.93 - ETA: 1s - loss: 0.1302 - accuracy: 0.93 - ETA: 1s - loss: 0.1303 - accuracy: 0.93 - ETA: 1s - loss: 0.1302 - accuracy: 0.93 - ETA: 1s - loss: 0.1299 - accuracy: 0.93 - ETA: 1s - loss: 0.1299 - accuracy: 0.93 - ETA: 0s - loss: 0.1299 - accuracy: 0.93 - ETA: 0s - loss: 0.1300 - accuracy: 0.93 - ETA: 0s - loss: 0.1300 - accuracy: 0.93 - ETA: 0s - loss: 0.1300 - accuracy: 0.93 - ETA: 0s - loss: 0.1299 - accuracy: 0.93 - 79s 3ms/step - loss: 0.1301 - accuracy: 0.9352 - val_loss: 0.1198 - val_accuracy: 0.9411\n",
      "Test loss: 0.11977047879714518\n",
      "Test accuracy: 0.9410937428474426\n"
     ]
    }
   ],
   "source": [
    "model.fit(x_train, y_train,\n",
    "          batch_size=batch_size,\n",
    "          epochs=epochs,\n",
    "          verbose=1,\n",
    "          validation_data=(x_test, y_test))\n",
    "score = model.evaluate(x_test, y_test, verbose=0)\n",
    "print('Test loss:', score[0])\n",
    "print('Test accuracy:', score[1])"
   ]
  },
  {
   "cell_type": "code",
   "execution_count": 38,
   "metadata": {},
   "outputs": [
    {
     "name": "stdout",
     "output_type": "stream",
     "text": [
      "yes\n",
      "x_train shape: (6400, 70, 70, 1)\n",
      "x_train shape: (6400, 70, 70, 1)\n",
      "6400 train samples\n",
      "1600 test samples\n"
     ]
    }
   ],
   "source": [
    "print(\"yes\")\n",
    "print('x_train shape:', x_train.shape)\n",
    "x_train = x_train.reshape(x_train.shape[0], img_rows, img_cols, 1)\n",
    "x_test = x_test.reshape(x_test.shape[0], img_rows, img_cols, 1)\n",
    "input_shape = (img_rows, img_cols, 1)\n",
    "\n",
    "#print(x_train[3])\n",
    "x_train = x_train.astype('float32')\n",
    "x_test = x_test.astype('float32')\n",
    "x_train /= 255\n",
    "x_test /= 255\n",
    "print('x_train shape:', x_train.shape)\n",
    "print(x_train.shape[0], 'train samples')\n",
    "print(x_test.shape[0], 'test samples')\n",
    "\n",
    "\n",
    "model = Sequential()\n",
    "model.add(Flatten())\n",
    "model.add(Dense(4900, activation='relu'))\n",
    "model.add(Dropout(0.5))\n",
    "model.add(Dense(100, activation='relu'))\n",
    "model.add(Dense(1, activation='sigmoid'))\n",
    "\n",
    "model.compile(loss=keras.losses.binary_crossentropy,\n",
    "              optimizer=keras.optimizers.Adadelta(),\n",
    "              metrics=['accuracy'])\n"
   ]
  },
  {
   "cell_type": "code",
   "execution_count": 33,
   "metadata": {},
   "outputs": [
    {
     "name": "stdout",
     "output_type": "stream",
     "text": [
      "yes\n",
      "x_train shape: (6400, 70, 70, 1)\n",
      "x_train shape: (6400, 70, 70, 1)\n",
      "6400 train samples\n",
      "1600 test samples\n"
     ]
    },
    {
     "name": "stderr",
     "output_type": "stream",
     "text": [
      "C:\\Users\\colly\\Anaconda3\\lib\\site-packages\\ipykernel_launcher.py:23: UserWarning: Update your `Conv2D` call to the Keras 2 API: `Conv2D(64, (3, 3), activation=\"relu\")`\n",
      "C:\\Users\\colly\\Anaconda3\\lib\\site-packages\\ipykernel_launcher.py:25: UserWarning: Update your `Conv2D` call to the Keras 2 API: `Conv2D(64, (3, 3), activation=\"relu\")`\n",
      "C:\\Users\\colly\\Anaconda3\\lib\\site-packages\\ipykernel_launcher.py:29: UserWarning: Update your `Conv2D` call to the Keras 2 API: `Conv2D(128, (3, 3), activation=\"relu\")`\n",
      "C:\\Users\\colly\\Anaconda3\\lib\\site-packages\\ipykernel_launcher.py:31: UserWarning: Update your `Conv2D` call to the Keras 2 API: `Conv2D(128, (3, 3), activation=\"relu\")`\n",
      "C:\\Users\\colly\\Anaconda3\\lib\\site-packages\\ipykernel_launcher.py:35: UserWarning: Update your `Conv2D` call to the Keras 2 API: `Conv2D(256, (3, 3), activation=\"relu\")`\n",
      "C:\\Users\\colly\\Anaconda3\\lib\\site-packages\\ipykernel_launcher.py:37: UserWarning: Update your `Conv2D` call to the Keras 2 API: `Conv2D(256, (3, 3), activation=\"relu\")`\n",
      "C:\\Users\\colly\\Anaconda3\\lib\\site-packages\\ipykernel_launcher.py:39: UserWarning: Update your `Conv2D` call to the Keras 2 API: `Conv2D(256, (3, 3), activation=\"relu\")`\n",
      "C:\\Users\\colly\\Anaconda3\\lib\\site-packages\\ipykernel_launcher.py:43: UserWarning: Update your `Conv2D` call to the Keras 2 API: `Conv2D(512, (3, 3), activation=\"relu\")`\n",
      "C:\\Users\\colly\\Anaconda3\\lib\\site-packages\\ipykernel_launcher.py:45: UserWarning: Update your `Conv2D` call to the Keras 2 API: `Conv2D(512, (3, 3), activation=\"relu\")`\n",
      "C:\\Users\\colly\\Anaconda3\\lib\\site-packages\\ipykernel_launcher.py:47: UserWarning: Update your `Conv2D` call to the Keras 2 API: `Conv2D(512, (3, 3), activation=\"relu\")`\n",
      "C:\\Users\\colly\\Anaconda3\\lib\\site-packages\\ipykernel_launcher.py:51: UserWarning: Update your `Conv2D` call to the Keras 2 API: `Conv2D(512, (3, 3), activation=\"relu\")`\n",
      "C:\\Users\\colly\\Anaconda3\\lib\\site-packages\\ipykernel_launcher.py:53: UserWarning: Update your `Conv2D` call to the Keras 2 API: `Conv2D(512, (3, 3), activation=\"relu\")`\n",
      "C:\\Users\\colly\\Anaconda3\\lib\\site-packages\\ipykernel_launcher.py:55: UserWarning: Update your `Conv2D` call to the Keras 2 API: `Conv2D(512, (3, 3), activation=\"relu\")`\n"
     ]
    },
    {
     "name": "stdout",
     "output_type": "stream",
     "text": [
      "Model: \"sequential_7\"\n",
      "_________________________________________________________________\n",
      "Layer (type)                 Output Shape              Param #   \n",
      "=================================================================\n",
      "zero_padding2d_1 (ZeroPaddin (None, 72, 72, 1)         0         \n",
      "_________________________________________________________________\n",
      "conv2d_11 (Conv2D)           (None, 70, 70, 64)        640       \n",
      "_________________________________________________________________\n",
      "zero_padding2d_2 (ZeroPaddin (None, 72, 72, 64)        0         \n",
      "_________________________________________________________________\n",
      "conv2d_12 (Conv2D)           (None, 70, 70, 64)        36928     \n",
      "_________________________________________________________________\n",
      "max_pooling2d_6 (MaxPooling2 (None, 35, 35, 64)        0         \n",
      "_________________________________________________________________\n",
      "zero_padding2d_3 (ZeroPaddin (None, 37, 37, 64)        0         \n",
      "_________________________________________________________________\n",
      "conv2d_13 (Conv2D)           (None, 35, 35, 128)       73856     \n",
      "_________________________________________________________________\n",
      "zero_padding2d_4 (ZeroPaddin (None, 37, 37, 128)       0         \n",
      "_________________________________________________________________\n",
      "conv2d_14 (Conv2D)           (None, 35, 35, 128)       147584    \n",
      "_________________________________________________________________\n",
      "max_pooling2d_7 (MaxPooling2 (None, 17, 17, 128)       0         \n",
      "_________________________________________________________________\n",
      "zero_padding2d_5 (ZeroPaddin (None, 19, 19, 128)       0         \n",
      "_________________________________________________________________\n",
      "conv2d_15 (Conv2D)           (None, 17, 17, 256)       295168    \n",
      "_________________________________________________________________\n",
      "zero_padding2d_6 (ZeroPaddin (None, 19, 19, 256)       0         \n",
      "_________________________________________________________________\n",
      "conv2d_16 (Conv2D)           (None, 17, 17, 256)       590080    \n",
      "_________________________________________________________________\n",
      "zero_padding2d_7 (ZeroPaddin (None, 19, 19, 256)       0         \n",
      "_________________________________________________________________\n",
      "conv2d_17 (Conv2D)           (None, 17, 17, 256)       590080    \n",
      "_________________________________________________________________\n",
      "max_pooling2d_8 (MaxPooling2 (None, 8, 8, 256)         0         \n",
      "_________________________________________________________________\n",
      "zero_padding2d_8 (ZeroPaddin (None, 10, 10, 256)       0         \n",
      "_________________________________________________________________\n",
      "conv2d_18 (Conv2D)           (None, 8, 8, 512)         1180160   \n",
      "_________________________________________________________________\n",
      "zero_padding2d_9 (ZeroPaddin (None, 10, 10, 512)       0         \n",
      "_________________________________________________________________\n",
      "conv2d_19 (Conv2D)           (None, 8, 8, 512)         2359808   \n",
      "_________________________________________________________________\n",
      "zero_padding2d_10 (ZeroPaddi (None, 10, 10, 512)       0         \n",
      "_________________________________________________________________\n",
      "conv2d_20 (Conv2D)           (None, 8, 8, 512)         2359808   \n",
      "_________________________________________________________________\n",
      "max_pooling2d_9 (MaxPooling2 (None, 4, 4, 512)         0         \n",
      "_________________________________________________________________\n",
      "zero_padding2d_11 (ZeroPaddi (None, 6, 6, 512)         0         \n",
      "_________________________________________________________________\n",
      "conv2d_21 (Conv2D)           (None, 4, 4, 512)         2359808   \n",
      "_________________________________________________________________\n",
      "zero_padding2d_12 (ZeroPaddi (None, 6, 6, 512)         0         \n",
      "_________________________________________________________________\n",
      "conv2d_22 (Conv2D)           (None, 4, 4, 512)         2359808   \n",
      "_________________________________________________________________\n",
      "zero_padding2d_13 (ZeroPaddi (None, 6, 6, 512)         0         \n",
      "_________________________________________________________________\n",
      "conv2d_23 (Conv2D)           (None, 4, 4, 512)         2359808   \n",
      "_________________________________________________________________\n",
      "max_pooling2d_10 (MaxPooling (None, 2, 2, 512)         0         \n",
      "_________________________________________________________________\n",
      "flatten_6 (Flatten)          (None, 2048)              0         \n",
      "_________________________________________________________________\n",
      "dense_11 (Dense)             (None, 4096)              8392704   \n",
      "_________________________________________________________________\n",
      "dropout_11 (Dropout)         (None, 4096)              0         \n",
      "_________________________________________________________________\n",
      "dense_12 (Dense)             (None, 4096)              16781312  \n",
      "_________________________________________________________________\n",
      "dropout_12 (Dropout)         (None, 4096)              0         \n",
      "_________________________________________________________________\n",
      "dense_13 (Dense)             (None, 1)                 4097      \n",
      "=================================================================\n",
      "Total params: 39,891,649\n",
      "Trainable params: 39,891,649\n",
      "Non-trainable params: 0\n",
      "_________________________________________________________________\n"
     ]
    }
   ],
   "source": [
    "from keras.models import Sequential\n",
    "from keras.layers.core import Flatten, Dense, Dropout\n",
    "from keras.layers.convolutional import Convolution2D, MaxPooling2D, ZeroPadding2D\n",
    "from keras.optimizers import SGD\n",
    "\n",
    "print(\"yes\")\n",
    "print('x_train shape:', x_train.shape)\n",
    "x_train = x_train.reshape(x_train.shape[0], img_rows, img_cols, 1)\n",
    "x_test = x_test.reshape(x_test.shape[0], img_rows, img_cols, 1)\n",
    "input_shape = (img_rows, img_cols, 1)\n",
    "\n",
    "#print(x_train[3])\n",
    "x_train = x_train.astype('float32')\n",
    "x_test = x_test.astype('float32')\n",
    "x_train /= 255\n",
    "x_test /= 255\n",
    "print('x_train shape:', x_train.shape)\n",
    "print(x_train.shape[0], 'train samples')\n",
    "print(x_test.shape[0], 'test samples')\n",
    "\n",
    "model = Sequential()\n",
    "model.add(ZeroPadding2D((1,1),input_shape=(70,70,1)))\n",
    "model.add(Convolution2D(64, 3, 3, activation='relu'))\n",
    "model.add(ZeroPadding2D((1,1)))\n",
    "model.add(Convolution2D(64, 3, 3, activation='relu'))\n",
    "model.add(MaxPooling2D((2,2), strides=(2,2)))\n",
    "\n",
    "model.add(ZeroPadding2D((1,1)))\n",
    "model.add(Convolution2D(128, 3, 3, activation='relu'))\n",
    "model.add(ZeroPadding2D((1,1)))\n",
    "model.add(Convolution2D(128, 3, 3, activation='relu'))\n",
    "model.add(MaxPooling2D((2,2), strides=(2,2)))\n",
    "\n",
    "model.add(ZeroPadding2D((1,1)))\n",
    "model.add(Convolution2D(256, 3, 3, activation='relu'))\n",
    "model.add(ZeroPadding2D((1,1)))\n",
    "model.add(Convolution2D(256, 3, 3, activation='relu'))\n",
    "model.add(ZeroPadding2D((1,1)))\n",
    "model.add(Convolution2D(256, 3, 3, activation='relu'))\n",
    "model.add(MaxPooling2D((2,2), strides=(2,2)))\n",
    "\n",
    "model.add(ZeroPadding2D((1,1)))\n",
    "model.add(Convolution2D(512, 3, 3, activation='relu'))\n",
    "model.add(ZeroPadding2D((1,1)))\n",
    "model.add(Convolution2D(512, 3, 3, activation='relu'))\n",
    "model.add(ZeroPadding2D((1,1)))\n",
    "model.add(Convolution2D(512, 3, 3, activation='relu'))\n",
    "model.add(MaxPooling2D((2,2), strides=(2,2)))\n",
    "\n",
    "model.add(ZeroPadding2D((1,1)))\n",
    "model.add(Convolution2D(512, 3, 3, activation='relu'))\n",
    "model.add(ZeroPadding2D((1,1)))\n",
    "model.add(Convolution2D(512, 3, 3, activation='relu'))\n",
    "model.add(ZeroPadding2D((1,1)))\n",
    "model.add(Convolution2D(512, 3, 3, activation='relu'))\n",
    "model.add(MaxPooling2D((2,2), strides=(2,2)))\n",
    "\n",
    "model.add(Flatten())\n",
    "model.add(Dense(4096, activation='relu'))\n",
    "model.add(Dropout(0.5))\n",
    "model.add(Dense(4096, activation='relu'))\n",
    "model.add(Dropout(0.5))\n",
    "model.add(Dense(1, activation='sigmoid'))\n",
    "    \n",
    "model.compile(loss=keras.losses.binary_crossentropy,\n",
    "              optimizer=keras.optimizers.Adadelta(),\n",
    "              metrics=['accuracy'])\n",
    "model.summary()"
   ]
  }
 ],
 "metadata": {
  "kernelspec": {
   "display_name": "Python 3",
   "language": "python",
   "name": "python3"
  },
  "language_info": {
   "codemirror_mode": {
    "name": "ipython",
    "version": 3
   },
   "file_extension": ".py",
   "mimetype": "text/x-python",
   "name": "python",
   "nbconvert_exporter": "python",
   "pygments_lexer": "ipython3",
   "version": "3.7.4"
  }
 },
 "nbformat": 4,
 "nbformat_minor": 2
}
