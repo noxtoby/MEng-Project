{
 "cells": [
  {
   "cell_type": "code",
   "execution_count": 295,
   "metadata": {},
   "outputs": [
    {
     "name": "stderr",
     "output_type": "stream",
     "text": [
      "100%|██████████| 150/150 [00:00<00:00, 9527.02it/s]\n",
      "100%|██████████| 150/150 [00:00<00:00, 8548.64it/s]\n",
      "100%|██████████| 144/144 [00:00<00:00, 8784.27it/s]\n",
      "100%|██████████| 150/150 [00:00<00:00, 8559.45it/s]\n",
      "100%|██████████| 150/150 [00:00<00:00, 8519.01it/s]\n",
      "100%|██████████| 150/150 [00:00<00:00, 8758.57it/s]\n",
      "100%|██████████| 150/150 [00:00<00:00, 8601.35it/s]"
     ]
    },
    {
     "name": "stdout",
     "output_type": "stream",
     "text": [
      "0\n",
      "1\n",
      "2\n",
      "3\n",
      "4\n",
      "5\n",
      "6\n"
     ]
    },
    {
     "name": "stderr",
     "output_type": "stream",
     "text": [
      "\n"
     ]
    },
    {
     "data": {
      "image/png": "[encoded data removed]",
      "text/plain": [
       "<Figure size 700x500 with 1 Axes>"
      ]
     },
     "metadata": {
      "needs_background": "light"
     },
     "output_type": "display_data"
    }
   ],
   "source": [
    "from __future__ import print_function\n",
    "import keras\n",
    "from keras.models import Sequential\n",
    "from keras.layers import Dense, Dropout, Flatten\n",
    "from keras.layers import Conv2D, MaxPooling2D, AveragePooling2D\n",
    "from keras import backend as K\n",
    "import numpy as np\n",
    "import matplotlib.pyplot as plt\n",
    "import os\n",
    "import cv2\n",
    "from tqdm import tqdm\n",
    "import csv\n",
    "from sklearn.utils import shuffle\n",
    "from sklearn.model_selection import train_test_split\n",
    "from skimage.transform import rotate\n",
    "from keras.models import Sequential\n",
    "from keras.layers import Dense\n",
    "from sklearn import preprocessing\n",
    "import pandas as pd\n",
    "import imageio\n",
    "import imgaug as ia\n",
    "import imgaug.augmenters as iaa\n",
    "import matplotlib.patches as patches\n",
    "import random\n",
    "\n",
    "\n",
    "\n",
    "batch_size = 32\n",
    "epochs = 25\n",
    "\n",
    "# input image dimensions\n",
    "img_rows, img_cols = 50, 50\n",
    "\n",
    "\n",
    "def rotation(img, n):\n",
    "    rotate=iaa.Affine(rotate=(-n, n))\n",
    "    rotated_image=rotate.augment_image(img)\n",
    "    return rotated_image\n",
    "\n",
    "def crop(img, n):\n",
    "    crop = iaa.Crop(percent=(n, n)) # crop image\n",
    "    crop_image=crop.augment_image(img)\n",
    "    return crop_image\n",
    "\n",
    "def sheer(img, n):\n",
    "    shear = iaa.Affine(shear=(-n,n))\n",
    "    shear_image=shear.augment_image(img)\n",
    "    return shear_image\n",
    "\n",
    "def hor_flip(img):\n",
    "    flip_hr=iaa.Fliplr(p=1.0)\n",
    "    flip_hr_image= flip_hr.augment_image(img)\n",
    "    return flip_hr_image\n",
    "\n",
    "def dilate(img, n):\n",
    "    kernel = np.ones((n,n),np.uint8)\n",
    "    dilated_image = cv2.dilate(trainxs[800],kernel,iterations = 1)\n",
    "    return dilate_image\n",
    "\n",
    "def trans(img, n):\n",
    "    num = random.randrange(int(n*-1),int(n))\n",
    "    move=iaa.Affine(translate_percent={\"x\": num/100}, scale=1)\n",
    "    trans_image = move.augment_image(img)\n",
    "    return trans_image\n",
    "\n",
    "trainxs = []\n",
    "trainximgs = []\n",
    "trainys = []\n",
    "\n",
    "DATADIR = \"/home/jupyter/MEng-Project/All Experiment Images/Toy 7 Point 1000\"\n",
    "\n",
    "CATEGORIES = [\"1_o\", \"2_o\", \"3_o\", \"4_o\",\"5_o\",\"6_o\", \"7_o\"]\n",
    "\n",
    "for x,category in enumerate(CATEGORIES):  \n",
    "    path = os.path.join(DATADIR,category)  \n",
    "    class_num = CATEGORIES.index(category)\n",
    "    #class_num = i[x]\n",
    "    print(class_num)\n",
    "    \n",
    "\n",
    "    for img in tqdm(os.listdir(path)):  # iterate over each image per point value\n",
    "        img_array = cv2.imread(os.path.join(path,img) ,cv2.IMREAD_GRAYSCALE)  # convert to array \n",
    "        img_array = cv2.bitwise_not(img_array)\n",
    "        img_array = cv2.resize(img_array, (50,50))\n",
    "        #new_img_array = trans(img_array, 10)\n",
    "        #new_img_array1 = shear(img_array, 10)\n",
    "        #new_img_array2 = shear(img_array, 10)\n",
    "        #new_img_array3 = shear(img_array, 10)\n",
    "\n",
    "        \n",
    "        #trainys.append(class_num)\n",
    "        #trainys.append(class_num)\n",
    "        #trainys.append(class_num)\n",
    "       # trainys.append(class_num)\n",
    "        trainys.append(class_num)\n",
    "        #trainxs.append(new_img_array)\n",
    "        #trainxs.append(new_img_array1)\n",
    "        #trainxs.append(new_img_array2)\n",
    "        #trainxs.append(new_img_array3)\n",
    " \n",
    "        trainxs.append(img_array)\n",
    "    plt.imshow(img_array, cmap='gray')\n",
    "\n",
    "\n",
    "            "
   ]
  },
  {
   "cell_type": "code",
   "execution_count": 296,
   "metadata": {},
   "outputs": [],
   "source": [
    "from sklearn.model_selection import train_test_split\n",
    "from keras.utils.np_utils import to_categorical\n",
    "from sklearn.model_selection import train_test_split\n",
    "np.set_printoptions(threshold=np.inf)\n",
    "\n",
    "\n",
    "trainxs1 = np.asarray(trainxs, dtype=np.float32)\n",
    "trainys1 = np.asarray(trainys, dtype=np.int)\n",
    "x_train1, x_test1, y_train_old1, y_test_old1 = train_test_split(trainxs1, trainys1, test_size=0.2, random_state=40)\n",
    "\n"
   ]
  },
  {
   "cell_type": "code",
   "execution_count": 297,
   "metadata": {},
   "outputs": [
    {
     "data": {
      "text/plain": [
       "(835, 50, 50)"
      ]
     },
     "execution_count": 297,
     "metadata": {},
     "output_type": "execute_result"
    }
   ],
   "source": [
    "x_train1.shape"
   ]
  },
  {
   "cell_type": "code",
   "execution_count": 298,
   "metadata": {},
   "outputs": [],
   "source": [
    "for i,y in enumerate(x_train1):\n",
    "    \n",
    "    new_img_array1 = crop(x_train1[i], 0.1)\n",
    "    new_img_array1 = np.asarray(new_img_array1, dtype=np.float32)\n",
    "    x_train1 = np.vstack((x_train1,new_img_array1[None]))\n",
    "    y_train_old1 = np.append(y_train_old1, y_train_old1[i])\n",
    "    new_img_array2 = sheer(x_train1[i], 10)\n",
    "    new_img_array2 = np.asarray(new_img_array2, dtype=np.float32)\n",
    "    x_train1 = np.vstack((x_train1,new_img_array2[None]))\n",
    "    y_train_old1 = np.append(y_train_old1, y_train_old1[i])\n",
    "    new_img_array3 = trans(x_train1[i], 10)\n",
    "    new_img_array3 = np.asarray(new_img_array3, dtype=np.float32)\n",
    "    x_train1 = np.vstack((x_train1,new_img_array3[None]))\n",
    "    y_train_old1 = np.append(y_train_old1, y_train_old1[i])\n",
    "    new_img_array4 = rotation(x_train1[i], 10)\n",
    "    new_img_array4 = np.asarray(new_img_array4, dtype=np.float32)\n",
    "    x_train1 = np.vstack((x_train1,new_img_array4[None]))\n",
    "    y_train_old1 = np.append(y_train_old1, y_train_old1[i])\n",
    "    \n"
   ]
  },
  {
   "cell_type": "code",
   "execution_count": 300,
   "metadata": {},
   "outputs": [
    {
     "name": "stdout",
     "output_type": "stream",
     "text": [
      "x_train shape: (4175, 50, 50, 1)\n",
      "y_train shape: (4175, 7)\n",
      "4175 train samples\n",
      "209 test samples\n",
      "Model: \"sequential_31\"\n",
      "_________________________________________________________________\n",
      "Layer (type)                 Output Shape              Param #   \n",
      "=================================================================\n",
      "conv2d_57 (Conv2D)           (None, 48, 48, 32)        320       \n",
      "_________________________________________________________________\n",
      "max_pooling2d_57 (MaxPooling (None, 24, 24, 32)        0         \n",
      "_________________________________________________________________\n",
      "conv2d_58 (Conv2D)           (None, 22, 22, 64)        18496     \n",
      "_________________________________________________________________\n",
      "max_pooling2d_58 (MaxPooling (None, 11, 11, 64)        0         \n",
      "_________________________________________________________________\n",
      "flatten_29 (Flatten)         (None, 7744)              0         \n",
      "_________________________________________________________________\n",
      "dense_91 (Dense)             (None, 256)               1982720   \n",
      "_________________________________________________________________\n",
      "dense_92 (Dense)             (None, 84)                21588     \n",
      "_________________________________________________________________\n",
      "dense_93 (Dense)             (None, 7)                 595       \n",
      "=================================================================\n",
      "Total params: 2,023,719\n",
      "Trainable params: 2,023,719\n",
      "Non-trainable params: 0\n",
      "_________________________________________________________________\n",
      "Train on 4175 samples, validate on 209 samples\n",
      "Epoch 1/25\n",
      "4175/4175 [==============================] - 2s 429us/step - loss: 1.5788 - accuracy: 0.3607 - val_loss: 1.1801 - val_accuracy: 0.5120\n",
      "Epoch 2/25\n",
      "4175/4175 [==============================] - 1s 344us/step - loss: 1.0935 - accuracy: 0.5559 - val_loss: 1.2400 - val_accuracy: 0.5072\n",
      "Epoch 3/25\n",
      "4175/4175 [==============================] - 1s 349us/step - loss: 0.7500 - accuracy: 0.7095 - val_loss: 0.8846 - val_accuracy: 0.6364\n",
      "Epoch 4/25\n",
      "4175/4175 [==============================] - 1s 345us/step - loss: 0.5029 - accuracy: 0.7998 - val_loss: 0.9581 - val_accuracy: 0.6411\n",
      "Epoch 5/25\n",
      "4175/4175 [==============================] - 1s 346us/step - loss: 0.3575 - accuracy: 0.8606 - val_loss: 0.8678 - val_accuracy: 0.6651\n",
      "Epoch 6/25\n",
      "4175/4175 [==============================] - 1s 350us/step - loss: 0.2445 - accuracy: 0.9083 - val_loss: 0.7504 - val_accuracy: 0.7703\n",
      "Epoch 7/25\n",
      "4175/4175 [==============================] - 1s 346us/step - loss: 0.1514 - accuracy: 0.9471 - val_loss: 0.9595 - val_accuracy: 0.6938\n",
      "Epoch 8/25\n",
      "4175/4175 [==============================] - 1s 347us/step - loss: 0.1061 - accuracy: 0.9624 - val_loss: 0.8855 - val_accuracy: 0.7847\n",
      "Epoch 9/25\n",
      "4175/4175 [==============================] - 1s 347us/step - loss: 0.0575 - accuracy: 0.9818 - val_loss: 0.9083 - val_accuracy: 0.7560\n",
      "Epoch 10/25\n",
      "4175/4175 [==============================] - 1s 345us/step - loss: 0.0530 - accuracy: 0.9830 - val_loss: 0.9282 - val_accuracy: 0.7895\n",
      "Epoch 11/25\n",
      "4175/4175 [==============================] - 1s 348us/step - loss: 0.0332 - accuracy: 0.9883 - val_loss: 0.9848 - val_accuracy: 0.8038\n",
      "Epoch 12/25\n",
      "4175/4175 [==============================] - 1s 347us/step - loss: 0.0190 - accuracy: 0.9957 - val_loss: 0.8874 - val_accuracy: 0.8086\n",
      "Epoch 13/25\n",
      "4175/4175 [==============================] - 1s 348us/step - loss: 0.0111 - accuracy: 0.9969 - val_loss: 0.9849 - val_accuracy: 0.7847\n",
      "Epoch 14/25\n",
      "4175/4175 [==============================] - 1s 347us/step - loss: 0.0178 - accuracy: 0.9966 - val_loss: 1.0717 - val_accuracy: 0.8134\n",
      "Epoch 15/25\n",
      "4175/4175 [==============================] - 1s 351us/step - loss: 0.0044 - accuracy: 0.9990 - val_loss: 1.2579 - val_accuracy: 0.7464\n",
      "Epoch 16/25\n",
      "4175/4175 [==============================] - 1s 345us/step - loss: 0.0021 - accuracy: 1.0000 - val_loss: 1.2525 - val_accuracy: 0.7847\n",
      "Epoch 17/25\n",
      "4175/4175 [==============================] - 1s 345us/step - loss: 0.0104 - accuracy: 0.9981 - val_loss: 1.1782 - val_accuracy: 0.8134\n",
      "Epoch 18/25\n",
      "4175/4175 [==============================] - 1s 353us/step - loss: 6.3182e-04 - accuracy: 1.0000 - val_loss: 1.2988 - val_accuracy: 0.8038\n",
      "Epoch 19/25\n",
      "4175/4175 [==============================] - 1s 345us/step - loss: 2.6178e-04 - accuracy: 1.0000 - val_loss: 1.2187 - val_accuracy: 0.8086\n",
      "Epoch 20/25\n",
      "4175/4175 [==============================] - 1s 350us/step - loss: 1.2007e-04 - accuracy: 1.0000 - val_loss: 1.3188 - val_accuracy: 0.8086\n",
      "Epoch 21/25\n",
      "4175/4175 [==============================] - 1s 347us/step - loss: 7.8008e-05 - accuracy: 1.0000 - val_loss: 1.3443 - val_accuracy: 0.8038\n",
      "Epoch 22/25\n",
      "4175/4175 [==============================] - 1s 348us/step - loss: 5.8717e-05 - accuracy: 1.0000 - val_loss: 1.3934 - val_accuracy: 0.8086\n",
      "Epoch 23/25\n",
      "4175/4175 [==============================] - 1s 345us/step - loss: 4.7628e-05 - accuracy: 1.0000 - val_loss: 1.4299 - val_accuracy: 0.8086\n",
      "Epoch 24/25\n",
      "4175/4175 [==============================] - 1s 347us/step - loss: 3.8333e-05 - accuracy: 1.0000 - val_loss: 1.4495 - val_accuracy: 0.8086\n",
      "Epoch 25/25\n",
      "4175/4175 [==============================] - 1s 348us/step - loss: 3.3717e-05 - accuracy: 1.0000 - val_loss: 1.4578 - val_accuracy: 0.8086\n",
      "Test loss: 1.4578207560133136\n",
      "Test accuracy: 0.8086124658584595\n"
     ]
    },
    {
     "data": {
      "image/png": "[encoded data removed]",
      "text/plain": [
       "<Figure size 700x500 with 1 Axes>"
      ]
     },
     "metadata": {
      "needs_background": "light"
     },
     "output_type": "display_data"
    }
   ],
   "source": [
    "y_train1 = to_categorical(y_train_old1)\n",
    "y_test1 = to_categorical(y_test_old1)\n",
    "\n",
    "val = 0\n",
    "\n",
    "x_train = x_train1[:len(x_train1) - int(val*len(x_train1))]\n",
    "x_test = x_test1[:len(x_test1) - int(val*len(x_test1))]\n",
    "y_train = y_train1[:len(y_train1) - int(val*len(y_train1))]\n",
    "y_test = y_test1[:len(y_test1) - int(val*len(y_test1))]\n",
    "y_train_old = y_train_old1[:len(y_train_old1) - int(val*len(y_train_old1))]\n",
    "\n",
    "import matplotlib.pyplot as plt\n",
    "%matplotlib inline\n",
    "#print(y_train_old)\n",
    "plt.rcParams.update({'figure.figsize':(7,5), 'figure.dpi':100})\n",
    "\n",
    "# Plot Histogram on x\n",
    "plt.hist(y_train_old, bins=20)\n",
    "plt.gca().set(title='Frequency Histogram', ylabel='Frequency');\n",
    "\n",
    "x_train.shape\n",
    "\n",
    "x_train = x_train.reshape(x_train.shape[0], img_rows, img_cols, 1)\n",
    "x_test = x_test.reshape(x_test.shape[0], img_rows, img_cols, 1)\n",
    "#x_test = x_test.reshape(x_test.shape[0], img_rows, img_cols, 1)\n",
    "input_shape = (img_rows, img_cols, 1)\n",
    "\n",
    "\n",
    "print('x_train shape:', x_train.shape)\n",
    "x_train = np.array(x_train)\n",
    "x_test = np.array(x_test)\n",
    "\n",
    "#print(x_train[3])\n",
    "x_train = x_train.astype('float32')\n",
    "x_test = x_test.astype('float32')\n",
    "x_train /= 255\n",
    "x_test /= 255\n",
    "print('y_train shape:', y_train.shape)\n",
    "print(x_train.shape[0], 'train samples')\n",
    "print(x_test.shape[0], 'test samples')\n",
    "\n",
    "model = Sequential()\n",
    "model.add(Conv2D(32, kernel_size=(3, 3),\n",
    "                 activation='relu',\n",
    "                 input_shape=input_shape))\n",
    "model.add(MaxPooling2D(pool_size=(2, 2))) \n",
    "model.add(Conv2D(64, (3, 3), activation='relu'))\n",
    "model.add(MaxPooling2D(pool_size=(2, 2)))\n",
    "#model.add(Conv2D(128, (3, 3), activation='relu'))\n",
    "#model.add(MaxPooling2D(pool_size=(2, 2)))\n",
    "#model.add(Conv2D(356, (3, 3), activation='relu'))\n",
    "#model.add(MaxPooling2D(pool_size=(2, 2)))\n",
    "model.add(Flatten())\n",
    "model.add(Dense(256, activation='relu'))\n",
    "#model.add(Dropout(0.5))\n",
    "model.add(Dense(84, activation='relu'))\n",
    "#model.add(Dropout(0.5))\n",
    "model.add(Dense(7, activation='softmax'))\n",
    "\n",
    "model.compile(loss=keras.losses.categorical_crossentropy,\n",
    "              optimizer=keras.optimizers.Adadelta(),\n",
    "              metrics=['accuracy'])\n",
    "model.summary()\n",
    "\n",
    "history = model.fit(x_train, y_train,\n",
    "          batch_size=batch_size,\n",
    "          epochs=epochs,\n",
    "          verbose=1,\n",
    "          validation_data=(x_test, y_test))\n",
    "score = model.evaluate(x_test, y_test, verbose=0)\n",
    "print('Test loss:', score[0])\n",
    "print('Test accuracy:', score[1])"
   ]
  },
  {
   "cell_type": "code",
   "execution_count": 301,
   "metadata": {},
   "outputs": [
    {
     "data": {
      "image/png": "[encoded data removed]",
      "text/plain": [
       "<Figure size 700x500 with 1 Axes>"
      ]
     },
     "metadata": {
      "needs_background": "light"
     },
     "output_type": "display_data"
    },
    {
     "data": {
      "image/png": "[encoded data removed]",
      "text/plain": [
       "<Figure size 700x500 with 1 Axes>"
      ]
     },
     "metadata": {
      "needs_background": "light"
     },
     "output_type": "display_data"
    }
   ],
   "source": [
    "# Plot training & validation accuracy values\n",
    "plt.plot(history.history['accuracy'])\n",
    "plt.plot(history.history['val_accuracy'])\n",
    "plt.title('Model accuracy')\n",
    "plt.ylabel('Accuracy')\n",
    "plt.xlabel('Epoch')\n",
    "plt.legend(['Train', 'Test'], loc='upper left')\n",
    "plt.show()\n",
    "\n",
    "# Plot training & validation loss values\n",
    "plt.plot(history.history['loss'])\n",
    "plt.plot(history.history['val_loss'])\n",
    "plt.title('Model loss')\n",
    "plt.ylabel('Loss')\n",
    "plt.xlabel('Epoch')\n",
    "plt.legend(['Train', 'Test'], loc='upper left')\n",
    "plt.show()"
   ]
  },
  {
   "cell_type": "code",
   "execution_count": 183,
   "metadata": {},
   "outputs": [
    {
     "name": "stdout",
     "output_type": "stream",
     "text": [
      "Train on 4175 samples, validate on 209 samples\n",
      "Epoch 1/25\n",
      "4175/4175 [==============================] - 0s 72us/step - loss: 1.7834 - accuracy: 0.2604 - val_loss: 1.5702 - val_accuracy: 0.4306\n",
      "Epoch 2/25\n",
      "4175/4175 [==============================] - 0s 40us/step - loss: 1.1447 - accuracy: 0.5657 - val_loss: 1.1546 - val_accuracy: 0.5072\n",
      "Epoch 3/25\n",
      "4175/4175 [==============================] - 0s 41us/step - loss: 0.7305 - accuracy: 0.7193 - val_loss: 1.0195 - val_accuracy: 0.5742\n",
      "Epoch 4/25\n",
      "4175/4175 [==============================] - 0s 42us/step - loss: 0.5058 - accuracy: 0.8117 - val_loss: 1.1271 - val_accuracy: 0.5598\n",
      "Epoch 5/25\n",
      "4175/4175 [==============================] - 0s 41us/step - loss: 0.4046 - accuracy: 0.8443 - val_loss: 1.0440 - val_accuracy: 0.6172\n",
      "Epoch 6/25\n",
      "4175/4175 [==============================] - 0s 40us/step - loss: 0.3082 - accuracy: 0.8846 - val_loss: 1.0898 - val_accuracy: 0.6077\n",
      "Epoch 7/25\n",
      "4175/4175 [==============================] - 0s 40us/step - loss: 0.2756 - accuracy: 0.8944 - val_loss: 0.9876 - val_accuracy: 0.5981\n",
      "Epoch 8/25\n",
      "4175/4175 [==============================] - 0s 42us/step - loss: 0.2164 - accuracy: 0.9219 - val_loss: 1.1701 - val_accuracy: 0.5933\n",
      "Epoch 9/25\n",
      "4175/4175 [==============================] - 0s 44us/step - loss: 0.1790 - accuracy: 0.9337 - val_loss: 1.1572 - val_accuracy: 0.6220\n",
      "Epoch 10/25\n",
      "4175/4175 [==============================] - 0s 44us/step - loss: 0.1643 - accuracy: 0.9389 - val_loss: 1.1516 - val_accuracy: 0.6316\n",
      "Epoch 11/25\n",
      "4175/4175 [==============================] - 0s 44us/step - loss: 0.1424 - accuracy: 0.9502 - val_loss: 1.3258 - val_accuracy: 0.6172\n",
      "Epoch 12/25\n",
      "4175/4175 [==============================] - 0s 43us/step - loss: 0.1254 - accuracy: 0.9554 - val_loss: 1.5193 - val_accuracy: 0.6124\n",
      "Epoch 13/25\n",
      "4175/4175 [==============================] - 0s 44us/step - loss: 0.1138 - accuracy: 0.9571 - val_loss: 1.4571 - val_accuracy: 0.6172\n",
      "Epoch 14/25\n",
      "4175/4175 [==============================] - 0s 44us/step - loss: 0.1129 - accuracy: 0.9593 - val_loss: 1.3966 - val_accuracy: 0.6220\n",
      "Epoch 15/25\n",
      "4175/4175 [==============================] - 0s 44us/step - loss: 0.1137 - accuracy: 0.9543 - val_loss: 1.4689 - val_accuracy: 0.6124\n",
      "Epoch 16/25\n",
      "4175/4175 [==============================] - 0s 45us/step - loss: 0.0996 - accuracy: 0.9624 - val_loss: 1.3385 - val_accuracy: 0.6890\n",
      "Epoch 17/25\n",
      "4175/4175 [==============================] - 0s 45us/step - loss: 0.0936 - accuracy: 0.9689 - val_loss: 1.3098 - val_accuracy: 0.6746\n",
      "Epoch 18/25\n",
      "4175/4175 [==============================] - 0s 44us/step - loss: 0.0965 - accuracy: 0.9653 - val_loss: 1.4396 - val_accuracy: 0.6459\n",
      "Epoch 19/25\n",
      "4175/4175 [==============================] - 0s 45us/step - loss: 0.0994 - accuracy: 0.9624 - val_loss: 1.5207 - val_accuracy: 0.6555\n",
      "Epoch 20/25\n",
      "4175/4175 [==============================] - 0s 44us/step - loss: 0.0778 - accuracy: 0.9770 - val_loss: 1.5742 - val_accuracy: 0.6459\n",
      "Epoch 21/25\n",
      "4175/4175 [==============================] - 0s 45us/step - loss: 0.0688 - accuracy: 0.9753 - val_loss: 1.7482 - val_accuracy: 0.6459\n",
      "Epoch 22/25\n",
      "4175/4175 [==============================] - 0s 46us/step - loss: 0.0629 - accuracy: 0.9768 - val_loss: 1.6993 - val_accuracy: 0.6364\n",
      "Epoch 23/25\n",
      "4175/4175 [==============================] - 0s 49us/step - loss: 0.0610 - accuracy: 0.9772 - val_loss: 1.7628 - val_accuracy: 0.6507\n",
      "Epoch 24/25\n",
      "4175/4175 [==============================] - 0s 48us/step - loss: 0.0586 - accuracy: 0.9792 - val_loss: 1.9984 - val_accuracy: 0.6268\n",
      "Epoch 25/25\n",
      "4175/4175 [==============================] - 0s 47us/step - loss: 0.0593 - accuracy: 0.9784 - val_loss: 1.8673 - val_accuracy: 0.6411\n",
      "Test loss: 1.8673146415555306\n",
      "Test accuracy: 0.6411483287811279\n"
     ]
    }
   ],
   "source": [
    "from keras import optimizers\n",
    "dim_img = img_rows * img_cols\n",
    "x_train = x_train.reshape(x_train.shape[0], dim_img)\n",
    "x_test = x_test.reshape(x_test.shape[0], dim_img)\n",
    "model = Sequential()\n",
    "model.add(Dense(512, activation='relu', input_shape=(dim_img,)))\n",
    "model.add(Dropout(0.5))\n",
    "model.add(Dense(512, activation='relu'))\n",
    "model.add(Dense(7, activation='softmax'))\n",
    "\n",
    "\n",
    "sgd = optimizers.SGD(lr=0.1, decay=1e-6, momentum=0.9, nesterov=True)\n",
    "model.compile(loss=keras.losses.categorical_crossentropy,\n",
    "              optimizer=sgd,\n",
    "              metrics=['accuracy'])\n",
    "#model.summary()\n",
    "\n",
    "history = model.fit(x_train, y_train,\n",
    "          batch_size=batch_size,\n",
    "          epochs=epochs,\n",
    "          verbose=1,\n",
    "          validation_data=(x_test, y_test))\n",
    "score = model.evaluate(x_test, y_test, verbose=0)\n",
    "print('Test loss:', score[0])\n",
    "print('Test accuracy:', score[1])"
   ]
  },
  {
   "cell_type": "code",
   "execution_count": 184,
   "metadata": {},
   "outputs": [
    {
     "ename": "FileNotFoundError",
     "evalue": "[Errno 2] No such file or directory: 'C:\\\\Users\\\\Tom\\\\Desktop\\\\All Experiment Images\\\\Toy 7 Point/1_o'",
     "output_type": "error",
     "traceback": [
      "\u001b[0;31m---------------------------------------------------------------------------\u001b[0m",
      "\u001b[0;31mFileNotFoundError\u001b[0m                         Traceback (most recent call last)",
      "\u001b[0;32m<ipython-input-184-cd31bc9b8d0c>\u001b[0m in \u001b[0;36m<module>\u001b[0;34m\u001b[0m\n\u001b[1;32m     12\u001b[0m     \u001b[0;31m#class_num = i[x]\u001b[0m\u001b[0;34m\u001b[0m\u001b[0;34m\u001b[0m\u001b[0m\n\u001b[1;32m     13\u001b[0m     \u001b[0;31m#print(class_num)\u001b[0m\u001b[0;34m\u001b[0m\u001b[0;34m\u001b[0m\u001b[0m\n\u001b[0;32m---> 14\u001b[0;31m     \u001b[0;32mfor\u001b[0m \u001b[0mimg\u001b[0m \u001b[0;32min\u001b[0m \u001b[0mos\u001b[0m\u001b[0;34m.\u001b[0m\u001b[0mlistdir\u001b[0m\u001b[0;34m(\u001b[0m\u001b[0mpath\u001b[0m\u001b[0;34m)\u001b[0m\u001b[0;34m:\u001b[0m\u001b[0;34m\u001b[0m\u001b[0m\n\u001b[0m\u001b[1;32m     15\u001b[0m         \u001b[0mimg_array\u001b[0m \u001b[0;34m=\u001b[0m \u001b[0mcv2\u001b[0m\u001b[0;34m.\u001b[0m\u001b[0mimread\u001b[0m\u001b[0;34m(\u001b[0m\u001b[0mos\u001b[0m\u001b[0;34m.\u001b[0m\u001b[0mpath\u001b[0m\u001b[0;34m.\u001b[0m\u001b[0mjoin\u001b[0m\u001b[0;34m(\u001b[0m\u001b[0mpath\u001b[0m\u001b[0;34m,\u001b[0m\u001b[0mimg\u001b[0m\u001b[0;34m)\u001b[0m \u001b[0;34m,\u001b[0m\u001b[0mcv2\u001b[0m\u001b[0;34m.\u001b[0m\u001b[0mIMREAD_GRAYSCALE\u001b[0m\u001b[0;34m)\u001b[0m  \u001b[0;31m# convert to array\u001b[0m\u001b[0;34m\u001b[0m\u001b[0m\n\u001b[1;32m     16\u001b[0m         \u001b[0mimg_array\u001b[0m \u001b[0;34m=\u001b[0m \u001b[0mcv2\u001b[0m\u001b[0;34m.\u001b[0m\u001b[0mbitwise_not\u001b[0m\u001b[0;34m(\u001b[0m\u001b[0mimg_array\u001b[0m\u001b[0;34m)\u001b[0m\u001b[0;34m\u001b[0m\u001b[0m\n",
      "\u001b[0;31mFileNotFoundError\u001b[0m: [Errno 2] No such file or directory: 'C:\\\\Users\\\\Tom\\\\Desktop\\\\All Experiment Images\\\\Toy 7 Point/1_o'"
     ]
    }
   ],
   "source": [
    "trainxs = []\n",
    "trainys = []\n",
    "\n",
    "DATADIR = r\"C:\\Users\\Tom\\Desktop\\All Experiment Images\\Toy 7 Point\"\n",
    "\n",
    "CATEGORIES = [\"1_o\", \"2_o\", \"3_o\", \"4_o\",\"5_o\",\"6_o\", \"7_o\"]\n",
    "\n",
    "\n",
    "for x,category in enumerate(CATEGORIES):  \n",
    "    path = os.path.join(DATADIR,category)  \n",
    "    class_num = CATEGORIES.index(category)\n",
    "    #class_num = i[x]\n",
    "    #print(class_num)\n",
    "    for img in os.listdir(path):  \n",
    "        img_array = cv2.imread(os.path.join(path,img) ,cv2.IMREAD_GRAYSCALE)  # convert to array\n",
    "        img_array = cv2.bitwise_not(img_array)\n",
    "        img_array = cv2.resize(img_array, (100,100)).flatten()\n",
    "        trainys.append(class_num)\n",
    "        trainxs.append(img_array)\n",
    "        \n",
    "x_train, x_test, y_train_old, y_test_old = train_test_split(trainxs, trainys, test_size=0.2, random_state=42)\n",
    "\n",
    "x_train = np.array(x_train)\n",
    "x_test = np.array(x_test)\n",
    "\n",
    "#print(x_train[3])\n",
    "x_train = x_train.astype('float32')\n",
    "x_test = x_test.astype('float32')\n",
    "x_train /= 255\n",
    "x_test /= 255\n",
    "\n",
    "#import necessary modules\n",
    "from sklearn.neighbors import KNeighborsClassifier\n",
    "from sklearn.metrics import accuracy_score\n",
    "#print(x_train)\n",
    "#create object of the lassifier\n",
    "neigh = KNeighborsClassifier(n_neighbors=8)\n",
    "#Train the algorithm\n",
    "neigh.fit(x_train, y_train_old)\n",
    "# predict the response\n",
    "pred = neigh.predict(x_test)\n",
    "# evaluate accuracy\n",
    "print (\"KNeighbors accuracy score : \",accuracy_score(y_test_old, pred))\n",
    "\n",
    "# import the necessary packages"
   ]
  },
  {
   "cell_type": "code",
   "execution_count": null,
   "metadata": {},
   "outputs": [],
   "source": [
    "from sklearn.svm import SVC\n",
    "\n",
    "\n",
    "svm_model_linear = SVC(kernel = 'linear', C = 1).fit(x_train, y_train_old) \n",
    "svm_predictions = svm_model_linear.predict(x_test) \n",
    "\n",
    "  \n",
    "# creating a confusion matrix \n",
    "#cm = confusion_matrix(y_test_old, svm_predictions) \n",
    "print (\"svm accuracy score : \", svm_model_linear.score(x_test, y_test_old) )"
   ]
  },
  {
   "cell_type": "code",
   "execution_count": null,
   "metadata": {},
   "outputs": [],
   "source": [
    "# training a DescisionTreeClassifier \n",
    "from sklearn.tree import DecisionTreeClassifier \n",
    "\n",
    "\n",
    "dtree_model = DecisionTreeClassifier(max_depth = 100).fit(x_train, y_train_old) \n",
    "\n",
    "pred = dtree_model.predict(x_test) \n",
    "\n",
    "print (\"Decision Tree accuracy score : \",accuracy_score(y_test_old, pred))"
   ]
  },
  {
   "cell_type": "code",
   "execution_count": 8,
   "metadata": {},
   "outputs": [
    {
     "name": "stdout",
     "output_type": "stream",
     "text": [
      "Gradient Boosted Classifier accuracy score :  0.20333333333333334\n"
     ]
    }
   ],
   "source": [
    "#from xgboost import XGBClassifier\n",
    "from sklearn.metrics import accuracy_score\n",
    "from sklearn.ensemble import GradientBoostingClassifier\n",
    "gb_clf = GradientBoostingClassifier(n_estimators=100, learning_rate=1, max_features=10, max_depth=15, random_state=0)\n",
    "gb_clf.fit(x_train, y_train_old)\n",
    "pred = gb_clf.predict(x_test)\n",
    "# evaluate accuracy\n",
    "print (\"Gradient Boosted Classifier accuracy score : \",accuracy_score(y_test_old, pred))"
   ]
  },
  {
   "cell_type": "code",
   "execution_count": 114,
   "metadata": {},
   "outputs": [
    {
     "name": "stdout",
     "output_type": "stream",
     "text": [
      "Hello world\n"
     ]
    }
   ],
   "source": [
    "print(\"Hello world\")"
   ]
  },
  {
   "cell_type": "code",
   "execution_count": 110,
   "metadata": {},
   "outputs": [],
   "source": [
    "pred = model.predict_classes(x_test)"
   ]
  },
  {
   "cell_type": "code",
   "execution_count": null,
   "metadata": {},
   "outputs": [],
   "source": [
    "print(pred[0])"
   ]
  },
  {
   "cell_type": "code",
   "execution_count": 111,
   "metadata": {},
   "outputs": [
    {
     "name": "stdout",
     "output_type": "stream",
     "text": [
      "[[580   0   0   0   0   0]\n",
      " [ 19 575   0   8  12   0]\n",
      " [  0  20 334   0  18   0]\n",
      " [  8   1   0 628   0   8]\n",
      " [  0   4   0   0 385   2]\n",
      " [  0   0   0   1   0 577]]\n"
     ]
    }
   ],
   "source": [
    "from sklearn.metrics import confusion_matrix\n",
    "\n",
    "\n",
    "cm=confusion_matrix(y_test_old,pred)\n",
    "print(cm)"
   ]
  },
  {
   "cell_type": "code",
   "execution_count": 112,
   "metadata": {},
   "outputs": [
    {
     "data": {
      "text/plain": [
       "<matplotlib.axes._subplots.AxesSubplot at 0x2709196f948>"
      ]
     },
     "execution_count": 112,
     "metadata": {},
     "output_type": "execute_result"
    },
    {
     "data": {
      "image/png": "[encoded data removed]",
      "text/plain": [
       "<Figure size 432x288 with 2 Axes>"
      ]
     },
     "metadata": {
      "needs_background": "light"
     },
     "output_type": "display_data"
    }
   ],
   "source": [
    "import seaborn as sn\n",
    "import matplotlib.pyplot as plt\n",
    "\n",
    "sn.heatmap(cm,annot=True,cmap='Blues', fmt='g')"
   ]
  }
 ],
 "metadata": {
  "kernelspec": {
   "display_name": "Python 3",
   "language": "python",
   "name": "python3"
  },
  "language_info": {
   "codemirror_mode": {
    "name": "ipython",
    "version": 3
   },
   "file_extension": ".py",
   "mimetype": "text/x-python",
   "name": "python",
   "nbconvert_exporter": "python",
   "pygments_lexer": "ipython3",
   "version": "3.7.7"
  }
 },
 "nbformat": 4,
 "nbformat_minor": 4
}
