{
 "cells": [
  {
   "cell_type": "code",
   "execution_count": 1,
   "metadata": {
    "colab": {
     "base_uri": "https://localhost:8080/",
     "height": 71
    },
    "colab_type": "code",
    "id": "6FEwDud3WpsM",
    "outputId": "9defa95c-e4c6-49e7-b23d-0fdd238bc072"
   },
   "outputs": [
    {
     "name": "stdout",
     "output_type": "stream",
     "text": [
      "[80.0, 57.0, 49.0, 6.0, 60.0, 44.0, 45.0, 37.0, 80.0, 69.0, 65.0, 64.0, 80.0, 46.0, 46.0, 79.0, 71.0, 68.0, 67.0, 76.0, 68.0, 74.0, 59.0, 75.0, 59.0, 64.0, 55.0, 78.0, 61.0, 60.0, 26.0, 76.0, 57.0, 50.0, 35.0, 79.0, 63.0, 64.0, 59.0, 79.0, 49.0, 49.0, 27.0, 80.0, 62.0, 74.0, 72.0, 80.0, 80.0, 80.0, 75.0, 77.0, 30.0, 23.0, 80.0, 72.0, 69.0, 67.0, 80.0, 69.0, 64.0, 60.0, 78.0, 72.0, 72.0, 51.0, 78.0, 56.0, 62.0, 32.0, 76.0, 54.0, 65.0, 21.0, 73.0, 56.0, 48.0, 34.0, 73.0, 41.0, 38.0, 34.0, 80.0, 71.0, 72.0, 65.0, 75.0, 49.0, 42.0, 27.0, 78.0, 47.0, 54.0, 36.0, 76.0, 53.0, 55.0, 44.0, 80.0, 68.0, 66.0, 60.0, 80.0, 78.0, 78.0, 58.0, 76.0, 66.0, 63.0, 57.0, 76.0, 69.0, 71.0, 49.0, 79.0, 79.0, 74.0, 76.0, 78.0, 58.0, 55.0, 44.0, 80.0, 62.0, 64.0, 51.0, 79.0, 37.0, 39.0, 45.0, 76.0, 63.0, 59.0, 48.0, 80.0, 72.0, 73.0, 49.0, 80.0, 79.0, 77.0, 69.0, 77.0, 65.0, 66.0, 78.0, 30.0, 28.0, 14.0, 77.0, 63.0, 57.0, 54.0, 80.0, 70.0, 66.0, 41.0, 77.0, 48.0, 35.0, 32.0, 80.0, 38.0, 38.0, 34.0, 80.0, 65.0, 66.0, 66.0, 78.0, 66.0, 75.0, 53.0, 71.0, 34.0, 32.0, 31.0, 80.0, 71.0, 79.0, 71.0, 78.0, 46.0, 46.0, 34.0, 79.0, 73.0, 75.0, 50.0, 73.0, 55.0, 49.0, 36.0, 80.0, 80.0, 80.0, 60.0, 76.0, 47.0, 43.0, 40.0, 72.0, 57.0, 48.0, 19.0, 77.0, 65.0, 61.0, 51.0, 77.0, 44.0, 44.0, 28.0, 74.0, 49.0, 51.0, 40.0, 79.0, 49.0, 49.0, 33.0, 80.0, 65.0, 51.0, 43.0, 75.0, 56.0, 37.0, 32.0, 71.0, 69.0, 63.0, 34.0, 75.0, 60.0, 60.0, 43.0, 80.0, 39.0, 36.0, 23.0, 78.0, 56.0, 58.0, 15.0, 77.0, 52.0, 49.0, 33.0, 80.0, 72.0, 68.0, 65.0, 77.0, 74.0, 66.0, 61.0, 78.0, 64.0, 70.0, 38.0, 78.0, 55.0, 59.0, 53.0, 78.0, 59.0, 51.0, 42.0, 77.0, 54.0, 54.0, 39.0, 71.0, 66.0, 74.0, 64.0, 78.0, 65.0, 65.0, 56.0, 80.0, 62.0, 60.0, 37.0, 80.0, 78.0, 70.0, 63.0, 74.0, 47.0, 47.0, 46.0, 78.0, 52.0, 52.0, 29.0, 80.0, 78.0, 76.0, 74.0, 80.0, 64.0, 49.0, 35.0, 77.0, 63.0, 58.0, 58.0, 77.0, 69.0, 64.0, 38.0, 75.0, 69.0, 69.0, 58.0, 79.0, 67.0, 67.0, 32.0, 80.0, 61.0, 62.0, 62.0, 78.0, 67.0, 59.0, 35.0, 74.0, 56.0, 54.0, 38.0, 77.0, 76.0, 79.0, 60.0, 80.0, 61.0, 58.0, 30.0, 74.0, 54.0, 47.0, 31.0, 73.0, 47.0, 45.0, 42.0, 79.0, 62.0, 63.0, 59.0, 80.0, 74.0, 75.0, 74.0, 71.0, 65.0, 65.0, 45.0, 75.0, 66.0, 55.0, 31.0, 67.0, 24.0, 24.0, 78.0, 48.0, 51.0, 42.0, 73.0, 42.0, 36.0, 44.0, 79.0, 54.0, 61.0, 44.0, 77.0, 67.0, 70.0, 58.0, 80.0, 62.0, 62.0, 52.0, 78.0, 42.0, 38.0, 42.0, 80.0, 72.0, 72.0, 52.0, 78.0, 73.0, 73.0, 43.0, 77.0, 51.0, 40.0, 38.0, 74.0, 53.0, 56.0, 51.0, 76.0, 75.0, 75.0, 60.0, 69.0, 39.0, 38.0, 32.0, 78.0, 72.0, 66.0, 67.0, 78.0, 68.0, 59.0, 54.0, 73.0, 64.0, 65.0, 25.0, 80.0, 80.0, 80.0, 80.0, 75.0, 47.0, 44.0, 40.0, 80.0, 77.0, 78.0, 47.0, 79.0, 70.0, 69.0, 45.0, 80.0, 64.0, 66.0, 51.0, 77.0, 77.0, 78.0, 68.0, 79.0, 57.0, 58.0, 53.0, 80.0, 60.0, 52.0, 46.0, 74.0, 64.0, 59.0, 78.0, 52.0, 45.0, 44.0, 78.0, 43.0, 37.0, 34.0, 73.0, 48.0, 44.0, 31.0, 80.0, 61.0, 62.0, 58.0, 80.0, 73.0, 59.0, 39.0, 76.0, 43.0, 56.0, 39.0, 75.0, 52.0, 44.0, 24.0, 78.0, 33.0, 30.0, 24.0, 79.0, 69.0, 69.0, 58.0, 78.0, 52.0, 54.0, 27.0, 77.0, 68.0, 61.0, 54.0, 77.0, 72.0, 68.0, 68.0, 79.0, 61.0, 58.0, 57.0, 78.0, 68.0, 68.0, 48.0, 76.0, 79.0, 79.0, 72.0, 79.0, 73.0, 70.0, 79.0, 65.0, 69.0, 57.0, 76.0, 52.0, 37.0, 30.0, 68.0, 51.0, 41.0, 31.0, 79.0, 73.0, 71.0, 37.0, 77.0, 65.0, 67.0, 63.0, 79.0, 80.0, 75.0, 80.0, 74.0, 68.0, 53.0, 29.0, 70.0, 51.0, 54.0, 51.0, 79.0, 65.0, 64.0, 63.0, 78.0, 46.0, 49.0, 34.0, 74.0, 54.0, 47.0, 50.0, 80.0, 57.0, 44.0, 30.0, 72.0, 61.0, 56.0, 55.0, 80.0, 52.0, 45.0, 30.0, 77.0, 68.0, 69.0, 56.0, 76.0, 43.0, 33.0, 33.0, 80.0, 49.0, 55.0, 47.0, 76.0, 76.0, 73.0, 59.0, 78.0, 64.0, 64.0, 56.0, 78.0, 67.0, 68.0, 51.0, 75.0, 43.0, 45.0, 32.0, 79.0, 54.0, 53.0, 40.0, 75.0, 76.0, 76.0, 65.0, 77.0, 66.0, 62.0, 45.0, 73.0, 55.0, 55.0, 44.0, 76.0, 46.0, 46.0, 37.0, 74.0, 66.0, 72.0, 58.0, 80.0, 79.0, 76.0, 63.0, 73.0, 55.0, 56.0, 38.0, 76.0, 51.0, 40.0, 45.0, 74.0, 34.0, 35.0, 33.0, 80.0, 59.0, 59.0, 40.0, 79.0, 68.0, 62.0, 44.0, 74.0, 48.0, 40.0, 41.0, 80.0, 66.0, 62.0, 33.0, 78.0, 62.0, 61.0, 48.0, 78.0, 73.0, 71.0, 69.0, 77.0, 68.0, 63.0, 51.0, 80.0, 80.0, 68.0, 72.0, 80.0, 80.0, 80.0, 63.0, 74.0, 54.0, 37.0, 30.0, 77.0, 56.0, 42.0, 29.0, 80.0, 57.0, 59.0, 46.0, 74.0, 68.0, 60.0, 61.0, 80.0, 76.0, 75.0, 73.0, 74.0, 54.0, 54.0, 49.0, 79.0, 77.0, 75.0, 74.0, 75.0, 72.0, 78.0, 50.0, 74.0, 57.0, 57.0, 47.0, 80.0, 78.0, 76.0, 74.0, 76.0, 73.0, 74.0, 75.0, 79.0, 62.0, 57.0, 43.0, 80.0, 66.0, 60.0, 61.0, 76.0, 65.0, 53.0, 37.0, 74.0, 69.0, 66.0, 57.0, 77.0, 76.0, 74.0, 57.0, 75.0, 71.0, 71.0, 65.0, 78.0, 72.0, 70.0, 41.0, 80.0, 72.0, 78.0, 51.0, 75.0, 49.0, 46.0, 46.0, 80.0, 79.0, 52.0, 76.0, 80.0, 78.0, 59.0, 79.0, 72.0, 77.0, 74.0, 75.0, 64.0, 62.0, 60.0, 75.0, 73.0, 67.0, 37.0, 80.0, 74.0, 73.0, 50.0, 73.0, 41.0, 38.0, 39.0, 78.0, 70.0, 77.0, 57.0, 78.0, 75.0, 76.0, 54.0, 80.0, 61.0, 51.0, 41.0, 80.0, 75.0, 76.0, 61.0, 73.0, 69.0, 63.0, 65.0, 79.0, 73.0, 72.0, 62.0, 74.0, 59.0, 63.0, 51.0, 77.0, 65.0, 61.0, 42.0, 78.0, 73.0, 63.0, 48.0, 78.0, 69.0, 63.0, 32.0, 79.0, 73.0, 67.0, 49.0, 76.0, 72.0, 61.0, 43.0, 78.0, 47.0, 49.0, 28.0, 73.0, 66.0, 56.0, 50.0, 80.0, 58.0, 57.0, 44.0, 78.0, 67.0, 65.0, 38.0, 80.0, 35.0, 31.0, 18.0, 77.0, 56.0, 58.0, 36.0, 78.0, 78.0, 78.0, 49.0, 80.0, 58.0, 58.0, 54.0, 80.0, 57.0, 62.0, 62.0, 78.0, 79.0, 76.0, 75.0, 78.0, 76.0, 75.0, 57.0, 73.0, 37.0, 36.0, 26.0, 80.0, 47.0, 41.0, 13.0, 74.0, 49.0, 62.0, 44.0, 80.0, 76.0, 78.0, 77.0, 80.0, 68.0, 66.0, 67.0, 80.0, 70.0, 69.0, 56.0, 80.0, 67.0, 61.0, 57.0, 80.0, 65.0, 65.0, 61.0, 76.0, 60.0, 45.0, 39.0, 77.0, 55.0, 57.0, 80.0, 71.0, 72.0, 57.0, 77.0, 74.0, 70.0, 53.0, 79.0, 70.0, 60.0, 51.0, 80.0, 52.0, 52.0, 44.0, 76.0, 57.0, 63.0, 59.0, 80.0, 73.0, 73.0, 73.0, 73.0, 39.0, 39.0, 19.0, 76.0, 48.0, 49.0, 79.0, 73.0, 78.0, 71.0, 80.0, 58.0, 65.0, 35.0, 77.0, 60.0, 61.0, 53.0, 76.0, 47.0, 42.0, 42.0, 80.0, 72.0, 73.0, 67.0, 80.0, 53.0, 53.0, 44.0, 73.0, 63.0, 64.0, 44.0, 70.0, 51.0, 23.0, 22.0, 79.0, 44.0, 43.0, 33.0]\n"
     ]
    },
    {
     "data": {
      "text/plain": [
       "\"\\nfor img in sorted(os.listdir(path)):  \\n    img_array = cv2.imread(os.path.join(path,img) ,cv2.IMREAD_GRAYSCALE)  # convert to array\\n    img_array = cv2.resize(img_array, (400, 400))\\n    #thresh = 170\\n    # assign blue channel to zeros\\n    #img_array = cv2.threshold(img_array, thresh, 255, cv2.THRESH_BINARY)[1]\\n    #plt.imshow(img_array, cmap='gray')  # graph it\\n    #plt.show()  # display!\\n    img = img.strip('.png')\\n    #img = img.strip('insight46_Page_')\\n    #print(img)\\n    #print(trainys[i])\\n    i = i + 1\\n    y.append(img)\\n#print(y)\\n#print(img_array)\\n\""
      ]
     },
     "execution_count": 1,
     "metadata": {},
     "output_type": "execute_result"
    }
   ],
   "source": [
    "import numpy as np\n",
    "import matplotlib.pyplot as plt\n",
    "import os\n",
    "import cv2\n",
    "from tqdm import tqdm\n",
    "\n",
    "import csv\n",
    "\n",
    "with open(\"/home/jupyter/MEng-Project/insight46labels.csv\", newline='') as csvfile:\n",
    "    data = list(csv.reader(csvfile))\n",
    "    trainystr = data[0]\n",
    "trainys = [float(i) for i in trainystr]\n",
    "print(trainys)\n",
    "\n",
    "path = \"/home/jupyter/MEng-Project/insight46png\"\n",
    "y = []\n",
    "#path = os.path.join(DATADIR,category)  \n",
    "i = 0\n",
    "'''\n",
    "for img in sorted(os.listdir(path)):  \n",
    "    img_array = cv2.imread(os.path.join(path,img) ,cv2.IMREAD_GRAYSCALE)  # convert to array\n",
    "    img_array = cv2.resize(img_array, (400, 400))\n",
    "    #thresh = 170\n",
    "    # assign blue channel to zeros\n",
    "    #img_array = cv2.threshold(img_array, thresh, 255, cv2.THRESH_BINARY)[1]\n",
    "    #plt.imshow(img_array, cmap='gray')  # graph it\n",
    "    #plt.show()  # display!\n",
    "    img = img.strip('.png')\n",
    "    #img = img.strip('insight46_Page_')\n",
    "    #print(img)\n",
    "    #print(trainys[i])\n",
    "    i = i + 1\n",
    "    y.append(img)\n",
    "#print(y)\n",
    "#print(img_array)\n",
    "'''\n",
    "\n",
    "    "
   ]
  },
  {
   "cell_type": "code",
   "execution_count": 11,
   "metadata": {
    "colab": {
     "base_uri": "https://localhost:8080/",
     "height": 34
    },
    "colab_type": "code",
    "id": "rET88HfJZSJM",
    "outputId": "4731e728-a53e-433a-e66b-9cad79dfbea1"
   },
   "outputs": [
    {
     "name": "stderr",
     "output_type": "stream",
     "text": [
      "100%|██████████| 991/991 [00:04<00:00, 220.72it/s]\n"
     ]
    }
   ],
   "source": [
    "trainxs = []\n",
    "trainys = []\n",
    "trainxs2 =[]\n",
    "\n",
    "for img in tqdm(sorted(os.listdir(path))):  # iterate over each image per point value\n",
    "    img_array = cv2.imread(os.path.join(path,img) ,0)  # convert to array\n",
    "    img_array = cv2.resize(img_array, (300, 300))\n",
    "    img_array = cv2.bitwise_not(img_array)\n",
    "    kernel = np.ones((5,5),np.uint8)\n",
    "    erosion = cv2.dilate(img_array,kernel,iterations = 1)\n",
    "    trainxs.append(erosion)  # add this to our training_data\n",
    "#trainxs = np.array(trainxs, dtype=\"float\") / 255.0\n",
    "#trainys = np.array(trainys)"
   ]
  },
  {
   "cell_type": "code",
   "execution_count": 12,
   "metadata": {
    "colab": {
     "base_uri": "https://localhost:8080/",
     "height": 286
    },
    "colab_type": "code",
    "id": "P8kiJxiAkLoT",
    "outputId": "fe330c1b-d37e-4ccd-ff61-0b277ee99d5d"
   },
   "outputs": [
    {
     "data": {
      "text/plain": [
       "<matplotlib.image.AxesImage at 0x7f943ce76b00>"
      ]
     },
     "execution_count": 12,
     "metadata": {},
     "output_type": "execute_result"
    },
    {
     "data": {
      "image/png": "[encoded data removed]",
      "text/plain": [
       "<Figure size 432x288 with 1 Axes>"
      ]
     },
     "metadata": {
      "needs_background": "light"
     },
     "output_type": "display_data"
    }
   ],
   "source": [
    "plt.imshow(trainxs[1])"
   ]
  },
  {
   "cell_type": "code",
   "execution_count": 13,
   "metadata": {},
   "outputs": [],
   "source": [
    "import cv2\n",
    "import numpy as np\n",
    "\n",
    "kernel = np.ones((5,5),np.uint8)\n",
    "erosion = cv2.erode(trainxs[1],kernel,iterations = 1)"
   ]
  },
  {
   "cell_type": "code",
   "execution_count": 14,
   "metadata": {},
   "outputs": [
    {
     "data": {
      "text/plain": [
       "<matplotlib.image.AxesImage at 0x7f943cdb4898>"
      ]
     },
     "execution_count": 14,
     "metadata": {},
     "output_type": "execute_result"
    },
    {
     "data": {
      "image/png": "[encoded data removed]",
      "text/plain": [
       "<Figure size 432x288 with 1 Axes>"
      ]
     },
     "metadata": {
      "needs_background": "light"
     },
     "output_type": "display_data"
    }
   ],
   "source": [
    "plt.imshow(trainxs[1], cmap='gray')"
   ]
  },
  {
   "cell_type": "code",
   "execution_count": 15,
   "metadata": {
    "colab": {
     "base_uri": "https://localhost:8080/",
     "height": 54
    },
    "colab_type": "code",
    "id": "cRmOpL0-fOYS",
    "outputId": "81e0afc4-0278-4d65-a90e-b95121fd9e0f"
   },
   "outputs": [],
   "source": [
    "import csv\n",
    "\n",
    "with open(\"/home/jupyter/MEng-Project/insight46labels.csv\", newline='') as csvfile:\n",
    "    data = list(csv.reader(csvfile))\n",
    "    trainystr = data[0]\n",
    "trainys = [float(i) for i in trainystr]\n",
    "#print(trainys)"
   ]
  },
  {
   "cell_type": "code",
   "execution_count": 16,
   "metadata": {
    "colab": {
     "base_uri": "https://localhost:8080/",
     "height": 460
    },
    "colab_type": "code",
    "id": "HaiwOCsLocs7",
    "outputId": "48f1390d-983c-424d-ba50-722fb73c8686"
   },
   "outputs": [
    {
     "data": {
      "image/png": "[encoded data removed]",
      "text/plain": [
       "<Figure size 700x500 with 1 Axes>"
      ]
     },
     "metadata": {
      "needs_background": "light"
     },
     "output_type": "display_data"
    }
   ],
   "source": [
    "import matplotlib.pyplot as plt\n",
    "%matplotlib inline\n",
    "plt.rcParams.update({'figure.figsize':(7,5), 'figure.dpi':100})\n",
    "\n",
    "# Plot Histogram on x\n",
    "plt.hist(trainys, bins=20)\n",
    "plt.gca().set(title='Frequency Histogram', ylabel='Frequency');"
   ]
  },
  {
   "cell_type": "code",
   "execution_count": 18,
   "metadata": {
    "colab": {},
    "colab_type": "code",
    "id": "1ssX8tR_nAS7"
   },
   "outputs": [],
   "source": [
    "for i,y in enumerate(trainys):\n",
    "    if trainys[i] > 75:\n",
    "        trainys[i] = 3\n",
    "    elif trainys[i] <=75 and trainys[i] >55:\n",
    "        trainys[i] = 2\n",
    "    #elif trainys[i] <=40 and trainys[i] >20:\n",
    "    #    trainys[i] = 1\n",
    "    else:\n",
    "        trainys[i] = 0\n",
    "\n"
   ]
  },
  {
   "cell_type": "code",
   "execution_count": 19,
   "metadata": {
    "colab": {
     "base_uri": "https://localhost:8080/",
     "height": 54
    },
    "colab_type": "code",
    "id": "By4BJQPQqt9O",
    "outputId": "d4c56544-c44d-47b2-daeb-8989c534f54e"
   },
   "outputs": [
    {
     "data": {
      "image/png": "[encoded data removed]",
      "text/plain": [
       "<Figure size 700x500 with 1 Axes>"
      ]
     },
     "metadata": {
      "needs_background": "light"
     },
     "output_type": "display_data"
    }
   ],
   "source": [
    "import matplotlib.pyplot as plt\n",
    "%matplotlib inline\n",
    "plt.rcParams.update({'figure.figsize':(7,5), 'figure.dpi':100})\n",
    "\n",
    "# Plot Histogram on x\n",
    "plt.hist(trainys, bins=20)\n",
    "plt.gca().set(title='Frequency Histogram', ylabel='Frequency');"
   ]
  },
  {
   "cell_type": "code",
   "execution_count": 28,
   "metadata": {
    "colab": {
     "base_uri": "https://localhost:8080/",
     "height": 523
    },
    "colab_type": "code",
    "id": "LbwGfgsqrHBx",
    "outputId": "094fdf21-da52-4540-befd-273627f492fe"
   },
   "outputs": [
    {
     "name": "stdout",
     "output_type": "stream",
     "text": [
      "[1. 0. 0. 0.]\n"
     ]
    },
    {
     "data": {
      "image/png": "[encoded data removed]",
      "text/plain": [
       "<Figure size 700x500 with 1 Axes>"
      ]
     },
     "metadata": {
      "needs_background": "light"
     },
     "output_type": "display_data"
    }
   ],
   "source": [
    "from __future__ import print_function\n",
    "import keras\n",
    "from keras.models import Sequential\n",
    "from keras.layers import Dense, Dropout, Flatten\n",
    "from keras.layers import Conv2D, MaxPooling2D, AveragePooling2D\n",
    "from keras import backend as K\n",
    "\n",
    "batch_size = 128\n",
    "epochs = 100\n",
    "\n",
    "# input image dimensions\n",
    "img_rows, img_cols = 300, 300\n",
    "\n",
    "\n",
    "import numpy as np\n",
    "import matplotlib.pyplot as plt\n",
    "import os\n",
    "import cv2\n",
    "from tqdm import tqdm\n",
    "import csv\n",
    "from sklearn.utils import shuffle\n",
    "from sklearn.model_selection import train_test_split\n",
    "from skimage.transform import rotate\n",
    "from keras.models import Sequential\n",
    "from keras.layers import Dense\n",
    "from sklearn import preprocessing\n",
    "import pandas as pd\n",
    "\n",
    "from sklearn.model_selection import train_test_split\n",
    "from keras.utils.np_utils import to_categorical\n",
    "from sklearn.model_selection import train_test_split\n",
    "np.set_printoptions(threshold=np.inf)\n",
    "\n",
    "#trainys = [0 if x==1 else x for x in trainys]\n",
    "#trainys = [2 if x==3 else x for x in trainys]\n",
    "#trainys = [4 if x==5 else x for x in trainys]\n",
    "trainxs1 = np.asarray(trainxs, dtype=np.float32)\n",
    "trainys1 = np.asarray(trainys, dtype=np.int)\n",
    "#print(trainys)\n",
    "\n",
    "\n",
    "\n",
    "x_train, x_test, y_train_old, y_test_old = train_test_split(trainxs1, trainys1, test_size=0.08, random_state=40)\n",
    "y_train = to_categorical(y_train_old)\n",
    "y_test = to_categorical(y_test_old)\n",
    "#print(y_train)\n",
    "plt.imshow(x_test[2], cmap='gray')\n",
    "print(y_test[2])\n",
    "\n"
   ]
  },
  {
   "cell_type": "code",
   "execution_count": 21,
   "metadata": {
    "colab": {
     "base_uri": "https://localhost:8080/",
     "height": 34
    },
    "colab_type": "code",
    "id": "9suhFobBrjCN",
    "outputId": "6a1fdf3e-f3f4-4854-8e9a-a57cf5136f93"
   },
   "outputs": [
    {
     "data": {
      "text/plain": [
       "(911, 300, 300, 1)"
      ]
     },
     "execution_count": 21,
     "metadata": {},
     "output_type": "execute_result"
    }
   ],
   "source": [
    "x_train = x_train.reshape(x_train.shape[0], img_rows, img_cols, 1)\n",
    "x_test = x_test.reshape(x_test.shape[0], img_rows, img_cols, 1)\n",
    "#x_test = x_test.reshape(x_test.shape[0], img_rows, img_cols, 1)\n",
    "input_shape = (img_rows, img_cols, 1)\n",
    "x_train.shape"
   ]
  },
  {
   "cell_type": "code",
   "execution_count": 22,
   "metadata": {
    "colab": {
     "base_uri": "https://localhost:8080/",
     "height": 548
    },
    "colab_type": "code",
    "id": "vPGs4OpOumlY",
    "outputId": "b2f84bed-693d-4c1a-c64b-8e66d9f936fb"
   },
   "outputs": [
    {
     "name": "stdout",
     "output_type": "stream",
     "text": [
      "[name: \"/device:CPU:0\"\n",
      "device_type: \"CPU\"\n",
      "memory_limit: 268435456\n",
      "locality {\n",
      "}\n",
      "incarnation: 16728666130174073574\n",
      ", name: \"/device:XLA_CPU:0\"\n",
      "device_type: \"XLA_CPU\"\n",
      "memory_limit: 17179869184\n",
      "locality {\n",
      "}\n",
      "incarnation: 2915171048340465\n",
      "physical_device_desc: \"device: XLA_CPU device\"\n",
      ", name: \"/device:XLA_GPU:0\"\n",
      "device_type: \"XLA_GPU\"\n",
      "memory_limit: 17179869184\n",
      "locality {\n",
      "}\n",
      "incarnation: 15956648084145741239\n",
      "physical_device_desc: \"device: XLA_GPU device\"\n",
      ", name: \"/device:GPU:0\"\n",
      "device_type: \"GPU\"\n",
      "memory_limit: 11235419751\n",
      "locality {\n",
      "  bus_id: 1\n",
      "  links {\n",
      "  }\n",
      "}\n",
      "incarnation: 6046727106609820621\n",
      "physical_device_desc: \"device: 0, name: Tesla K80, pci bus id: 0000:00:04.0, compute capability: 3.7\"\n",
      "]\n"
     ]
    }
   ],
   "source": [
    "from tensorflow.python.client import device_lib\n",
    "print(device_lib.list_local_devices())"
   ]
  },
  {
   "cell_type": "code",
   "execution_count": 23,
   "metadata": {
    "colab": {
     "base_uri": "https://localhost:8080/",
     "height": 634
    },
    "colab_type": "code",
    "id": "2p6nWpeHrrG6",
    "outputId": "0354db8f-7298-4c0a-b8dc-7988e1117f9f"
   },
   "outputs": [
    {
     "name": "stdout",
     "output_type": "stream",
     "text": [
      "x_train shape: (911, 300, 300, 1)\n",
      "y_train shape: (911, 4)\n",
      "911 train samples\n",
      "80 test samples\n",
      "Model: \"sequential_1\"\n",
      "_________________________________________________________________\n",
      "Layer (type)                 Output Shape              Param #   \n",
      "=================================================================\n",
      "conv2d_1 (Conv2D)            (None, 298, 298, 32)      320       \n",
      "_________________________________________________________________\n",
      "average_pooling2d_1 (Average (None, 149, 149, 32)      0         \n",
      "_________________________________________________________________\n",
      "conv2d_2 (Conv2D)            (None, 147, 147, 64)      18496     \n",
      "_________________________________________________________________\n",
      "average_pooling2d_2 (Average (None, 73, 73, 64)        0         \n",
      "_________________________________________________________________\n",
      "flatten_1 (Flatten)          (None, 341056)            0         \n",
      "_________________________________________________________________\n",
      "dense_1 (Dense)              (None, 256)               87310592  \n",
      "_________________________________________________________________\n",
      "dropout_1 (Dropout)          (None, 256)               0         \n",
      "_________________________________________________________________\n",
      "dense_2 (Dense)              (None, 84)                21588     \n",
      "_________________________________________________________________\n",
      "dropout_2 (Dropout)          (None, 84)                0         \n",
      "_________________________________________________________________\n",
      "dense_3 (Dense)              (None, 4)                 340       \n",
      "=================================================================\n",
      "Total params: 87,351,336\n",
      "Trainable params: 87,351,336\n",
      "Non-trainable params: 0\n",
      "_________________________________________________________________\n"
     ]
    }
   ],
   "source": [
    "print('x_train shape:', x_train.shape)\n",
    "x_train = np.array(x_train)\n",
    "x_test = np.array(x_test)\n",
    "\n",
    "#print(x_train[3])\n",
    "x_train = x_train.astype('float32')\n",
    "x_test = x_test.astype('float32')\n",
    "x_train /= 255\n",
    "x_test /= 255\n",
    "print('y_train shape:', y_train.shape)\n",
    "print(x_train.shape[0], 'train samples')\n",
    "print(x_test.shape[0], 'test samples')\n",
    "\n",
    "model = Sequential()\n",
    "model.add(Conv2D(32, kernel_size=(3, 3),\n",
    "                 activation='relu',\n",
    "                 input_shape=input_shape))\n",
    "model.add(AveragePooling2D(pool_size=(2, 2))) \n",
    "model.add(Conv2D(64, (3, 3), activation='relu'))\n",
    "model.add(AveragePooling2D(pool_size=(2, 2)))\n",
    "#model.add(Conv2D(128, (3, 3), activation='relu'))\n",
    "#model.add(MaxPooling2D(pool_size=(2, 2)))\n",
    "#model.add(Conv2D(356, (3, 3), activation='relu'))\n",
    "#model.add(MaxPooling2D(pool_size=(2, 2)))\n",
    "model.add(Flatten())\n",
    "model.add(Dense(256, activation='relu'))\n",
    "model.add(Dropout(0.5))\n",
    "model.add(Dense(84, activation='relu'))\n",
    "model.add(Dropout(0.5))\n",
    "model.add(Dense(4, activation='softmax'))\n",
    "\n",
    "model.compile(loss=keras.losses.categorical_crossentropy,\n",
    "              optimizer=keras.optimizers.Adadelta(),\n",
    "              metrics=['accuracy'])\n",
    "model.summary()"
   ]
  },
  {
   "cell_type": "code",
   "execution_count": 24,
   "metadata": {
    "colab": {
     "base_uri": "https://localhost:8080/",
     "height": 908
    },
    "colab_type": "code",
    "id": "EnT7KdIhrtV5",
    "outputId": "6a373657-1dec-4ce5-8c99-cd6b7843270e"
   },
   "outputs": [
    {
     "name": "stdout",
     "output_type": "stream",
     "text": [
      "Train on 911 samples, validate on 80 samples\n",
      "Epoch 1/100\n",
      "911/911 [==============================] - 9s 10ms/step - loss: 1.3696 - accuracy: 0.3798 - val_loss: 1.0691 - val_accuracy: 0.5000\n",
      "Epoch 2/100\n",
      "911/911 [==============================] - 5s 5ms/step - loss: 1.0938 - accuracy: 0.4523 - val_loss: 1.0018 - val_accuracy: 0.4625\n",
      "Epoch 3/100\n",
      "911/911 [==============================] - 5s 5ms/step - loss: 1.0010 - accuracy: 0.5093 - val_loss: 0.8981 - val_accuracy: 0.5500\n",
      "Epoch 4/100\n",
      "911/911 [==============================] - 5s 5ms/step - loss: 0.9449 - accuracy: 0.5631 - val_loss: 0.9055 - val_accuracy: 0.5375\n",
      "Epoch 5/100\n",
      "911/911 [==============================] - 5s 5ms/step - loss: 0.8474 - accuracy: 0.6169 - val_loss: 1.1516 - val_accuracy: 0.3875\n",
      "Epoch 6/100\n",
      "911/911 [==============================] - 5s 5ms/step - loss: 0.8898 - accuracy: 0.5818 - val_loss: 0.9116 - val_accuracy: 0.5875\n",
      "Epoch 7/100\n",
      "911/911 [==============================] - 5s 5ms/step - loss: 0.7881 - accuracy: 0.6641 - val_loss: 0.7598 - val_accuracy: 0.6750\n",
      "Epoch 8/100\n",
      "911/911 [==============================] - 5s 5ms/step - loss: 0.7603 - accuracy: 0.6564 - val_loss: 1.0264 - val_accuracy: 0.5125\n",
      "Epoch 9/100\n",
      "911/911 [==============================] - 5s 5ms/step - loss: 0.7258 - accuracy: 0.6894 - val_loss: 0.9129 - val_accuracy: 0.5500\n",
      "Epoch 10/100\n",
      "911/911 [==============================] - 5s 5ms/step - loss: 0.6659 - accuracy: 0.6883 - val_loss: 0.8511 - val_accuracy: 0.5875\n",
      "Epoch 11/100\n",
      "911/911 [==============================] - 5s 5ms/step - loss: 0.5925 - accuracy: 0.7541 - val_loss: 0.9581 - val_accuracy: 0.6250\n",
      "Epoch 12/100\n",
      "911/911 [==============================] - 5s 5ms/step - loss: 0.6570 - accuracy: 0.7190 - val_loss: 0.9238 - val_accuracy: 0.5875\n",
      "Epoch 13/100\n",
      "911/911 [==============================] - 5s 5ms/step - loss: 0.5634 - accuracy: 0.7552 - val_loss: 0.8688 - val_accuracy: 0.6000\n",
      "Epoch 14/100\n",
      "911/911 [==============================] - 5s 5ms/step - loss: 0.5381 - accuracy: 0.7838 - val_loss: 0.8625 - val_accuracy: 0.6500\n",
      "Epoch 15/100\n",
      "911/911 [==============================] - 5s 5ms/step - loss: 0.4223 - accuracy: 0.8386 - val_loss: 1.0425 - val_accuracy: 0.6375\n",
      "Epoch 16/100\n",
      "911/911 [==============================] - 5s 5ms/step - loss: 0.4252 - accuracy: 0.8189 - val_loss: 1.0114 - val_accuracy: 0.5625\n",
      "Epoch 17/100\n",
      "911/911 [==============================] - 5s 5ms/step - loss: 0.4289 - accuracy: 0.8233 - val_loss: 0.8645 - val_accuracy: 0.6250\n",
      "Epoch 18/100\n",
      "911/911 [==============================] - 5s 5ms/step - loss: 0.3200 - accuracy: 0.8782 - val_loss: 1.1005 - val_accuracy: 0.6250\n",
      "Epoch 19/100\n",
      "911/911 [==============================] - 5s 6ms/step - loss: 0.3933 - accuracy: 0.8485 - val_loss: 0.9980 - val_accuracy: 0.5875\n",
      "Epoch 20/100\n",
      "911/911 [==============================] - 5s 5ms/step - loss: 0.2934 - accuracy: 0.8935 - val_loss: 1.3858 - val_accuracy: 0.5875\n",
      "Epoch 21/100\n",
      "911/911 [==============================] - 5s 5ms/step - loss: 0.3067 - accuracy: 0.8727 - val_loss: 1.0339 - val_accuracy: 0.6250\n",
      "Epoch 22/100\n",
      "911/911 [==============================] - 5s 5ms/step - loss: 0.2031 - accuracy: 0.9243 - val_loss: 0.8887 - val_accuracy: 0.6125\n",
      "Epoch 23/100\n",
      "911/911 [==============================] - 5s 5ms/step - loss: 0.2114 - accuracy: 0.9232 - val_loss: 1.4388 - val_accuracy: 0.6125\n",
      "Epoch 24/100\n",
      "911/911 [==============================] - 5s 5ms/step - loss: 0.3043 - accuracy: 0.8880 - val_loss: 1.2316 - val_accuracy: 0.6250\n",
      "Epoch 25/100\n",
      "911/911 [==============================] - 5s 5ms/step - loss: 0.1432 - accuracy: 0.9517 - val_loss: 1.8268 - val_accuracy: 0.6125\n",
      "Epoch 26/100\n",
      "911/911 [==============================] - 5s 5ms/step - loss: 0.2857 - accuracy: 0.8782 - val_loss: 1.2200 - val_accuracy: 0.6250\n",
      "Epoch 27/100\n",
      "911/911 [==============================] - 5s 5ms/step - loss: 0.1167 - accuracy: 0.9528 - val_loss: 1.5754 - val_accuracy: 0.6250\n",
      "Epoch 28/100\n",
      "911/911 [==============================] - 5s 5ms/step - loss: 0.0811 - accuracy: 0.9726 - val_loss: 1.7520 - val_accuracy: 0.6375\n",
      "Epoch 29/100\n",
      "911/911 [==============================] - 5s 5ms/step - loss: 0.1083 - accuracy: 0.9616 - val_loss: 1.7158 - val_accuracy: 0.6125\n",
      "Epoch 30/100\n",
      "911/911 [==============================] - 5s 5ms/step - loss: 0.0666 - accuracy: 0.9737 - val_loss: 1.9158 - val_accuracy: 0.6500\n",
      "Epoch 31/100\n",
      "911/911 [==============================] - 5s 5ms/step - loss: 0.1000 - accuracy: 0.9638 - val_loss: 1.9793 - val_accuracy: 0.5625\n",
      "Epoch 32/100\n",
      "911/911 [==============================] - 5s 5ms/step - loss: 0.0898 - accuracy: 0.9704 - val_loss: 2.0093 - val_accuracy: 0.5625\n",
      "Epoch 33/100\n",
      "911/911 [==============================] - 5s 5ms/step - loss: 0.0888 - accuracy: 0.9682 - val_loss: 1.6610 - val_accuracy: 0.5875\n",
      "Epoch 34/100\n",
      "911/911 [==============================] - 5s 5ms/step - loss: 0.0658 - accuracy: 0.9780 - val_loss: 1.9152 - val_accuracy: 0.6125\n",
      "Epoch 35/100\n",
      "911/911 [==============================] - 5s 5ms/step - loss: 0.0542 - accuracy: 0.9813 - val_loss: 2.1215 - val_accuracy: 0.6000\n",
      "Epoch 36/100\n",
      "911/911 [==============================] - 5s 5ms/step - loss: 0.0413 - accuracy: 0.9857 - val_loss: 2.1955 - val_accuracy: 0.6125\n",
      "Epoch 37/100\n",
      "911/911 [==============================] - 5s 5ms/step - loss: 0.0430 - accuracy: 0.9868 - val_loss: 2.2483 - val_accuracy: 0.6375\n",
      "Epoch 38/100\n",
      "911/911 [==============================] - 5s 5ms/step - loss: 0.0382 - accuracy: 0.9901 - val_loss: 2.4736 - val_accuracy: 0.6250\n",
      "Epoch 39/100\n",
      "911/911 [==============================] - 5s 5ms/step - loss: 0.0325 - accuracy: 0.9901 - val_loss: 2.3326 - val_accuracy: 0.6375\n",
      "Epoch 40/100\n",
      "911/911 [==============================] - 5s 5ms/step - loss: 0.0348 - accuracy: 0.9868 - val_loss: 2.6502 - val_accuracy: 0.6000\n",
      "Epoch 41/100\n",
      "911/911 [==============================] - 5s 5ms/step - loss: 0.0358 - accuracy: 0.9868 - val_loss: 2.8454 - val_accuracy: 0.6125\n",
      "Epoch 42/100\n",
      "911/911 [==============================] - 5s 5ms/step - loss: 0.0230 - accuracy: 0.9923 - val_loss: 3.1721 - val_accuracy: 0.6375\n",
      "Epoch 43/100\n",
      "911/911 [==============================] - 5s 5ms/step - loss: 0.0422 - accuracy: 0.9813 - val_loss: 2.6425 - val_accuracy: 0.6125\n",
      "Epoch 44/100\n",
      "911/911 [==============================] - 5s 5ms/step - loss: 0.0295 - accuracy: 0.9912 - val_loss: 2.5221 - val_accuracy: 0.6125\n",
      "Epoch 45/100\n",
      "911/911 [==============================] - 5s 5ms/step - loss: 0.0218 - accuracy: 0.9923 - val_loss: 2.9131 - val_accuracy: 0.6125\n",
      "Epoch 46/100\n",
      "911/911 [==============================] - 5s 5ms/step - loss: 0.0335 - accuracy: 0.9824 - val_loss: 2.9690 - val_accuracy: 0.6250\n",
      "Epoch 47/100\n",
      "911/911 [==============================] - 5s 5ms/step - loss: 0.0254 - accuracy: 0.9890 - val_loss: 2.8992 - val_accuracy: 0.5875\n",
      "Epoch 48/100\n",
      "911/911 [==============================] - 5s 5ms/step - loss: 0.0432 - accuracy: 0.9868 - val_loss: 2.8721 - val_accuracy: 0.6250\n",
      "Epoch 49/100\n",
      "911/911 [==============================] - 5s 5ms/step - loss: 0.0594 - accuracy: 0.9769 - val_loss: 2.5033 - val_accuracy: 0.5875\n",
      "Epoch 50/100\n",
      "911/911 [==============================] - 5s 5ms/step - loss: 0.0211 - accuracy: 0.9923 - val_loss: 2.5120 - val_accuracy: 0.5875\n",
      "Epoch 51/100\n",
      "911/911 [==============================] - 5s 5ms/step - loss: 0.0330 - accuracy: 0.9868 - val_loss: 2.5658 - val_accuracy: 0.6000\n",
      "Epoch 52/100\n",
      "911/911 [==============================] - 5s 5ms/step - loss: 0.0319 - accuracy: 0.9857 - val_loss: 3.0797 - val_accuracy: 0.6000\n",
      "Epoch 53/100\n",
      "911/911 [==============================] - 5s 5ms/step - loss: 0.0424 - accuracy: 0.9846 - val_loss: 2.5461 - val_accuracy: 0.6250\n",
      "Epoch 54/100\n",
      "911/911 [==============================] - 5s 5ms/step - loss: 0.0280 - accuracy: 0.9901 - val_loss: 2.7176 - val_accuracy: 0.5375\n",
      "Epoch 55/100\n",
      "911/911 [==============================] - 5s 5ms/step - loss: 0.0268 - accuracy: 0.9890 - val_loss: 3.3719 - val_accuracy: 0.5750\n",
      "Epoch 56/100\n",
      "911/911 [==============================] - 5s 5ms/step - loss: 0.0174 - accuracy: 0.9934 - val_loss: 3.6984 - val_accuracy: 0.5750\n",
      "Epoch 57/100\n",
      "911/911 [==============================] - 5s 5ms/step - loss: 0.0324 - accuracy: 0.9857 - val_loss: 2.7853 - val_accuracy: 0.5875\n",
      "Epoch 58/100\n",
      "911/911 [==============================] - 5s 5ms/step - loss: 0.0159 - accuracy: 0.9945 - val_loss: 3.2645 - val_accuracy: 0.6125\n",
      "Epoch 59/100\n",
      "911/911 [==============================] - 5s 5ms/step - loss: 0.0184 - accuracy: 0.9923 - val_loss: 2.9533 - val_accuracy: 0.6000\n",
      "Epoch 60/100\n",
      "911/911 [==============================] - 5s 5ms/step - loss: 0.0107 - accuracy: 0.9956 - val_loss: 3.1720 - val_accuracy: 0.6250\n",
      "Epoch 61/100\n",
      "911/911 [==============================] - 5s 5ms/step - loss: 0.0276 - accuracy: 0.9901 - val_loss: 2.7934 - val_accuracy: 0.6000\n",
      "Epoch 62/100\n",
      "911/911 [==============================] - 5s 5ms/step - loss: 0.0166 - accuracy: 0.9934 - val_loss: 3.4316 - val_accuracy: 0.5625\n",
      "Epoch 63/100\n",
      "911/911 [==============================] - 5s 5ms/step - loss: 0.0166 - accuracy: 0.9945 - val_loss: 2.8283 - val_accuracy: 0.6250\n",
      "Epoch 64/100\n",
      "911/911 [==============================] - 5s 5ms/step - loss: 0.0168 - accuracy: 0.9956 - val_loss: 3.2064 - val_accuracy: 0.5750\n",
      "Epoch 65/100\n",
      "911/911 [==============================] - 5s 5ms/step - loss: 0.0196 - accuracy: 0.9934 - val_loss: 3.0638 - val_accuracy: 0.6000\n",
      "Epoch 66/100\n",
      "911/911 [==============================] - 5s 5ms/step - loss: 0.0251 - accuracy: 0.9901 - val_loss: 3.4942 - val_accuracy: 0.6000\n",
      "Epoch 67/100\n",
      "911/911 [==============================] - 5s 5ms/step - loss: 0.0116 - accuracy: 0.9945 - val_loss: 3.6578 - val_accuracy: 0.5875\n",
      "Epoch 68/100\n",
      "911/911 [==============================] - 5s 5ms/step - loss: 0.0159 - accuracy: 0.9923 - val_loss: 3.4724 - val_accuracy: 0.6000\n",
      "Epoch 69/100\n",
      "911/911 [==============================] - 5s 5ms/step - loss: 0.0096 - accuracy: 0.9956 - val_loss: 4.1210 - val_accuracy: 0.5750\n",
      "Epoch 70/100\n",
      "911/911 [==============================] - 5s 5ms/step - loss: 0.0088 - accuracy: 0.9967 - val_loss: 4.1918 - val_accuracy: 0.5750\n",
      "Epoch 71/100\n",
      "911/911 [==============================] - 5s 5ms/step - loss: 0.0184 - accuracy: 0.9890 - val_loss: 3.7278 - val_accuracy: 0.5625\n",
      "Epoch 72/100\n",
      "911/911 [==============================] - 5s 5ms/step - loss: 0.0147 - accuracy: 0.9967 - val_loss: 4.1081 - val_accuracy: 0.5625\n",
      "Epoch 73/100\n",
      "911/911 [==============================] - 5s 5ms/step - loss: 0.0112 - accuracy: 0.9967 - val_loss: 4.1010 - val_accuracy: 0.5625\n",
      "Epoch 74/100\n",
      "911/911 [==============================] - 5s 5ms/step - loss: 0.0214 - accuracy: 0.9923 - val_loss: 3.3107 - val_accuracy: 0.5500\n",
      "Epoch 75/100\n",
      "911/911 [==============================] - 5s 5ms/step - loss: 0.0169 - accuracy: 0.9934 - val_loss: 3.6977 - val_accuracy: 0.5625\n",
      "Epoch 76/100\n",
      "911/911 [==============================] - 5s 5ms/step - loss: 0.0149 - accuracy: 0.9967 - val_loss: 3.6807 - val_accuracy: 0.5750\n",
      "Epoch 77/100\n",
      "911/911 [==============================] - 5s 5ms/step - loss: 0.0130 - accuracy: 0.9967 - val_loss: 3.8528 - val_accuracy: 0.5500\n",
      "Epoch 78/100\n",
      "911/911 [==============================] - 5s 5ms/step - loss: 0.0136 - accuracy: 0.9923 - val_loss: 3.7936 - val_accuracy: 0.5875\n",
      "Epoch 79/100\n",
      "911/911 [==============================] - 5s 5ms/step - loss: 0.0256 - accuracy: 0.9879 - val_loss: 3.5207 - val_accuracy: 0.6375\n",
      "Epoch 80/100\n",
      "911/911 [==============================] - 5s 5ms/step - loss: 0.0106 - accuracy: 0.9956 - val_loss: 3.9156 - val_accuracy: 0.5875\n",
      "Epoch 81/100\n",
      "911/911 [==============================] - 5s 5ms/step - loss: 0.0175 - accuracy: 0.9923 - val_loss: 3.8799 - val_accuracy: 0.6500\n",
      "Epoch 82/100\n",
      "911/911 [==============================] - 5s 5ms/step - loss: 0.0145 - accuracy: 0.9934 - val_loss: 3.8579 - val_accuracy: 0.6000\n",
      "Epoch 83/100\n",
      "911/911 [==============================] - 5s 5ms/step - loss: 0.0059 - accuracy: 0.9989 - val_loss: 4.0758 - val_accuracy: 0.5875\n",
      "Epoch 84/100\n",
      "911/911 [==============================] - 5s 5ms/step - loss: 0.0065 - accuracy: 0.9978 - val_loss: 4.1951 - val_accuracy: 0.5750\n",
      "Epoch 85/100\n",
      "911/911 [==============================] - 5s 5ms/step - loss: 0.0082 - accuracy: 0.9978 - val_loss: 4.2038 - val_accuracy: 0.6000\n",
      "Epoch 86/100\n",
      "911/911 [==============================] - 5s 5ms/step - loss: 0.0051 - accuracy: 0.9989 - val_loss: 4.3435 - val_accuracy: 0.6000\n",
      "Epoch 87/100\n",
      "911/911 [==============================] - 5s 5ms/step - loss: 0.0113 - accuracy: 0.9945 - val_loss: 4.2784 - val_accuracy: 0.6250\n",
      "Epoch 88/100\n",
      "911/911 [==============================] - 5s 5ms/step - loss: 0.0247 - accuracy: 0.9912 - val_loss: 3.5766 - val_accuracy: 0.6000\n",
      "Epoch 89/100\n",
      "911/911 [==============================] - 5s 5ms/step - loss: 0.0244 - accuracy: 0.9945 - val_loss: 3.5243 - val_accuracy: 0.6000\n",
      "Epoch 90/100\n",
      "911/911 [==============================] - 5s 5ms/step - loss: 0.0129 - accuracy: 0.9956 - val_loss: 3.4105 - val_accuracy: 0.6250\n",
      "Epoch 91/100\n",
      "911/911 [==============================] - 5s 5ms/step - loss: 0.0097 - accuracy: 0.9956 - val_loss: 4.1221 - val_accuracy: 0.6125\n",
      "Epoch 92/100\n",
      "911/911 [==============================] - 5s 5ms/step - loss: 0.0125 - accuracy: 0.9956 - val_loss: 3.9509 - val_accuracy: 0.5750\n",
      "Epoch 93/100\n",
      "911/911 [==============================] - 5s 5ms/step - loss: 0.0105 - accuracy: 0.9956 - val_loss: 4.3861 - val_accuracy: 0.5750\n",
      "Epoch 94/100\n",
      "911/911 [==============================] - 5s 5ms/step - loss: 0.0218 - accuracy: 0.9923 - val_loss: 3.7324 - val_accuracy: 0.5250\n",
      "Epoch 95/100\n",
      "911/911 [==============================] - 5s 5ms/step - loss: 0.0113 - accuracy: 0.9956 - val_loss: 3.4062 - val_accuracy: 0.5500\n",
      "Epoch 96/100\n",
      "911/911 [==============================] - 5s 5ms/step - loss: 0.0121 - accuracy: 0.9967 - val_loss: 3.6684 - val_accuracy: 0.5875\n",
      "Epoch 97/100\n",
      "911/911 [==============================] - 5s 5ms/step - loss: 0.0071 - accuracy: 0.9978 - val_loss: 4.0516 - val_accuracy: 0.5875\n",
      "Epoch 98/100\n",
      "911/911 [==============================] - 5s 5ms/step - loss: 0.0099 - accuracy: 0.9978 - val_loss: 3.8653 - val_accuracy: 0.6000\n",
      "Epoch 99/100\n",
      "911/911 [==============================] - 5s 5ms/step - loss: 0.0038 - accuracy: 0.9989 - val_loss: 4.0465 - val_accuracy: 0.6000\n",
      "Epoch 100/100\n",
      "911/911 [==============================] - 5s 5ms/step - loss: 0.0075 - accuracy: 0.9967 - val_loss: 4.0569 - val_accuracy: 0.6250\n",
      "Test loss: 4.056895065307617\n",
      "Test accuracy: 0.625\n"
     ]
    }
   ],
   "source": [
    "history = model.fit(x_train, y_train,\n",
    "          batch_size=batch_size,\n",
    "          epochs=epochs,\n",
    "          verbose=1,\n",
    "          validation_data=(x_test, y_test))\n",
    "score = model.evaluate(x_test, y_test, verbose=0)\n",
    "print('Test loss:', score[0])\n",
    "print('Test accuracy:', score[1])"
   ]
  },
  {
   "cell_type": "code",
   "execution_count": 87,
   "metadata": {
    "colab": {
     "base_uri": "https://localhost:8080/",
     "height": 943
    },
    "colab_type": "code",
    "id": "zEWwd05eykI3",
    "outputId": "5c13cd4d-8494-40ea-eb48-cccacc75d85c"
   },
   "outputs": [
    {
     "ename": "KeyError",
     "evalue": "'acc'",
     "output_type": "error",
     "traceback": [
      "\u001b[0;31m---------------------------------------------------------------------------\u001b[0m",
      "\u001b[0;31mKeyError\u001b[0m                                  Traceback (most recent call last)",
      "\u001b[0;32m<ipython-input-87-0cab5c707e41>\u001b[0m in \u001b[0;36m<module>\u001b[0;34m\u001b[0m\n\u001b[1;32m      1\u001b[0m \u001b[0;31m# Plot training & validation accuracy values\u001b[0m\u001b[0;34m\u001b[0m\u001b[0;34m\u001b[0m\u001b[0m\n\u001b[0;32m----> 2\u001b[0;31m \u001b[0mplt\u001b[0m\u001b[0;34m.\u001b[0m\u001b[0mplot\u001b[0m\u001b[0;34m(\u001b[0m\u001b[0mhistory\u001b[0m\u001b[0;34m.\u001b[0m\u001b[0mhistory\u001b[0m\u001b[0;34m[\u001b[0m\u001b[0;34m'acc'\u001b[0m\u001b[0;34m]\u001b[0m\u001b[0;34m)\u001b[0m\u001b[0;34m\u001b[0m\u001b[0m\n\u001b[0m\u001b[1;32m      3\u001b[0m \u001b[0mplt\u001b[0m\u001b[0;34m.\u001b[0m\u001b[0mplot\u001b[0m\u001b[0;34m(\u001b[0m\u001b[0mhistory\u001b[0m\u001b[0;34m.\u001b[0m\u001b[0mhistory\u001b[0m\u001b[0;34m[\u001b[0m\u001b[0;34m'val_acc'\u001b[0m\u001b[0;34m]\u001b[0m\u001b[0;34m)\u001b[0m\u001b[0;34m\u001b[0m\u001b[0m\n\u001b[1;32m      4\u001b[0m \u001b[0mplt\u001b[0m\u001b[0;34m.\u001b[0m\u001b[0mtitle\u001b[0m\u001b[0;34m(\u001b[0m\u001b[0;34m'Model accuracy'\u001b[0m\u001b[0;34m)\u001b[0m\u001b[0;34m\u001b[0m\u001b[0m\n\u001b[1;32m      5\u001b[0m \u001b[0mplt\u001b[0m\u001b[0;34m.\u001b[0m\u001b[0mylabel\u001b[0m\u001b[0;34m(\u001b[0m\u001b[0;34m'Accuracy'\u001b[0m\u001b[0;34m)\u001b[0m\u001b[0;34m\u001b[0m\u001b[0m\n",
      "\u001b[0;31mKeyError\u001b[0m: 'acc'"
     ]
    }
   ],
   "source": [
    "# Plot training & validation accuracy values\n",
    "plt.plot(history.history['acc'])\n",
    "plt.plot(history.history['val_acc'])\n",
    "plt.title('Model accuracy')\n",
    "plt.ylabel('Accuracy')\n",
    "plt.xlabel('Epoch')\n",
    "plt.legend(['Train', 'Test'], loc='upper left')\n",
    "plt.show()\n",
    "\n",
    "# Plot training & validation loss values\n",
    "plt.plot(history.history['loss'])\n",
    "plt.plot(history.history['val_loss'])\n",
    "plt.title('Model loss')\n",
    "plt.ylabel('Loss')\n",
    "plt.xlabel('Epoch')\n",
    "plt.legend(['Train', 'Test'], loc='upper left')\n",
    "plt.show()"
   ]
  },
  {
   "cell_type": "code",
   "execution_count": 25,
   "metadata": {},
   "outputs": [],
   "source": [
    "pred = model.predict_classes(x_test)"
   ]
  },
  {
   "cell_type": "code",
   "execution_count": 26,
   "metadata": {},
   "outputs": [
    {
     "name": "stdout",
     "output_type": "stream",
     "text": [
      "[[25  7  0]\n",
      " [ 7 16  8]\n",
      " [ 0  8  9]]\n"
     ]
    }
   ],
   "source": [
    "from sklearn.metrics import confusion_matrix\n",
    "\n",
    "\n",
    "cm=confusion_matrix(y_test_old,pred)\n",
    "print(cm)"
   ]
  },
  {
   "cell_type": "code",
   "execution_count": 27,
   "metadata": {},
   "outputs": [
    {
     "data": {
      "text/plain": [
       "<matplotlib.axes._subplots.AxesSubplot at 0x7f935459a7b8>"
      ]
     },
     "execution_count": 27,
     "metadata": {},
     "output_type": "execute_result"
    },
    {
     "data": {
      "image/png": "[encoded data removed]",
      "text/plain": [
       "<Figure size 700x500 with 2 Axes>"
      ]
     },
     "metadata": {
      "needs_background": "light"
     },
     "output_type": "display_data"
    }
   ],
   "source": [
    "import seaborn as sn\n",
    "import matplotlib.pyplot as plt\n",
    "\n",
    "sn.heatmap(cm,annot=True,cmap='Blues', fmt='g')"
   ]
  },
  {
   "cell_type": "markdown",
   "metadata": {
    "colab": {},
    "colab_type": "code",
    "id": "1aAKXUsHapoz"
   },
   "source": [
    "#### from sklearn.model_selection import train_test_split\n",
    "(trainX, testX, trainY, testY) = train_test_split(trainxs,\n",
    "\ttrainys, test_size=0.1)"
   ]
  },
  {
   "cell_type": "code",
   "execution_count": null,
   "metadata": {
    "colab": {
     "base_uri": "https://localhost:8080/",
     "height": 54
    },
    "colab_type": "code",
    "id": "xzg_2AmxbcFi",
    "outputId": "56ec1bdd-77a1-425b-c8d2-e3ae5983aaec"
   },
   "outputs": [
    {
     "name": "stdout",
     "output_type": "stream",
     "text": [
      "[1, 0, 1, 1, 0, 0, 1, 0, 0, 1, 0, 0, 1, 1, 1, 1, 1, 1, 1, 0, 1, 1, 0, 1, 1, 0, 0, 1, 1, 1, 1, 1, 0, 1, 0, 0, 1, 0, 0, 1, 0, 0, 1, 0, 1, 1, 1, 1, 0, 1, 1, 0, 1, 0, 0, 0, 1, 1, 0, 1, 1, 0, 1, 1, 1, 0, 0, 1, 1, 1, 1, 1, 1, 0, 0, 1, 1, 1, 1, 1, 0, 0, 1, 1, 1, 1, 1, 0, 0, 1, 1, 1, 1, 1, 0, 1, 1, 1, 1, 0, 1, 1, 0, 0, 1, 0, 1, 0, 1, 1, 0, 1, 1, 1, 0, 1, 1, 1, 1, 0, 1, 1, 0, 1, 1, 1, 1, 0, 1, 1, 0, 0, 0, 0, 0, 1, 0, 1, 1, 1, 0, 1, 1, 1, 1, 0, 0, 1, 1, 0, 0, 1, 0, 0, 1, 1, 1, 1, 1, 1, 0, 1, 0, 0, 0, 0, 1, 0, 1, 1, 0, 1, 1, 1, 0, 1, 1, 0, 1, 0, 1, 1, 1, 1, 0, 1, 0, 1, 1, 1, 1, 1, 1, 1, 1, 0, 1, 0, 1, 0, 1, 0, 1, 1, 0, 1, 1, 1, 0, 1, 1, 0, 1, 1, 0, 1, 0, 0, 1, 1, 1, 0, 0, 1, 0, 0, 0, 1, 1, 0, 1, 1, 0, 0, 1, 0, 1, 1, 0, 0, 0, 0, 1, 1, 0, 0, 0, 1, 0, 1, 1, 1, 0, 1, 1, 1, 1, 0, 0, 1, 1, 1, 0, 0, 1, 1, 1, 1, 0, 1, 0, 1, 0, 1, 0, 0, 1, 0, 0, 0, 1, 0, 0, 0, 0, 1, 0, 0, 1, 1, 1, 1, 1, 0, 1, 1, 0, 0, 1, 1, 1, 0, 0, 0, 0, 1, 0, 0, 0, 0, 1, 1, 0, 0, 1, 1, 1, 1, 0, 1, 1, 1, 1, 1, 1, 1, 1, 1, 0, 1, 1, 0, 1, 1, 1, 0, 1, 0, 0, 1, 0, 1, 0, 1, 1, 0, 0, 1, 1, 0, 0, 0, 1, 0, 0, 1, 0, 0, 0, 1, 1, 1, 1, 1, 1, 1, 0, 0, 1, 0, 0, 1, 0, 1, 0, 0, 0, 0, 0, 0, 0, 1, 1, 0, 0, 1, 0, 1, 1, 1, 0, 1, 0, 0, 1, 1, 1, 1, 0, 1, 1, 0, 1, 1, 1, 1, 0, 0, 0, 1, 0, 0, 0, 0, 1, 1, 1, 0, 1, 0, 1, 0, 0, 1, 0, 0, 0, 1, 1, 1, 1, 0, 0, 0, 1, 1, 1, 1, 1, 0, 0, 1, 1, 0, 1, 1, 1, 0, 0, 0, 0, 1, 0, 1, 1, 0, 1, 0, 0, 1, 1, 1, 1, 0, 1, 1, 0, 0, 0, 1, 1, 1, 1, 1, 0, 1, 1, 0, 1, 1, 0, 0, 1, 1, 1, 0, 0, 1, 0, 1, 0, 1, 1, 0, 0, 0, 1, 0, 1, 0, 1, 0, 0, 0, 1, 0, 1, 1, 0, 0, 1, 0, 0, 0, 0, 1, 1, 0, 1, 1, 0, 1, 1, 1, 1, 1, 1, 1, 0, 0, 1, 1, 0, 1, 1, 1, 0, 1, 0, 0, 1, 1, 0, 1, 0, 1, 0, 1, 1, 0, 0, 1, 1, 1, 0, 0, 1, 1, 1, 1, 1, 1, 1, 0, 1, 1, 1, 0, 1, 0, 0, 0, 0, 1, 0, 1, 1, 1, 1, 0, 1, 1, 1, 1, 1, 0, 0, 0, 0, 1, 1, 1, 1, 1, 0, 1, 0, 1, 0, 1, 0, 0, 1, 0, 0, 1, 1, 1, 1, 1, 0, 1, 0, 1, 0, 1, 0, 1, 1, 0, 0, 1, 0, 1, 0, 0, 1, 0, 0, 0, 1, 1, 1, 1, 1, 1, 1, 1, 1, 1, 1, 0, 1, 1, 1, 1, 1, 1, 0, 0, 0, 1, 0, 0, 1, 0, 1, 1, 1, 0, 1, 0, 1, 1, 1, 0, 0, 0, 1, 1, 1, 1, 1, 0, 0, 1, 1, 0, 0, 1, 0, 0, 0, 1, 0, 1, 1, 1, 1, 0, 1, 0, 0, 0, 1, 1, 1, 1, 1, 1, 0, 0, 1, 1, 0, 1, 1, 0, 1, 0, 1, 0, 1, 0, 1, 0, 1, 1, 1, 1, 1, 1, 1, 0, 1, 1, 0, 1, 0, 0, 1, 1, 0, 1, 1, 0, 1, 0, 0, 1, 1, 1, 1, 1, 1, 0, 1, 0, 1, 1, 0, 0, 1, 0, 0, 1, 0, 0, 1, 1, 0, 1, 0, 0, 1, 0, 1, 0, 0, 1, 1, 1, 0, 0, 0, 1, 1, 1, 1, 0, 0, 1, 0, 0, 0, 0, 1, 0, 1, 1, 1, 1, 0, 1, 0, 1, 0, 0, 1, 1, 1, 0, 0, 0, 1, 0, 0, 1, 1, 1, 0, 0, 0, 0, 1, 1, 0, 0, 0, 1, 1, 1, 0, 1, 0, 1, 1, 1, 1, 1, 0, 1, 0, 1, 1, 0, 0, 0, 1, 0, 1, 1, 0, 0, 1, 0, 0, 0, 1, 1, 1, 1, 1, 1, 0, 0, 1, 0, 0, 1, 0, 1, 0, 1, 1, 1, 1, 0, 0, 0, 1, 1, 1, 1, 0, 1, 0, 0, 0, 0, 0, 1, 1, 1, 1, 1, 0, 1, 0, 0, 0, 0, 0, 1, 1, 1, 1, 0, 0, 1, 1, 1, 1, 1, 1, 1, 0, 1, 1, 1, 1, 1, 1, 1, 1, 0, 1, 0, 1, 1, 1, 0, 1, 1, 1, 1, 1, 1, 1, 0, 0, 0, 1, 0, 1, 0, 1, 0, 0, 1, 1, 0, 1, 0, 1, 0, 0, 0, 1, 1, 0, 0, 1, 1, 0, 1, 0, 1, 1, 1, 1, 1, 0, 1, 1, 0, 1, 0, 0, 0, 1, 1, 0, 0, 1, 1, 1, 0, 0, 1, 0, 0, 1, 1, 0, 0, 1, 1, 1, 1, 1]\n"
     ]
    }
   ],
   "source": [
    "from sklearn.utils import shuffle\n",
    "\n",
    "trainxs, trainys = shuffle(trainxs, trainys)\n",
    "print(trainys)"
   ]
  },
  {
   "cell_type": "markdown",
   "metadata": {
    "colab_type": "text",
    "id": "b6oVXIFjA1n4"
   },
   "source": [
    "# **Testing Gradient boosing regressor**"
   ]
  },
  {
   "cell_type": "code",
   "execution_count": null,
   "metadata": {
    "colab": {
     "base_uri": "https://localhost:8080/",
     "height": 397
    },
    "colab_type": "code",
    "id": "lpZ3lo_aagEm",
    "outputId": "c4a2784b-2194-4d22-ea77-3b98fc073546"
   },
   "outputs": [
    {
     "ename": "ValueError",
     "evalue": "ignored",
     "output_type": "error",
     "traceback": [
      "\u001b[0;31m---------------------------------------------------------------------------\u001b[0m",
      "\u001b[0;31mValueError\u001b[0m                                Traceback (most recent call last)",
      "\u001b[0;32m<ipython-input-18-820caf710c89>\u001b[0m in \u001b[0;36m<module>\u001b[0;34m()\u001b[0m\n\u001b[1;32m      5\u001b[0m \u001b[0;34m\u001b[0m\u001b[0m\n\u001b[1;32m      6\u001b[0m \u001b[0;31m# Fit the model on the training data\u001b[0m\u001b[0;34m\u001b[0m\u001b[0;34m\u001b[0m\u001b[0;34m\u001b[0m\u001b[0m\n\u001b[0;32m----> 7\u001b[0;31m \u001b[0mgradient_boosted\u001b[0m\u001b[0;34m.\u001b[0m\u001b[0mfit\u001b[0m\u001b[0;34m(\u001b[0m\u001b[0mtrainX\u001b[0m\u001b[0;34m,\u001b[0m \u001b[0mtrainY\u001b[0m\u001b[0;34m)\u001b[0m\u001b[0;34m\u001b[0m\u001b[0;34m\u001b[0m\u001b[0m\n\u001b[0m\u001b[1;32m      8\u001b[0m \u001b[0;34m\u001b[0m\u001b[0m\n\u001b[1;32m      9\u001b[0m \u001b[0;31m# Make predictions on the test data\u001b[0m\u001b[0;34m\u001b[0m\u001b[0;34m\u001b[0m\u001b[0;34m\u001b[0m\u001b[0m\n",
      "\u001b[0;32m/usr/local/lib/python3.6/dist-packages/sklearn/ensemble/_gb.py\u001b[0m in \u001b[0;36mfit\u001b[0;34m(self, X, y, sample_weight, monitor)\u001b[0m\n\u001b[1;32m   1439\u001b[0m         \u001b[0;31m# Since check_array converts both X and y to the same dtype, but the\u001b[0m\u001b[0;34m\u001b[0m\u001b[0;34m\u001b[0m\u001b[0;34m\u001b[0m\u001b[0m\n\u001b[1;32m   1440\u001b[0m         \u001b[0;31m# trees use different types for X and y, checking them separately.\u001b[0m\u001b[0;34m\u001b[0m\u001b[0;34m\u001b[0m\u001b[0;34m\u001b[0m\u001b[0m\n\u001b[0;32m-> 1441\u001b[0;31m         \u001b[0mX\u001b[0m \u001b[0;34m=\u001b[0m \u001b[0mcheck_array\u001b[0m\u001b[0;34m(\u001b[0m\u001b[0mX\u001b[0m\u001b[0;34m,\u001b[0m \u001b[0maccept_sparse\u001b[0m\u001b[0;34m=\u001b[0m\u001b[0;34m[\u001b[0m\u001b[0;34m'csr'\u001b[0m\u001b[0;34m,\u001b[0m \u001b[0;34m'csc'\u001b[0m\u001b[0;34m,\u001b[0m \u001b[0;34m'coo'\u001b[0m\u001b[0;34m]\u001b[0m\u001b[0;34m,\u001b[0m \u001b[0mdtype\u001b[0m\u001b[0;34m=\u001b[0m\u001b[0mDTYPE\u001b[0m\u001b[0;34m)\u001b[0m\u001b[0;34m\u001b[0m\u001b[0;34m\u001b[0m\u001b[0m\n\u001b[0m\u001b[1;32m   1442\u001b[0m         \u001b[0mn_samples\u001b[0m\u001b[0;34m,\u001b[0m \u001b[0mself\u001b[0m\u001b[0;34m.\u001b[0m\u001b[0mn_features_\u001b[0m \u001b[0;34m=\u001b[0m \u001b[0mX\u001b[0m\u001b[0;34m.\u001b[0m\u001b[0mshape\u001b[0m\u001b[0;34m\u001b[0m\u001b[0;34m\u001b[0m\u001b[0m\n\u001b[1;32m   1443\u001b[0m \u001b[0;34m\u001b[0m\u001b[0m\n",
      "\u001b[0;32m/usr/local/lib/python3.6/dist-packages/sklearn/utils/validation.py\u001b[0m in \u001b[0;36mcheck_array\u001b[0;34m(array, accept_sparse, accept_large_sparse, dtype, order, copy, force_all_finite, ensure_2d, allow_nd, ensure_min_samples, ensure_min_features, warn_on_dtype, estimator)\u001b[0m\n\u001b[1;32m    572\u001b[0m         \u001b[0;32mif\u001b[0m \u001b[0;32mnot\u001b[0m \u001b[0mallow_nd\u001b[0m \u001b[0;32mand\u001b[0m \u001b[0marray\u001b[0m\u001b[0;34m.\u001b[0m\u001b[0mndim\u001b[0m \u001b[0;34m>=\u001b[0m \u001b[0;36m3\u001b[0m\u001b[0;34m:\u001b[0m\u001b[0;34m\u001b[0m\u001b[0;34m\u001b[0m\u001b[0m\n\u001b[1;32m    573\u001b[0m             raise ValueError(\"Found array with dim %d. %s expected <= 2.\"\n\u001b[0;32m--> 574\u001b[0;31m                              % (array.ndim, estimator_name))\n\u001b[0m\u001b[1;32m    575\u001b[0m \u001b[0;34m\u001b[0m\u001b[0m\n\u001b[1;32m    576\u001b[0m         \u001b[0;32mif\u001b[0m \u001b[0mforce_all_finite\u001b[0m\u001b[0;34m:\u001b[0m\u001b[0;34m\u001b[0m\u001b[0;34m\u001b[0m\u001b[0m\n",
      "\u001b[0;31mValueError\u001b[0m: Found array with dim 3. Estimator expected <= 2."
     ]
    }
   ],
   "source": [
    "from sklearn.ensemble import GradientBoostingRegressor\n",
    "\n",
    "# Create the model\n",
    "gradient_boosted = GradientBoostingRegressor()\n",
    "\n",
    "# Fit the model on the training data\n",
    "gradient_boosted.fit(trainX, trainY)\n",
    "\n",
    "# Make predictions on the test data\n",
    "predictions = gradient_boosted.predict(testX)\n",
    "\n",
    "# Evaluate the model\n",
    "mae = np.mean(abs(predictions - testY))\n",
    "\n",
    "print('Gradient Boosted Performance on the test set: MAE = %0.4f' % mae)"
   ]
  },
  {
   "cell_type": "code",
   "execution_count": null,
   "metadata": {
    "colab": {},
    "colab_type": "code",
    "id": "X7obbSaMbmuj"
   },
   "outputs": [],
   "source": [
    "print(testY)"
   ]
  },
  {
   "cell_type": "code",
   "execution_count": null,
   "metadata": {
    "colab": {},
    "colab_type": "code",
    "id": "5pdv_ZFua6hP"
   },
   "outputs": [],
   "source": [
    "print(predictions)"
   ]
  },
  {
   "cell_type": "code",
   "execution_count": null,
   "metadata": {
    "colab": {},
    "colab_type": "code",
    "id": "NYjNzYplvckL"
   },
   "outputs": [],
   "source": [
    "plt.plot(testY,predictions,'.')\n",
    "plt.show()"
   ]
  },
  {
   "cell_type": "code",
   "execution_count": null,
   "metadata": {
    "colab": {},
    "colab_type": "code",
    "id": "puT9DXK2wCyi"
   },
   "outputs": [],
   "source": [
    "np.mean([abs(t-65.13) for t in testY])"
   ]
  },
  {
   "cell_type": "markdown",
   "metadata": {
    "colab_type": "text",
    "id": "PL_mK7gBBBzh"
   },
   "source": [
    "# **Testing linear regression**"
   ]
  },
  {
   "cell_type": "code",
   "execution_count": null,
   "metadata": {
    "colab": {},
    "colab_type": "code",
    "id": "W-SarGZVcTco"
   },
   "outputs": [],
   "source": [
    "from sklearn.linear_model import LinearRegression\n",
    "\n",
    "# Create the model\n",
    "linear_regression = LinearRegression()\n",
    "\n",
    "# Fit the model on the training data\n",
    "linear_regression.fit(trainX, trainY)\n",
    "\n",
    "# Make predictions on the test data\n",
    "predictions1 = linear_regression.predict(testX)\n",
    "\n",
    "# Evaluate the model\n",
    "mae = np.mean(abs(predictions1 - testY))\n",
    "\n",
    "print('Linear regression Performance on the test set: MAE = %0.4f' % mae)"
   ]
  },
  {
   "cell_type": "code",
   "execution_count": null,
   "metadata": {
    "colab": {},
    "colab_type": "code",
    "id": "73oEqxnqchuO"
   },
   "outputs": [],
   "source": [
    "print(testY)"
   ]
  },
  {
   "cell_type": "code",
   "execution_count": null,
   "metadata": {
    "colab": {},
    "colab_type": "code",
    "id": "8Uxkx3VAcjtP"
   },
   "outputs": [],
   "source": [
    "print(predictions1)"
   ]
  },
  {
   "cell_type": "code",
   "execution_count": null,
   "metadata": {
    "colab": {},
    "colab_type": "code",
    "id": "QaHFnbcRGPPW"
   },
   "outputs": [],
   "source": []
  }
 ],
 "metadata": {
  "accelerator": "GPU",
  "colab": {
   "collapsed_sections": [],
   "machine_shape": "hm",
   "name": "ActualnsightDataset.ipynb",
   "provenance": []
  },
  "kernelspec": {
   "display_name": "Python 3",
   "language": "python",
   "name": "python3"
  },
  "language_info": {
   "codemirror_mode": {
    "name": "ipython",
    "version": 3
   },
   "file_extension": ".py",
   "mimetype": "text/x-python",
   "name": "python",
   "nbconvert_exporter": "python",
   "pygments_lexer": "ipython3",
   "version": "3.5.3"
  }
 },
 "nbformat": 4,
 "nbformat_minor": 4
}
