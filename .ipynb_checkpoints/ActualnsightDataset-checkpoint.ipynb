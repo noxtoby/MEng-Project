{
 "cells": [
  {
   "cell_type": "code",
   "execution_count": 3,
   "metadata": {
    "colab": {
     "base_uri": "https://localhost:8080/",
     "height": 71
    },
    "colab_type": "code",
    "id": "6FEwDud3WpsM",
    "outputId": "9defa95c-e4c6-49e7-b23d-0fdd238bc072"
   },
   "outputs": [
    {
     "ename": "FileNotFoundError",
     "evalue": "[Errno 2] No such file or directory: 'C:\\\\Users\\\\Tom\\\\Desktop\\\\MEng-Projectinsight46labels.csv'",
     "output_type": "error",
     "traceback": [
      "\u001b[1;31m---------------------------------------------------------------------------\u001b[0m",
      "\u001b[1;31mFileNotFoundError\u001b[0m                         Traceback (most recent call last)",
      "\u001b[1;32m<ipython-input-3-05820728b6dd>\u001b[0m in \u001b[0;36m<module>\u001b[1;34m\u001b[0m\n\u001b[0;32m      7\u001b[0m \u001b[1;32mimport\u001b[0m \u001b[0mcsv\u001b[0m\u001b[1;33m\u001b[0m\u001b[1;33m\u001b[0m\u001b[0m\n\u001b[0;32m      8\u001b[0m \u001b[1;33m\u001b[0m\u001b[0m\n\u001b[1;32m----> 9\u001b[1;33m \u001b[1;32mwith\u001b[0m \u001b[0mopen\u001b[0m\u001b[1;33m(\u001b[0m\u001b[1;34mr\"C:\\Users\\Tom\\Desktop\\MEng-Projectinsight46labels.csv\"\u001b[0m\u001b[1;33m,\u001b[0m \u001b[0mnewline\u001b[0m\u001b[1;33m=\u001b[0m\u001b[1;34m''\u001b[0m\u001b[1;33m)\u001b[0m \u001b[1;32mas\u001b[0m \u001b[0mcsvfile\u001b[0m\u001b[1;33m:\u001b[0m\u001b[1;33m\u001b[0m\u001b[1;33m\u001b[0m\u001b[0m\n\u001b[0m\u001b[0;32m     10\u001b[0m     \u001b[0mdata\u001b[0m \u001b[1;33m=\u001b[0m \u001b[0mlist\u001b[0m\u001b[1;33m(\u001b[0m\u001b[0mcsv\u001b[0m\u001b[1;33m.\u001b[0m\u001b[0mreader\u001b[0m\u001b[1;33m(\u001b[0m\u001b[0mcsvfile\u001b[0m\u001b[1;33m)\u001b[0m\u001b[1;33m)\u001b[0m\u001b[1;33m\u001b[0m\u001b[1;33m\u001b[0m\u001b[0m\n\u001b[0;32m     11\u001b[0m     \u001b[0mtrainystr\u001b[0m \u001b[1;33m=\u001b[0m \u001b[0mdata\u001b[0m\u001b[1;33m[\u001b[0m\u001b[1;36m0\u001b[0m\u001b[1;33m]\u001b[0m\u001b[1;33m\u001b[0m\u001b[1;33m\u001b[0m\u001b[0m\n",
      "\u001b[1;31mFileNotFoundError\u001b[0m: [Errno 2] No such file or directory: 'C:\\\\Users\\\\Tom\\\\Desktop\\\\MEng-Projectinsight46labels.csv'"
     ]
    }
   ],
   "source": [
    "import numpy as np\n",
    "import matplotlib.pyplot as plt\n",
    "import os\n",
    "import cv2\n",
    "from tqdm import tqdm\n",
    "\n",
    "import csv\n",
    "\n",
    "with open(r\"C:\\Users\\Tom\\Desktop\\MEng-Projectinsight46labels.csv\", newline='') as csvfile:\n",
    "    data = list(csv.reader(csvfile))\n",
    "    trainystr = data[0]\n",
    "trainys = [float(i) for i in trainystr]\n",
    "print(trainys)\n",
    "\n",
    "path = r\"C:\\Users\\Tom\\Desktop\\MEng-Project\\insight46png\"\n",
    "y = []\n",
    "#path = os.path.join(DATADIR,category)  \n",
    "i = 0\n",
    "'''\n",
    "for img in sorted(os.listdir(path)):  \n",
    "    img_array = cv2.imread(os.path.join(path,img) ,cv2.IMREAD_GRAYSCALE)  # convert to array\n",
    "    img_array = cv2.resize(img_array, (400, 400))\n",
    "    #thresh = 170\n",
    "    # assign blue channel to zeros\n",
    "    #img_array = cv2.threshold(img_array, thresh, 255, cv2.THRESH_BINARY)[1]\n",
    "    #plt.imshow(img_array, cmap='gray')  # graph it\n",
    "    #plt.show()  # display!\n",
    "    img = img.strip('.png')\n",
    "    #img = img.strip('insight46_Page_')\n",
    "    #print(img)\n",
    "    #print(trainys[i])\n",
    "    i = i + 1\n",
    "    y.append(img)\n",
    "#print(y)\n",
    "#print(img_array)\n",
    "'''\n",
    "\n",
    "    "
   ]
  },
  {
   "cell_type": "code",
   "execution_count": 0,
   "metadata": {
    "colab": {
     "base_uri": "https://localhost:8080/",
     "height": 34
    },
    "colab_type": "code",
    "id": "rET88HfJZSJM",
    "outputId": "4731e728-a53e-433a-e66b-9cad79dfbea1"
   },
   "outputs": [
    {
     "name": "stderr",
     "output_type": "stream",
     "text": [
      "100%|██████████| 991/991 [04:05<00:00,  3.75it/s]\n"
     ]
    }
   ],
   "source": [
    "trainxs = []\n",
    "trainys = []\n",
    "\n",
    "for img in tqdm(sorted(os.listdir(path))):  # iterate over each image per point value\n",
    "    img_array = cv2.imread(os.path.join(path,img) ,cv2.IMREAD_GRAYSCALE)  # convert to array\n",
    "    thresh = 170\n",
    "    # assign blue channel to zeros\n",
    "    img_array = cv2.threshold(img_array, thresh, 255, cv2.THRESH_BINARY)[1]\n",
    "    image = cv2.resize(img_array, (300, 300))\n",
    "    image = cv2.bitwise_not(image)\n",
    "    trainxs.append(image)  # add this to our training_data\n",
    "    img = img.strip('b.png')\n",
    "    #trainys.append(float(img))\n",
    "trainxs = np.array(trainxs, dtype=\"float\") / 255.0\n",
    "#trainys = np.array(trainys)"
   ]
  },
  {
   "cell_type": "code",
   "execution_count": 0,
   "metadata": {
    "colab": {
     "base_uri": "https://localhost:8080/",
     "height": 286
    },
    "colab_type": "code",
    "id": "P8kiJxiAkLoT",
    "outputId": "fe330c1b-d37e-4ccd-ff61-0b277ee99d5d"
   },
   "outputs": [
    {
     "data": {
      "text/plain": [
       "<matplotlib.image.AxesImage at 0x7fae6c2fa438>"
      ]
     },
     "execution_count": 4,
     "metadata": {
      "tags": []
     },
     "output_type": "execute_result"
    },
    {
     "data": {
      "image/png": "[encoded data removed]",
      "text/plain": [
       "<Figure size 432x288 with 1 Axes>"
      ]
     },
     "metadata": {
      "tags": []
     },
     "output_type": "display_data"
    }
   ],
   "source": [
    "plt.imshow(trainxs[1], cmap='gray')"
   ]
  },
  {
   "cell_type": "code",
   "execution_count": 0,
   "metadata": {
    "colab": {
     "base_uri": "https://localhost:8080/",
     "height": 54
    },
    "colab_type": "code",
    "id": "cRmOpL0-fOYS",
    "outputId": "81e0afc4-0278-4d65-a90e-b95121fd9e0f"
   },
   "outputs": [
    {
     "name": "stdout",
     "output_type": "stream",
     "text": [
      "[80.0, 57.0, 49.0, 6.0, 60.0, 44.0, 45.0, 37.0, 80.0, 69.0, 65.0, 64.0, 80.0, 46.0, 46.0, 79.0, 71.0, 68.0, 67.0, 76.0, 68.0, 74.0, 59.0, 75.0, 59.0, 64.0, 55.0, 78.0, 61.0, 60.0, 26.0, 76.0, 57.0, 50.0, 35.0, 79.0, 63.0, 64.0, 59.0, 79.0, 49.0, 49.0, 27.0, 80.0, 62.0, 74.0, 72.0, 80.0, 80.0, 80.0, 75.0, 77.0, 30.0, 23.0, 80.0, 72.0, 69.0, 67.0, 80.0, 69.0, 64.0, 60.0, 78.0, 72.0, 72.0, 51.0, 78.0, 56.0, 62.0, 32.0, 76.0, 54.0, 65.0, 21.0, 73.0, 56.0, 48.0, 34.0, 73.0, 41.0, 38.0, 34.0, 80.0, 71.0, 72.0, 65.0, 75.0, 49.0, 42.0, 27.0, 78.0, 47.0, 54.0, 36.0, 76.0, 53.0, 55.0, 44.0, 80.0, 68.0, 66.0, 60.0, 80.0, 78.0, 78.0, 58.0, 76.0, 66.0, 63.0, 57.0, 76.0, 69.0, 71.0, 49.0, 79.0, 79.0, 74.0, 76.0, 78.0, 58.0, 55.0, 44.0, 80.0, 62.0, 64.0, 51.0, 79.0, 37.0, 39.0, 45.0, 76.0, 63.0, 59.0, 48.0, 80.0, 72.0, 73.0, 49.0, 80.0, 79.0, 77.0, 69.0, 77.0, 65.0, 66.0, 78.0, 30.0, 28.0, 14.0, 77.0, 63.0, 57.0, 54.0, 80.0, 70.0, 66.0, 41.0, 77.0, 48.0, 35.0, 32.0, 80.0, 38.0, 38.0, 34.0, 80.0, 65.0, 66.0, 66.0, 78.0, 66.0, 75.0, 53.0, 71.0, 34.0, 32.0, 31.0, 80.0, 71.0, 79.0, 71.0, 78.0, 46.0, 46.0, 34.0, 79.0, 73.0, 75.0, 50.0, 73.0, 55.0, 49.0, 36.0, 80.0, 80.0, 80.0, 60.0, 76.0, 47.0, 43.0, 40.0, 72.0, 57.0, 48.0, 19.0, 77.0, 65.0, 61.0, 51.0, 77.0, 44.0, 44.0, 28.0, 74.0, 49.0, 51.0, 40.0, 79.0, 49.0, 49.0, 33.0, 80.0, 65.0, 51.0, 43.0, 75.0, 56.0, 37.0, 32.0, 71.0, 69.0, 63.0, 34.0, 75.0, 60.0, 60.0, 43.0, 80.0, 39.0, 36.0, 23.0, 78.0, 56.0, 58.0, 15.0, 77.0, 52.0, 49.0, 33.0, 80.0, 72.0, 68.0, 65.0, 77.0, 74.0, 66.0, 61.0, 78.0, 64.0, 70.0, 38.0, 78.0, 55.0, 59.0, 53.0, 78.0, 59.0, 51.0, 42.0, 77.0, 54.0, 54.0, 39.0, 71.0, 66.0, 74.0, 64.0, 78.0, 65.0, 65.0, 56.0, 80.0, 62.0, 60.0, 37.0, 80.0, 78.0, 70.0, 63.0, 74.0, 47.0, 47.0, 46.0, 78.0, 52.0, 52.0, 29.0, 80.0, 78.0, 76.0, 74.0, 80.0, 64.0, 49.0, 35.0, 77.0, 63.0, 58.0, 58.0, 77.0, 69.0, 64.0, 38.0, 75.0, 69.0, 69.0, 58.0, 79.0, 67.0, 67.0, 32.0, 80.0, 61.0, 62.0, 62.0, 78.0, 67.0, 59.0, 35.0, 74.0, 56.0, 54.0, 38.0, 77.0, 76.0, 79.0, 60.0, 80.0, 61.0, 58.0, 30.0, 74.0, 54.0, 47.0, 31.0, 73.0, 47.0, 45.0, 42.0, 79.0, 62.0, 63.0, 59.0, 80.0, 74.0, 75.0, 74.0, 71.0, 65.0, 65.0, 45.0, 75.0, 66.0, 55.0, 31.0, 67.0, 24.0, 24.0, 78.0, 48.0, 51.0, 42.0, 73.0, 42.0, 36.0, 44.0, 79.0, 54.0, 61.0, 44.0, 77.0, 67.0, 70.0, 58.0, 80.0, 62.0, 62.0, 52.0, 78.0, 42.0, 38.0, 42.0, 80.0, 72.0, 72.0, 52.0, 78.0, 73.0, 73.0, 43.0, 77.0, 51.0, 40.0, 38.0, 74.0, 53.0, 56.0, 51.0, 76.0, 75.0, 75.0, 60.0, 69.0, 39.0, 38.0, 32.0, 78.0, 72.0, 66.0, 67.0, 78.0, 68.0, 59.0, 54.0, 73.0, 64.0, 65.0, 25.0, 80.0, 80.0, 80.0, 80.0, 75.0, 47.0, 44.0, 40.0, 80.0, 77.0, 78.0, 47.0, 79.0, 70.0, 69.0, 45.0, 80.0, 64.0, 66.0, 51.0, 77.0, 77.0, 78.0, 68.0, 79.0, 57.0, 58.0, 53.0, 80.0, 60.0, 52.0, 46.0, 74.0, 64.0, 59.0, 78.0, 52.0, 45.0, 44.0, 78.0, 43.0, 37.0, 34.0, 73.0, 48.0, 44.0, 31.0, 80.0, 61.0, 62.0, 58.0, 80.0, 73.0, 59.0, 39.0, 76.0, 43.0, 56.0, 39.0, 75.0, 52.0, 44.0, 24.0, 78.0, 33.0, 30.0, 24.0, 79.0, 69.0, 69.0, 58.0, 78.0, 52.0, 54.0, 27.0, 77.0, 68.0, 61.0, 54.0, 77.0, 72.0, 68.0, 68.0, 79.0, 61.0, 58.0, 57.0, 78.0, 68.0, 68.0, 48.0, 76.0, 79.0, 79.0, 72.0, 79.0, 73.0, 70.0, 79.0, 65.0, 69.0, 57.0, 76.0, 52.0, 37.0, 30.0, 68.0, 51.0, 41.0, 31.0, 79.0, 73.0, 71.0, 37.0, 77.0, 65.0, 67.0, 63.0, 79.0, 80.0, 75.0, 80.0, 74.0, 68.0, 53.0, 29.0, 70.0, 51.0, 54.0, 51.0, 79.0, 65.0, 64.0, 63.0, 78.0, 46.0, 49.0, 34.0, 74.0, 54.0, 47.0, 50.0, 80.0, 57.0, 44.0, 30.0, 72.0, 61.0, 56.0, 55.0, 80.0, 52.0, 45.0, 30.0, 77.0, 68.0, 69.0, 56.0, 76.0, 43.0, 33.0, 33.0, 80.0, 49.0, 55.0, 47.0, 76.0, 76.0, 73.0, 59.0, 78.0, 64.0, 64.0, 56.0, 78.0, 67.0, 68.0, 51.0, 75.0, 43.0, 45.0, 32.0, 79.0, 54.0, 53.0, 40.0, 75.0, 76.0, 76.0, 65.0, 77.0, 66.0, 62.0, 45.0, 73.0, 55.0, 55.0, 44.0, 76.0, 46.0, 46.0, 37.0, 74.0, 66.0, 72.0, 58.0, 80.0, 79.0, 76.0, 63.0, 73.0, 55.0, 56.0, 38.0, 76.0, 51.0, 40.0, 45.0, 74.0, 34.0, 35.0, 33.0, 80.0, 59.0, 59.0, 40.0, 79.0, 68.0, 62.0, 44.0, 74.0, 48.0, 40.0, 41.0, 80.0, 66.0, 62.0, 33.0, 78.0, 62.0, 61.0, 48.0, 78.0, 73.0, 71.0, 69.0, 77.0, 68.0, 63.0, 51.0, 80.0, 80.0, 68.0, 72.0, 80.0, 80.0, 80.0, 63.0, 74.0, 54.0, 37.0, 30.0, 77.0, 56.0, 42.0, 29.0, 80.0, 57.0, 59.0, 46.0, 74.0, 68.0, 60.0, 61.0, 80.0, 76.0, 75.0, 73.0, 74.0, 54.0, 54.0, 49.0, 79.0, 77.0, 75.0, 74.0, 75.0, 72.0, 78.0, 50.0, 74.0, 57.0, 57.0, 47.0, 80.0, 78.0, 76.0, 74.0, 76.0, 73.0, 74.0, 75.0, 79.0, 62.0, 57.0, 43.0, 80.0, 66.0, 60.0, 61.0, 76.0, 65.0, 53.0, 37.0, 74.0, 69.0, 66.0, 57.0, 77.0, 76.0, 74.0, 57.0, 75.0, 71.0, 71.0, 65.0, 78.0, 72.0, 70.0, 41.0, 80.0, 72.0, 78.0, 51.0, 75.0, 49.0, 46.0, 46.0, 80.0, 79.0, 52.0, 76.0, 80.0, 78.0, 59.0, 79.0, 72.0, 77.0, 74.0, 75.0, 64.0, 62.0, 60.0, 75.0, 73.0, 67.0, 37.0, 80.0, 74.0, 73.0, 50.0, 73.0, 41.0, 38.0, 39.0, 78.0, 70.0, 77.0, 57.0, 78.0, 75.0, 76.0, 54.0, 80.0, 61.0, 51.0, 41.0, 80.0, 75.0, 76.0, 61.0, 73.0, 69.0, 63.0, 65.0, 79.0, 73.0, 72.0, 62.0, 74.0, 59.0, 63.0, 51.0, 77.0, 65.0, 61.0, 42.0, 78.0, 73.0, 63.0, 48.0, 78.0, 69.0, 63.0, 32.0, 79.0, 73.0, 67.0, 49.0, 76.0, 72.0, 61.0, 43.0, 78.0, 47.0, 49.0, 28.0, 73.0, 66.0, 56.0, 50.0, 80.0, 58.0, 57.0, 44.0, 78.0, 67.0, 65.0, 38.0, 80.0, 35.0, 31.0, 18.0, 77.0, 56.0, 58.0, 36.0, 78.0, 78.0, 78.0, 49.0, 80.0, 58.0, 58.0, 54.0, 80.0, 57.0, 62.0, 62.0, 78.0, 79.0, 76.0, 75.0, 78.0, 76.0, 75.0, 57.0, 73.0, 37.0, 36.0, 26.0, 80.0, 47.0, 41.0, 13.0, 74.0, 49.0, 62.0, 44.0, 80.0, 76.0, 78.0, 77.0, 80.0, 68.0, 66.0, 67.0, 80.0, 70.0, 69.0, 56.0, 80.0, 67.0, 61.0, 57.0, 80.0, 65.0, 65.0, 61.0, 76.0, 60.0, 45.0, 39.0, 77.0, 55.0, 57.0, 80.0, 71.0, 72.0, 57.0, 77.0, 74.0, 70.0, 53.0, 79.0, 70.0, 60.0, 51.0, 80.0, 52.0, 52.0, 44.0, 76.0, 57.0, 63.0, 59.0, 80.0, 73.0, 73.0, 73.0, 73.0, 39.0, 39.0, 19.0, 76.0, 48.0, 49.0, 79.0, 73.0, 78.0, 71.0, 80.0, 58.0, 65.0, 35.0, 77.0, 60.0, 61.0, 53.0, 76.0, 47.0, 42.0, 42.0, 80.0, 72.0, 73.0, 67.0, 80.0, 53.0, 53.0, 44.0, 73.0, 63.0, 64.0, 44.0, 70.0, 51.0, 23.0, 22.0, 79.0, 44.0, 43.0, 33.0]\n"
     ]
    }
   ],
   "source": [
    "import csv\n",
    "\n",
    "with open(\"/content/drive/My Drive/insight46data/insight46labels.csv\", newline='') as csvfile:\n",
    "    data = list(csv.reader(csvfile))\n",
    "    trainystr = data[0]\n",
    "trainys = [float(i) for i in trainystr]\n",
    "print(trainys)"
   ]
  },
  {
   "cell_type": "code",
   "execution_count": 0,
   "metadata": {
    "colab": {
     "base_uri": "https://localhost:8080/",
     "height": 460
    },
    "colab_type": "code",
    "id": "HaiwOCsLocs7",
    "outputId": "48f1390d-983c-424d-ba50-722fb73c8686"
   },
   "outputs": [
    {
     "data": {
      "image/png": "[encoded data removed]",
      "text/plain": [
       "<Figure size 700x500 with 1 Axes>"
      ]
     },
     "metadata": {
      "tags": []
     },
     "output_type": "display_data"
    }
   ],
   "source": [
    "import matplotlib.pyplot as plt\n",
    "%matplotlib inline\n",
    "plt.rcParams.update({'figure.figsize':(7,5), 'figure.dpi':100})\n",
    "\n",
    "# Plot Histogram on x\n",
    "plt.hist(trainys, bins=20)\n",
    "plt.gca().set(title='Frequency Histogram', ylabel='Frequency');"
   ]
  },
  {
   "cell_type": "code",
   "execution_count": 0,
   "metadata": {
    "colab": {
     "base_uri": "https://localhost:8080/",
     "height": 34
    },
    "colab_type": "code",
    "id": "GW2PuvZrlE6A",
    "outputId": "9d11d5c8-b4f8-4134-b4f4-3aabbb5e4bcc"
   },
   "outputs": [
    {
     "data": {
      "text/plain": [
       "(991, 300, 300)"
      ]
     },
     "execution_count": 7,
     "metadata": {
      "tags": []
     },
     "output_type": "execute_result"
    }
   ],
   "source": [
    "trainxs.shape"
   ]
  },
  {
   "cell_type": "code",
   "execution_count": 0,
   "metadata": {
    "colab": {},
    "colab_type": "code",
    "id": "1ssX8tR_nAS7"
   },
   "outputs": [],
   "source": [
    "for i,y in enumerate(trainys):\n",
    "  if trainys[i] > 60:\n",
    "    trainys[i] = 1\n",
    "  else:\n",
    "    trainys[i] = 0\n",
    "  '''\n",
    "  elif trainys[i] <=60 and trainys[i] >40:\n",
    "    trainys[i] = 2\n",
    "  elif trainys[i] <=40 and trainys[i] >20:\n",
    "    trainys[i] = 1\n",
    "  '''\n"
   ]
  },
  {
   "cell_type": "code",
   "execution_count": 0,
   "metadata": {
    "colab": {
     "base_uri": "https://localhost:8080/",
     "height": 54
    },
    "colab_type": "code",
    "id": "By4BJQPQqt9O",
    "outputId": "d4c56544-c44d-47b2-daeb-8989c534f54e"
   },
   "outputs": [
    {
     "name": "stdout",
     "output_type": "stream",
     "text": [
      "[1, 0, 0, 0, 0, 0, 0, 0, 1, 1, 1, 1, 1, 0, 0, 1, 1, 1, 1, 1, 1, 1, 0, 1, 0, 1, 0, 1, 1, 0, 0, 1, 0, 0, 0, 1, 1, 1, 0, 1, 0, 0, 0, 1, 1, 1, 1, 1, 1, 1, 1, 1, 0, 0, 1, 1, 1, 1, 1, 1, 1, 0, 1, 1, 1, 0, 1, 0, 1, 0, 1, 0, 1, 0, 1, 0, 0, 0, 1, 0, 0, 0, 1, 1, 1, 1, 1, 0, 0, 0, 1, 0, 0, 0, 1, 0, 0, 0, 1, 1, 1, 0, 1, 1, 1, 0, 1, 1, 1, 0, 1, 1, 1, 0, 1, 1, 1, 1, 1, 0, 0, 0, 1, 1, 1, 0, 1, 0, 0, 0, 1, 1, 0, 0, 1, 1, 1, 0, 1, 1, 1, 1, 1, 1, 1, 1, 0, 0, 0, 1, 1, 0, 0, 1, 1, 1, 0, 1, 0, 0, 0, 1, 0, 0, 0, 1, 1, 1, 1, 1, 1, 1, 0, 1, 0, 0, 0, 1, 1, 1, 1, 1, 0, 0, 0, 1, 1, 1, 0, 1, 0, 0, 0, 1, 1, 1, 0, 1, 0, 0, 0, 1, 0, 0, 0, 1, 1, 1, 0, 1, 0, 0, 0, 1, 0, 0, 0, 1, 0, 0, 0, 1, 1, 0, 0, 1, 0, 0, 0, 1, 1, 1, 0, 1, 0, 0, 0, 1, 0, 0, 0, 1, 0, 0, 0, 1, 0, 0, 0, 1, 1, 1, 1, 1, 1, 1, 1, 1, 1, 1, 0, 1, 0, 0, 0, 1, 0, 0, 0, 1, 0, 0, 0, 1, 1, 1, 1, 1, 1, 1, 0, 1, 1, 0, 0, 1, 1, 1, 1, 1, 0, 0, 0, 1, 0, 0, 0, 1, 1, 1, 1, 1, 1, 0, 0, 1, 1, 0, 0, 1, 1, 1, 0, 1, 1, 1, 0, 1, 1, 1, 0, 1, 1, 1, 1, 1, 1, 0, 0, 1, 0, 0, 0, 1, 1, 1, 0, 1, 1, 0, 0, 1, 0, 0, 0, 1, 0, 0, 0, 1, 1, 1, 0, 1, 1, 1, 1, 1, 1, 1, 0, 1, 1, 0, 0, 1, 0, 0, 1, 0, 0, 0, 1, 0, 0, 0, 1, 0, 1, 0, 1, 1, 1, 0, 1, 1, 1, 0, 1, 0, 0, 0, 1, 1, 1, 0, 1, 1, 1, 0, 1, 0, 0, 0, 1, 0, 0, 0, 1, 1, 1, 0, 1, 0, 0, 0, 1, 1, 1, 1, 1, 1, 0, 0, 1, 1, 1, 0, 1, 1, 1, 1, 1, 0, 0, 0, 1, 1, 1, 0, 1, 1, 1, 0, 1, 1, 1, 0, 1, 1, 1, 1, 1, 0, 0, 0, 1, 0, 0, 0, 1, 1, 0, 1, 0, 0, 0, 1, 0, 0, 0, 1, 0, 0, 0, 1, 1, 1, 0, 1, 1, 0, 0, 1, 0, 0, 0, 1, 0, 0, 0, 1, 0, 0, 0, 1, 1, 1, 0, 1, 0, 0, 0, 1, 1, 1, 0, 1, 1, 1, 1, 1, 1, 0, 0, 1, 1, 1, 0, 1, 1, 1, 1, 1, 1, 1, 1, 1, 1, 0, 1, 0, 0, 0, 1, 0, 0, 0, 1, 1, 1, 0, 1, 1, 1, 1, 1, 1, 1, 1, 1, 1, 0, 0, 1, 0, 0, 0, 1, 1, 1, 1, 1, 0, 0, 0, 1, 0, 0, 0, 1, 0, 0, 0, 1, 1, 0, 0, 1, 0, 0, 0, 1, 1, 1, 0, 1, 0, 0, 0, 1, 0, 0, 0, 1, 1, 1, 0, 1, 1, 1, 0, 1, 1, 1, 0, 1, 0, 0, 0, 1, 0, 0, 0, 1, 1, 1, 1, 1, 1, 1, 0, 1, 0, 0, 0, 1, 0, 0, 0, 1, 1, 1, 0, 1, 1, 1, 1, 1, 0, 0, 0, 1, 0, 0, 0, 1, 0, 0, 0, 1, 0, 0, 0, 1, 1, 1, 0, 1, 0, 0, 0, 1, 1, 1, 0, 1, 1, 1, 0, 1, 1, 1, 1, 1, 1, 1, 0, 1, 1, 1, 1, 1, 1, 1, 1, 1, 0, 0, 0, 1, 0, 0, 0, 1, 0, 0, 0, 1, 1, 0, 1, 1, 1, 1, 1, 1, 0, 0, 0, 1, 1, 1, 1, 1, 1, 1, 0, 1, 0, 0, 0, 1, 1, 1, 1, 1, 1, 1, 1, 1, 1, 0, 0, 1, 1, 0, 1, 1, 1, 0, 0, 1, 1, 1, 0, 1, 1, 1, 0, 1, 1, 1, 1, 1, 1, 1, 0, 1, 1, 1, 0, 1, 0, 0, 0, 1, 1, 0, 1, 1, 1, 0, 1, 1, 1, 1, 1, 1, 1, 0, 1, 1, 1, 0, 1, 1, 1, 0, 1, 0, 0, 0, 1, 1, 1, 0, 1, 1, 1, 0, 1, 1, 0, 0, 1, 1, 1, 1, 1, 1, 1, 1, 1, 1, 1, 1, 1, 0, 1, 0, 1, 1, 1, 0, 1, 1, 1, 0, 1, 1, 1, 0, 1, 1, 1, 0, 1, 1, 1, 0, 1, 0, 0, 0, 1, 1, 0, 0, 1, 0, 0, 0, 1, 1, 1, 0, 1, 0, 0, 0, 1, 0, 0, 0, 1, 1, 1, 0, 1, 0, 0, 0, 1, 0, 1, 1, 1, 1, 1, 1, 1, 1, 1, 0, 1, 0, 0, 0, 1, 0, 0, 0, 1, 0, 1, 0, 1, 1, 1, 1, 1, 1, 1, 1, 1, 1, 1, 0, 1, 1, 1, 0, 1, 1, 1, 1, 1, 0, 0, 0, 1, 0, 0, 1, 1, 1, 0, 1, 1, 1, 0, 1, 1, 0, 0, 1, 0, 0, 0, 1, 0, 1, 0, 1, 1, 1, 1, 1, 0, 0, 0, 1, 0, 0, 1, 1, 1, 1, 1, 0, 1, 0, 1, 0, 1, 0, 1, 0, 0, 0, 1, 1, 1, 1, 1, 0, 0, 0, 1, 1, 1, 0, 1, 0, 0, 0, 1, 0, 0, 0]\n"
     ]
    }
   ],
   "source": [
    "print(trainys)"
   ]
  },
  {
   "cell_type": "code",
   "execution_count": 0,
   "metadata": {
    "colab": {
     "base_uri": "https://localhost:8080/",
     "height": 523
    },
    "colab_type": "code",
    "id": "LbwGfgsqrHBx",
    "outputId": "094fdf21-da52-4540-befd-273627f492fe"
   },
   "outputs": [
    {
     "name": "stderr",
     "output_type": "stream",
     "text": [
      "Using TensorFlow backend.\n"
     ]
    },
    {
     "data": {
      "text/html": [
       "<p style=\"color: red;\">\n",
       "The default version of TensorFlow in Colab will soon switch to TensorFlow 2.x.<br>\n",
       "We recommend you <a href=\"https://www.tensorflow.org/guide/migrate\" target=\"_blank\">upgrade</a> now \n",
       "or ensure your notebook will continue to use TensorFlow 1.x via the <code>%tensorflow_version 1.x</code> magic:\n",
       "<a href=\"https://colab.research.google.com/notebooks/tensorflow_version.ipynb\" target=\"_blank\">more info</a>.</p>\n"
      ],
      "text/plain": [
       "<IPython.core.display.HTML object>"
      ]
     },
     "metadata": {
      "tags": []
     },
     "output_type": "display_data"
    },
    {
     "name": "stdout",
     "output_type": "stream",
     "text": [
      "[1. 0.]\n"
     ]
    },
    {
     "data": {
      "image/png": "[encoded data removed]",
      "text/plain": [
       "<Figure size 700x500 with 1 Axes>"
      ]
     },
     "metadata": {
      "tags": []
     },
     "output_type": "display_data"
    }
   ],
   "source": [
    "from __future__ import print_function\n",
    "import keras\n",
    "from keras.models import Sequential\n",
    "from keras.layers import Dense, Dropout, Flatten\n",
    "from keras.layers import Conv2D, MaxPooling2D\n",
    "from keras import backend as K\n",
    "\n",
    "batch_size = 32\n",
    "epochs = 15\n",
    "\n",
    "# input image dimensions\n",
    "img_rows, img_cols = 300, 300\n",
    "\n",
    "\n",
    "import numpy as np\n",
    "import matplotlib.pyplot as plt\n",
    "import os\n",
    "import cv2\n",
    "from tqdm import tqdm\n",
    "import csv\n",
    "from sklearn.utils import shuffle\n",
    "from sklearn.model_selection import train_test_split\n",
    "from skimage.transform import rotate\n",
    "from keras.models import Sequential\n",
    "from keras.layers import Dense\n",
    "from sklearn import preprocessing\n",
    "import pandas as pd\n",
    "\n",
    "from sklearn.model_selection import train_test_split\n",
    "from keras.utils.np_utils import to_categorical\n",
    "from sklearn.model_selection import train_test_split\n",
    "np.set_printoptions(threshold=np.inf)\n",
    "\n",
    "#trainys = [0 if x==1 else x for x in trainys]\n",
    "#trainys = [2 if x==3 else x for x in trainys]\n",
    "#trainys = [4 if x==5 else x for x in trainys]\n",
    "trainxs1 = np.asarray(trainxs, dtype=np.float32)\n",
    "trainys1 = np.asarray(trainys, dtype=np.int)\n",
    "#print(trainys)\n",
    "\n",
    "\n",
    "\n",
    "x_train, x_test, y_train_old, y_test_old = train_test_split(trainxs1, trainys1, test_size=0.08, random_state=42)\n",
    "y_train = to_categorical(y_train_old)\n",
    "y_test = to_categorical(y_test_old)\n",
    "#print(y_train)\n",
    "plt.imshow(x_test[1], cmap='gray')\n",
    "print(y_test[1])\n",
    "\n"
   ]
  },
  {
   "cell_type": "code",
   "execution_count": 0,
   "metadata": {
    "colab": {
     "base_uri": "https://localhost:8080/",
     "height": 34
    },
    "colab_type": "code",
    "id": "9suhFobBrjCN",
    "outputId": "6a1fdf3e-f3f4-4854-8e9a-a57cf5136f93"
   },
   "outputs": [
    {
     "data": {
      "text/plain": [
       "(911, 300, 300, 1)"
      ]
     },
     "execution_count": 11,
     "metadata": {
      "tags": []
     },
     "output_type": "execute_result"
    }
   ],
   "source": [
    "x_train = x_train.reshape(x_train.shape[0], img_rows, img_cols, 1)\n",
    "x_test = x_test.reshape(x_test.shape[0], img_rows, img_cols, 1)\n",
    "#x_test = x_test.reshape(x_test.shape[0], img_rows, img_cols, 1)\n",
    "input_shape = (img_rows, img_cols, 1)\n",
    "x_train.shape"
   ]
  },
  {
   "cell_type": "code",
   "execution_count": 0,
   "metadata": {
    "colab": {
     "base_uri": "https://localhost:8080/",
     "height": 548
    },
    "colab_type": "code",
    "id": "vPGs4OpOumlY",
    "outputId": "b2f84bed-693d-4c1a-c64b-8e66d9f936fb"
   },
   "outputs": [
    {
     "name": "stdout",
     "output_type": "stream",
     "text": [
      "[name: \"/device:CPU:0\"\n",
      "device_type: \"CPU\"\n",
      "memory_limit: 268435456\n",
      "locality {\n",
      "}\n",
      "incarnation: 9410626616567976154\n",
      ", name: \"/device:XLA_CPU:0\"\n",
      "device_type: \"XLA_CPU\"\n",
      "memory_limit: 17179869184\n",
      "locality {\n",
      "}\n",
      "incarnation: 7839120847489678780\n",
      "physical_device_desc: \"device: XLA_CPU device\"\n",
      ", name: \"/device:XLA_GPU:0\"\n",
      "device_type: \"XLA_GPU\"\n",
      "memory_limit: 17179869184\n",
      "locality {\n",
      "}\n",
      "incarnation: 9791123086496437429\n",
      "physical_device_desc: \"device: XLA_GPU device\"\n",
      ", name: \"/device:GPU:0\"\n",
      "device_type: \"GPU\"\n",
      "memory_limit: 11330115994\n",
      "locality {\n",
      "  bus_id: 1\n",
      "  links {\n",
      "  }\n",
      "}\n",
      "incarnation: 12974404466172091533\n",
      "physical_device_desc: \"device: 0, name: Tesla K80, pci bus id: 0000:00:04.0, compute capability: 3.7\"\n",
      "]\n"
     ]
    }
   ],
   "source": [
    "from tensorflow.python.client import device_lib\n",
    "print(device_lib.list_local_devices())"
   ]
  },
  {
   "cell_type": "code",
   "execution_count": 0,
   "metadata": {
    "colab": {
     "base_uri": "https://localhost:8080/",
     "height": 634
    },
    "colab_type": "code",
    "id": "2p6nWpeHrrG6",
    "outputId": "0354db8f-7298-4c0a-b8dc-7988e1117f9f"
   },
   "outputs": [
    {
     "name": "stdout",
     "output_type": "stream",
     "text": [
      "x_train shape: (911, 300, 300, 1)\n",
      "y_train shape: (911, 2)\n",
      "911 train samples\n",
      "80 test samples\n",
      "WARNING:tensorflow:From /usr/local/lib/python3.6/dist-packages/keras/backend/tensorflow_backend.py:66: The name tf.get_default_graph is deprecated. Please use tf.compat.v1.get_default_graph instead.\n",
      "\n",
      "WARNING:tensorflow:From /usr/local/lib/python3.6/dist-packages/keras/backend/tensorflow_backend.py:541: The name tf.placeholder is deprecated. Please use tf.compat.v1.placeholder instead.\n",
      "\n",
      "WARNING:tensorflow:From /usr/local/lib/python3.6/dist-packages/keras/backend/tensorflow_backend.py:4432: The name tf.random_uniform is deprecated. Please use tf.random.uniform instead.\n",
      "\n",
      "WARNING:tensorflow:From /usr/local/lib/python3.6/dist-packages/keras/backend/tensorflow_backend.py:4267: The name tf.nn.max_pool is deprecated. Please use tf.nn.max_pool2d instead.\n",
      "\n",
      "WARNING:tensorflow:From /usr/local/lib/python3.6/dist-packages/keras/optimizers.py:793: The name tf.train.Optimizer is deprecated. Please use tf.compat.v1.train.Optimizer instead.\n",
      "\n",
      "WARNING:tensorflow:From /usr/local/lib/python3.6/dist-packages/keras/backend/tensorflow_backend.py:3576: The name tf.log is deprecated. Please use tf.math.log instead.\n",
      "\n",
      "Model: \"sequential_1\"\n",
      "_________________________________________________________________\n",
      "Layer (type)                 Output Shape              Param #   \n",
      "=================================================================\n",
      "conv2d_1 (Conv2D)            (None, 296, 296, 32)      832       \n",
      "_________________________________________________________________\n",
      "conv2d_2 (Conv2D)            (None, 292, 292, 64)      51264     \n",
      "_________________________________________________________________\n",
      "max_pooling2d_1 (MaxPooling2 (None, 146, 146, 64)      0         \n",
      "_________________________________________________________________\n",
      "flatten_1 (Flatten)          (None, 1364224)           0         \n",
      "_________________________________________________________________\n",
      "dense_1 (Dense)              (None, 128)               174620800 \n",
      "_________________________________________________________________\n",
      "dense_2 (Dense)              (None, 2)                 258       \n",
      "=================================================================\n",
      "Total params: 174,673,154\n",
      "Trainable params: 174,673,154\n",
      "Non-trainable params: 0\n",
      "_________________________________________________________________\n"
     ]
    }
   ],
   "source": [
    "print('x_train shape:', x_train.shape)\n",
    "x_train = np.array(x_train)\n",
    "x_test = np.array(x_test)\n",
    "\n",
    "#print(x_train[3])\n",
    "x_train = x_train.astype('float32')\n",
    "x_test = x_test.astype('float32')\n",
    "x_train /= 255\n",
    "x_test /= 255\n",
    "print('y_train shape:', y_train.shape)\n",
    "print(x_train.shape[0], 'train samples')\n",
    "print(x_test.shape[0], 'test samples')\n",
    "\n",
    "model = Sequential()\n",
    "model.add(Conv2D(32, kernel_size=(5, 5),\n",
    "                 activation='relu',\n",
    "                 input_shape=input_shape))\n",
    "model.add(Conv2D(64, (5, 5), activation='relu'))\n",
    "model.add(MaxPooling2D(pool_size=(2, 2)))\n",
    "model.add(Flatten())\n",
    "model.add(Dense(128, activation='relu'))\n",
    "model.add(Dense(2, activation='softmax'))\n",
    "\n",
    "model.compile(loss=keras.losses.categorical_crossentropy,\n",
    "              optimizer=keras.optimizers.Adadelta(),\n",
    "              metrics=['accuracy'])\n",
    "model.summary()"
   ]
  },
  {
   "cell_type": "code",
   "execution_count": 0,
   "metadata": {
    "colab": {
     "base_uri": "https://localhost:8080/",
     "height": 908
    },
    "colab_type": "code",
    "id": "EnT7KdIhrtV5",
    "outputId": "6a373657-1dec-4ce5-8c99-cd6b7843270e"
   },
   "outputs": [
    {
     "name": "stdout",
     "output_type": "stream",
     "text": [
      "WARNING:tensorflow:From /usr/local/lib/python3.6/dist-packages/tensorflow_core/python/ops/math_grad.py:1424: where (from tensorflow.python.ops.array_ops) is deprecated and will be removed in a future version.\n",
      "Instructions for updating:\n",
      "Use tf.where in 2.0, which has the same broadcast rule as np.where\n",
      "WARNING:tensorflow:From /usr/local/lib/python3.6/dist-packages/keras/backend/tensorflow_backend.py:1033: The name tf.assign_add is deprecated. Please use tf.compat.v1.assign_add instead.\n",
      "\n",
      "WARNING:tensorflow:From /usr/local/lib/python3.6/dist-packages/keras/backend/tensorflow_backend.py:1020: The name tf.assign is deprecated. Please use tf.compat.v1.assign instead.\n",
      "\n",
      "WARNING:tensorflow:From /usr/local/lib/python3.6/dist-packages/keras/backend/tensorflow_backend.py:3005: The name tf.Session is deprecated. Please use tf.compat.v1.Session instead.\n",
      "\n",
      "Train on 911 samples, validate on 80 samples\n",
      "Epoch 1/15\n",
      "WARNING:tensorflow:From /usr/local/lib/python3.6/dist-packages/keras/backend/tensorflow_backend.py:190: The name tf.get_default_session is deprecated. Please use tf.compat.v1.get_default_session instead.\n",
      "\n",
      "WARNING:tensorflow:From /usr/local/lib/python3.6/dist-packages/keras/backend/tensorflow_backend.py:197: The name tf.ConfigProto is deprecated. Please use tf.compat.v1.ConfigProto instead.\n",
      "\n",
      "WARNING:tensorflow:From /usr/local/lib/python3.6/dist-packages/keras/backend/tensorflow_backend.py:207: The name tf.global_variables is deprecated. Please use tf.compat.v1.global_variables instead.\n",
      "\n",
      "WARNING:tensorflow:From /usr/local/lib/python3.6/dist-packages/keras/backend/tensorflow_backend.py:216: The name tf.is_variable_initialized is deprecated. Please use tf.compat.v1.is_variable_initialized instead.\n",
      "\n",
      "WARNING:tensorflow:From /usr/local/lib/python3.6/dist-packages/keras/backend/tensorflow_backend.py:223: The name tf.variables_initializer is deprecated. Please use tf.compat.v1.variables_initializer instead.\n",
      "\n",
      "911/911 [==============================] - 41s 45ms/step - loss: 0.6956 - acc: 0.5620 - val_loss: 0.6882 - val_acc: 0.5500\n",
      "Epoch 2/15\n",
      "911/911 [==============================] - 22s 24ms/step - loss: 0.6845 - acc: 0.5818 - val_loss: 0.6882 - val_acc: 0.5500\n",
      "Epoch 3/15\n",
      "911/911 [==============================] - 22s 24ms/step - loss: 0.6820 - acc: 0.5818 - val_loss: 0.6881 - val_acc: 0.5500\n",
      "Epoch 4/15\n",
      "911/911 [==============================] - 22s 24ms/step - loss: 0.6843 - acc: 0.5818 - val_loss: 0.6884 - val_acc: 0.5500\n",
      "Epoch 5/15\n",
      "911/911 [==============================] - 22s 24ms/step - loss: 0.6817 - acc: 0.5818 - val_loss: 0.6991 - val_acc: 0.5500\n",
      "Epoch 6/15\n",
      "911/911 [==============================] - 22s 24ms/step - loss: 0.6837 - acc: 0.5818 - val_loss: 0.6882 - val_acc: 0.5500\n",
      "Epoch 7/15\n",
      "911/911 [==============================] - 22s 24ms/step - loss: 0.6816 - acc: 0.5818 - val_loss: 0.6889 - val_acc: 0.5500\n",
      "Epoch 8/15\n",
      "911/911 [==============================] - 22s 24ms/step - loss: 0.6827 - acc: 0.5818 - val_loss: 0.6891 - val_acc: 0.5500\n",
      "Epoch 9/15\n",
      "911/911 [==============================] - 22s 24ms/step - loss: 0.6808 - acc: 0.5818 - val_loss: 0.6891 - val_acc: 0.5500\n",
      "Epoch 10/15\n",
      "911/911 [==============================] - 22s 24ms/step - loss: 0.6814 - acc: 0.5818 - val_loss: 0.6989 - val_acc: 0.5500\n",
      "Epoch 11/15\n",
      "911/911 [==============================] - 22s 24ms/step - loss: 0.6823 - acc: 0.5818 - val_loss: 0.6899 - val_acc: 0.5500\n",
      "Epoch 12/15\n",
      "911/911 [==============================] - 22s 24ms/step - loss: 0.6816 - acc: 0.5818 - val_loss: 0.6894 - val_acc: 0.5500\n",
      "Epoch 13/15\n",
      "911/911 [==============================] - 22s 24ms/step - loss: 0.6804 - acc: 0.5818 - val_loss: 0.6889 - val_acc: 0.5500\n",
      "Epoch 14/15\n",
      "911/911 [==============================] - 22s 24ms/step - loss: 0.6810 - acc: 0.5818 - val_loss: 0.6892 - val_acc: 0.5500\n",
      "Epoch 15/15\n",
      "911/911 [==============================] - 22s 24ms/step - loss: 0.6808 - acc: 0.5818 - val_loss: 0.6886 - val_acc: 0.5500\n",
      "Test loss: 0.6885521888732911\n",
      "Test accuracy: 0.55\n"
     ]
    }
   ],
   "source": [
    "history = model.fit(x_train, y_train,\n",
    "          batch_size=batch_size,\n",
    "          epochs=epochs,\n",
    "          verbose=1,\n",
    "          validation_data=(x_test, y_test))\n",
    "score = model.evaluate(x_test, y_test, verbose=0)\n",
    "print('Test loss:', score[0])\n",
    "print('Test accuracy:', score[1])"
   ]
  },
  {
   "cell_type": "code",
   "execution_count": 0,
   "metadata": {
    "colab": {
     "base_uri": "https://localhost:8080/",
     "height": 943
    },
    "colab_type": "code",
    "id": "zEWwd05eykI3",
    "outputId": "5c13cd4d-8494-40ea-eb48-cccacc75d85c"
   },
   "outputs": [
    {
     "data": {
      "image/png": "[encoded data removed]",
      "text/plain": [
       "<Figure size 700x500 with 1 Axes>"
      ]
     },
     "metadata": {
      "tags": []
     },
     "output_type": "display_data"
    },
    {
     "data": {
      "image/png": "[encoded data removed]",
      "text/plain": [
       "<Figure size 700x500 with 1 Axes>"
      ]
     },
     "metadata": {
      "tags": []
     },
     "output_type": "display_data"
    }
   ],
   "source": [
    "# Plot training & validation accuracy values\n",
    "plt.plot(history.history['acc'])\n",
    "plt.plot(history.history['val_acc'])\n",
    "plt.title('Model accuracy')\n",
    "plt.ylabel('Accuracy')\n",
    "plt.xlabel('Epoch')\n",
    "plt.legend(['Train', 'Test'], loc='upper left')\n",
    "plt.show()\n",
    "\n",
    "# Plot training & validation loss values\n",
    "plt.plot(history.history['loss'])\n",
    "plt.plot(history.history['val_loss'])\n",
    "plt.title('Model loss')\n",
    "plt.ylabel('Loss')\n",
    "plt.xlabel('Epoch')\n",
    "plt.legend(['Train', 'Test'], loc='upper left')\n",
    "plt.show()"
   ]
  },
  {
   "cell_type": "code",
   "execution_count": 0,
   "metadata": {
    "colab": {},
    "colab_type": "code",
    "id": "1aAKXUsHapoz"
   },
   "outputs": [],
   "source": [
    "from sklearn.model_selection import train_test_split\n",
    "(trainX, testX, trainY, testY) = train_test_split(trainxs,\n",
    "\ttrainys, test_size=0.1)"
   ]
  },
  {
   "cell_type": "code",
   "execution_count": 0,
   "metadata": {
    "colab": {
     "base_uri": "https://localhost:8080/",
     "height": 54
    },
    "colab_type": "code",
    "id": "xzg_2AmxbcFi",
    "outputId": "56ec1bdd-77a1-425b-c8d2-e3ae5983aaec"
   },
   "outputs": [
    {
     "name": "stdout",
     "output_type": "stream",
     "text": [
      "[1, 0, 1, 1, 0, 0, 1, 0, 0, 1, 0, 0, 1, 1, 1, 1, 1, 1, 1, 0, 1, 1, 0, 1, 1, 0, 0, 1, 1, 1, 1, 1, 0, 1, 0, 0, 1, 0, 0, 1, 0, 0, 1, 0, 1, 1, 1, 1, 0, 1, 1, 0, 1, 0, 0, 0, 1, 1, 0, 1, 1, 0, 1, 1, 1, 0, 0, 1, 1, 1, 1, 1, 1, 0, 0, 1, 1, 1, 1, 1, 0, 0, 1, 1, 1, 1, 1, 0, 0, 1, 1, 1, 1, 1, 0, 1, 1, 1, 1, 0, 1, 1, 0, 0, 1, 0, 1, 0, 1, 1, 0, 1, 1, 1, 0, 1, 1, 1, 1, 0, 1, 1, 0, 1, 1, 1, 1, 0, 1, 1, 0, 0, 0, 0, 0, 1, 0, 1, 1, 1, 0, 1, 1, 1, 1, 0, 0, 1, 1, 0, 0, 1, 0, 0, 1, 1, 1, 1, 1, 1, 0, 1, 0, 0, 0, 0, 1, 0, 1, 1, 0, 1, 1, 1, 0, 1, 1, 0, 1, 0, 1, 1, 1, 1, 0, 1, 0, 1, 1, 1, 1, 1, 1, 1, 1, 0, 1, 0, 1, 0, 1, 0, 1, 1, 0, 1, 1, 1, 0, 1, 1, 0, 1, 1, 0, 1, 0, 0, 1, 1, 1, 0, 0, 1, 0, 0, 0, 1, 1, 0, 1, 1, 0, 0, 1, 0, 1, 1, 0, 0, 0, 0, 1, 1, 0, 0, 0, 1, 0, 1, 1, 1, 0, 1, 1, 1, 1, 0, 0, 1, 1, 1, 0, 0, 1, 1, 1, 1, 0, 1, 0, 1, 0, 1, 0, 0, 1, 0, 0, 0, 1, 0, 0, 0, 0, 1, 0, 0, 1, 1, 1, 1, 1, 0, 1, 1, 0, 0, 1, 1, 1, 0, 0, 0, 0, 1, 0, 0, 0, 0, 1, 1, 0, 0, 1, 1, 1, 1, 0, 1, 1, 1, 1, 1, 1, 1, 1, 1, 0, 1, 1, 0, 1, 1, 1, 0, 1, 0, 0, 1, 0, 1, 0, 1, 1, 0, 0, 1, 1, 0, 0, 0, 1, 0, 0, 1, 0, 0, 0, 1, 1, 1, 1, 1, 1, 1, 0, 0, 1, 0, 0, 1, 0, 1, 0, 0, 0, 0, 0, 0, 0, 1, 1, 0, 0, 1, 0, 1, 1, 1, 0, 1, 0, 0, 1, 1, 1, 1, 0, 1, 1, 0, 1, 1, 1, 1, 0, 0, 0, 1, 0, 0, 0, 0, 1, 1, 1, 0, 1, 0, 1, 0, 0, 1, 0, 0, 0, 1, 1, 1, 1, 0, 0, 0, 1, 1, 1, 1, 1, 0, 0, 1, 1, 0, 1, 1, 1, 0, 0, 0, 0, 1, 0, 1, 1, 0, 1, 0, 0, 1, 1, 1, 1, 0, 1, 1, 0, 0, 0, 1, 1, 1, 1, 1, 0, 1, 1, 0, 1, 1, 0, 0, 1, 1, 1, 0, 0, 1, 0, 1, 0, 1, 1, 0, 0, 0, 1, 0, 1, 0, 1, 0, 0, 0, 1, 0, 1, 1, 0, 0, 1, 0, 0, 0, 0, 1, 1, 0, 1, 1, 0, 1, 1, 1, 1, 1, 1, 1, 0, 0, 1, 1, 0, 1, 1, 1, 0, 1, 0, 0, 1, 1, 0, 1, 0, 1, 0, 1, 1, 0, 0, 1, 1, 1, 0, 0, 1, 1, 1, 1, 1, 1, 1, 0, 1, 1, 1, 0, 1, 0, 0, 0, 0, 1, 0, 1, 1, 1, 1, 0, 1, 1, 1, 1, 1, 0, 0, 0, 0, 1, 1, 1, 1, 1, 0, 1, 0, 1, 0, 1, 0, 0, 1, 0, 0, 1, 1, 1, 1, 1, 0, 1, 0, 1, 0, 1, 0, 1, 1, 0, 0, 1, 0, 1, 0, 0, 1, 0, 0, 0, 1, 1, 1, 1, 1, 1, 1, 1, 1, 1, 1, 0, 1, 1, 1, 1, 1, 1, 0, 0, 0, 1, 0, 0, 1, 0, 1, 1, 1, 0, 1, 0, 1, 1, 1, 0, 0, 0, 1, 1, 1, 1, 1, 0, 0, 1, 1, 0, 0, 1, 0, 0, 0, 1, 0, 1, 1, 1, 1, 0, 1, 0, 0, 0, 1, 1, 1, 1, 1, 1, 0, 0, 1, 1, 0, 1, 1, 0, 1, 0, 1, 0, 1, 0, 1, 0, 1, 1, 1, 1, 1, 1, 1, 0, 1, 1, 0, 1, 0, 0, 1, 1, 0, 1, 1, 0, 1, 0, 0, 1, 1, 1, 1, 1, 1, 0, 1, 0, 1, 1, 0, 0, 1, 0, 0, 1, 0, 0, 1, 1, 0, 1, 0, 0, 1, 0, 1, 0, 0, 1, 1, 1, 0, 0, 0, 1, 1, 1, 1, 0, 0, 1, 0, 0, 0, 0, 1, 0, 1, 1, 1, 1, 0, 1, 0, 1, 0, 0, 1, 1, 1, 0, 0, 0, 1, 0, 0, 1, 1, 1, 0, 0, 0, 0, 1, 1, 0, 0, 0, 1, 1, 1, 0, 1, 0, 1, 1, 1, 1, 1, 0, 1, 0, 1, 1, 0, 0, 0, 1, 0, 1, 1, 0, 0, 1, 0, 0, 0, 1, 1, 1, 1, 1, 1, 0, 0, 1, 0, 0, 1, 0, 1, 0, 1, 1, 1, 1, 0, 0, 0, 1, 1, 1, 1, 0, 1, 0, 0, 0, 0, 0, 1, 1, 1, 1, 1, 0, 1, 0, 0, 0, 0, 0, 1, 1, 1, 1, 0, 0, 1, 1, 1, 1, 1, 1, 1, 0, 1, 1, 1, 1, 1, 1, 1, 1, 0, 1, 0, 1, 1, 1, 0, 1, 1, 1, 1, 1, 1, 1, 0, 0, 0, 1, 0, 1, 0, 1, 0, 0, 1, 1, 0, 1, 0, 1, 0, 0, 0, 1, 1, 0, 0, 1, 1, 0, 1, 0, 1, 1, 1, 1, 1, 0, 1, 1, 0, 1, 0, 0, 0, 1, 1, 0, 0, 1, 1, 1, 0, 0, 1, 0, 0, 1, 1, 0, 0, 1, 1, 1, 1, 1]\n"
     ]
    }
   ],
   "source": [
    "from sklearn.utils import shuffle\n",
    "\n",
    "trainxs, trainys = shuffle(trainxs, trainys)\n",
    "print(trainys)"
   ]
  },
  {
   "cell_type": "markdown",
   "metadata": {
    "colab_type": "text",
    "id": "b6oVXIFjA1n4"
   },
   "source": [
    "# **Testing Gradient boosing regressor**"
   ]
  },
  {
   "cell_type": "code",
   "execution_count": 0,
   "metadata": {
    "colab": {
     "base_uri": "https://localhost:8080/",
     "height": 397
    },
    "colab_type": "code",
    "id": "lpZ3lo_aagEm",
    "outputId": "c4a2784b-2194-4d22-ea77-3b98fc073546"
   },
   "outputs": [
    {
     "ename": "ValueError",
     "evalue": "ignored",
     "output_type": "error",
     "traceback": [
      "\u001b[0;31m---------------------------------------------------------------------------\u001b[0m",
      "\u001b[0;31mValueError\u001b[0m                                Traceback (most recent call last)",
      "\u001b[0;32m<ipython-input-18-820caf710c89>\u001b[0m in \u001b[0;36m<module>\u001b[0;34m()\u001b[0m\n\u001b[1;32m      5\u001b[0m \u001b[0;34m\u001b[0m\u001b[0m\n\u001b[1;32m      6\u001b[0m \u001b[0;31m# Fit the model on the training data\u001b[0m\u001b[0;34m\u001b[0m\u001b[0;34m\u001b[0m\u001b[0;34m\u001b[0m\u001b[0m\n\u001b[0;32m----> 7\u001b[0;31m \u001b[0mgradient_boosted\u001b[0m\u001b[0;34m.\u001b[0m\u001b[0mfit\u001b[0m\u001b[0;34m(\u001b[0m\u001b[0mtrainX\u001b[0m\u001b[0;34m,\u001b[0m \u001b[0mtrainY\u001b[0m\u001b[0;34m)\u001b[0m\u001b[0;34m\u001b[0m\u001b[0;34m\u001b[0m\u001b[0m\n\u001b[0m\u001b[1;32m      8\u001b[0m \u001b[0;34m\u001b[0m\u001b[0m\n\u001b[1;32m      9\u001b[0m \u001b[0;31m# Make predictions on the test data\u001b[0m\u001b[0;34m\u001b[0m\u001b[0;34m\u001b[0m\u001b[0;34m\u001b[0m\u001b[0m\n",
      "\u001b[0;32m/usr/local/lib/python3.6/dist-packages/sklearn/ensemble/_gb.py\u001b[0m in \u001b[0;36mfit\u001b[0;34m(self, X, y, sample_weight, monitor)\u001b[0m\n\u001b[1;32m   1439\u001b[0m         \u001b[0;31m# Since check_array converts both X and y to the same dtype, but the\u001b[0m\u001b[0;34m\u001b[0m\u001b[0;34m\u001b[0m\u001b[0;34m\u001b[0m\u001b[0m\n\u001b[1;32m   1440\u001b[0m         \u001b[0;31m# trees use different types for X and y, checking them separately.\u001b[0m\u001b[0;34m\u001b[0m\u001b[0;34m\u001b[0m\u001b[0;34m\u001b[0m\u001b[0m\n\u001b[0;32m-> 1441\u001b[0;31m         \u001b[0mX\u001b[0m \u001b[0;34m=\u001b[0m \u001b[0mcheck_array\u001b[0m\u001b[0;34m(\u001b[0m\u001b[0mX\u001b[0m\u001b[0;34m,\u001b[0m \u001b[0maccept_sparse\u001b[0m\u001b[0;34m=\u001b[0m\u001b[0;34m[\u001b[0m\u001b[0;34m'csr'\u001b[0m\u001b[0;34m,\u001b[0m \u001b[0;34m'csc'\u001b[0m\u001b[0;34m,\u001b[0m \u001b[0;34m'coo'\u001b[0m\u001b[0;34m]\u001b[0m\u001b[0;34m,\u001b[0m \u001b[0mdtype\u001b[0m\u001b[0;34m=\u001b[0m\u001b[0mDTYPE\u001b[0m\u001b[0;34m)\u001b[0m\u001b[0;34m\u001b[0m\u001b[0;34m\u001b[0m\u001b[0m\n\u001b[0m\u001b[1;32m   1442\u001b[0m         \u001b[0mn_samples\u001b[0m\u001b[0;34m,\u001b[0m \u001b[0mself\u001b[0m\u001b[0;34m.\u001b[0m\u001b[0mn_features_\u001b[0m \u001b[0;34m=\u001b[0m \u001b[0mX\u001b[0m\u001b[0;34m.\u001b[0m\u001b[0mshape\u001b[0m\u001b[0;34m\u001b[0m\u001b[0;34m\u001b[0m\u001b[0m\n\u001b[1;32m   1443\u001b[0m \u001b[0;34m\u001b[0m\u001b[0m\n",
      "\u001b[0;32m/usr/local/lib/python3.6/dist-packages/sklearn/utils/validation.py\u001b[0m in \u001b[0;36mcheck_array\u001b[0;34m(array, accept_sparse, accept_large_sparse, dtype, order, copy, force_all_finite, ensure_2d, allow_nd, ensure_min_samples, ensure_min_features, warn_on_dtype, estimator)\u001b[0m\n\u001b[1;32m    572\u001b[0m         \u001b[0;32mif\u001b[0m \u001b[0;32mnot\u001b[0m \u001b[0mallow_nd\u001b[0m \u001b[0;32mand\u001b[0m \u001b[0marray\u001b[0m\u001b[0;34m.\u001b[0m\u001b[0mndim\u001b[0m \u001b[0;34m>=\u001b[0m \u001b[0;36m3\u001b[0m\u001b[0;34m:\u001b[0m\u001b[0;34m\u001b[0m\u001b[0;34m\u001b[0m\u001b[0m\n\u001b[1;32m    573\u001b[0m             raise ValueError(\"Found array with dim %d. %s expected <= 2.\"\n\u001b[0;32m--> 574\u001b[0;31m                              % (array.ndim, estimator_name))\n\u001b[0m\u001b[1;32m    575\u001b[0m \u001b[0;34m\u001b[0m\u001b[0m\n\u001b[1;32m    576\u001b[0m         \u001b[0;32mif\u001b[0m \u001b[0mforce_all_finite\u001b[0m\u001b[0;34m:\u001b[0m\u001b[0;34m\u001b[0m\u001b[0;34m\u001b[0m\u001b[0m\n",
      "\u001b[0;31mValueError\u001b[0m: Found array with dim 3. Estimator expected <= 2."
     ]
    }
   ],
   "source": [
    "from sklearn.ensemble import GradientBoostingRegressor\n",
    "\n",
    "# Create the model\n",
    "gradient_boosted = GradientBoostingRegressor()\n",
    "\n",
    "# Fit the model on the training data\n",
    "gradient_boosted.fit(trainX, trainY)\n",
    "\n",
    "# Make predictions on the test data\n",
    "predictions = gradient_boosted.predict(testX)\n",
    "\n",
    "# Evaluate the model\n",
    "mae = np.mean(abs(predictions - testY))\n",
    "\n",
    "print('Gradient Boosted Performance on the test set: MAE = %0.4f' % mae)"
   ]
  },
  {
   "cell_type": "code",
   "execution_count": 0,
   "metadata": {
    "colab": {},
    "colab_type": "code",
    "id": "X7obbSaMbmuj"
   },
   "outputs": [],
   "source": [
    "print(testY)"
   ]
  },
  {
   "cell_type": "code",
   "execution_count": 0,
   "metadata": {
    "colab": {},
    "colab_type": "code",
    "id": "5pdv_ZFua6hP"
   },
   "outputs": [],
   "source": [
    "print(predictions)"
   ]
  },
  {
   "cell_type": "code",
   "execution_count": 0,
   "metadata": {
    "colab": {},
    "colab_type": "code",
    "id": "NYjNzYplvckL"
   },
   "outputs": [],
   "source": [
    "plt.plot(testY,predictions,'.')\n",
    "plt.show()"
   ]
  },
  {
   "cell_type": "code",
   "execution_count": 0,
   "metadata": {
    "colab": {},
    "colab_type": "code",
    "id": "puT9DXK2wCyi"
   },
   "outputs": [],
   "source": [
    "np.mean([abs(t-65.13) for t in testY])"
   ]
  },
  {
   "cell_type": "markdown",
   "metadata": {
    "colab_type": "text",
    "id": "PL_mK7gBBBzh"
   },
   "source": [
    "# **Testing linear regression**"
   ]
  },
  {
   "cell_type": "code",
   "execution_count": 0,
   "metadata": {
    "colab": {},
    "colab_type": "code",
    "id": "W-SarGZVcTco"
   },
   "outputs": [],
   "source": [
    "from sklearn.linear_model import LinearRegression\n",
    "\n",
    "# Create the model\n",
    "linear_regression = LinearRegression()\n",
    "\n",
    "# Fit the model on the training data\n",
    "linear_regression.fit(trainX, trainY)\n",
    "\n",
    "# Make predictions on the test data\n",
    "predictions1 = linear_regression.predict(testX)\n",
    "\n",
    "# Evaluate the model\n",
    "mae = np.mean(abs(predictions1 - testY))\n",
    "\n",
    "print('Linear regression Performance on the test set: MAE = %0.4f' % mae)"
   ]
  },
  {
   "cell_type": "code",
   "execution_count": 0,
   "metadata": {
    "colab": {},
    "colab_type": "code",
    "id": "73oEqxnqchuO"
   },
   "outputs": [],
   "source": [
    "print(testY)"
   ]
  },
  {
   "cell_type": "code",
   "execution_count": 0,
   "metadata": {
    "colab": {},
    "colab_type": "code",
    "id": "8Uxkx3VAcjtP"
   },
   "outputs": [],
   "source": [
    "print(predictions1)"
   ]
  },
  {
   "cell_type": "code",
   "execution_count": 0,
   "metadata": {
    "colab": {},
    "colab_type": "code",
    "id": "QaHFnbcRGPPW"
   },
   "outputs": [],
   "source": []
  }
 ],
 "metadata": {
  "accelerator": "GPU",
  "colab": {
   "collapsed_sections": [],
   "machine_shape": "hm",
   "name": "ActualnsightDataset.ipynb",
   "provenance": []
  },
  "kernelspec": {
   "display_name": "Python 3",
   "language": "python",
   "name": "python3"
  },
  "language_info": {
   "codemirror_mode": {
    "name": "ipython",
    "version": 3
   },
   "file_extension": ".py",
   "mimetype": "text/x-python",
   "name": "python",
   "nbconvert_exporter": "python",
   "pygments_lexer": "ipython3",
   "version": "3.7.7"
  }
 },
 "nbformat": 4,
 "nbformat_minor": 1
}
