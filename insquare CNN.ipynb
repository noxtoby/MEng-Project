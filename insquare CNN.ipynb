{
 "cells": [
  {
   "cell_type": "code",
   "execution_count": 42,
   "metadata": {},
   "outputs": [
    {
     "data": {
      "image/png": "[encoded data removed]",
      "text/plain": [
       "<Figure size 432x288 with 1 Axes>"
      ]
     },
     "metadata": {
      "needs_background": "light"
     },
     "output_type": "display_data"
    },
    {
     "name": "stdout",
     "output_type": "stream",
     "text": [
      "0\n"
     ]
    },
    {
     "data": {
      "image/png": "[encoded data removed]",
      "text/plain": [
       "<Figure size 432x288 with 1 Axes>"
      ]
     },
     "metadata": {
      "needs_background": "light"
     },
     "output_type": "display_data"
    },
    {
     "name": "stdout",
     "output_type": "stream",
     "text": [
      "1\n"
     ]
    },
    {
     "name": "stderr",
     "output_type": "stream",
     "text": [
      "100%|█████████████████████████████████████████████████████████████████████████████| 1000/1000 [00:03<00:00, 322.63it/s]\n",
      "100%|█████████████████████████████████████████████████████████████████████████████| 1000/1000 [00:02<00:00, 377.80it/s]\n"
     ]
    },
    {
     "data": {
      "image/png": "[encoded data removed]",
      "text/plain": [
       "<Figure size 432x288 with 1 Axes>"
      ]
     },
     "metadata": {
      "needs_background": "light"
     },
     "output_type": "display_data"
    }
   ],
   "source": [
    "from __future__ import print_function\n",
    "import keras\n",
    "from keras.models import Sequential\n",
    "from keras.layers import Dense, Dropout, Flatten\n",
    "from keras.layers import Conv2D, MaxPooling2D\n",
    "from keras import backend as K\n",
    "\n",
    "import numpy as np\n",
    "import matplotlib.pyplot as plt\n",
    "import os\n",
    "import cv2\n",
    "from tqdm import tqdm\n",
    "import csv\n",
    "from sklearn.utils import shuffle\n",
    "from sklearn.model_selection import train_test_split\n",
    "from skimage.transform import rotate\n",
    "from keras.models import Sequential\n",
    "from keras.layers import Dense\n",
    "\n",
    "\n",
    "batch_size = 16\n",
    "num_classes = 1\n",
    "epochs = 10\n",
    "\n",
    "# input image dimensions\n",
    "img_rows, img_cols = 28, 28\n",
    "\n",
    "\n",
    "\n",
    "trainxs = []\n",
    "trainximgs = []\n",
    "trainys = []\n",
    "\n",
    "DATADIR = r\"C:\\Users\\colly\\Desktop\\Toyimagesv3\"\n",
    "\n",
    "CATEGORIES = [\"out_square\", \"in_square\"]\n",
    "\n",
    "for category in CATEGORIES:\n",
    "    path = os.path.join(DATADIR,category) \n",
    "    class_num = CATEGORIES.index(category)\n",
    "    for img in os.listdir(path):  \n",
    "        img_array = cv2.imread(os.path.join(path,img) ,cv2.IMREAD_GRAYSCALE)  # convert to array\n",
    "        img_array = cv2.bitwise_not(img_array)\n",
    "        plt.imshow(img_array, cmap='gray')  # graph it\n",
    "        plt.show()  # display!\n",
    "        print(class_num)\n",
    "          # we just want one for now so break\n",
    "        break\n",
    "\n",
    "\n",
    "for category in CATEGORIES:  \n",
    "\n",
    "    path = os.path.join(DATADIR,category)  \n",
    "    class_num = CATEGORIES.index(category)  # get the classification  (0 or a 1). 0=notinsquare 1=insquare\n",
    "\n",
    "    for img in tqdm(os.listdir(path)):  # iterate over each image per point value\n",
    "        ig_array = cv2.imread(os.path.join(path,img) ,cv2.IMREAD_GRAYSCALE)  # convert to array \n",
    "        ig_array = cv2.bitwise_not(ig_array)\n",
    "        img_array = cv2.resize(ig_array, (28,28))\n",
    "        new_img_array = rotate(img_array, 90)\n",
    "        new_img_array1 = rotate(img_array, 180)\n",
    "        new_img_array2 = rotate(img_array, 270)\n",
    "\n",
    "        trainys.append(class_num)\n",
    "        trainys.append(class_num)\n",
    "        trainys.append(class_num)\n",
    "        trainys.append(class_num)\n",
    "        trainxs.append(new_img_array)\n",
    "        trainxs.append(new_img_array1)\n",
    "        trainxs.append(new_img_array2)\n",
    "        trainxs.append(img_array)\n",
    "        \n",
    "    plt.imshow(img_array, cmap='gray')\n",
    "            \n",
    "\n"
   ]
  },
  {
   "cell_type": "code",
   "execution_count": 38,
   "metadata": {},
   "outputs": [
    {
     "name": "stdout",
     "output_type": "stream",
     "text": [
      "(6400, 28, 28)\n"
     ]
    }
   ],
   "source": [
    "from sklearn.model_selection import train_test_split\n",
    "\n",
    "trainxs1 = np.asarray(trainxs, dtype=np.float32)\n",
    "trainys1 = np.asarray(trainys, dtype=np.float32)\n",
    "\n",
    "from sklearn.model_selection import train_test_split\n",
    "\n",
    "x_train, x_test, y_train, y_test = train_test_split(trainxs1, trainys1, test_size=0.2, random_state=42)\n",
    "\n",
    "\n",
    "print(x_train.shape)"
   ]
  },
  {
   "cell_type": "code",
   "execution_count": 39,
   "metadata": {},
   "outputs": [
    {
     "data": {
      "text/plain": [
       "(6400, 28, 28, 1)"
      ]
     },
     "execution_count": 39,
     "metadata": {},
     "output_type": "execute_result"
    }
   ],
   "source": [
    "x_train = x_train.reshape(x_train.shape[0], img_rows, img_cols, 1)\n",
    "#x_test = x_test.reshape(x_test.shape[0], img_rows, img_cols, 1)\n",
    "input_shape = (img_rows, img_cols, 1)\n",
    "x_train.shape"
   ]
  },
  {
   "cell_type": "code",
   "execution_count": 33,
   "metadata": {},
   "outputs": [
    {
     "name": "stdout",
     "output_type": "stream",
     "text": [
      "yes\n",
      "x_train shape: (6400, 28, 28, 1)\n",
      "x_train shape: (6400, 28, 28, 1)\n",
      "6400 train samples\n",
      "1600 test samples\n",
      "Model: \"sequential_14\"\n",
      "_________________________________________________________________\n",
      "Layer (type)                 Output Shape              Param #   \n",
      "=================================================================\n",
      "conv2d_21 (Conv2D)           (None, 26, 26, 32)        320       \n",
      "_________________________________________________________________\n",
      "conv2d_22 (Conv2D)           (None, 24, 24, 64)        18496     \n",
      "_________________________________________________________________\n",
      "max_pooling2d_12 (MaxPooling (None, 12, 12, 64)        0         \n",
      "_________________________________________________________________\n",
      "flatten_9 (Flatten)          (None, 9216)              0         \n",
      "_________________________________________________________________\n",
      "dense_22 (Dense)             (None, 128)               1179776   \n",
      "_________________________________________________________________\n",
      "dense_23 (Dense)             (None, 1)                 129       \n",
      "=================================================================\n",
      "Total params: 1,198,721\n",
      "Trainable params: 1,198,721\n",
      "Non-trainable params: 0\n",
      "_________________________________________________________________\n"
     ]
    }
   ],
   "source": [
    "print(\"yes\")\n",
    "print('x_train shape:', x_train.shape)\n",
    "x_train = np.array(x_train)\n",
    "x_test = np.array(x_test)\n",
    "x_train = x_train.reshape(x_train.shape[0], img_rows, img_cols, 1)\n",
    "x_test = x_test.reshape(x_test.shape[0], img_rows, img_cols, 1)\n",
    "input_shape = (img_rows, img_cols, 1)\n",
    "\n",
    "#print(x_train[3])\n",
    "x_train = x_train.astype('float32')\n",
    "x_test = x_test.astype('float32')\n",
    "x_train /= 255\n",
    "x_test /= 255\n",
    "print('x_train shape:', x_train.shape)\n",
    "print(x_train.shape[0], 'train samples')\n",
    "print(x_test.shape[0], 'test samples')\n",
    "\n",
    "\n",
    "\n",
    "model = Sequential()\n",
    "model.add(Conv2D(32, kernel_size=(3, 3),\n",
    "                 activation='relu',\n",
    "                 input_shape=input_shape))\n",
    "model.add(Conv2D(64, (3, 3), activation='relu'))\n",
    "model.add(MaxPooling2D(pool_size=(2, 2)))\n",
    "#model.add(Dropout(0.25))\n",
    "model.add(Flatten())\n",
    "model.add(Dense(128, activation='relu'))\n",
    "#model.add(Dropout(0.25))\n",
    "model.add(Dense(1, activation='sigmoid'))\n",
    "\n",
    "model.compile(loss=keras.losses.binary_crossentropy,\n",
    "              optimizer=keras.optimizers.Adadelta(),\n",
    "              metrics=['accuracy'])\n",
    "model.summary()"
   ]
  },
  {
   "cell_type": "code",
   "execution_count": 34,
   "metadata": {},
   "outputs": [
    {
     "name": "stdout",
     "output_type": "stream",
     "text": [
      "yes\n",
      "x_train shape: (6400, 28, 28, 1)\n",
      "x_train shape: (6400, 28, 28, 1)\n",
      "6400 train samples\n",
      "1600 test samples\n",
      "Model: \"sequential_15\"\n",
      "_________________________________________________________________\n",
      "Layer (type)                 Output Shape              Param #   \n",
      "=================================================================\n",
      "conv2d_23 (Conv2D)           (None, 26, 26, 32)        320       \n",
      "_________________________________________________________________\n",
      "conv2d_24 (Conv2D)           (None, 24, 24, 64)        18496     \n",
      "_________________________________________________________________\n",
      "max_pooling2d_13 (MaxPooling (None, 12, 12, 64)        0         \n",
      "_________________________________________________________________\n",
      "flatten_10 (Flatten)         (None, 9216)              0         \n",
      "_________________________________________________________________\n",
      "dense_24 (Dense)             (None, 128)               1179776   \n",
      "_________________________________________________________________\n",
      "dense_25 (Dense)             (None, 1)                 129       \n",
      "=================================================================\n",
      "Total params: 1,198,721\n",
      "Trainable params: 1,198,721\n",
      "Non-trainable params: 0\n",
      "_________________________________________________________________\n"
     ]
    }
   ],
   "source": [
    "print(\"yes\")\n",
    "print('x_train shape:', x_train.shape)\n",
    "x_train = x_train.reshape(x_train.shape[0], img_rows, img_cols, 1)\n",
    "x_test = x_test.reshape(x_test.shape[0], img_rows, img_cols, 1)\n",
    "input_shape = (img_rows, img_cols, 1)\n",
    "\n",
    "x_train = np.array(x_train)\n",
    "x_test = np.array(x_test)\n",
    "#print(x_train[3])\n",
    "x_train = x_train.astype('float32')\n",
    "x_test = x_test.astype('float32')\n",
    "x_train /= 255\n",
    "x_test /= 255\n",
    "print('x_train shape:', x_train.shape)\n",
    "print(x_train.shape[0], 'train samples')\n",
    "print(x_test.shape[0], 'test samples')\n",
    "\n",
    "\n",
    "model = Sequential()\n",
    "model.add(Conv2D(32, kernel_size=(3, 3),\n",
    "                 activation='relu',\n",
    "                 input_shape=input_shape))\n",
    "model.add(Conv2D(64, (3, 3), activation='relu'))\n",
    "model.add(MaxPooling2D(pool_size=(2, 2)))\n",
    "#model.add(Dropout(0.25))\n",
    "model.add(Flatten())\n",
    "model.add(Dense(128, activation='relu'))\n",
    "#model.add(Dropout(0.25))\n",
    "model.add(Dense(1, activation='sigmoid'))\n",
    "\n",
    "model.compile(loss=keras.losses.binary_crossentropy,\n",
    "              optimizer=keras.optimizers.Adadelta(),\n",
    "              metrics=['accuracy'])\n",
    "model.summary()"
   ]
  },
  {
   "cell_type": "code",
   "execution_count": 40,
   "metadata": {},
   "outputs": [
    {
     "name": "stdout",
     "output_type": "stream",
     "text": [
      "yes\n",
      "x_train shape: (6400, 28, 28, 1)\n",
      "x_train shape: (6400, 28, 28, 1)\n",
      "6400 train samples\n",
      "1600 test samples\n",
      "Model: \"sequential_17\"\n",
      "_________________________________________________________________\n",
      "Layer (type)                 Output Shape              Param #   \n",
      "=================================================================\n",
      "conv2d_27 (Conv2D)           (None, 28, 28, 32)        832       \n",
      "_________________________________________________________________\n",
      "max_pooling2d_16 (MaxPooling (None, 14, 14, 32)        0         \n",
      "_________________________________________________________________\n",
      "conv2d_28 (Conv2D)           (None, 10, 10, 48)        38448     \n",
      "_________________________________________________________________\n",
      "max_pooling2d_17 (MaxPooling (None, 5, 5, 48)          0         \n",
      "_________________________________________________________________\n",
      "flatten_12 (Flatten)         (None, 1200)              0         \n",
      "_________________________________________________________________\n",
      "dense_29 (Dense)             (None, 256)               307456    \n",
      "_________________________________________________________________\n",
      "dense_30 (Dense)             (None, 84)                21588     \n",
      "_________________________________________________________________\n",
      "dense_31 (Dense)             (None, 1)                 85        \n",
      "=================================================================\n",
      "Total params: 368,409\n",
      "Trainable params: 368,409\n",
      "Non-trainable params: 0\n",
      "_________________________________________________________________\n"
     ]
    }
   ],
   "source": [
    "print(\"yes\")\n",
    "print('x_train shape:', x_train.shape)\n",
    "x_train = x_train.reshape(x_train.shape[0], img_rows, img_cols, 1)\n",
    "x_test = x_test.reshape(x_test.shape[0], img_rows, img_cols, 1)\n",
    "input_shape = (img_rows, img_cols, 1)\n",
    "\n",
    "x_train = np.array(x_train)\n",
    "x_test = np.array(x_test)\n",
    "#print(x_train[3])\n",
    "x_train = x_train.astype('float32')\n",
    "x_test = x_test.astype('float32')\n",
    "x_train /= 255\n",
    "x_test /= 255\n",
    "print('x_train shape:', x_train.shape)\n",
    "print(x_train.shape[0], 'train samples')\n",
    "print(x_test.shape[0], 'test samples')\n",
    "\n",
    "model = Sequential()\n",
    "model.add(Conv2D(filters=32, kernel_size=(5,5), padding='same', activation='relu', input_shape=input_shape))\n",
    "model.add(MaxPooling2D(strides=2))\n",
    "model.add(Conv2D(filters=48, kernel_size=(5,5), padding='valid', activation='relu'))\n",
    "model.add(MaxPooling2D(strides=2))\n",
    "model.add(Flatten())\n",
    "model.add(Dense(256, activation='relu'))\n",
    "model.add(Dense(84, activation='relu'))\n",
    "model.add(Dense(1, activation='sigmoid'))\n",
    "\n",
    "model.compile(loss=keras.losses.binary_crossentropy,\n",
    "              optimizer=keras.optimizers.Adadelta(),\n",
    "              metrics=['accuracy'])\n",
    "model.summary()"
   ]
  },
  {
   "cell_type": "code",
   "execution_count": 41,
   "metadata": {
    "scrolled": false
   },
   "outputs": [
    {
     "name": "stdout",
     "output_type": "stream",
     "text": [
      "Train on 6400 samples, validate on 1600 samples\n",
      "Epoch 1/10\n"
     ]
    },
    {
     "name": "stdout",
     "output_type": "stream",
     "text": [
      "5616/6400 [=========================>....] - ETA: 2:15 - loss: 0.6933 - accuracy: 0.56 - ETA: 55s - loss: 0.6926 - accuracy: 0.5000 - ETA: 39s - loss: 0.6907 - accuracy: 0.537 - ETA: 31s - loss: 0.6907 - accuracy: 0.526 - ETA: 29s - loss: 0.6891 - accuracy: 0.539 - ETA: 26s - loss: 0.6905 - accuracy: 0.531 - ETA: 24s - loss: 0.6884 - accuracy: 0.541 - ETA: 23s - loss: 0.6872 - accuracy: 0.548 - ETA: 22s - loss: 0.6863 - accuracy: 0.545 - ETA: 21s - loss: 0.6865 - accuracy: 0.547 - ETA: 20s - loss: 0.6901 - accuracy: 0.526 - ETA: 19s - loss: 0.6911 - accuracy: 0.511 - ETA: 18s - loss: 0.6915 - accuracy: 0.510 - ETA: 18s - loss: 0.6913 - accuracy: 0.520 - ETA: 17s - loss: 0.6913 - accuracy: 0.509 - ETA: 17s - loss: 0.6916 - accuracy: 0.504 - ETA: 17s - loss: 0.6917 - accuracy: 0.496 - ETA: 16s - loss: 0.6918 - accuracy: 0.492 - ETA: 16s - loss: 0.6920 - accuracy: 0.500 - ETA: 16s - loss: 0.6913 - accuracy: 0.500 - ETA: 16s - loss: 0.6916 - accuracy: 0.493 - ETA: 15s - loss: 0.6905 - accuracy: 0.495 - ETA: 15s - loss: 0.6908 - accuracy: 0.494 - ETA: 15s - loss: 0.6897 - accuracy: 0.498 - ETA: 15s - loss: 0.6887 - accuracy: 0.505 - ETA: 14s - loss: 0.6910 - accuracy: 0.497 - ETA: 14s - loss: 0.6908 - accuracy: 0.495 - ETA: 14s - loss: 0.6904 - accuracy: 0.494 - ETA: 14s - loss: 0.6908 - accuracy: 0.491 - ETA: 14s - loss: 0.6907 - accuracy: 0.491 - ETA: 14s - loss: 0.6901 - accuracy: 0.492 - ETA: 14s - loss: 0.6893 - accuracy: 0.494 - ETA: 14s - loss: 0.6903 - accuracy: 0.494 - ETA: 14s - loss: 0.6903 - accuracy: 0.496 - ETA: 13s - loss: 0.6903 - accuracy: 0.495 - ETA: 13s - loss: 0.6900 - accuracy: 0.497 - ETA: 13s - loss: 0.6896 - accuracy: 0.498 - ETA: 13s - loss: 0.6899 - accuracy: 0.501 - ETA: 13s - loss: 0.6899 - accuracy: 0.506 - ETA: 13s - loss: 0.6895 - accuracy: 0.509 - ETA: 13s - loss: 0.6898 - accuracy: 0.510 - ETA: 13s - loss: 0.6894 - accuracy: 0.511 - ETA: 13s - loss: 0.6890 - accuracy: 0.509 - ETA: 13s - loss: 0.6886 - accuracy: 0.513 - ETA: 12s - loss: 0.6889 - accuracy: 0.512 - ETA: 12s - loss: 0.6883 - accuracy: 0.514 - ETA: 12s - loss: 0.6894 - accuracy: 0.513 - ETA: 12s - loss: 0.6892 - accuracy: 0.512 - ETA: 12s - loss: 0.6877 - accuracy: 0.514 - ETA: 12s - loss: 0.6881 - accuracy: 0.513 - ETA: 12s - loss: 0.6866 - accuracy: 0.519 - ETA: 12s - loss: 0.6869 - accuracy: 0.518 - ETA: 12s - loss: 0.6863 - accuracy: 0.520 - ETA: 12s - loss: 0.6857 - accuracy: 0.521 - ETA: 12s - loss: 0.6857 - accuracy: 0.519 - ETA: 12s - loss: 0.6859 - accuracy: 0.520 - ETA: 11s - loss: 0.6849 - accuracy: 0.518 - ETA: 11s - loss: 0.6839 - accuracy: 0.521 - ETA: 11s - loss: 0.6840 - accuracy: 0.522 - ETA: 11s - loss: 0.6831 - accuracy: 0.523 - ETA: 11s - loss: 0.6822 - accuracy: 0.526 - ETA: 11s - loss: 0.6817 - accuracy: 0.525 - ETA: 11s - loss: 0.6821 - accuracy: 0.524 - ETA: 11s - loss: 0.6816 - accuracy: 0.527 - ETA: 11s - loss: 0.6816 - accuracy: 0.526 - ETA: 11s - loss: 0.6805 - accuracy: 0.529 - ETA: 10s - loss: 0.6809 - accuracy: 0.529 - ETA: 10s - loss: 0.6802 - accuracy: 0.530 - ETA: 10s - loss: 0.6791 - accuracy: 0.528 - ETA: 10s - loss: 0.6775 - accuracy: 0.530 - ETA: 10s - loss: 0.6783 - accuracy: 0.530 - ETA: 10s - loss: 0.6758 - accuracy: 0.533 - ETA: 10s - loss: 0.6765 - accuracy: 0.533 - ETA: 10s - loss: 0.6755 - accuracy: 0.535 - ETA: 10s - loss: 0.6750 - accuracy: 0.537 - ETA: 10s - loss: 0.6758 - accuracy: 0.535 - ETA: 10s - loss: 0.6748 - accuracy: 0.536 - ETA: 10s - loss: 0.6744 - accuracy: 0.536 - ETA: 10s - loss: 0.6748 - accuracy: 0.535 - ETA: 9s - loss: 0.6738 - accuracy: 0.537 - ETA: 9s - loss: 0.6721 - accuracy: 0.53 - ETA: 9s - loss: 0.6742 - accuracy: 0.53 - ETA: 9s - loss: 0.6736 - accuracy: 0.54 - ETA: 9s - loss: 0.6738 - accuracy: 0.54 - ETA: 9s - loss: 0.6741 - accuracy: 0.53 - ETA: 9s - loss: 0.6736 - accuracy: 0.53 - ETA: 9s - loss: 0.6728 - accuracy: 0.54 - ETA: 9s - loss: 0.6727 - accuracy: 0.54 - ETA: 9s - loss: 0.6717 - accuracy: 0.54 - ETA: 9s - loss: 0.6708 - accuracy: 0.54 - ETA: 9s - loss: 0.6701 - accuracy: 0.54 - ETA: 9s - loss: 0.6704 - accuracy: 0.54 - ETA: 9s - loss: 0.6699 - accuracy: 0.54 - ETA: 9s - loss: 0.6695 - accuracy: 0.54 - ETA: 8s - loss: 0.6692 - accuracy: 0.54 - ETA: 8s - loss: 0.6691 - accuracy: 0.54 - ETA: 8s - loss: 0.6687 - accuracy: 0.54 - ETA: 8s - loss: 0.6677 - accuracy: 0.54 - ETA: 8s - loss: 0.6678 - accuracy: 0.54 - ETA: 8s - loss: 0.6675 - accuracy: 0.54 - ETA: 8s - loss: 0.6672 - accuracy: 0.54 - ETA: 8s - loss: 0.6675 - accuracy: 0.54 - ETA: 8s - loss: 0.6673 - accuracy: 0.54 - ETA: 8s - loss: 0.6670 - accuracy: 0.54 - ETA: 8s - loss: 0.6668 - accuracy: 0.54 - ETA: 8s - loss: 0.6673 - accuracy: 0.54 - ETA: 8s - loss: 0.6667 - accuracy: 0.55 - ETA: 8s - loss: 0.6666 - accuracy: 0.55 - ETA: 7s - loss: 0.6664 - accuracy: 0.54 - ETA: 7s - loss: 0.6656 - accuracy: 0.54 - ETA: 7s - loss: 0.6648 - accuracy: 0.54 - ETA: 7s - loss: 0.6670 - accuracy: 0.54 - ETA: 7s - loss: 0.6661 - accuracy: 0.55 - ETA: 7s - loss: 0.6652 - accuracy: 0.55 - ETA: 7s - loss: 0.6644 - accuracy: 0.55 - ETA: 7s - loss: 0.6638 - accuracy: 0.55 - ETA: 7s - loss: 0.6638 - accuracy: 0.54 - ETA: 7s - loss: 0.6634 - accuracy: 0.55 - ETA: 7s - loss: 0.6632 - accuracy: 0.55 - ETA: 7s - loss: 0.6621 - accuracy: 0.55 - ETA: 7s - loss: 0.6618 - accuracy: 0.55 - ETA: 6s - loss: 0.6610 - accuracy: 0.55 - ETA: 6s - loss: 0.6604 - accuracy: 0.55 - ETA: 6s - loss: 0.6597 - accuracy: 0.55 - ETA: 6s - loss: 0.6595 - accuracy: 0.55 - ETA: 6s - loss: 0.6588 - accuracy: 0.55 - ETA: 6s - loss: 0.6589 - accuracy: 0.55 - ETA: 6s - loss: 0.6591 - accuracy: 0.55 - ETA: 6s - loss: 0.6606 - accuracy: 0.55 - ETA: 6s - loss: 0.6598 - accuracy: 0.55 - ETA: 6s - loss: 0.6596 - accuracy: 0.55 - ETA: 6s - loss: 0.6587 - accuracy: 0.55 - ETA: 6s - loss: 0.6588 - accuracy: 0.55 - ETA: 6s - loss: 0.6586 - accuracy: 0.55 - ETA: 5s - loss: 0.6585 - accuracy: 0.55 - ETA: 5s - loss: 0.6579 - accuracy: 0.55 - ETA: 5s - loss: 0.6573 - accuracy: 0.55 - ETA: 5s - loss: 0.6571 - accuracy: 0.55 - ETA: 5s - loss: 0.6563 - accuracy: 0.55 - ETA: 5s - loss: 0.6557 - accuracy: 0.55 - ETA: 5s - loss: 0.6547 - accuracy: 0.55 - ETA: 5s - loss: 0.6542 - accuracy: 0.55 - ETA: 5s - loss: 0.6534 - accuracy: 0.55 - ETA: 5s - loss: 0.6532 - accuracy: 0.55 - ETA: 5s - loss: 0.6519 - accuracy: 0.55 - ETA: 5s - loss: 0.6509 - accuracy: 0.55 - ETA: 4s - loss: 0.6503 - accuracy: 0.55 - ETA: 4s - loss: 0.6488 - accuracy: 0.55 - ETA: 4s - loss: 0.6478 - accuracy: 0.55 - ETA: 4s - loss: 0.6476 - accuracy: 0.55 - ETA: 4s - loss: 0.6468 - accuracy: 0.55 - ETA: 4s - loss: 0.6461 - accuracy: 0.55 - ETA: 4s - loss: 0.6458 - accuracy: 0.55 - ETA: 4s - loss: 0.6453 - accuracy: 0.55 - ETA: 4s - loss: 0.6453 - accuracy: 0.55 - ETA: 4s - loss: 0.6448 - accuracy: 0.55 - ETA: 4s - loss: 0.6443 - accuracy: 0.55 - ETA: 4s - loss: 0.6440 - accuracy: 0.55 - ETA: 4s - loss: 0.6437 - accuracy: 0.55 - ETA: 4s - loss: 0.6435 - accuracy: 0.55 - ETA: 3s - loss: 0.6433 - accuracy: 0.55 - ETA: 3s - loss: 0.6430 - accuracy: 0.55 - ETA: 3s - loss: 0.6442 - accuracy: 0.55 - ETA: 3s - loss: 0.6439 - accuracy: 0.55 - ETA: 3s - loss: 0.6433 - accuracy: 0.55 - ETA: 3s - loss: 0.6432 - accuracy: 0.55 - ETA: 3s - loss: 0.6424 - accuracy: 0.56 - ETA: 3s - loss: 0.6422 - accuracy: 0.56 - ETA: 3s - loss: 0.6419 - accuracy: 0.56 - ETA: 3s - loss: 0.6411 - accuracy: 0.56 - ETA: 3s - loss: 0.6406 - accuracy: 0.56 - ETA: 3s - loss: 0.6403 - accuracy: 0.56 - ETA: 3s - loss: 0.6398 - accuracy: 0.56 - ETA: 3s - loss: 0.6393 - accuracy: 0.56 - ETA: 2s - loss: 0.6387 - accuracy: 0.56 - ETA: 2s - loss: 0.6379 - accuracy: 0.56 - ETA: 2s - loss: 0.6372 - accuracy: 0.56 - ETA: 2s - loss: 0.6366 - accuracy: 0.56 - ETA: 2s - loss: 0.6362 - accuracy: 0.56 - ETA: 2s - loss: 0.6357 - accuracy: 0.56 - ETA: 2s - loss: 0.6355 - accuracy: 0.56 - ETA: 2s - loss: 0.6348 - accuracy: 0.56 - ETA: 2s - loss: 0.6342 - accuracy: 0.56 - ETA: 2s - loss: 0.6333 - accuracy: 0.56 - ETA: 2s - loss: 0.6327 - accuracy: 0.56 - ETA: 2s - loss: 0.6323 - accuracy: 0.56 - ETA: 2s - loss: 0.6317 - accuracy: 0.56 - ETA: 1s - loss: 0.6309 - accuracy: 0.56 - ETA: 1s - loss: 0.6306 - accuracy: 0.5673\b\b\b\b\b\b\b\b\b\b\b\b\b\b\b\b\b\b\b\b\b\b\b\b\b\b\b\b\b\b\b\b\b\b\b\b\b\b\b\b\b\b\b\b\b\b\b\b\b\b\b\b\b\b\b\b\b\b\b\b\b\b\b\b\b\b\b\b\b\b\b\b\b\b\b\b\b\b\b\b\b\b\b\b\b\b"
     ]
    },
    {
     "name": "stdout",
     "output_type": "stream",
     "text": [
      "6400/6400 [==============================] - ETA: 1s - loss: 0.6306 - accuracy: 0.56 - ETA: 1s - loss: 0.6303 - accuracy: 0.56 - ETA: 1s - loss: 0.6301 - accuracy: 0.56 - ETA: 1s - loss: 0.6312 - accuracy: 0.56 - ETA: 1s - loss: 0.6309 - accuracy: 0.56 - ETA: 1s - loss: 0.6307 - accuracy: 0.56 - ETA: 1s - loss: 0.6301 - accuracy: 0.56 - ETA: 1s - loss: 0.6297 - accuracy: 0.56 - ETA: 1s - loss: 0.6297 - accuracy: 0.56 - ETA: 1s - loss: 0.6295 - accuracy: 0.56 - ETA: 1s - loss: 0.6292 - accuracy: 0.56 - ETA: 0s - loss: 0.6285 - accuracy: 0.56 - ETA: 0s - loss: 0.6283 - accuracy: 0.56 - ETA: 0s - loss: 0.6281 - accuracy: 0.56 - ETA: 0s - loss: 0.6280 - accuracy: 0.56 - ETA: 0s - loss: 0.6273 - accuracy: 0.56 - ETA: 0s - loss: 0.6272 - accuracy: 0.56 - ETA: 0s - loss: 0.6270 - accuracy: 0.56 - ETA: 0s - loss: 0.6278 - accuracy: 0.56 - ETA: 0s - loss: 0.6273 - accuracy: 0.56 - ETA: 0s - loss: 0.6268 - accuracy: 0.56 - ETA: 0s - loss: 0.6267 - accuracy: 0.56 - ETA: 0s - loss: 0.6264 - accuracy: 0.56 - ETA: 0s - loss: 0.6259 - accuracy: 0.56 - ETA: 0s - loss: 0.6253 - accuracy: 0.56 - 16s 2ms/step - loss: 0.6254 - accuracy: 0.5670 - val_loss: 0.5768 - val_accuracy: 0.5925\n",
      "Epoch 2/10\n"
     ]
    },
    {
     "name": "stdout",
     "output_type": "stream",
     "text": [
      "5952/6400 [==========================>...] - ETA: 14s - loss: 0.5652 - accuracy: 0.500 - ETA: 13s - loss: 0.4883 - accuracy: 0.583 - ETA: 13s - loss: 0.5240 - accuracy: 0.612 - ETA: 13s - loss: 0.5400 - accuracy: 0.571 - ETA: 13s - loss: 0.5572 - accuracy: 0.555 - ETA: 14s - loss: 0.5593 - accuracy: 0.545 - ETA: 14s - loss: 0.5833 - accuracy: 0.519 - ETA: 14s - loss: 0.5904 - accuracy: 0.529 - ETA: 13s - loss: 0.5716 - accuracy: 0.558 - ETA: 13s - loss: 0.5703 - accuracy: 0.565 - ETA: 13s - loss: 0.5724 - accuracy: 0.568 - ETA: 13s - loss: 0.5678 - accuracy: 0.568 - ETA: 13s - loss: 0.5693 - accuracy: 0.570 - ETA: 13s - loss: 0.5707 - accuracy: 0.572 - ETA: 13s - loss: 0.5719 - accuracy: 0.564 - ETA: 13s - loss: 0.5719 - accuracy: 0.568 - ETA: 13s - loss: 0.5683 - accuracy: 0.572 - ETA: 13s - loss: 0.5669 - accuracy: 0.577 - ETA: 12s - loss: 0.5666 - accuracy: 0.581 - ETA: 12s - loss: 0.5697 - accuracy: 0.583 - ETA: 12s - loss: 0.5727 - accuracy: 0.576 - ETA: 12s - loss: 0.5686 - accuracy: 0.577 - ETA: 12s - loss: 0.5647 - accuracy: 0.583 - ETA: 12s - loss: 0.5613 - accuracy: 0.585 - ETA: 12s - loss: 0.5584 - accuracy: 0.588 - ETA: 12s - loss: 0.5562 - accuracy: 0.586 - ETA: 12s - loss: 0.5553 - accuracy: 0.593 - ETA: 12s - loss: 0.5504 - accuracy: 0.598 - ETA: 12s - loss: 0.5511 - accuracy: 0.598 - ETA: 12s - loss: 0.5502 - accuracy: 0.599 - ETA: 12s - loss: 0.5523 - accuracy: 0.600 - ETA: 11s - loss: 0.5520 - accuracy: 0.599 - ETA: 11s - loss: 0.5517 - accuracy: 0.601 - ETA: 11s - loss: 0.5505 - accuracy: 0.605 - ETA: 11s - loss: 0.5499 - accuracy: 0.603 - ETA: 11s - loss: 0.5481 - accuracy: 0.608 - ETA: 11s - loss: 0.5461 - accuracy: 0.611 - ETA: 11s - loss: 0.5460 - accuracy: 0.612 - ETA: 11s - loss: 0.5483 - accuracy: 0.612 - ETA: 11s - loss: 0.5480 - accuracy: 0.611 - ETA: 11s - loss: 0.5482 - accuracy: 0.611 - ETA: 11s - loss: 0.5470 - accuracy: 0.613 - ETA: 11s - loss: 0.5471 - accuracy: 0.610 - ETA: 11s - loss: 0.5492 - accuracy: 0.610 - ETA: 11s - loss: 0.5477 - accuracy: 0.611 - ETA: 11s - loss: 0.5491 - accuracy: 0.609 - ETA: 11s - loss: 0.5469 - accuracy: 0.611 - ETA: 11s - loss: 0.5508 - accuracy: 0.611 - ETA: 11s - loss: 0.5503 - accuracy: 0.610 - ETA: 11s - loss: 0.5499 - accuracy: 0.609 - ETA: 10s - loss: 0.5491 - accuracy: 0.612 - ETA: 11s - loss: 0.5488 - accuracy: 0.612 - ETA: 10s - loss: 0.5497 - accuracy: 0.610 - ETA: 10s - loss: 0.5503 - accuracy: 0.611 - ETA: 10s - loss: 0.5497 - accuracy: 0.608 - ETA: 10s - loss: 0.5505 - accuracy: 0.609 - ETA: 10s - loss: 0.5498 - accuracy: 0.612 - ETA: 10s - loss: 0.5511 - accuracy: 0.611 - ETA: 10s - loss: 0.5520 - accuracy: 0.612 - ETA: 10s - loss: 0.5514 - accuracy: 0.614 - ETA: 10s - loss: 0.5506 - accuracy: 0.613 - ETA: 10s - loss: 0.5496 - accuracy: 0.616 - ETA: 10s - loss: 0.5476 - accuracy: 0.618 - ETA: 10s - loss: 0.5447 - accuracy: 0.620 - ETA: 10s - loss: 0.5472 - accuracy: 0.618 - ETA: 10s - loss: 0.5483 - accuracy: 0.617 - ETA: 10s - loss: 0.5484 - accuracy: 0.617 - ETA: 9s - loss: 0.5492 - accuracy: 0.617 - ETA: 9s - loss: 0.5495 - accuracy: 0.61 - ETA: 9s - loss: 0.5534 - accuracy: 0.61 - ETA: 9s - loss: 0.5535 - accuracy: 0.61 - ETA: 9s - loss: 0.5545 - accuracy: 0.61 - ETA: 9s - loss: 0.5545 - accuracy: 0.61 - ETA: 9s - loss: 0.5566 - accuracy: 0.62 - ETA: 9s - loss: 0.5560 - accuracy: 0.61 - ETA: 9s - loss: 0.5566 - accuracy: 0.61 - ETA: 9s - loss: 0.5585 - accuracy: 0.61 - ETA: 9s - loss: 0.5590 - accuracy: 0.61 - ETA: 9s - loss: 0.5584 - accuracy: 0.61 - ETA: 9s - loss: 0.5579 - accuracy: 0.61 - ETA: 8s - loss: 0.5568 - accuracy: 0.61 - ETA: 8s - loss: 0.5573 - accuracy: 0.61 - ETA: 8s - loss: 0.5562 - accuracy: 0.61 - ETA: 8s - loss: 0.5558 - accuracy: 0.61 - ETA: 8s - loss: 0.5556 - accuracy: 0.61 - ETA: 8s - loss: 0.5550 - accuracy: 0.61 - ETA: 8s - loss: 0.5552 - accuracy: 0.61 - ETA: 8s - loss: 0.5557 - accuracy: 0.61 - ETA: 8s - loss: 0.5551 - accuracy: 0.61 - ETA: 8s - loss: 0.5546 - accuracy: 0.61 - ETA: 8s - loss: 0.5552 - accuracy: 0.61 - ETA: 8s - loss: 0.5553 - accuracy: 0.61 - ETA: 8s - loss: 0.5552 - accuracy: 0.61 - ETA: 8s - loss: 0.5550 - accuracy: 0.61 - ETA: 8s - loss: 0.5544 - accuracy: 0.61 - ETA: 7s - loss: 0.5550 - accuracy: 0.61 - ETA: 7s - loss: 0.5548 - accuracy: 0.61 - ETA: 7s - loss: 0.5540 - accuracy: 0.61 - ETA: 7s - loss: 0.5533 - accuracy: 0.61 - ETA: 7s - loss: 0.5530 - accuracy: 0.61 - ETA: 7s - loss: 0.5533 - accuracy: 0.61 - ETA: 7s - loss: 0.5537 - accuracy: 0.61 - ETA: 7s - loss: 0.5537 - accuracy: 0.61 - ETA: 7s - loss: 0.5543 - accuracy: 0.61 - ETA: 7s - loss: 0.5548 - accuracy: 0.61 - ETA: 7s - loss: 0.5552 - accuracy: 0.61 - ETA: 7s - loss: 0.5546 - accuracy: 0.61 - ETA: 7s - loss: 0.5546 - accuracy: 0.61 - ETA: 6s - loss: 0.5548 - accuracy: 0.61 - ETA: 6s - loss: 0.5551 - accuracy: 0.61 - ETA: 6s - loss: 0.5557 - accuracy: 0.61 - ETA: 6s - loss: 0.5548 - accuracy: 0.61 - ETA: 6s - loss: 0.5546 - accuracy: 0.61 - ETA: 6s - loss: 0.5541 - accuracy: 0.61 - ETA: 6s - loss: 0.5536 - accuracy: 0.61 - ETA: 6s - loss: 0.5528 - accuracy: 0.61 - ETA: 6s - loss: 0.5529 - accuracy: 0.61 - ETA: 6s - loss: 0.5526 - accuracy: 0.61 - ETA: 6s - loss: 0.5530 - accuracy: 0.61 - ETA: 6s - loss: 0.5526 - accuracy: 0.61 - ETA: 6s - loss: 0.5521 - accuracy: 0.61 - ETA: 5s - loss: 0.5518 - accuracy: 0.61 - ETA: 5s - loss: 0.5509 - accuracy: 0.61 - ETA: 5s - loss: 0.5502 - accuracy: 0.61 - ETA: 5s - loss: 0.5497 - accuracy: 0.61 - ETA: 5s - loss: 0.5494 - accuracy: 0.61 - ETA: 5s - loss: 0.5498 - accuracy: 0.61 - ETA: 5s - loss: 0.5501 - accuracy: 0.61 - ETA: 5s - loss: 0.5503 - accuracy: 0.61 - ETA: 5s - loss: 0.5501 - accuracy: 0.61 - ETA: 5s - loss: 0.5496 - accuracy: 0.61 - ETA: 5s - loss: 0.5490 - accuracy: 0.61 - ETA: 5s - loss: 0.5496 - accuracy: 0.61 - ETA: 5s - loss: 0.5495 - accuracy: 0.61 - ETA: 5s - loss: 0.5494 - accuracy: 0.61 - ETA: 4s - loss: 0.5493 - accuracy: 0.61 - ETA: 4s - loss: 0.5488 - accuracy: 0.61 - ETA: 4s - loss: 0.5486 - accuracy: 0.61 - ETA: 4s - loss: 0.5490 - accuracy: 0.61 - ETA: 4s - loss: 0.5493 - accuracy: 0.61 - ETA: 4s - loss: 0.5483 - accuracy: 0.61 - ETA: 4s - loss: 0.5482 - accuracy: 0.61 - ETA: 4s - loss: 0.5481 - accuracy: 0.61 - ETA: 4s - loss: 0.5487 - accuracy: 0.61 - ETA: 4s - loss: 0.5489 - accuracy: 0.61 - ETA: 4s - loss: 0.5498 - accuracy: 0.61 - ETA: 4s - loss: 0.5494 - accuracy: 0.61 - ETA: 4s - loss: 0.5485 - accuracy: 0.61 - ETA: 3s - loss: 0.5487 - accuracy: 0.61 - ETA: 3s - loss: 0.5486 - accuracy: 0.61 - ETA: 3s - loss: 0.5486 - accuracy: 0.61 - ETA: 3s - loss: 0.5484 - accuracy: 0.61 - ETA: 3s - loss: 0.5481 - accuracy: 0.61 - ETA: 3s - loss: 0.5484 - accuracy: 0.61 - ETA: 3s - loss: 0.5477 - accuracy: 0.61 - ETA: 3s - loss: 0.5483 - accuracy: 0.61 - ETA: 3s - loss: 0.5480 - accuracy: 0.61 - ETA: 3s - loss: 0.5473 - accuracy: 0.61 - ETA: 3s - loss: 0.5480 - accuracy: 0.61 - ETA: 3s - loss: 0.5482 - accuracy: 0.61 - ETA: 3s - loss: 0.5484 - accuracy: 0.61 - ETA: 3s - loss: 0.5485 - accuracy: 0.61 - ETA: 3s - loss: 0.5482 - accuracy: 0.61 - ETA: 2s - loss: 0.5476 - accuracy: 0.61 - ETA: 2s - loss: 0.5479 - accuracy: 0.61 - ETA: 2s - loss: 0.5478 - accuracy: 0.61 - ETA: 2s - loss: 0.5470 - accuracy: 0.61 - ETA: 2s - loss: 0.5469 - accuracy: 0.61 - ETA: 2s - loss: 0.5470 - accuracy: 0.61 - ETA: 2s - loss: 0.5467 - accuracy: 0.61 - ETA: 2s - loss: 0.5464 - accuracy: 0.61 - ETA: 2s - loss: 0.5464 - accuracy: 0.61 - ETA: 2s - loss: 0.5459 - accuracy: 0.61 - ETA: 2s - loss: 0.5459 - accuracy: 0.61 - ETA: 2s - loss: 0.5455 - accuracy: 0.61 - ETA: 2s - loss: 0.5458 - accuracy: 0.61 - ETA: 1s - loss: 0.5462 - accuracy: 0.61 - ETA: 1s - loss: 0.5459 - accuracy: 0.61 - ETA: 1s - loss: 0.5458 - accuracy: 0.61 - ETA: 1s - loss: 0.5457 - accuracy: 0.61 - ETA: 1s - loss: 0.5457 - accuracy: 0.61 - ETA: 1s - loss: 0.5456 - accuracy: 0.61 - ETA: 1s - loss: 0.5454 - accuracy: 0.61 - ETA: 1s - loss: 0.5457 - accuracy: 0.61 - ETA: 1s - loss: 0.5460 - accuracy: 0.61 - ETA: 1s - loss: 0.5460 - accuracy: 0.61 - ETA: 1s - loss: 0.5462 - accuracy: 0.61 - ETA: 1s - loss: 0.5461 - accuracy: 0.61 - ETA: 1s - loss: 0.5466 - accuracy: 0.61 - ETA: 1s - loss: 0.5468 - accuracy: 0.61 - ETA: 1s - loss: 0.5472 - accuracy: 0.6148"
     ]
    },
    {
     "name": "stdout",
     "output_type": "stream",
     "text": [
      "6400/6400 [==============================] - ETA: 0s - loss: 0.5472 - accuracy: 0.61 - ETA: 0s - loss: 0.5461 - accuracy: 0.61 - ETA: 0s - loss: 0.5456 - accuracy: 0.61 - ETA: 0s - loss: 0.5454 - accuracy: 0.61 - ETA: 0s - loss: 0.5452 - accuracy: 0.61 - ETA: 0s - loss: 0.5451 - accuracy: 0.61 - ETA: 0s - loss: 0.5445 - accuracy: 0.61 - ETA: 0s - loss: 0.5446 - accuracy: 0.61 - ETA: 0s - loss: 0.5443 - accuracy: 0.61 - ETA: 0s - loss: 0.5444 - accuracy: 0.61 - ETA: 0s - loss: 0.5445 - accuracy: 0.61 - ETA: 0s - loss: 0.5444 - accuracy: 0.61 - ETA: 0s - loss: 0.5443 - accuracy: 0.61 - ETA: 0s - loss: 0.5450 - accuracy: 0.61 - 15s 2ms/step - loss: 0.5450 - accuracy: 0.6172 - val_loss: 0.5670 - val_accuracy: 0.6069\n",
      "Epoch 3/10\n"
     ]
    },
    {
     "name": "stdout",
     "output_type": "stream",
     "text": [
      "5872/6400 [==========================>...] - ETA: 15s - loss: 0.6473 - accuracy: 0.687 - ETA: 12s - loss: 0.5595 - accuracy: 0.729 - ETA: 13s - loss: 0.5340 - accuracy: 0.662 - ETA: 13s - loss: 0.5407 - accuracy: 0.625 - ETA: 12s - loss: 0.5263 - accuracy: 0.645 - ETA: 12s - loss: 0.5265 - accuracy: 0.670 - ETA: 12s - loss: 0.5229 - accuracy: 0.663 - ETA: 12s - loss: 0.5282 - accuracy: 0.658 - ETA: 12s - loss: 0.5281 - accuracy: 0.661 - ETA: 13s - loss: 0.5260 - accuracy: 0.652 - ETA: 13s - loss: 0.5298 - accuracy: 0.657 - ETA: 13s - loss: 0.5259 - accuracy: 0.645 - ETA: 13s - loss: 0.5287 - accuracy: 0.641 - ETA: 13s - loss: 0.5389 - accuracy: 0.640 - ETA: 13s - loss: 0.5379 - accuracy: 0.641 - ETA: 13s - loss: 0.5373 - accuracy: 0.640 - ETA: 13s - loss: 0.5352 - accuracy: 0.633 - ETA: 13s - loss: 0.5317 - accuracy: 0.638 - ETA: 13s - loss: 0.5300 - accuracy: 0.632 - ETA: 13s - loss: 0.5329 - accuracy: 0.631 - ETA: 12s - loss: 0.5312 - accuracy: 0.634 - ETA: 12s - loss: 0.5290 - accuracy: 0.631 - ETA: 12s - loss: 0.5276 - accuracy: 0.636 - ETA: 12s - loss: 0.5283 - accuracy: 0.636 - ETA: 12s - loss: 0.5300 - accuracy: 0.633 - ETA: 12s - loss: 0.5334 - accuracy: 0.628 - ETA: 12s - loss: 0.5305 - accuracy: 0.631 - ETA: 12s - loss: 0.5294 - accuracy: 0.630 - ETA: 12s - loss: 0.5306 - accuracy: 0.628 - ETA: 12s - loss: 0.5292 - accuracy: 0.627 - ETA: 12s - loss: 0.5296 - accuracy: 0.629 - ETA: 12s - loss: 0.5301 - accuracy: 0.627 - ETA: 12s - loss: 0.5278 - accuracy: 0.630 - ETA: 12s - loss: 0.5269 - accuracy: 0.630 - ETA: 12s - loss: 0.5272 - accuracy: 0.636 - ETA: 12s - loss: 0.5289 - accuracy: 0.633 - ETA: 11s - loss: 0.5287 - accuracy: 0.632 - ETA: 11s - loss: 0.5298 - accuracy: 0.630 - ETA: 11s - loss: 0.5293 - accuracy: 0.627 - ETA: 11s - loss: 0.5291 - accuracy: 0.628 - ETA: 11s - loss: 0.5306 - accuracy: 0.625 - ETA: 11s - loss: 0.5298 - accuracy: 0.623 - ETA: 11s - loss: 0.5308 - accuracy: 0.622 - ETA: 11s - loss: 0.5290 - accuracy: 0.622 - ETA: 11s - loss: 0.5303 - accuracy: 0.619 - ETA: 11s - loss: 0.5307 - accuracy: 0.619 - ETA: 11s - loss: 0.5286 - accuracy: 0.622 - ETA: 11s - loss: 0.5270 - accuracy: 0.620 - ETA: 11s - loss: 0.5264 - accuracy: 0.623 - ETA: 11s - loss: 0.5263 - accuracy: 0.623 - ETA: 11s - loss: 0.5262 - accuracy: 0.622 - ETA: 11s - loss: 0.5252 - accuracy: 0.623 - ETA: 11s - loss: 0.5265 - accuracy: 0.623 - ETA: 11s - loss: 0.5277 - accuracy: 0.623 - ETA: 10s - loss: 0.5272 - accuracy: 0.623 - ETA: 10s - loss: 0.5272 - accuracy: 0.621 - ETA: 10s - loss: 0.5276 - accuracy: 0.622 - ETA: 10s - loss: 0.5272 - accuracy: 0.622 - ETA: 10s - loss: 0.5267 - accuracy: 0.622 - ETA: 10s - loss: 0.5281 - accuracy: 0.623 - ETA: 10s - loss: 0.5284 - accuracy: 0.622 - ETA: 10s - loss: 0.5294 - accuracy: 0.621 - ETA: 10s - loss: 0.5289 - accuracy: 0.619 - ETA: 10s - loss: 0.5273 - accuracy: 0.620 - ETA: 10s - loss: 0.5279 - accuracy: 0.619 - ETA: 10s - loss: 0.5271 - accuracy: 0.619 - ETA: 10s - loss: 0.5270 - accuracy: 0.619 - ETA: 10s - loss: 0.5273 - accuracy: 0.617 - ETA: 10s - loss: 0.5265 - accuracy: 0.619 - ETA: 9s - loss: 0.5251 - accuracy: 0.621 - ETA: 9s - loss: 0.5251 - accuracy: 0.61 - ETA: 9s - loss: 0.5270 - accuracy: 0.61 - ETA: 9s - loss: 0.5263 - accuracy: 0.61 - ETA: 9s - loss: 0.5250 - accuracy: 0.62 - ETA: 9s - loss: 0.5247 - accuracy: 0.62 - ETA: 9s - loss: 0.5249 - accuracy: 0.62 - ETA: 9s - loss: 0.5231 - accuracy: 0.62 - ETA: 9s - loss: 0.5240 - accuracy: 0.62 - ETA: 9s - loss: 0.5236 - accuracy: 0.62 - ETA: 9s - loss: 0.5231 - accuracy: 0.62 - ETA: 9s - loss: 0.5228 - accuracy: 0.62 - ETA: 9s - loss: 0.5234 - accuracy: 0.61 - ETA: 9s - loss: 0.5238 - accuracy: 0.62 - ETA: 8s - loss: 0.5232 - accuracy: 0.62 - ETA: 8s - loss: 0.5229 - accuracy: 0.62 - ETA: 8s - loss: 0.5226 - accuracy: 0.62 - ETA: 8s - loss: 0.5237 - accuracy: 0.62 - ETA: 8s - loss: 0.5239 - accuracy: 0.62 - ETA: 8s - loss: 0.5250 - accuracy: 0.62 - ETA: 8s - loss: 0.5242 - accuracy: 0.62 - ETA: 8s - loss: 0.5246 - accuracy: 0.62 - ETA: 8s - loss: 0.5235 - accuracy: 0.62 - ETA: 8s - loss: 0.5239 - accuracy: 0.62 - ETA: 8s - loss: 0.5247 - accuracy: 0.62 - ETA: 8s - loss: 0.5252 - accuracy: 0.62 - ETA: 8s - loss: 0.5251 - accuracy: 0.62 - ETA: 7s - loss: 0.5249 - accuracy: 0.62 - ETA: 7s - loss: 0.5254 - accuracy: 0.62 - ETA: 7s - loss: 0.5263 - accuracy: 0.62 - ETA: 7s - loss: 0.5259 - accuracy: 0.62 - ETA: 7s - loss: 0.5257 - accuracy: 0.62 - ETA: 7s - loss: 0.5263 - accuracy: 0.62 - ETA: 7s - loss: 0.5267 - accuracy: 0.62 - ETA: 7s - loss: 0.5260 - accuracy: 0.62 - ETA: 7s - loss: 0.5261 - accuracy: 0.62 - ETA: 7s - loss: 0.5261 - accuracy: 0.62 - ETA: 7s - loss: 0.5263 - accuracy: 0.62 - ETA: 7s - loss: 0.5258 - accuracy: 0.62 - ETA: 7s - loss: 0.5250 - accuracy: 0.62 - ETA: 7s - loss: 0.5255 - accuracy: 0.62 - ETA: 6s - loss: 0.5249 - accuracy: 0.62 - ETA: 6s - loss: 0.5253 - accuracy: 0.62 - ETA: 6s - loss: 0.5251 - accuracy: 0.62 - ETA: 6s - loss: 0.5252 - accuracy: 0.62 - ETA: 6s - loss: 0.5256 - accuracy: 0.62 - ETA: 6s - loss: 0.5253 - accuracy: 0.62 - ETA: 6s - loss: 0.5253 - accuracy: 0.62 - ETA: 6s - loss: 0.5245 - accuracy: 0.62 - ETA: 6s - loss: 0.5252 - accuracy: 0.62 - ETA: 6s - loss: 0.5257 - accuracy: 0.62 - ETA: 6s - loss: 0.5260 - accuracy: 0.62 - ETA: 6s - loss: 0.5260 - accuracy: 0.62 - ETA: 6s - loss: 0.5255 - accuracy: 0.62 - ETA: 6s - loss: 0.5254 - accuracy: 0.62 - ETA: 5s - loss: 0.5252 - accuracy: 0.62 - ETA: 5s - loss: 0.5253 - accuracy: 0.62 - ETA: 5s - loss: 0.5256 - accuracy: 0.62 - ETA: 5s - loss: 0.5259 - accuracy: 0.62 - ETA: 5s - loss: 0.5263 - accuracy: 0.62 - ETA: 5s - loss: 0.5268 - accuracy: 0.62 - ETA: 5s - loss: 0.5272 - accuracy: 0.62 - ETA: 5s - loss: 0.5278 - accuracy: 0.62 - ETA: 5s - loss: 0.5279 - accuracy: 0.62 - ETA: 5s - loss: 0.5277 - accuracy: 0.62 - ETA: 5s - loss: 0.5282 - accuracy: 0.62 - ETA: 5s - loss: 0.5286 - accuracy: 0.62 - ETA: 5s - loss: 0.5285 - accuracy: 0.62 - ETA: 4s - loss: 0.5287 - accuracy: 0.62 - ETA: 4s - loss: 0.5290 - accuracy: 0.62 - ETA: 4s - loss: 0.5293 - accuracy: 0.62 - ETA: 4s - loss: 0.5290 - accuracy: 0.62 - ETA: 4s - loss: 0.5292 - accuracy: 0.61 - ETA: 4s - loss: 0.5291 - accuracy: 0.61 - ETA: 4s - loss: 0.5291 - accuracy: 0.62 - ETA: 4s - loss: 0.5292 - accuracy: 0.61 - ETA: 4s - loss: 0.5288 - accuracy: 0.62 - ETA: 4s - loss: 0.5284 - accuracy: 0.62 - ETA: 4s - loss: 0.5287 - accuracy: 0.62 - ETA: 4s - loss: 0.5286 - accuracy: 0.62 - ETA: 4s - loss: 0.5284 - accuracy: 0.62 - ETA: 4s - loss: 0.5281 - accuracy: 0.62 - ETA: 4s - loss: 0.5282 - accuracy: 0.62 - ETA: 3s - loss: 0.5277 - accuracy: 0.62 - ETA: 3s - loss: 0.5280 - accuracy: 0.62 - ETA: 3s - loss: 0.5279 - accuracy: 0.62 - ETA: 3s - loss: 0.5281 - accuracy: 0.62 - ETA: 3s - loss: 0.5288 - accuracy: 0.62 - ETA: 3s - loss: 0.5288 - accuracy: 0.62 - ETA: 3s - loss: 0.5284 - accuracy: 0.62 - ETA: 3s - loss: 0.5283 - accuracy: 0.62 - ETA: 3s - loss: 0.5287 - accuracy: 0.62 - ETA: 3s - loss: 0.5289 - accuracy: 0.62 - ETA: 3s - loss: 0.5284 - accuracy: 0.62 - ETA: 3s - loss: 0.5284 - accuracy: 0.62 - ETA: 3s - loss: 0.5288 - accuracy: 0.62 - ETA: 3s - loss: 0.5290 - accuracy: 0.62 - ETA: 2s - loss: 0.5286 - accuracy: 0.62 - ETA: 2s - loss: 0.5284 - accuracy: 0.62 - ETA: 2s - loss: 0.5278 - accuracy: 0.62 - ETA: 2s - loss: 0.5279 - accuracy: 0.62 - ETA: 2s - loss: 0.5281 - accuracy: 0.62 - ETA: 2s - loss: 0.5277 - accuracy: 0.62 - ETA: 2s - loss: 0.5272 - accuracy: 0.62 - ETA: 2s - loss: 0.5271 - accuracy: 0.62 - ETA: 2s - loss: 0.5275 - accuracy: 0.62 - ETA: 2s - loss: 0.5268 - accuracy: 0.62 - ETA: 2s - loss: 0.5270 - accuracy: 0.62 - ETA: 2s - loss: 0.5267 - accuracy: 0.62 - ETA: 2s - loss: 0.5268 - accuracy: 0.62 - ETA: 1s - loss: 0.5271 - accuracy: 0.62 - ETA: 1s - loss: 0.5266 - accuracy: 0.62 - ETA: 1s - loss: 0.5267 - accuracy: 0.62 - ETA: 1s - loss: 0.5261 - accuracy: 0.62 - ETA: 1s - loss: 0.5268 - accuracy: 0.62 - ETA: 1s - loss: 0.5266 - accuracy: 0.62 - ETA: 1s - loss: 0.5272 - accuracy: 0.62 - ETA: 1s - loss: 0.5273 - accuracy: 0.62 - ETA: 1s - loss: 0.5269 - accuracy: 0.62 - ETA: 1s - loss: 0.5273 - accuracy: 0.62 - ETA: 1s - loss: 0.5278 - accuracy: 0.62 - ETA: 1s - loss: 0.5275 - accuracy: 0.6216"
     ]
    },
    {
     "name": "stdout",
     "output_type": "stream",
     "text": [
      "6400/6400 [==============================] - ETA: 1s - loss: 0.5273 - accuracy: 0.62 - ETA: 1s - loss: 0.5273 - accuracy: 0.62 - ETA: 0s - loss: 0.5274 - accuracy: 0.62 - ETA: 0s - loss: 0.5273 - accuracy: 0.62 - ETA: 0s - loss: 0.5274 - accuracy: 0.62 - ETA: 0s - loss: 0.5275 - accuracy: 0.62 - ETA: 0s - loss: 0.5276 - accuracy: 0.62 - ETA: 0s - loss: 0.5283 - accuracy: 0.62 - ETA: 0s - loss: 0.5286 - accuracy: 0.61 - ETA: 0s - loss: 0.5290 - accuracy: 0.61 - ETA: 0s - loss: 0.5291 - accuracy: 0.61 - ETA: 0s - loss: 0.5294 - accuracy: 0.61 - ETA: 0s - loss: 0.5299 - accuracy: 0.61 - ETA: 0s - loss: 0.5306 - accuracy: 0.61 - ETA: 0s - loss: 0.5321 - accuracy: 0.61 - ETA: 0s - loss: 0.5322 - accuracy: 0.61 - 15s 2ms/step - loss: 0.5320 - accuracy: 0.6167 - val_loss: 0.5372 - val_accuracy: 0.6162\n",
      "Epoch 4/10\n"
     ]
    },
    {
     "name": "stdout",
     "output_type": "stream",
     "text": [
      "6000/6400 [===========================>..] - ETA: 15s - loss: 0.5631 - accuracy: 0.687 - ETA: 13s - loss: 0.5346 - accuracy: 0.625 - ETA: 13s - loss: 0.5476 - accuracy: 0.600 - ETA: 13s - loss: 0.5522 - accuracy: 0.616 - ETA: 13s - loss: 0.5499 - accuracy: 0.625 - ETA: 13s - loss: 0.5367 - accuracy: 0.642 - ETA: 13s - loss: 0.5342 - accuracy: 0.634 - ETA: 12s - loss: 0.5381 - accuracy: 0.629 - ETA: 13s - loss: 0.5337 - accuracy: 0.628 - ETA: 12s - loss: 0.5256 - accuracy: 0.631 - ETA: 13s - loss: 0.5299 - accuracy: 0.625 - ETA: 13s - loss: 0.5212 - accuracy: 0.630 - ETA: 12s - loss: 0.5123 - accuracy: 0.643 - ETA: 13s - loss: 0.5109 - accuracy: 0.642 - ETA: 13s - loss: 0.5146 - accuracy: 0.639 - ETA: 13s - loss: 0.5120 - accuracy: 0.640 - ETA: 13s - loss: 0.5133 - accuracy: 0.635 - ETA: 13s - loss: 0.5101 - accuracy: 0.638 - ETA: 13s - loss: 0.5149 - accuracy: 0.639 - ETA: 13s - loss: 0.5188 - accuracy: 0.637 - ETA: 13s - loss: 0.5200 - accuracy: 0.639 - ETA: 12s - loss: 0.5179 - accuracy: 0.632 - ETA: 12s - loss: 0.5191 - accuracy: 0.629 - ETA: 12s - loss: 0.5201 - accuracy: 0.626 - ETA: 12s - loss: 0.5211 - accuracy: 0.626 - ETA: 12s - loss: 0.5186 - accuracy: 0.630 - ETA: 12s - loss: 0.5196 - accuracy: 0.633 - ETA: 12s - loss: 0.5180 - accuracy: 0.634 - ETA: 12s - loss: 0.5175 - accuracy: 0.631 - ETA: 12s - loss: 0.5176 - accuracy: 0.630 - ETA: 12s - loss: 0.5110 - accuracy: 0.631 - ETA: 12s - loss: 0.5106 - accuracy: 0.630 - ETA: 11s - loss: 0.5095 - accuracy: 0.635 - ETA: 11s - loss: 0.5107 - accuracy: 0.638 - ETA: 11s - loss: 0.5136 - accuracy: 0.638 - ETA: 11s - loss: 0.5133 - accuracy: 0.638 - ETA: 11s - loss: 0.5142 - accuracy: 0.633 - ETA: 11s - loss: 0.5168 - accuracy: 0.638 - ETA: 11s - loss: 0.5169 - accuracy: 0.638 - ETA: 11s - loss: 0.5181 - accuracy: 0.637 - ETA: 11s - loss: 0.5177 - accuracy: 0.636 - ETA: 11s - loss: 0.5182 - accuracy: 0.638 - ETA: 11s - loss: 0.5199 - accuracy: 0.638 - ETA: 11s - loss: 0.5204 - accuracy: 0.636 - ETA: 11s - loss: 0.5209 - accuracy: 0.637 - ETA: 10s - loss: 0.5204 - accuracy: 0.637 - ETA: 10s - loss: 0.5204 - accuracy: 0.634 - ETA: 10s - loss: 0.5195 - accuracy: 0.636 - ETA: 10s - loss: 0.5181 - accuracy: 0.637 - ETA: 10s - loss: 0.5159 - accuracy: 0.638 - ETA: 10s - loss: 0.5147 - accuracy: 0.639 - ETA: 10s - loss: 0.5139 - accuracy: 0.639 - ETA: 10s - loss: 0.5132 - accuracy: 0.641 - ETA: 10s - loss: 0.5134 - accuracy: 0.644 - ETA: 10s - loss: 0.5123 - accuracy: 0.643 - ETA: 10s - loss: 0.5124 - accuracy: 0.643 - ETA: 10s - loss: 0.5102 - accuracy: 0.646 - ETA: 10s - loss: 0.5097 - accuracy: 0.646 - ETA: 9s - loss: 0.5091 - accuracy: 0.647 - ETA: 9s - loss: 0.5093 - accuracy: 0.64 - ETA: 9s - loss: 0.5094 - accuracy: 0.64 - ETA: 9s - loss: 0.5104 - accuracy: 0.64 - ETA: 9s - loss: 0.5105 - accuracy: 0.64 - ETA: 9s - loss: 0.5114 - accuracy: 0.64 - ETA: 9s - loss: 0.5105 - accuracy: 0.64 - ETA: 9s - loss: 0.5120 - accuracy: 0.64 - ETA: 9s - loss: 0.5128 - accuracy: 0.64 - ETA: 9s - loss: 0.5139 - accuracy: 0.64 - ETA: 9s - loss: 0.5150 - accuracy: 0.64 - ETA: 9s - loss: 0.5147 - accuracy: 0.64 - ETA: 9s - loss: 0.5151 - accuracy: 0.64 - ETA: 9s - loss: 0.5161 - accuracy: 0.64 - ETA: 8s - loss: 0.5159 - accuracy: 0.64 - ETA: 8s - loss: 0.5154 - accuracy: 0.64 - ETA: 8s - loss: 0.5151 - accuracy: 0.64 - ETA: 8s - loss: 0.5158 - accuracy: 0.64 - ETA: 8s - loss: 0.5168 - accuracy: 0.63 - ETA: 8s - loss: 0.5166 - accuracy: 0.64 - ETA: 8s - loss: 0.5169 - accuracy: 0.64 - ETA: 8s - loss: 0.5164 - accuracy: 0.63 - ETA: 8s - loss: 0.5170 - accuracy: 0.63 - ETA: 8s - loss: 0.5170 - accuracy: 0.63 - ETA: 8s - loss: 0.5168 - accuracy: 0.64 - ETA: 8s - loss: 0.5166 - accuracy: 0.63 - ETA: 8s - loss: 0.5160 - accuracy: 0.64 - ETA: 8s - loss: 0.5161 - accuracy: 0.64 - ETA: 8s - loss: 0.5159 - accuracy: 0.64 - ETA: 7s - loss: 0.5165 - accuracy: 0.63 - ETA: 7s - loss: 0.5171 - accuracy: 0.63 - ETA: 7s - loss: 0.5156 - accuracy: 0.63 - ETA: 7s - loss: 0.5157 - accuracy: 0.63 - ETA: 7s - loss: 0.5160 - accuracy: 0.63 - ETA: 7s - loss: 0.5160 - accuracy: 0.63 - ETA: 7s - loss: 0.5169 - accuracy: 0.63 - ETA: 7s - loss: 0.5167 - accuracy: 0.63 - ETA: 7s - loss: 0.5165 - accuracy: 0.63 - ETA: 7s - loss: 0.5169 - accuracy: 0.63 - ETA: 7s - loss: 0.5170 - accuracy: 0.63 - ETA: 7s - loss: 0.5164 - accuracy: 0.63 - ETA: 7s - loss: 0.5162 - accuracy: 0.63 - ETA: 7s - loss: 0.5162 - accuracy: 0.63 - ETA: 7s - loss: 0.5164 - accuracy: 0.63 - ETA: 6s - loss: 0.5162 - accuracy: 0.63 - ETA: 6s - loss: 0.5165 - accuracy: 0.63 - ETA: 6s - loss: 0.5165 - accuracy: 0.63 - ETA: 6s - loss: 0.5153 - accuracy: 0.63 - ETA: 6s - loss: 0.5159 - accuracy: 0.63 - ETA: 6s - loss: 0.5155 - accuracy: 0.63 - ETA: 6s - loss: 0.5157 - accuracy: 0.63 - ETA: 6s - loss: 0.5156 - accuracy: 0.63 - ETA: 6s - loss: 0.5162 - accuracy: 0.63 - ETA: 6s - loss: 0.5153 - accuracy: 0.63 - ETA: 6s - loss: 0.5151 - accuracy: 0.63 - ETA: 6s - loss: 0.5153 - accuracy: 0.63 - ETA: 6s - loss: 0.5151 - accuracy: 0.63 - ETA: 6s - loss: 0.5152 - accuracy: 0.63 - ETA: 6s - loss: 0.5149 - accuracy: 0.63 - ETA: 5s - loss: 0.5151 - accuracy: 0.63 - ETA: 5s - loss: 0.5148 - accuracy: 0.63 - ETA: 5s - loss: 0.5156 - accuracy: 0.63 - ETA: 5s - loss: 0.5153 - accuracy: 0.63 - ETA: 5s - loss: 0.5156 - accuracy: 0.63 - ETA: 5s - loss: 0.5164 - accuracy: 0.63 - ETA: 5s - loss: 0.5170 - accuracy: 0.63 - ETA: 5s - loss: 0.5172 - accuracy: 0.63 - ETA: 5s - loss: 0.5179 - accuracy: 0.63 - ETA: 5s - loss: 0.5179 - accuracy: 0.63 - ETA: 5s - loss: 0.5186 - accuracy: 0.63 - ETA: 5s - loss: 0.5185 - accuracy: 0.63 - ETA: 5s - loss: 0.5195 - accuracy: 0.63 - ETA: 5s - loss: 0.5195 - accuracy: 0.63 - ETA: 5s - loss: 0.5192 - accuracy: 0.63 - ETA: 4s - loss: 0.5192 - accuracy: 0.63 - ETA: 4s - loss: 0.5186 - accuracy: 0.63 - ETA: 4s - loss: 0.5190 - accuracy: 0.63 - ETA: 4s - loss: 0.5181 - accuracy: 0.63 - ETA: 4s - loss: 0.5180 - accuracy: 0.63 - ETA: 4s - loss: 0.5177 - accuracy: 0.63 - ETA: 4s - loss: 0.5182 - accuracy: 0.63 - ETA: 4s - loss: 0.5182 - accuracy: 0.63 - ETA: 4s - loss: 0.5181 - accuracy: 0.63 - ETA: 4s - loss: 0.5175 - accuracy: 0.63 - ETA: 4s - loss: 0.5179 - accuracy: 0.63 - ETA: 4s - loss: 0.5182 - accuracy: 0.63 - ETA: 4s - loss: 0.5182 - accuracy: 0.63 - ETA: 4s - loss: 0.5183 - accuracy: 0.63 - ETA: 4s - loss: 0.5186 - accuracy: 0.63 - ETA: 3s - loss: 0.5184 - accuracy: 0.63 - ETA: 3s - loss: 0.5182 - accuracy: 0.63 - ETA: 3s - loss: 0.5181 - accuracy: 0.63 - ETA: 3s - loss: 0.5180 - accuracy: 0.63 - ETA: 3s - loss: 0.5182 - accuracy: 0.63 - ETA: 3s - loss: 0.5182 - accuracy: 0.63 - ETA: 3s - loss: 0.5179 - accuracy: 0.63 - ETA: 3s - loss: 0.5183 - accuracy: 0.63 - ETA: 3s - loss: 0.5181 - accuracy: 0.63 - ETA: 3s - loss: 0.5184 - accuracy: 0.63 - ETA: 3s - loss: 0.5184 - accuracy: 0.63 - ETA: 3s - loss: 0.5180 - accuracy: 0.63 - ETA: 3s - loss: 0.5181 - accuracy: 0.63 - ETA: 3s - loss: 0.5182 - accuracy: 0.63 - ETA: 2s - loss: 0.5189 - accuracy: 0.63 - ETA: 2s - loss: 0.5183 - accuracy: 0.63 - ETA: 2s - loss: 0.5181 - accuracy: 0.63 - ETA: 2s - loss: 0.5187 - accuracy: 0.63 - ETA: 2s - loss: 0.5191 - accuracy: 0.62 - ETA: 2s - loss: 0.5191 - accuracy: 0.62 - ETA: 2s - loss: 0.5193 - accuracy: 0.62 - ETA: 2s - loss: 0.5195 - accuracy: 0.62 - ETA: 2s - loss: 0.5190 - accuracy: 0.62 - ETA: 2s - loss: 0.5189 - accuracy: 0.63 - ETA: 2s - loss: 0.5185 - accuracy: 0.63 - ETA: 2s - loss: 0.5186 - accuracy: 0.63 - ETA: 2s - loss: 0.5180 - accuracy: 0.63 - ETA: 2s - loss: 0.5184 - accuracy: 0.63 - ETA: 2s - loss: 0.5180 - accuracy: 0.63 - ETA: 1s - loss: 0.5178 - accuracy: 0.63 - ETA: 1s - loss: 0.5173 - accuracy: 0.63 - ETA: 1s - loss: 0.5172 - accuracy: 0.63 - ETA: 1s - loss: 0.5174 - accuracy: 0.63 - ETA: 1s - loss: 0.5174 - accuracy: 0.62 - ETA: 1s - loss: 0.5173 - accuracy: 0.62 - ETA: 1s - loss: 0.5176 - accuracy: 0.62 - ETA: 1s - loss: 0.5188 - accuracy: 0.62 - ETA: 1s - loss: 0.5188 - accuracy: 0.62 - ETA: 1s - loss: 0.5189 - accuracy: 0.62 - ETA: 1s - loss: 0.5195 - accuracy: 0.62 - ETA: 1s - loss: 0.5197 - accuracy: 0.62 - ETA: 1s - loss: 0.5197 - accuracy: 0.62 - ETA: 1s - loss: 0.5197 - accuracy: 0.62 - ETA: 0s - loss: 0.5199 - accuracy: 0.62 - ETA: 0s - loss: 0.5197 - accuracy: 0.6260"
     ]
    },
    {
     "name": "stdout",
     "output_type": "stream",
     "text": [
      "6400/6400 [==============================] - ETA: 0s - loss: 0.5195 - accuracy: 0.62 - ETA: 0s - loss: 0.5199 - accuracy: 0.62 - ETA: 0s - loss: 0.5202 - accuracy: 0.62 - ETA: 0s - loss: 0.5204 - accuracy: 0.62 - ETA: 0s - loss: 0.5209 - accuracy: 0.62 - ETA: 0s - loss: 0.5205 - accuracy: 0.62 - ETA: 0s - loss: 0.5206 - accuracy: 0.62 - ETA: 0s - loss: 0.5209 - accuracy: 0.62 - ETA: 0s - loss: 0.5212 - accuracy: 0.62 - ETA: 0s - loss: 0.5214 - accuracy: 0.62 - ETA: 0s - loss: 0.5214 - accuracy: 0.62 - ETA: 0s - loss: 0.5215 - accuracy: 0.62 - 15s 2ms/step - loss: 0.5215 - accuracy: 0.6261 - val_loss: 0.5348 - val_accuracy: 0.6131\n",
      "Epoch 5/10\n"
     ]
    },
    {
     "name": "stdout",
     "output_type": "stream",
     "text": [
      "6032/6400 [===========================>..] - ETA: 14s - loss: 0.5218 - accuracy: 0.437 - ETA: 13s - loss: 0.5357 - accuracy: 0.479 - ETA: 13s - loss: 0.5218 - accuracy: 0.537 - ETA: 13s - loss: 0.5220 - accuracy: 0.562 - ETA: 14s - loss: 0.5311 - accuracy: 0.583 - ETA: 13s - loss: 0.5371 - accuracy: 0.573 - ETA: 13s - loss: 0.5381 - accuracy: 0.557 - ETA: 13s - loss: 0.5300 - accuracy: 0.579 - ETA: 13s - loss: 0.5289 - accuracy: 0.591 - ETA: 13s - loss: 0.5096 - accuracy: 0.621 - ETA: 13s - loss: 0.5044 - accuracy: 0.631 - ETA: 13s - loss: 0.5003 - accuracy: 0.641 - ETA: 13s - loss: 0.5052 - accuracy: 0.645 - ETA: 13s - loss: 0.5033 - accuracy: 0.634 - ETA: 13s - loss: 0.4985 - accuracy: 0.629 - ETA: 13s - loss: 0.4986 - accuracy: 0.625 - ETA: 12s - loss: 0.4985 - accuracy: 0.628 - ETA: 12s - loss: 0.4910 - accuracy: 0.642 - ETA: 12s - loss: 0.4939 - accuracy: 0.638 - ETA: 12s - loss: 0.4998 - accuracy: 0.633 - ETA: 12s - loss: 0.5029 - accuracy: 0.632 - ETA: 12s - loss: 0.5037 - accuracy: 0.630 - ETA: 12s - loss: 0.5092 - accuracy: 0.625 - ETA: 12s - loss: 0.5088 - accuracy: 0.622 - ETA: 12s - loss: 0.5048 - accuracy: 0.625 - ETA: 12s - loss: 0.5088 - accuracy: 0.618 - ETA: 12s - loss: 0.5093 - accuracy: 0.620 - ETA: 12s - loss: 0.5065 - accuracy: 0.626 - ETA: 12s - loss: 0.5024 - accuracy: 0.626 - ETA: 12s - loss: 0.5030 - accuracy: 0.622 - ETA: 11s - loss: 0.5043 - accuracy: 0.625 - ETA: 11s - loss: 0.5069 - accuracy: 0.622 - ETA: 11s - loss: 0.5086 - accuracy: 0.622 - ETA: 11s - loss: 0.5104 - accuracy: 0.618 - ETA: 11s - loss: 0.5113 - accuracy: 0.620 - ETA: 11s - loss: 0.5097 - accuracy: 0.622 - ETA: 11s - loss: 0.5112 - accuracy: 0.625 - ETA: 11s - loss: 0.5126 - accuracy: 0.625 - ETA: 11s - loss: 0.5133 - accuracy: 0.625 - ETA: 11s - loss: 0.5107 - accuracy: 0.625 - ETA: 11s - loss: 0.5116 - accuracy: 0.625 - ETA: 11s - loss: 0.5102 - accuracy: 0.628 - ETA: 11s - loss: 0.5125 - accuracy: 0.629 - ETA: 11s - loss: 0.5122 - accuracy: 0.627 - ETA: 11s - loss: 0.5124 - accuracy: 0.625 - ETA: 11s - loss: 0.5120 - accuracy: 0.627 - ETA: 10s - loss: 0.5121 - accuracy: 0.628 - ETA: 10s - loss: 0.5127 - accuracy: 0.629 - ETA: 10s - loss: 0.5139 - accuracy: 0.626 - ETA: 10s - loss: 0.5153 - accuracy: 0.626 - ETA: 10s - loss: 0.5154 - accuracy: 0.624 - ETA: 10s - loss: 0.5160 - accuracy: 0.625 - ETA: 10s - loss: 0.5144 - accuracy: 0.626 - ETA: 10s - loss: 0.5149 - accuracy: 0.626 - ETA: 10s - loss: 0.5154 - accuracy: 0.625 - ETA: 10s - loss: 0.5167 - accuracy: 0.623 - ETA: 10s - loss: 0.5175 - accuracy: 0.622 - ETA: 10s - loss: 0.5188 - accuracy: 0.622 - ETA: 10s - loss: 0.5197 - accuracy: 0.620 - ETA: 9s - loss: 0.5212 - accuracy: 0.617 - ETA: 9s - loss: 0.5208 - accuracy: 0.61 - ETA: 9s - loss: 0.5202 - accuracy: 0.61 - ETA: 9s - loss: 0.5198 - accuracy: 0.61 - ETA: 9s - loss: 0.5205 - accuracy: 0.61 - ETA: 9s - loss: 0.5212 - accuracy: 0.61 - ETA: 9s - loss: 0.5222 - accuracy: 0.61 - ETA: 9s - loss: 0.5222 - accuracy: 0.61 - ETA: 9s - loss: 0.5215 - accuracy: 0.61 - ETA: 9s - loss: 0.5218 - accuracy: 0.61 - ETA: 9s - loss: 0.5218 - accuracy: 0.61 - ETA: 9s - loss: 0.5221 - accuracy: 0.61 - ETA: 9s - loss: 0.5224 - accuracy: 0.61 - ETA: 9s - loss: 0.5217 - accuracy: 0.61 - ETA: 9s - loss: 0.5223 - accuracy: 0.61 - ETA: 8s - loss: 0.5205 - accuracy: 0.61 - ETA: 8s - loss: 0.5211 - accuracy: 0.61 - ETA: 8s - loss: 0.5214 - accuracy: 0.61 - ETA: 8s - loss: 0.5217 - accuracy: 0.61 - ETA: 8s - loss: 0.5217 - accuracy: 0.61 - ETA: 8s - loss: 0.5222 - accuracy: 0.61 - ETA: 8s - loss: 0.5216 - accuracy: 0.62 - ETA: 8s - loss: 0.5213 - accuracy: 0.62 - ETA: 8s - loss: 0.5214 - accuracy: 0.62 - ETA: 8s - loss: 0.5219 - accuracy: 0.62 - ETA: 8s - loss: 0.5224 - accuracy: 0.62 - ETA: 8s - loss: 0.5229 - accuracy: 0.62 - ETA: 8s - loss: 0.5226 - accuracy: 0.62 - ETA: 8s - loss: 0.5236 - accuracy: 0.62 - ETA: 7s - loss: 0.5242 - accuracy: 0.62 - ETA: 7s - loss: 0.5244 - accuracy: 0.62 - ETA: 7s - loss: 0.5246 - accuracy: 0.62 - ETA: 7s - loss: 0.5248 - accuracy: 0.62 - ETA: 7s - loss: 0.5241 - accuracy: 0.62 - ETA: 7s - loss: 0.5233 - accuracy: 0.62 - ETA: 7s - loss: 0.5242 - accuracy: 0.62 - ETA: 7s - loss: 0.5244 - accuracy: 0.62 - ETA: 7s - loss: 0.5248 - accuracy: 0.62 - ETA: 7s - loss: 0.5250 - accuracy: 0.62 - ETA: 7s - loss: 0.5250 - accuracy: 0.62 - ETA: 7s - loss: 0.5258 - accuracy: 0.62 - ETA: 7s - loss: 0.5255 - accuracy: 0.62 - ETA: 7s - loss: 0.5254 - accuracy: 0.62 - ETA: 6s - loss: 0.5253 - accuracy: 0.62 - ETA: 6s - loss: 0.5261 - accuracy: 0.61 - ETA: 6s - loss: 0.5250 - accuracy: 0.62 - ETA: 6s - loss: 0.5240 - accuracy: 0.62 - ETA: 6s - loss: 0.5243 - accuracy: 0.61 - ETA: 6s - loss: 0.5243 - accuracy: 0.62 - ETA: 6s - loss: 0.5239 - accuracy: 0.62 - ETA: 6s - loss: 0.5232 - accuracy: 0.62 - ETA: 6s - loss: 0.5234 - accuracy: 0.62 - ETA: 6s - loss: 0.5242 - accuracy: 0.61 - ETA: 6s - loss: 0.5239 - accuracy: 0.61 - ETA: 6s - loss: 0.5237 - accuracy: 0.62 - ETA: 6s - loss: 0.5240 - accuracy: 0.62 - ETA: 6s - loss: 0.5238 - accuracy: 0.62 - ETA: 6s - loss: 0.5243 - accuracy: 0.62 - ETA: 5s - loss: 0.5237 - accuracy: 0.62 - ETA: 5s - loss: 0.5235 - accuracy: 0.62 - ETA: 5s - loss: 0.5241 - accuracy: 0.61 - ETA: 5s - loss: 0.5244 - accuracy: 0.61 - ETA: 5s - loss: 0.5236 - accuracy: 0.61 - ETA: 5s - loss: 0.5234 - accuracy: 0.62 - ETA: 5s - loss: 0.5241 - accuracy: 0.61 - ETA: 5s - loss: 0.5239 - accuracy: 0.61 - ETA: 5s - loss: 0.5244 - accuracy: 0.61 - ETA: 5s - loss: 0.5245 - accuracy: 0.61 - ETA: 5s - loss: 0.5242 - accuracy: 0.62 - ETA: 5s - loss: 0.5241 - accuracy: 0.62 - ETA: 5s - loss: 0.5251 - accuracy: 0.62 - ETA: 5s - loss: 0.5247 - accuracy: 0.62 - ETA: 4s - loss: 0.5247 - accuracy: 0.62 - ETA: 4s - loss: 0.5243 - accuracy: 0.62 - ETA: 4s - loss: 0.5241 - accuracy: 0.62 - ETA: 4s - loss: 0.5241 - accuracy: 0.62 - ETA: 4s - loss: 0.5249 - accuracy: 0.62 - ETA: 4s - loss: 0.5247 - accuracy: 0.62 - ETA: 4s - loss: 0.5247 - accuracy: 0.62 - ETA: 4s - loss: 0.5237 - accuracy: 0.62 - ETA: 4s - loss: 0.5237 - accuracy: 0.62 - ETA: 4s - loss: 0.5232 - accuracy: 0.62 - ETA: 4s - loss: 0.5234 - accuracy: 0.62 - ETA: 4s - loss: 0.5232 - accuracy: 0.62 - ETA: 4s - loss: 0.5230 - accuracy: 0.62 - ETA: 4s - loss: 0.5230 - accuracy: 0.62 - ETA: 3s - loss: 0.5233 - accuracy: 0.62 - ETA: 3s - loss: 0.5233 - accuracy: 0.62 - ETA: 3s - loss: 0.5237 - accuracy: 0.62 - ETA: 3s - loss: 0.5235 - accuracy: 0.62 - ETA: 3s - loss: 0.5233 - accuracy: 0.62 - ETA: 3s - loss: 0.5232 - accuracy: 0.62 - ETA: 3s - loss: 0.5232 - accuracy: 0.62 - ETA: 3s - loss: 0.5224 - accuracy: 0.62 - ETA: 3s - loss: 0.5225 - accuracy: 0.62 - ETA: 3s - loss: 0.5222 - accuracy: 0.62 - ETA: 3s - loss: 0.5218 - accuracy: 0.62 - ETA: 3s - loss: 0.5218 - accuracy: 0.62 - ETA: 3s - loss: 0.5216 - accuracy: 0.62 - ETA: 3s - loss: 0.5221 - accuracy: 0.62 - ETA: 3s - loss: 0.5222 - accuracy: 0.62 - ETA: 2s - loss: 0.5226 - accuracy: 0.62 - ETA: 2s - loss: 0.5226 - accuracy: 0.62 - ETA: 2s - loss: 0.5225 - accuracy: 0.62 - ETA: 2s - loss: 0.5227 - accuracy: 0.62 - ETA: 2s - loss: 0.5229 - accuracy: 0.62 - ETA: 2s - loss: 0.5232 - accuracy: 0.62 - ETA: 2s - loss: 0.5233 - accuracy: 0.62 - ETA: 2s - loss: 0.5235 - accuracy: 0.62 - ETA: 2s - loss: 0.5237 - accuracy: 0.62 - ETA: 2s - loss: 0.5234 - accuracy: 0.62 - ETA: 2s - loss: 0.5234 - accuracy: 0.62 - ETA: 2s - loss: 0.5234 - accuracy: 0.62 - ETA: 2s - loss: 0.5237 - accuracy: 0.62 - ETA: 2s - loss: 0.5238 - accuracy: 0.62 - ETA: 1s - loss: 0.5240 - accuracy: 0.62 - ETA: 1s - loss: 0.5234 - accuracy: 0.62 - ETA: 1s - loss: 0.5231 - accuracy: 0.62 - ETA: 1s - loss: 0.5231 - accuracy: 0.62 - ETA: 1s - loss: 0.5228 - accuracy: 0.62 - ETA: 1s - loss: 0.5229 - accuracy: 0.62 - ETA: 1s - loss: 0.5227 - accuracy: 0.62 - ETA: 1s - loss: 0.5228 - accuracy: 0.62 - ETA: 1s - loss: 0.5225 - accuracy: 0.62 - ETA: 1s - loss: 0.5222 - accuracy: 0.62 - ETA: 1s - loss: 0.5225 - accuracy: 0.62 - ETA: 1s - loss: 0.5222 - accuracy: 0.62 - ETA: 1s - loss: 0.5218 - accuracy: 0.62 - ETA: 1s - loss: 0.5216 - accuracy: 0.62 - ETA: 1s - loss: 0.5216 - accuracy: 0.62 - ETA: 0s - loss: 0.5213 - accuracy: 0.62 - ETA: 0s - loss: 0.5216 - accuracy: 0.62 - ETA: 0s - loss: 0.5215 - accuracy: 0.6245"
     ]
    },
    {
     "name": "stdout",
     "output_type": "stream",
     "text": [
      "6400/6400 [==============================] - ETA: 0s - loss: 0.5214 - accuracy: 0.62 - ETA: 0s - loss: 0.5212 - accuracy: 0.62 - ETA: 0s - loss: 0.5217 - accuracy: 0.62 - ETA: 0s - loss: 0.5214 - accuracy: 0.62 - ETA: 0s - loss: 0.5213 - accuracy: 0.62 - ETA: 0s - loss: 0.5208 - accuracy: 0.62 - ETA: 0s - loss: 0.5209 - accuracy: 0.62 - ETA: 0s - loss: 0.5209 - accuracy: 0.62 - ETA: 0s - loss: 0.5210 - accuracy: 0.62 - ETA: 0s - loss: 0.5210 - accuracy: 0.62 - ETA: 0s - loss: 0.5211 - accuracy: 0.62 - 15s 2ms/step - loss: 0.5208 - accuracy: 0.6244 - val_loss: 0.5340 - val_accuracy: 0.6125\n",
      "Epoch 6/10\n"
     ]
    },
    {
     "name": "stdout",
     "output_type": "stream",
     "text": [
      "5984/6400 [===========================>..] - ETA: 15s - loss: 0.6061 - accuracy: 0.625 - ETA: 13s - loss: 0.5486 - accuracy: 0.625 - ETA: 13s - loss: 0.5283 - accuracy: 0.650 - ETA: 13s - loss: 0.4832 - accuracy: 0.687 - ETA: 13s - loss: 0.4915 - accuracy: 0.659 - ETA: 13s - loss: 0.4969 - accuracy: 0.681 - ETA: 13s - loss: 0.5133 - accuracy: 0.677 - ETA: 12s - loss: 0.5258 - accuracy: 0.658 - ETA: 12s - loss: 0.5225 - accuracy: 0.665 - ETA: 12s - loss: 0.5240 - accuracy: 0.667 - ETA: 12s - loss: 0.5183 - accuracy: 0.666 - ETA: 12s - loss: 0.5091 - accuracy: 0.673 - ETA: 12s - loss: 0.5031 - accuracy: 0.670 - ETA: 12s - loss: 0.5137 - accuracy: 0.675 - ETA: 12s - loss: 0.5143 - accuracy: 0.665 - ETA: 12s - loss: 0.5174 - accuracy: 0.661 - ETA: 12s - loss: 0.5188 - accuracy: 0.664 - ETA: 12s - loss: 0.5149 - accuracy: 0.671 - ETA: 12s - loss: 0.5114 - accuracy: 0.678 - ETA: 12s - loss: 0.5064 - accuracy: 0.671 - ETA: 12s - loss: 0.5038 - accuracy: 0.668 - ETA: 12s - loss: 0.5005 - accuracy: 0.666 - ETA: 12s - loss: 0.5044 - accuracy: 0.663 - ETA: 12s - loss: 0.5024 - accuracy: 0.661 - ETA: 12s - loss: 0.5003 - accuracy: 0.666 - ETA: 11s - loss: 0.5021 - accuracy: 0.662 - ETA: 11s - loss: 0.5054 - accuracy: 0.658 - ETA: 11s - loss: 0.5083 - accuracy: 0.659 - ETA: 11s - loss: 0.5065 - accuracy: 0.657 - ETA: 11s - loss: 0.5062 - accuracy: 0.655 - ETA: 11s - loss: 0.5074 - accuracy: 0.653 - ETA: 11s - loss: 0.5072 - accuracy: 0.656 - ETA: 11s - loss: 0.5077 - accuracy: 0.654 - ETA: 11s - loss: 0.5076 - accuracy: 0.654 - ETA: 11s - loss: 0.5080 - accuracy: 0.652 - ETA: 11s - loss: 0.5096 - accuracy: 0.650 - ETA: 11s - loss: 0.5101 - accuracy: 0.646 - ETA: 11s - loss: 0.5109 - accuracy: 0.645 - ETA: 11s - loss: 0.5106 - accuracy: 0.642 - ETA: 10s - loss: 0.5114 - accuracy: 0.640 - ETA: 10s - loss: 0.5149 - accuracy: 0.639 - ETA: 10s - loss: 0.5176 - accuracy: 0.639 - ETA: 10s - loss: 0.5166 - accuracy: 0.642 - ETA: 10s - loss: 0.5152 - accuracy: 0.642 - ETA: 10s - loss: 0.5162 - accuracy: 0.644 - ETA: 10s - loss: 0.5153 - accuracy: 0.645 - ETA: 10s - loss: 0.5168 - accuracy: 0.644 - ETA: 10s - loss: 0.5178 - accuracy: 0.642 - ETA: 10s - loss: 0.5174 - accuracy: 0.644 - ETA: 10s - loss: 0.5188 - accuracy: 0.641 - ETA: 10s - loss: 0.5193 - accuracy: 0.640 - ETA: 10s - loss: 0.5193 - accuracy: 0.638 - ETA: 10s - loss: 0.5193 - accuracy: 0.639 - ETA: 10s - loss: 0.5172 - accuracy: 0.643 - ETA: 10s - loss: 0.5181 - accuracy: 0.643 - ETA: 10s - loss: 0.5177 - accuracy: 0.644 - ETA: 10s - loss: 0.5173 - accuracy: 0.645 - ETA: 9s - loss: 0.5170 - accuracy: 0.645 - ETA: 9s - loss: 0.5159 - accuracy: 0.64 - ETA: 9s - loss: 0.5156 - accuracy: 0.64 - ETA: 9s - loss: 0.5145 - accuracy: 0.64 - ETA: 9s - loss: 0.5153 - accuracy: 0.64 - ETA: 9s - loss: 0.5146 - accuracy: 0.64 - ETA: 9s - loss: 0.5141 - accuracy: 0.64 - ETA: 9s - loss: 0.5153 - accuracy: 0.64 - ETA: 9s - loss: 0.5167 - accuracy: 0.64 - ETA: 9s - loss: 0.5174 - accuracy: 0.64 - ETA: 9s - loss: 0.5178 - accuracy: 0.64 - ETA: 9s - loss: 0.5185 - accuracy: 0.64 - ETA: 9s - loss: 0.5185 - accuracy: 0.64 - ETA: 9s - loss: 0.5178 - accuracy: 0.64 - ETA: 9s - loss: 0.5182 - accuracy: 0.64 - ETA: 9s - loss: 0.5185 - accuracy: 0.64 - ETA: 8s - loss: 0.5189 - accuracy: 0.64 - ETA: 8s - loss: 0.5186 - accuracy: 0.64 - ETA: 8s - loss: 0.5190 - accuracy: 0.63 - ETA: 8s - loss: 0.5184 - accuracy: 0.63 - ETA: 8s - loss: 0.5193 - accuracy: 0.63 - ETA: 8s - loss: 0.5193 - accuracy: 0.63 - ETA: 8s - loss: 0.5179 - accuracy: 0.63 - ETA: 8s - loss: 0.5188 - accuracy: 0.63 - ETA: 8s - loss: 0.5191 - accuracy: 0.63 - ETA: 8s - loss: 0.5188 - accuracy: 0.63 - ETA: 8s - loss: 0.5199 - accuracy: 0.63 - ETA: 8s - loss: 0.5203 - accuracy: 0.63 - ETA: 8s - loss: 0.5199 - accuracy: 0.63 - ETA: 8s - loss: 0.5230 - accuracy: 0.63 - ETA: 8s - loss: 0.5227 - accuracy: 0.63 - ETA: 7s - loss: 0.5226 - accuracy: 0.63 - ETA: 7s - loss: 0.5221 - accuracy: 0.63 - ETA: 7s - loss: 0.5204 - accuracy: 0.63 - ETA: 7s - loss: 0.5204 - accuracy: 0.63 - ETA: 7s - loss: 0.5221 - accuracy: 0.63 - ETA: 7s - loss: 0.5213 - accuracy: 0.63 - ETA: 7s - loss: 0.5214 - accuracy: 0.63 - ETA: 7s - loss: 0.5219 - accuracy: 0.63 - ETA: 7s - loss: 0.5223 - accuracy: 0.63 - ETA: 7s - loss: 0.5229 - accuracy: 0.63 - ETA: 7s - loss: 0.5233 - accuracy: 0.63 - ETA: 7s - loss: 0.5230 - accuracy: 0.63 - ETA: 7s - loss: 0.5236 - accuracy: 0.63 - ETA: 7s - loss: 0.5225 - accuracy: 0.63 - ETA: 7s - loss: 0.5229 - accuracy: 0.63 - ETA: 7s - loss: 0.5234 - accuracy: 0.63 - ETA: 6s - loss: 0.5227 - accuracy: 0.63 - ETA: 6s - loss: 0.5229 - accuracy: 0.63 - ETA: 6s - loss: 0.5231 - accuracy: 0.63 - ETA: 6s - loss: 0.5241 - accuracy: 0.63 - ETA: 6s - loss: 0.5238 - accuracy: 0.63 - ETA: 6s - loss: 0.5245 - accuracy: 0.63 - ETA: 6s - loss: 0.5246 - accuracy: 0.63 - ETA: 6s - loss: 0.5244 - accuracy: 0.63 - ETA: 6s - loss: 0.5246 - accuracy: 0.63 - ETA: 6s - loss: 0.5249 - accuracy: 0.63 - ETA: 6s - loss: 0.5245 - accuracy: 0.63 - ETA: 6s - loss: 0.5241 - accuracy: 0.63 - ETA: 6s - loss: 0.5243 - accuracy: 0.63 - ETA: 6s - loss: 0.5242 - accuracy: 0.63 - ETA: 5s - loss: 0.5245 - accuracy: 0.63 - ETA: 5s - loss: 0.5237 - accuracy: 0.63 - ETA: 5s - loss: 0.5237 - accuracy: 0.63 - ETA: 5s - loss: 0.5239 - accuracy: 0.63 - ETA: 5s - loss: 0.5236 - accuracy: 0.63 - ETA: 5s - loss: 0.5234 - accuracy: 0.63 - ETA: 5s - loss: 0.5233 - accuracy: 0.63 - ETA: 5s - loss: 0.5231 - accuracy: 0.63 - ETA: 5s - loss: 0.5225 - accuracy: 0.63 - ETA: 5s - loss: 0.5227 - accuracy: 0.63 - ETA: 5s - loss: 0.5234 - accuracy: 0.63 - ETA: 5s - loss: 0.5234 - accuracy: 0.63 - ETA: 5s - loss: 0.5228 - accuracy: 0.63 - ETA: 5s - loss: 0.5226 - accuracy: 0.63 - ETA: 5s - loss: 0.5228 - accuracy: 0.63 - ETA: 4s - loss: 0.5226 - accuracy: 0.63 - ETA: 4s - loss: 0.5226 - accuracy: 0.63 - ETA: 4s - loss: 0.5231 - accuracy: 0.63 - ETA: 4s - loss: 0.5229 - accuracy: 0.63 - ETA: 4s - loss: 0.5229 - accuracy: 0.63 - ETA: 4s - loss: 0.5229 - accuracy: 0.63 - ETA: 4s - loss: 0.5230 - accuracy: 0.63 - ETA: 4s - loss: 0.5231 - accuracy: 0.63 - ETA: 4s - loss: 0.5233 - accuracy: 0.63 - ETA: 4s - loss: 0.5225 - accuracy: 0.63 - ETA: 4s - loss: 0.5215 - accuracy: 0.63 - ETA: 4s - loss: 0.5214 - accuracy: 0.63 - ETA: 4s - loss: 0.5214 - accuracy: 0.63 - ETA: 4s - loss: 0.5210 - accuracy: 0.63 - ETA: 3s - loss: 0.5213 - accuracy: 0.63 - ETA: 3s - loss: 0.5215 - accuracy: 0.63 - ETA: 3s - loss: 0.5215 - accuracy: 0.63 - ETA: 3s - loss: 0.5209 - accuracy: 0.63 - ETA: 3s - loss: 0.5213 - accuracy: 0.63 - ETA: 3s - loss: 0.5214 - accuracy: 0.63 - ETA: 3s - loss: 0.5214 - accuracy: 0.63 - ETA: 3s - loss: 0.5214 - accuracy: 0.63 - ETA: 3s - loss: 0.5211 - accuracy: 0.63 - ETA: 3s - loss: 0.5214 - accuracy: 0.63 - ETA: 3s - loss: 0.5208 - accuracy: 0.63 - ETA: 3s - loss: 0.5203 - accuracy: 0.63 - ETA: 3s - loss: 0.5206 - accuracy: 0.63 - ETA: 3s - loss: 0.5204 - accuracy: 0.63 - ETA: 2s - loss: 0.5208 - accuracy: 0.63 - ETA: 2s - loss: 0.5204 - accuracy: 0.63 - ETA: 2s - loss: 0.5204 - accuracy: 0.63 - ETA: 2s - loss: 0.5206 - accuracy: 0.63 - ETA: 2s - loss: 0.5203 - accuracy: 0.63 - ETA: 2s - loss: 0.5199 - accuracy: 0.63 - ETA: 2s - loss: 0.5199 - accuracy: 0.63 - ETA: 2s - loss: 0.5199 - accuracy: 0.63 - ETA: 2s - loss: 0.5199 - accuracy: 0.63 - ETA: 2s - loss: 0.5199 - accuracy: 0.63 - ETA: 2s - loss: 0.5199 - accuracy: 0.63 - ETA: 2s - loss: 0.5203 - accuracy: 0.63 - ETA: 2s - loss: 0.5205 - accuracy: 0.63 - ETA: 2s - loss: 0.5211 - accuracy: 0.62 - ETA: 2s - loss: 0.5209 - accuracy: 0.62 - ETA: 1s - loss: 0.5208 - accuracy: 0.62 - ETA: 1s - loss: 0.5209 - accuracy: 0.62 - ETA: 1s - loss: 0.5208 - accuracy: 0.62 - ETA: 1s - loss: 0.5207 - accuracy: 0.62 - ETA: 1s - loss: 0.5207 - accuracy: 0.62 - ETA: 1s - loss: 0.5203 - accuracy: 0.62 - ETA: 1s - loss: 0.5201 - accuracy: 0.62 - ETA: 1s - loss: 0.5203 - accuracy: 0.62 - ETA: 1s - loss: 0.5202 - accuracy: 0.62 - ETA: 1s - loss: 0.5198 - accuracy: 0.62 - ETA: 1s - loss: 0.5201 - accuracy: 0.62 - ETA: 1s - loss: 0.5202 - accuracy: 0.62 - ETA: 1s - loss: 0.5201 - accuracy: 0.62 - ETA: 1s - loss: 0.5203 - accuracy: 0.62 - ETA: 0s - loss: 0.5205 - accuracy: 0.62 - ETA: 0s - loss: 0.5198 - accuracy: 0.6258"
     ]
    },
    {
     "name": "stdout",
     "output_type": "stream",
     "text": [
      "6400/6400 [==============================] - ETA: 0s - loss: 0.5198 - accuracy: 0.62 - ETA: 0s - loss: 0.5199 - accuracy: 0.62 - ETA: 0s - loss: 0.5199 - accuracy: 0.62 - ETA: 0s - loss: 0.5201 - accuracy: 0.62 - ETA: 0s - loss: 0.5202 - accuracy: 0.62 - ETA: 0s - loss: 0.5203 - accuracy: 0.62 - ETA: 0s - loss: 0.5202 - accuracy: 0.62 - ETA: 0s - loss: 0.5202 - accuracy: 0.62 - ETA: 0s - loss: 0.5205 - accuracy: 0.62 - ETA: 0s - loss: 0.5203 - accuracy: 0.62 - ETA: 0s - loss: 0.5200 - accuracy: 0.62 - ETA: 0s - loss: 0.5202 - accuracy: 0.62 - 15s 2ms/step - loss: 0.5201 - accuracy: 0.6245 - val_loss: 0.5349 - val_accuracy: 0.6119\n",
      "Epoch 7/10\n"
     ]
    },
    {
     "name": "stdout",
     "output_type": "stream",
     "text": [
      "6064/6400 [===========================>..] - ETA: 13s - loss: 0.5198 - accuracy: 0.687 - ETA: 13s - loss: 0.5199 - accuracy: 0.687 - ETA: 13s - loss: 0.5026 - accuracy: 0.650 - ETA: 13s - loss: 0.5014 - accuracy: 0.669 - ETA: 12s - loss: 0.5247 - accuracy: 0.659 - ETA: 13s - loss: 0.5160 - accuracy: 0.659 - ETA: 13s - loss: 0.5052 - accuracy: 0.653 - ETA: 13s - loss: 0.5157 - accuracy: 0.658 - ETA: 13s - loss: 0.5159 - accuracy: 0.660 - ETA: 13s - loss: 0.5188 - accuracy: 0.649 - ETA: 13s - loss: 0.5169 - accuracy: 0.640 - ETA: 13s - loss: 0.5211 - accuracy: 0.627 - ETA: 13s - loss: 0.5300 - accuracy: 0.625 - ETA: 13s - loss: 0.5293 - accuracy: 0.622 - ETA: 13s - loss: 0.5363 - accuracy: 0.629 - ETA: 13s - loss: 0.5366 - accuracy: 0.629 - ETA: 13s - loss: 0.5315 - accuracy: 0.630 - ETA: 12s - loss: 0.5321 - accuracy: 0.630 - ETA: 12s - loss: 0.5314 - accuracy: 0.630 - ETA: 12s - loss: 0.5342 - accuracy: 0.638 - ETA: 12s - loss: 0.5350 - accuracy: 0.633 - ETA: 12s - loss: 0.5342 - accuracy: 0.632 - ETA: 12s - loss: 0.5356 - accuracy: 0.626 - ETA: 12s - loss: 0.5359 - accuracy: 0.618 - ETA: 12s - loss: 0.5343 - accuracy: 0.621 - ETA: 12s - loss: 0.5337 - accuracy: 0.623 - ETA: 12s - loss: 0.5323 - accuracy: 0.621 - ETA: 12s - loss: 0.5295 - accuracy: 0.623 - ETA: 12s - loss: 0.5307 - accuracy: 0.626 - ETA: 12s - loss: 0.5304 - accuracy: 0.623 - ETA: 12s - loss: 0.5293 - accuracy: 0.625 - ETA: 11s - loss: 0.5276 - accuracy: 0.625 - ETA: 11s - loss: 0.5300 - accuracy: 0.628 - ETA: 11s - loss: 0.5311 - accuracy: 0.626 - ETA: 11s - loss: 0.5314 - accuracy: 0.627 - ETA: 11s - loss: 0.5323 - accuracy: 0.623 - ETA: 11s - loss: 0.5314 - accuracy: 0.619 - ETA: 11s - loss: 0.5305 - accuracy: 0.617 - ETA: 11s - loss: 0.5285 - accuracy: 0.617 - ETA: 11s - loss: 0.5278 - accuracy: 0.618 - ETA: 11s - loss: 0.5270 - accuracy: 0.619 - ETA: 11s - loss: 0.5258 - accuracy: 0.621 - ETA: 11s - loss: 0.5241 - accuracy: 0.622 - ETA: 11s - loss: 0.5230 - accuracy: 0.621 - ETA: 11s - loss: 0.5234 - accuracy: 0.621 - ETA: 10s - loss: 0.5223 - accuracy: 0.620 - ETA: 10s - loss: 0.5209 - accuracy: 0.621 - ETA: 10s - loss: 0.5199 - accuracy: 0.622 - ETA: 10s - loss: 0.5194 - accuracy: 0.624 - ETA: 10s - loss: 0.5181 - accuracy: 0.625 - ETA: 10s - loss: 0.5199 - accuracy: 0.623 - ETA: 10s - loss: 0.5208 - accuracy: 0.623 - ETA: 10s - loss: 0.5208 - accuracy: 0.622 - ETA: 10s - loss: 0.5196 - accuracy: 0.624 - ETA: 10s - loss: 0.5204 - accuracy: 0.625 - ETA: 10s - loss: 0.5188 - accuracy: 0.627 - ETA: 10s - loss: 0.5184 - accuracy: 0.630 - ETA: 10s - loss: 0.5195 - accuracy: 0.630 - ETA: 10s - loss: 0.5207 - accuracy: 0.628 - ETA: 9s - loss: 0.5193 - accuracy: 0.630 - ETA: 9s - loss: 0.5178 - accuracy: 0.63 - ETA: 9s - loss: 0.5193 - accuracy: 0.63 - ETA: 9s - loss: 0.5189 - accuracy: 0.63 - ETA: 9s - loss: 0.5197 - accuracy: 0.63 - ETA: 9s - loss: 0.5207 - accuracy: 0.62 - ETA: 9s - loss: 0.5210 - accuracy: 0.62 - ETA: 9s - loss: 0.5210 - accuracy: 0.62 - ETA: 9s - loss: 0.5207 - accuracy: 0.62 - ETA: 9s - loss: 0.5203 - accuracy: 0.62 - ETA: 9s - loss: 0.5194 - accuracy: 0.62 - ETA: 9s - loss: 0.5191 - accuracy: 0.62 - ETA: 9s - loss: 0.5191 - accuracy: 0.62 - ETA: 9s - loss: 0.5179 - accuracy: 0.63 - ETA: 8s - loss: 0.5164 - accuracy: 0.63 - ETA: 8s - loss: 0.5170 - accuracy: 0.63 - ETA: 8s - loss: 0.5176 - accuracy: 0.63 - ETA: 8s - loss: 0.5185 - accuracy: 0.63 - ETA: 8s - loss: 0.5191 - accuracy: 0.63 - ETA: 8s - loss: 0.5189 - accuracy: 0.63 - ETA: 8s - loss: 0.5189 - accuracy: 0.63 - ETA: 8s - loss: 0.5192 - accuracy: 0.62 - ETA: 8s - loss: 0.5198 - accuracy: 0.62 - ETA: 8s - loss: 0.5192 - accuracy: 0.62 - ETA: 8s - loss: 0.5192 - accuracy: 0.63 - ETA: 8s - loss: 0.5190 - accuracy: 0.63 - ETA: 8s - loss: 0.5195 - accuracy: 0.62 - ETA: 8s - loss: 0.5208 - accuracy: 0.62 - ETA: 7s - loss: 0.5208 - accuracy: 0.62 - ETA: 7s - loss: 0.5208 - accuracy: 0.62 - ETA: 7s - loss: 0.5203 - accuracy: 0.62 - ETA: 7s - loss: 0.5207 - accuracy: 0.62 - ETA: 7s - loss: 0.5200 - accuracy: 0.62 - ETA: 7s - loss: 0.5215 - accuracy: 0.62 - ETA: 7s - loss: 0.5207 - accuracy: 0.62 - ETA: 7s - loss: 0.5207 - accuracy: 0.62 - ETA: 7s - loss: 0.5214 - accuracy: 0.62 - ETA: 7s - loss: 0.5221 - accuracy: 0.62 - ETA: 7s - loss: 0.5216 - accuracy: 0.62 - ETA: 7s - loss: 0.5220 - accuracy: 0.62 - ETA: 7s - loss: 0.5222 - accuracy: 0.62 - ETA: 7s - loss: 0.5220 - accuracy: 0.62 - ETA: 6s - loss: 0.5222 - accuracy: 0.62 - ETA: 6s - loss: 0.5211 - accuracy: 0.62 - ETA: 6s - loss: 0.5203 - accuracy: 0.62 - ETA: 6s - loss: 0.5203 - accuracy: 0.62 - ETA: 6s - loss: 0.5203 - accuracy: 0.62 - ETA: 6s - loss: 0.5211 - accuracy: 0.62 - ETA: 6s - loss: 0.5217 - accuracy: 0.62 - ETA: 6s - loss: 0.5217 - accuracy: 0.62 - ETA: 6s - loss: 0.5208 - accuracy: 0.62 - ETA: 6s - loss: 0.5218 - accuracy: 0.62 - ETA: 6s - loss: 0.5216 - accuracy: 0.62 - ETA: 6s - loss: 0.5214 - accuracy: 0.62 - ETA: 6s - loss: 0.5210 - accuracy: 0.62 - ETA: 6s - loss: 0.5212 - accuracy: 0.62 - ETA: 6s - loss: 0.5208 - accuracy: 0.62 - ETA: 6s - loss: 0.5206 - accuracy: 0.62 - ETA: 5s - loss: 0.5197 - accuracy: 0.62 - ETA: 5s - loss: 0.5195 - accuracy: 0.62 - ETA: 5s - loss: 0.5198 - accuracy: 0.62 - ETA: 5s - loss: 0.5197 - accuracy: 0.62 - ETA: 5s - loss: 0.5198 - accuracy: 0.62 - ETA: 5s - loss: 0.5197 - accuracy: 0.62 - ETA: 5s - loss: 0.5202 - accuracy: 0.62 - ETA: 5s - loss: 0.5206 - accuracy: 0.62 - ETA: 5s - loss: 0.5202 - accuracy: 0.62 - ETA: 5s - loss: 0.5202 - accuracy: 0.62 - ETA: 5s - loss: 0.5200 - accuracy: 0.62 - ETA: 5s - loss: 0.5202 - accuracy: 0.62 - ETA: 5s - loss: 0.5202 - accuracy: 0.62 - ETA: 5s - loss: 0.5205 - accuracy: 0.62 - ETA: 4s - loss: 0.5199 - accuracy: 0.62 - ETA: 4s - loss: 0.5214 - accuracy: 0.62 - ETA: 4s - loss: 0.5209 - accuracy: 0.62 - ETA: 4s - loss: 0.5205 - accuracy: 0.62 - ETA: 4s - loss: 0.5207 - accuracy: 0.62 - ETA: 4s - loss: 0.5213 - accuracy: 0.62 - ETA: 4s - loss: 0.5207 - accuracy: 0.62 - ETA: 4s - loss: 0.5205 - accuracy: 0.62 - ETA: 4s - loss: 0.5200 - accuracy: 0.62 - ETA: 4s - loss: 0.5197 - accuracy: 0.62 - ETA: 4s - loss: 0.5194 - accuracy: 0.62 - ETA: 4s - loss: 0.5191 - accuracy: 0.62 - ETA: 4s - loss: 0.5190 - accuracy: 0.62 - ETA: 4s - loss: 0.5194 - accuracy: 0.62 - ETA: 3s - loss: 0.5196 - accuracy: 0.62 - ETA: 3s - loss: 0.5190 - accuracy: 0.62 - ETA: 3s - loss: 0.5196 - accuracy: 0.62 - ETA: 3s - loss: 0.5190 - accuracy: 0.62 - ETA: 3s - loss: 0.5187 - accuracy: 0.62 - ETA: 3s - loss: 0.5187 - accuracy: 0.62 - ETA: 3s - loss: 0.5189 - accuracy: 0.62 - ETA: 3s - loss: 0.5190 - accuracy: 0.62 - ETA: 3s - loss: 0.5193 - accuracy: 0.62 - ETA: 3s - loss: 0.5192 - accuracy: 0.62 - ETA: 3s - loss: 0.5193 - accuracy: 0.62 - ETA: 3s - loss: 0.5193 - accuracy: 0.62 - ETA: 3s - loss: 0.5191 - accuracy: 0.62 - ETA: 3s - loss: 0.5196 - accuracy: 0.62 - ETA: 2s - loss: 0.5189 - accuracy: 0.62 - ETA: 2s - loss: 0.5185 - accuracy: 0.62 - ETA: 2s - loss: 0.5188 - accuracy: 0.62 - ETA: 2s - loss: 0.5188 - accuracy: 0.62 - ETA: 2s - loss: 0.5188 - accuracy: 0.62 - ETA: 2s - loss: 0.5191 - accuracy: 0.62 - ETA: 2s - loss: 0.5186 - accuracy: 0.62 - ETA: 2s - loss: 0.5185 - accuracy: 0.62 - ETA: 2s - loss: 0.5180 - accuracy: 0.62 - ETA: 2s - loss: 0.5177 - accuracy: 0.62 - ETA: 2s - loss: 0.5179 - accuracy: 0.62 - ETA: 2s - loss: 0.5184 - accuracy: 0.62 - ETA: 2s - loss: 0.5182 - accuracy: 0.62 - ETA: 2s - loss: 0.5183 - accuracy: 0.62 - ETA: 2s - loss: 0.5183 - accuracy: 0.62 - ETA: 1s - loss: 0.5182 - accuracy: 0.62 - ETA: 1s - loss: 0.5183 - accuracy: 0.62 - ETA: 1s - loss: 0.5186 - accuracy: 0.62 - ETA: 1s - loss: 0.5185 - accuracy: 0.62 - ETA: 1s - loss: 0.5187 - accuracy: 0.62 - ETA: 1s - loss: 0.5189 - accuracy: 0.62 - ETA: 1s - loss: 0.5190 - accuracy: 0.62 - ETA: 1s - loss: 0.5189 - accuracy: 0.62 - ETA: 1s - loss: 0.5185 - accuracy: 0.62 - ETA: 1s - loss: 0.5181 - accuracy: 0.62 - ETA: 1s - loss: 0.5181 - accuracy: 0.62 - ETA: 1s - loss: 0.5185 - accuracy: 0.62 - ETA: 1s - loss: 0.5181 - accuracy: 0.62 - ETA: 1s - loss: 0.5180 - accuracy: 0.62 - ETA: 0s - loss: 0.5180 - accuracy: 0.62 - ETA: 0s - loss: 0.5178 - accuracy: 0.62 - ETA: 0s - loss: 0.5178 - accuracy: 0.62 - ETA: 0s - loss: 0.5184 - accuracy: 0.6265"
     ]
    },
    {
     "name": "stdout",
     "output_type": "stream",
     "text": [
      "6400/6400 [==============================] - ETA: 0s - loss: 0.5186 - accuracy: 0.62 - ETA: 0s - loss: 0.5184 - accuracy: 0.62 - ETA: 0s - loss: 0.5184 - accuracy: 0.62 - ETA: 0s - loss: 0.5179 - accuracy: 0.62 - ETA: 0s - loss: 0.5181 - accuracy: 0.62 - ETA: 0s - loss: 0.5177 - accuracy: 0.62 - ETA: 0s - loss: 0.5179 - accuracy: 0.62 - ETA: 0s - loss: 0.5179 - accuracy: 0.62 - ETA: 0s - loss: 0.5177 - accuracy: 0.62 - ETA: 0s - loss: 0.5176 - accuracy: 0.62 - 15s 2ms/step - loss: 0.5178 - accuracy: 0.6253 - val_loss: 0.5325 - val_accuracy: 0.6131\n",
      "Epoch 8/10\n"
     ]
    },
    {
     "name": "stdout",
     "output_type": "stream",
     "text": [
      "5616/6400 [=========================>....] - ETA: 13s - loss: 0.5197 - accuracy: 0.750 - ETA: 14s - loss: 0.5055 - accuracy: 0.645 - ETA: 16s - loss: 0.5199 - accuracy: 0.625 - ETA: 16s - loss: 0.5199 - accuracy: 0.650 - ETA: 18s - loss: 0.5271 - accuracy: 0.635 - ETA: 17s - loss: 0.5091 - accuracy: 0.640 - ETA: 18s - loss: 0.5151 - accuracy: 0.618 - ETA: 17s - loss: 0.5081 - accuracy: 0.625 - ETA: 16s - loss: 0.5099 - accuracy: 0.625 - ETA: 16s - loss: 0.5026 - accuracy: 0.629 - ETA: 16s - loss: 0.5174 - accuracy: 0.625 - ETA: 16s - loss: 0.5127 - accuracy: 0.625 - ETA: 16s - loss: 0.5156 - accuracy: 0.631 - ETA: 15s - loss: 0.5140 - accuracy: 0.630 - ETA: 15s - loss: 0.5181 - accuracy: 0.625 - ETA: 15s - loss: 0.5199 - accuracy: 0.622 - ETA: 15s - loss: 0.5183 - accuracy: 0.625 - ETA: 15s - loss: 0.5139 - accuracy: 0.625 - ETA: 15s - loss: 0.5115 - accuracy: 0.621 - ETA: 15s - loss: 0.5132 - accuracy: 0.623 - ETA: 15s - loss: 0.5134 - accuracy: 0.619 - ETA: 15s - loss: 0.5187 - accuracy: 0.619 - ETA: 15s - loss: 0.5223 - accuracy: 0.621 - ETA: 15s - loss: 0.5210 - accuracy: 0.623 - ETA: 15s - loss: 0.5231 - accuracy: 0.617 - ETA: 15s - loss: 0.5241 - accuracy: 0.622 - ETA: 15s - loss: 0.5229 - accuracy: 0.625 - ETA: 15s - loss: 0.5218 - accuracy: 0.626 - ETA: 15s - loss: 0.5217 - accuracy: 0.625 - ETA: 15s - loss: 0.5225 - accuracy: 0.623 - ETA: 14s - loss: 0.5241 - accuracy: 0.620 - ETA: 14s - loss: 0.5248 - accuracy: 0.616 - ETA: 14s - loss: 0.5262 - accuracy: 0.614 - ETA: 14s - loss: 0.5260 - accuracy: 0.617 - ETA: 14s - loss: 0.5229 - accuracy: 0.617 - ETA: 14s - loss: 0.5192 - accuracy: 0.619 - ETA: 14s - loss: 0.5192 - accuracy: 0.622 - ETA: 13s - loss: 0.5193 - accuracy: 0.626 - ETA: 13s - loss: 0.5173 - accuracy: 0.626 - ETA: 13s - loss: 0.5187 - accuracy: 0.623 - ETA: 13s - loss: 0.5181 - accuracy: 0.625 - ETA: 13s - loss: 0.5163 - accuracy: 0.628 - ETA: 13s - loss: 0.5182 - accuracy: 0.628 - ETA: 13s - loss: 0.5205 - accuracy: 0.627 - ETA: 13s - loss: 0.5227 - accuracy: 0.625 - ETA: 12s - loss: 0.5248 - accuracy: 0.627 - ETA: 12s - loss: 0.5247 - accuracy: 0.626 - ETA: 12s - loss: 0.5247 - accuracy: 0.626 - ETA: 12s - loss: 0.5220 - accuracy: 0.627 - ETA: 12s - loss: 0.5240 - accuracy: 0.623 - ETA: 12s - loss: 0.5219 - accuracy: 0.623 - ETA: 12s - loss: 0.5233 - accuracy: 0.622 - ETA: 12s - loss: 0.5237 - accuracy: 0.623 - ETA: 12s - loss: 0.5241 - accuracy: 0.622 - ETA: 12s - loss: 0.5240 - accuracy: 0.623 - ETA: 12s - loss: 0.5248 - accuracy: 0.622 - ETA: 12s - loss: 0.5252 - accuracy: 0.621 - ETA: 11s - loss: 0.5238 - accuracy: 0.623 - ETA: 11s - loss: 0.5241 - accuracy: 0.623 - ETA: 11s - loss: 0.5228 - accuracy: 0.623 - ETA: 11s - loss: 0.5227 - accuracy: 0.623 - ETA: 11s - loss: 0.5227 - accuracy: 0.623 - ETA: 11s - loss: 0.5234 - accuracy: 0.624 - ETA: 11s - loss: 0.5245 - accuracy: 0.625 - ETA: 11s - loss: 0.5241 - accuracy: 0.624 - ETA: 11s - loss: 0.5251 - accuracy: 0.622 - ETA: 10s - loss: 0.5261 - accuracy: 0.620 - ETA: 10s - loss: 0.5264 - accuracy: 0.621 - ETA: 10s - loss: 0.5256 - accuracy: 0.623 - ETA: 10s - loss: 0.5262 - accuracy: 0.624 - ETA: 10s - loss: 0.5261 - accuracy: 0.626 - ETA: 10s - loss: 0.5253 - accuracy: 0.625 - ETA: 10s - loss: 0.5242 - accuracy: 0.627 - ETA: 10s - loss: 0.5252 - accuracy: 0.626 - ETA: 10s - loss: 0.5238 - accuracy: 0.627 - ETA: 10s - loss: 0.5244 - accuracy: 0.628 - ETA: 10s - loss: 0.5246 - accuracy: 0.627 - ETA: 10s - loss: 0.5233 - accuracy: 0.627 - ETA: 9s - loss: 0.5227 - accuracy: 0.628 - ETA: 9s - loss: 0.5226 - accuracy: 0.62 - ETA: 9s - loss: 0.5232 - accuracy: 0.62 - ETA: 9s - loss: 0.5229 - accuracy: 0.62 - ETA: 9s - loss: 0.5234 - accuracy: 0.62 - ETA: 9s - loss: 0.5240 - accuracy: 0.62 - ETA: 9s - loss: 0.5247 - accuracy: 0.62 - ETA: 9s - loss: 0.5238 - accuracy: 0.62 - ETA: 9s - loss: 0.5244 - accuracy: 0.62 - ETA: 9s - loss: 0.5243 - accuracy: 0.62 - ETA: 9s - loss: 0.5253 - accuracy: 0.62 - ETA: 9s - loss: 0.5247 - accuracy: 0.62 - ETA: 8s - loss: 0.5239 - accuracy: 0.62 - ETA: 8s - loss: 0.5236 - accuracy: 0.62 - ETA: 8s - loss: 0.5235 - accuracy: 0.62 - ETA: 8s - loss: 0.5232 - accuracy: 0.62 - ETA: 8s - loss: 0.5237 - accuracy: 0.62 - ETA: 8s - loss: 0.5239 - accuracy: 0.62 - ETA: 8s - loss: 0.5236 - accuracy: 0.62 - ETA: 8s - loss: 0.5229 - accuracy: 0.62 - ETA: 8s - loss: 0.5224 - accuracy: 0.62 - ETA: 8s - loss: 0.5221 - accuracy: 0.62 - ETA: 8s - loss: 0.5228 - accuracy: 0.61 - ETA: 8s - loss: 0.5223 - accuracy: 0.62 - ETA: 8s - loss: 0.5220 - accuracy: 0.62 - ETA: 7s - loss: 0.5222 - accuracy: 0.62 - ETA: 7s - loss: 0.5222 - accuracy: 0.62 - ETA: 7s - loss: 0.5215 - accuracy: 0.62 - ETA: 7s - loss: 0.5213 - accuracy: 0.62 - ETA: 7s - loss: 0.5213 - accuracy: 0.62 - ETA: 7s - loss: 0.5210 - accuracy: 0.62 - ETA: 7s - loss: 0.5206 - accuracy: 0.62 - ETA: 7s - loss: 0.5208 - accuracy: 0.62 - ETA: 7s - loss: 0.5202 - accuracy: 0.62 - ETA: 7s - loss: 0.5202 - accuracy: 0.62 - ETA: 7s - loss: 0.5191 - accuracy: 0.62 - ETA: 7s - loss: 0.5200 - accuracy: 0.62 - ETA: 7s - loss: 0.5202 - accuracy: 0.62 - ETA: 7s - loss: 0.5192 - accuracy: 0.62 - ETA: 6s - loss: 0.5198 - accuracy: 0.62 - ETA: 6s - loss: 0.5198 - accuracy: 0.62 - ETA: 6s - loss: 0.5194 - accuracy: 0.62 - ETA: 6s - loss: 0.5194 - accuracy: 0.62 - ETA: 6s - loss: 0.5196 - accuracy: 0.62 - ETA: 6s - loss: 0.5196 - accuracy: 0.62 - ETA: 6s - loss: 0.5190 - accuracy: 0.62 - ETA: 6s - loss: 0.5196 - accuracy: 0.62 - ETA: 6s - loss: 0.5198 - accuracy: 0.62 - ETA: 6s - loss: 0.5198 - accuracy: 0.62 - ETA: 6s - loss: 0.5194 - accuracy: 0.62 - ETA: 6s - loss: 0.5193 - accuracy: 0.62 - ETA: 6s - loss: 0.5196 - accuracy: 0.62 - ETA: 6s - loss: 0.5198 - accuracy: 0.62 - ETA: 5s - loss: 0.5191 - accuracy: 0.62 - ETA: 5s - loss: 0.5191 - accuracy: 0.62 - ETA: 5s - loss: 0.5193 - accuracy: 0.62 - ETA: 5s - loss: 0.5190 - accuracy: 0.62 - ETA: 5s - loss: 0.5190 - accuracy: 0.62 - ETA: 5s - loss: 0.5181 - accuracy: 0.62 - ETA: 5s - loss: 0.5180 - accuracy: 0.62 - ETA: 5s - loss: 0.5180 - accuracy: 0.62 - ETA: 5s - loss: 0.5183 - accuracy: 0.62 - ETA: 5s - loss: 0.5178 - accuracy: 0.62 - ETA: 5s - loss: 0.5177 - accuracy: 0.62 - ETA: 5s - loss: 0.5175 - accuracy: 0.62 - ETA: 5s - loss: 0.5180 - accuracy: 0.62 - ETA: 5s - loss: 0.5184 - accuracy: 0.62 - ETA: 5s - loss: 0.5195 - accuracy: 0.62 - ETA: 5s - loss: 0.5198 - accuracy: 0.62 - ETA: 4s - loss: 0.5195 - accuracy: 0.62 - ETA: 4s - loss: 0.5194 - accuracy: 0.62 - ETA: 4s - loss: 0.5188 - accuracy: 0.62 - ETA: 4s - loss: 0.5185 - accuracy: 0.62 - ETA: 4s - loss: 0.5192 - accuracy: 0.62 - ETA: 4s - loss: 0.5187 - accuracy: 0.62 - ETA: 4s - loss: 0.5189 - accuracy: 0.62 - ETA: 4s - loss: 0.5192 - accuracy: 0.62 - ETA: 4s - loss: 0.5196 - accuracy: 0.62 - ETA: 4s - loss: 0.5195 - accuracy: 0.62 - ETA: 4s - loss: 0.5199 - accuracy: 0.62 - ETA: 4s - loss: 0.5201 - accuracy: 0.62 - ETA: 4s - loss: 0.5204 - accuracy: 0.62 - ETA: 4s - loss: 0.5204 - accuracy: 0.62 - ETA: 3s - loss: 0.5205 - accuracy: 0.62 - ETA: 3s - loss: 0.5205 - accuracy: 0.62 - ETA: 3s - loss: 0.5207 - accuracy: 0.62 - ETA: 3s - loss: 0.5208 - accuracy: 0.62 - ETA: 3s - loss: 0.5198 - accuracy: 0.62 - ETA: 3s - loss: 0.5201 - accuracy: 0.62 - ETA: 3s - loss: 0.5200 - accuracy: 0.62 - ETA: 3s - loss: 0.5198 - accuracy: 0.62 - ETA: 3s - loss: 0.5195 - accuracy: 0.62 - ETA: 3s - loss: 0.5193 - accuracy: 0.62 - ETA: 3s - loss: 0.5193 - accuracy: 0.62 - ETA: 3s - loss: 0.5196 - accuracy: 0.62 - ETA: 3s - loss: 0.5200 - accuracy: 0.62 - ETA: 3s - loss: 0.5194 - accuracy: 0.62 - ETA: 2s - loss: 0.5196 - accuracy: 0.62 - ETA: 2s - loss: 0.5201 - accuracy: 0.62 - ETA: 2s - loss: 0.5197 - accuracy: 0.62 - ETA: 2s - loss: 0.5200 - accuracy: 0.62 - ETA: 2s - loss: 0.5199 - accuracy: 0.62 - ETA: 2s - loss: 0.5202 - accuracy: 0.62 - ETA: 2s - loss: 0.5204 - accuracy: 0.62 - ETA: 2s - loss: 0.5202 - accuracy: 0.62 - ETA: 2s - loss: 0.5202 - accuracy: 0.62 - ETA: 2s - loss: 0.5198 - accuracy: 0.62 - ETA: 2s - loss: 0.5198 - accuracy: 0.62 - ETA: 2s - loss: 0.5192 - accuracy: 0.62 - ETA: 2s - loss: 0.5193 - accuracy: 0.62 - ETA: 2s - loss: 0.5187 - accuracy: 0.62 - ETA: 1s - loss: 0.5186 - accuracy: 0.62 - ETA: 1s - loss: 0.5188 - accuracy: 0.6223"
     ]
    },
    {
     "name": "stdout",
     "output_type": "stream",
     "text": [
      "6400/6400 [==============================] - ETA: 1s - loss: 0.5195 - accuracy: 0.62 - ETA: 1s - loss: 0.5202 - accuracy: 0.62 - ETA: 1s - loss: 0.5203 - accuracy: 0.62 - ETA: 1s - loss: 0.5203 - accuracy: 0.62 - ETA: 1s - loss: 0.5198 - accuracy: 0.62 - ETA: 1s - loss: 0.5199 - accuracy: 0.62 - ETA: 1s - loss: 0.5196 - accuracy: 0.62 - ETA: 1s - loss: 0.5191 - accuracy: 0.62 - ETA: 1s - loss: 0.5194 - accuracy: 0.62 - ETA: 1s - loss: 0.5190 - accuracy: 0.62 - ETA: 1s - loss: 0.5193 - accuracy: 0.62 - ETA: 0s - loss: 0.5193 - accuracy: 0.62 - ETA: 0s - loss: 0.5190 - accuracy: 0.62 - ETA: 0s - loss: 0.5187 - accuracy: 0.62 - ETA: 0s - loss: 0.5187 - accuracy: 0.62 - ETA: 0s - loss: 0.5183 - accuracy: 0.62 - ETA: 0s - loss: 0.5182 - accuracy: 0.62 - ETA: 0s - loss: 0.5184 - accuracy: 0.62 - ETA: 0s - loss: 0.5183 - accuracy: 0.62 - ETA: 0s - loss: 0.5184 - accuracy: 0.62 - ETA: 0s - loss: 0.5182 - accuracy: 0.62 - ETA: 0s - loss: 0.5182 - accuracy: 0.62 - ETA: 0s - loss: 0.5181 - accuracy: 0.62 - ETA: 0s - loss: 0.5181 - accuracy: 0.62 - ETA: 0s - loss: 0.5183 - accuracy: 0.62 - 16s 2ms/step - loss: 0.5181 - accuracy: 0.6244 - val_loss: 0.5426 - val_accuracy: 0.6100\n",
      "Epoch 9/10\n"
     ]
    },
    {
     "name": "stdout",
     "output_type": "stream",
     "text": [
      "5680/6400 [=========================>....] - ETA: 17s - loss: 0.5624 - accuracy: 0.750 - ETA: 13s - loss: 0.5008 - accuracy: 0.666 - ETA: 13s - loss: 0.5399 - accuracy: 0.637 - ETA: 13s - loss: 0.5344 - accuracy: 0.598 - ETA: 13s - loss: 0.5311 - accuracy: 0.611 - ETA: 13s - loss: 0.5055 - accuracy: 0.636 - ETA: 13s - loss: 0.4943 - accuracy: 0.644 - ETA: 13s - loss: 0.5024 - accuracy: 0.633 - ETA: 13s - loss: 0.5073 - accuracy: 0.628 - ETA: 13s - loss: 0.4919 - accuracy: 0.635 - ETA: 13s - loss: 0.4882 - accuracy: 0.637 - ETA: 13s - loss: 0.4891 - accuracy: 0.642 - ETA: 13s - loss: 0.4953 - accuracy: 0.643 - ETA: 13s - loss: 0.4955 - accuracy: 0.649 - ETA: 13s - loss: 0.4980 - accuracy: 0.643 - ETA: 13s - loss: 0.4920 - accuracy: 0.653 - ETA: 13s - loss: 0.4966 - accuracy: 0.653 - ETA: 13s - loss: 0.4987 - accuracy: 0.648 - ETA: 13s - loss: 0.5037 - accuracy: 0.650 - ETA: 13s - loss: 0.5069 - accuracy: 0.656 - ETA: 12s - loss: 0.5076 - accuracy: 0.657 - ETA: 12s - loss: 0.5083 - accuracy: 0.650 - ETA: 12s - loss: 0.5067 - accuracy: 0.657 - ETA: 12s - loss: 0.5063 - accuracy: 0.656 - ETA: 12s - loss: 0.5078 - accuracy: 0.663 - ETA: 12s - loss: 0.5082 - accuracy: 0.665 - ETA: 12s - loss: 0.5095 - accuracy: 0.666 - ETA: 12s - loss: 0.5101 - accuracy: 0.658 - ETA: 12s - loss: 0.5104 - accuracy: 0.659 - ETA: 12s - loss: 0.5101 - accuracy: 0.652 - ETA: 12s - loss: 0.5113 - accuracy: 0.648 - ETA: 12s - loss: 0.5108 - accuracy: 0.651 - ETA: 12s - loss: 0.5111 - accuracy: 0.648 - ETA: 12s - loss: 0.5127 - accuracy: 0.650 - ETA: 11s - loss: 0.5109 - accuracy: 0.650 - ETA: 11s - loss: 0.5125 - accuracy: 0.646 - ETA: 11s - loss: 0.5121 - accuracy: 0.646 - ETA: 11s - loss: 0.5135 - accuracy: 0.645 - ETA: 11s - loss: 0.5131 - accuracy: 0.645 - ETA: 11s - loss: 0.5138 - accuracy: 0.645 - ETA: 11s - loss: 0.5168 - accuracy: 0.641 - ETA: 11s - loss: 0.5163 - accuracy: 0.641 - ETA: 11s - loss: 0.5153 - accuracy: 0.647 - ETA: 11s - loss: 0.5148 - accuracy: 0.648 - ETA: 11s - loss: 0.5130 - accuracy: 0.647 - ETA: 11s - loss: 0.5137 - accuracy: 0.647 - ETA: 11s - loss: 0.5148 - accuracy: 0.644 - ETA: 11s - loss: 0.5154 - accuracy: 0.641 - ETA: 11s - loss: 0.5146 - accuracy: 0.640 - ETA: 11s - loss: 0.5151 - accuracy: 0.640 - ETA: 10s - loss: 0.5147 - accuracy: 0.642 - ETA: 10s - loss: 0.5153 - accuracy: 0.640 - ETA: 10s - loss: 0.5162 - accuracy: 0.641 - ETA: 10s - loss: 0.5168 - accuracy: 0.638 - ETA: 10s - loss: 0.5164 - accuracy: 0.636 - ETA: 10s - loss: 0.5173 - accuracy: 0.634 - ETA: 10s - loss: 0.5170 - accuracy: 0.634 - ETA: 10s - loss: 0.5162 - accuracy: 0.635 - ETA: 10s - loss: 0.5163 - accuracy: 0.633 - ETA: 10s - loss: 0.5187 - accuracy: 0.628 - ETA: 10s - loss: 0.5183 - accuracy: 0.629 - ETA: 10s - loss: 0.5198 - accuracy: 0.629 - ETA: 10s - loss: 0.5205 - accuracy: 0.629 - ETA: 10s - loss: 0.5191 - accuracy: 0.629 - ETA: 9s - loss: 0.5180 - accuracy: 0.629 - ETA: 9s - loss: 0.5184 - accuracy: 0.62 - ETA: 9s - loss: 0.5191 - accuracy: 0.62 - ETA: 9s - loss: 0.5181 - accuracy: 0.62 - ETA: 9s - loss: 0.5185 - accuracy: 0.62 - ETA: 9s - loss: 0.5185 - accuracy: 0.62 - ETA: 9s - loss: 0.5185 - accuracy: 0.62 - ETA: 9s - loss: 0.5182 - accuracy: 0.62 - ETA: 9s - loss: 0.5182 - accuracy: 0.63 - ETA: 9s - loss: 0.5192 - accuracy: 0.62 - ETA: 9s - loss: 0.5186 - accuracy: 0.62 - ETA: 9s - loss: 0.5186 - accuracy: 0.62 - ETA: 9s - loss: 0.5183 - accuracy: 0.62 - ETA: 9s - loss: 0.5183 - accuracy: 0.62 - ETA: 9s - loss: 0.5181 - accuracy: 0.62 - ETA: 9s - loss: 0.5193 - accuracy: 0.62 - ETA: 9s - loss: 0.5190 - accuracy: 0.62 - ETA: 8s - loss: 0.5190 - accuracy: 0.62 - ETA: 8s - loss: 0.5193 - accuracy: 0.62 - ETA: 8s - loss: 0.5190 - accuracy: 0.62 - ETA: 8s - loss: 0.5190 - accuracy: 0.62 - ETA: 8s - loss: 0.5193 - accuracy: 0.62 - ETA: 8s - loss: 0.5185 - accuracy: 0.62 - ETA: 8s - loss: 0.5177 - accuracy: 0.62 - ETA: 8s - loss: 0.5175 - accuracy: 0.62 - ETA: 8s - loss: 0.5175 - accuracy: 0.62 - ETA: 8s - loss: 0.5188 - accuracy: 0.62 - ETA: 8s - loss: 0.5183 - accuracy: 0.62 - ETA: 8s - loss: 0.5183 - accuracy: 0.62 - ETA: 8s - loss: 0.5183 - accuracy: 0.62 - ETA: 8s - loss: 0.5188 - accuracy: 0.62 - ETA: 8s - loss: 0.5186 - accuracy: 0.62 - ETA: 8s - loss: 0.5189 - accuracy: 0.62 - ETA: 8s - loss: 0.5189 - accuracy: 0.62 - ETA: 7s - loss: 0.5189 - accuracy: 0.62 - ETA: 7s - loss: 0.5201 - accuracy: 0.62 - ETA: 7s - loss: 0.5206 - accuracy: 0.62 - ETA: 7s - loss: 0.5201 - accuracy: 0.62 - ETA: 7s - loss: 0.5192 - accuracy: 0.62 - ETA: 7s - loss: 0.5192 - accuracy: 0.62 - ETA: 7s - loss: 0.5196 - accuracy: 0.62 - ETA: 7s - loss: 0.5201 - accuracy: 0.62 - ETA: 7s - loss: 0.5203 - accuracy: 0.62 - ETA: 7s - loss: 0.5195 - accuracy: 0.62 - ETA: 7s - loss: 0.5203 - accuracy: 0.62 - ETA: 7s - loss: 0.5207 - accuracy: 0.62 - ETA: 7s - loss: 0.5205 - accuracy: 0.62 - ETA: 7s - loss: 0.5218 - accuracy: 0.62 - ETA: 6s - loss: 0.5217 - accuracy: 0.62 - ETA: 6s - loss: 0.5211 - accuracy: 0.62 - ETA: 6s - loss: 0.5213 - accuracy: 0.62 - ETA: 6s - loss: 0.5209 - accuracy: 0.62 - ETA: 6s - loss: 0.5213 - accuracy: 0.62 - ETA: 6s - loss: 0.5213 - accuracy: 0.62 - ETA: 6s - loss: 0.5221 - accuracy: 0.62 - ETA: 6s - loss: 0.5215 - accuracy: 0.62 - ETA: 6s - loss: 0.5209 - accuracy: 0.62 - ETA: 6s - loss: 0.5210 - accuracy: 0.62 - ETA: 6s - loss: 0.5210 - accuracy: 0.62 - ETA: 6s - loss: 0.5212 - accuracy: 0.62 - ETA: 6s - loss: 0.5214 - accuracy: 0.62 - ETA: 6s - loss: 0.5205 - accuracy: 0.62 - ETA: 6s - loss: 0.5205 - accuracy: 0.62 - ETA: 6s - loss: 0.5203 - accuracy: 0.62 - ETA: 5s - loss: 0.5208 - accuracy: 0.62 - ETA: 5s - loss: 0.5212 - accuracy: 0.62 - ETA: 5s - loss: 0.5206 - accuracy: 0.62 - ETA: 5s - loss: 0.5203 - accuracy: 0.62 - ETA: 5s - loss: 0.5201 - accuracy: 0.62 - ETA: 5s - loss: 0.5203 - accuracy: 0.62 - ETA: 5s - loss: 0.5196 - accuracy: 0.62 - ETA: 5s - loss: 0.5192 - accuracy: 0.62 - ETA: 5s - loss: 0.5199 - accuracy: 0.62 - ETA: 5s - loss: 0.5204 - accuracy: 0.62 - ETA: 5s - loss: 0.5206 - accuracy: 0.62 - ETA: 5s - loss: 0.5199 - accuracy: 0.62 - ETA: 5s - loss: 0.5201 - accuracy: 0.62 - ETA: 5s - loss: 0.5201 - accuracy: 0.62 - ETA: 4s - loss: 0.5200 - accuracy: 0.62 - ETA: 4s - loss: 0.5203 - accuracy: 0.62 - ETA: 4s - loss: 0.5204 - accuracy: 0.62 - ETA: 4s - loss: 0.5204 - accuracy: 0.62 - ETA: 4s - loss: 0.5200 - accuracy: 0.62 - ETA: 4s - loss: 0.5195 - accuracy: 0.62 - ETA: 4s - loss: 0.5190 - accuracy: 0.62 - ETA: 4s - loss: 0.5190 - accuracy: 0.62 - ETA: 4s - loss: 0.5181 - accuracy: 0.62 - ETA: 4s - loss: 0.5189 - accuracy: 0.62 - ETA: 4s - loss: 0.5184 - accuracy: 0.62 - ETA: 4s - loss: 0.5181 - accuracy: 0.62 - ETA: 4s - loss: 0.5183 - accuracy: 0.62 - ETA: 4s - loss: 0.5187 - accuracy: 0.62 - ETA: 3s - loss: 0.5187 - accuracy: 0.62 - ETA: 3s - loss: 0.5184 - accuracy: 0.62 - ETA: 3s - loss: 0.5183 - accuracy: 0.62 - ETA: 3s - loss: 0.5182 - accuracy: 0.62 - ETA: 3s - loss: 0.5178 - accuracy: 0.62 - ETA: 3s - loss: 0.5177 - accuracy: 0.62 - ETA: 3s - loss: 0.5177 - accuracy: 0.62 - ETA: 3s - loss: 0.5181 - accuracy: 0.62 - ETA: 3s - loss: 0.5183 - accuracy: 0.62 - ETA: 3s - loss: 0.5187 - accuracy: 0.62 - ETA: 3s - loss: 0.5190 - accuracy: 0.62 - ETA: 3s - loss: 0.5187 - accuracy: 0.62 - ETA: 3s - loss: 0.5191 - accuracy: 0.62 - ETA: 3s - loss: 0.5189 - accuracy: 0.62 - ETA: 2s - loss: 0.5186 - accuracy: 0.62 - ETA: 2s - loss: 0.5187 - accuracy: 0.62 - ETA: 2s - loss: 0.5189 - accuracy: 0.62 - ETA: 2s - loss: 0.5186 - accuracy: 0.62 - ETA: 2s - loss: 0.5190 - accuracy: 0.62 - ETA: 2s - loss: 0.5184 - accuracy: 0.62 - ETA: 2s - loss: 0.5184 - accuracy: 0.62 - ETA: 2s - loss: 0.5188 - accuracy: 0.62 - ETA: 2s - loss: 0.5189 - accuracy: 0.62 - ETA: 2s - loss: 0.5190 - accuracy: 0.62 - ETA: 2s - loss: 0.5190 - accuracy: 0.62 - ETA: 2s - loss: 0.5188 - accuracy: 0.62 - ETA: 2s - loss: 0.5187 - accuracy: 0.62 - ETA: 2s - loss: 0.5187 - accuracy: 0.62 - ETA: 2s - loss: 0.5183 - accuracy: 0.62 - ETA: 1s - loss: 0.5182 - accuracy: 0.62 - ETA: 1s - loss: 0.5185 - accuracy: 0.62 - ETA: 1s - loss: 0.5185 - accuracy: 0.62 - ETA: 1s - loss: 0.5185 - accuracy: 0.62 - ETA: 1s - loss: 0.5186 - accuracy: 0.62 - ETA: 1s - loss: 0.5185 - accuracy: 0.6276"
     ]
    },
    {
     "name": "stdout",
     "output_type": "stream",
     "text": [
      "6400/6400 [==============================] - ETA: 1s - loss: 0.5185 - accuracy: 0.62 - ETA: 1s - loss: 0.5188 - accuracy: 0.62 - ETA: 1s - loss: 0.5183 - accuracy: 0.62 - ETA: 1s - loss: 0.5188 - accuracy: 0.62 - ETA: 1s - loss: 0.5186 - accuracy: 0.62 - ETA: 1s - loss: 0.5188 - accuracy: 0.62 - ETA: 1s - loss: 0.5189 - accuracy: 0.62 - ETA: 1s - loss: 0.5187 - accuracy: 0.62 - ETA: 1s - loss: 0.5186 - accuracy: 0.62 - ETA: 0s - loss: 0.5187 - accuracy: 0.62 - ETA: 0s - loss: 0.5188 - accuracy: 0.62 - ETA: 0s - loss: 0.5189 - accuracy: 0.62 - ETA: 0s - loss: 0.5190 - accuracy: 0.62 - ETA: 0s - loss: 0.5186 - accuracy: 0.62 - ETA: 0s - loss: 0.5184 - accuracy: 0.62 - ETA: 0s - loss: 0.5182 - accuracy: 0.62 - ETA: 0s - loss: 0.5181 - accuracy: 0.62 - ETA: 0s - loss: 0.5179 - accuracy: 0.62 - ETA: 0s - loss: 0.5181 - accuracy: 0.62 - ETA: 0s - loss: 0.5183 - accuracy: 0.62 - ETA: 0s - loss: 0.5183 - accuracy: 0.62 - ETA: 0s - loss: 0.5180 - accuracy: 0.62 - ETA: 0s - loss: 0.5181 - accuracy: 0.62 - ETA: 0s - loss: 0.5181 - accuracy: 0.62 - ETA: 0s - loss: 0.5182 - accuracy: 0.62 - ETA: 0s - loss: 0.5179 - accuracy: 0.62 - 16s 2ms/step - loss: 0.5177 - accuracy: 0.6292 - val_loss: 0.5327 - val_accuracy: 0.6131\n",
      "Epoch 10/10\n"
     ]
    },
    {
     "name": "stdout",
     "output_type": "stream",
     "text": [
      "5616/6400 [=========================>....] - ETA: 21s - loss: 0.6065 - accuracy: 0.562 - ETA: 22s - loss: 0.6069 - accuracy: 0.531 - ETA: 23s - loss: 0.5494 - accuracy: 0.541 - ETA: 22s - loss: 0.5528 - accuracy: 0.562 - ETA: 24s - loss: 0.5546 - accuracy: 0.600 - ETA: 21s - loss: 0.5200 - accuracy: 0.616 - ETA: 21s - loss: 0.5145 - accuracy: 0.625 - ETA: 20s - loss: 0.5113 - accuracy: 0.625 - ETA: 18s - loss: 0.5164 - accuracy: 0.614 - ETA: 18s - loss: 0.5263 - accuracy: 0.598 - ETA: 18s - loss: 0.5172 - accuracy: 0.604 - ETA: 18s - loss: 0.5146 - accuracy: 0.617 - ETA: 18s - loss: 0.5249 - accuracy: 0.597 - ETA: 17s - loss: 0.5309 - accuracy: 0.593 - ETA: 17s - loss: 0.5122 - accuracy: 0.608 - ETA: 17s - loss: 0.5182 - accuracy: 0.597 - ETA: 17s - loss: 0.5237 - accuracy: 0.591 - ETA: 17s - loss: 0.5184 - accuracy: 0.592 - ETA: 16s - loss: 0.5233 - accuracy: 0.590 - ETA: 16s - loss: 0.5156 - accuracy: 0.594 - ETA: 16s - loss: 0.5145 - accuracy: 0.590 - ETA: 15s - loss: 0.5070 - accuracy: 0.594 - ETA: 15s - loss: 0.5052 - accuracy: 0.591 - ETA: 15s - loss: 0.5084 - accuracy: 0.592 - ETA: 15s - loss: 0.5064 - accuracy: 0.595 - ETA: 15s - loss: 0.5071 - accuracy: 0.590 - ETA: 15s - loss: 0.5097 - accuracy: 0.593 - ETA: 15s - loss: 0.5102 - accuracy: 0.596 - ETA: 14s - loss: 0.5106 - accuracy: 0.595 - ETA: 14s - loss: 0.5110 - accuracy: 0.597 - ETA: 14s - loss: 0.5122 - accuracy: 0.595 - ETA: 14s - loss: 0.5142 - accuracy: 0.595 - ETA: 14s - loss: 0.5136 - accuracy: 0.597 - ETA: 13s - loss: 0.5115 - accuracy: 0.597 - ETA: 13s - loss: 0.5141 - accuracy: 0.595 - ETA: 13s - loss: 0.5142 - accuracy: 0.595 - ETA: 13s - loss: 0.5143 - accuracy: 0.595 - ETA: 13s - loss: 0.5145 - accuracy: 0.595 - ETA: 13s - loss: 0.5127 - accuracy: 0.600 - ETA: 13s - loss: 0.5155 - accuracy: 0.598 - ETA: 13s - loss: 0.5143 - accuracy: 0.599 - ETA: 13s - loss: 0.5151 - accuracy: 0.600 - ETA: 13s - loss: 0.5146 - accuracy: 0.602 - ETA: 13s - loss: 0.5159 - accuracy: 0.604 - ETA: 12s - loss: 0.5172 - accuracy: 0.602 - ETA: 12s - loss: 0.5189 - accuracy: 0.605 - ETA: 12s - loss: 0.5184 - accuracy: 0.607 - ETA: 12s - loss: 0.5200 - accuracy: 0.608 - ETA: 12s - loss: 0.5179 - accuracy: 0.610 - ETA: 12s - loss: 0.5180 - accuracy: 0.608 - ETA: 12s - loss: 0.5175 - accuracy: 0.608 - ETA: 12s - loss: 0.5161 - accuracy: 0.610 - ETA: 12s - loss: 0.5148 - accuracy: 0.612 - ETA: 11s - loss: 0.5167 - accuracy: 0.611 - ETA: 11s - loss: 0.5159 - accuracy: 0.611 - ETA: 11s - loss: 0.5160 - accuracy: 0.612 - ETA: 11s - loss: 0.5160 - accuracy: 0.611 - ETA: 11s - loss: 0.5178 - accuracy: 0.613 - ETA: 11s - loss: 0.5158 - accuracy: 0.614 - ETA: 11s - loss: 0.5163 - accuracy: 0.613 - ETA: 11s - loss: 0.5156 - accuracy: 0.615 - ETA: 11s - loss: 0.5157 - accuracy: 0.616 - ETA: 11s - loss: 0.5169 - accuracy: 0.616 - ETA: 11s - loss: 0.5170 - accuracy: 0.617 - ETA: 10s - loss: 0.5155 - accuracy: 0.615 - ETA: 10s - loss: 0.5149 - accuracy: 0.618 - ETA: 10s - loss: 0.5157 - accuracy: 0.616 - ETA: 10s - loss: 0.5168 - accuracy: 0.615 - ETA: 10s - loss: 0.5172 - accuracy: 0.615 - ETA: 10s - loss: 0.5180 - accuracy: 0.613 - ETA: 10s - loss: 0.5173 - accuracy: 0.615 - ETA: 10s - loss: 0.5157 - accuracy: 0.614 - ETA: 10s - loss: 0.5151 - accuracy: 0.616 - ETA: 10s - loss: 0.5158 - accuracy: 0.616 - ETA: 10s - loss: 0.5159 - accuracy: 0.617 - ETA: 9s - loss: 0.5163 - accuracy: 0.614 - ETA: 9s - loss: 0.5172 - accuracy: 0.61 - ETA: 9s - loss: 0.5185 - accuracy: 0.61 - ETA: 9s - loss: 0.5185 - accuracy: 0.61 - ETA: 9s - loss: 0.5195 - accuracy: 0.61 - ETA: 9s - loss: 0.5192 - accuracy: 0.61 - ETA: 9s - loss: 0.5195 - accuracy: 0.61 - ETA: 9s - loss: 0.5201 - accuracy: 0.61 - ETA: 9s - loss: 0.5189 - accuracy: 0.61 - ETA: 9s - loss: 0.5198 - accuracy: 0.61 - ETA: 9s - loss: 0.5187 - accuracy: 0.61 - ETA: 9s - loss: 0.5181 - accuracy: 0.62 - ETA: 8s - loss: 0.5173 - accuracy: 0.62 - ETA: 8s - loss: 0.5170 - accuracy: 0.62 - ETA: 8s - loss: 0.5170 - accuracy: 0.62 - ETA: 8s - loss: 0.5163 - accuracy: 0.62 - ETA: 8s - loss: 0.5156 - accuracy: 0.62 - ETA: 8s - loss: 0.5151 - accuracy: 0.62 - ETA: 8s - loss: 0.5152 - accuracy: 0.62 - ETA: 8s - loss: 0.5150 - accuracy: 0.62 - ETA: 8s - loss: 0.5156 - accuracy: 0.62 - ETA: 8s - loss: 0.5158 - accuracy: 0.62 - ETA: 8s - loss: 0.5152 - accuracy: 0.62 - ETA: 8s - loss: 0.5154 - accuracy: 0.62 - ETA: 7s - loss: 0.5150 - accuracy: 0.62 - ETA: 7s - loss: 0.5165 - accuracy: 0.62 - ETA: 7s - loss: 0.5170 - accuracy: 0.62 - ETA: 7s - loss: 0.5175 - accuracy: 0.62 - ETA: 7s - loss: 0.5168 - accuracy: 0.62 - ETA: 7s - loss: 0.5171 - accuracy: 0.62 - ETA: 7s - loss: 0.5166 - accuracy: 0.62 - ETA: 7s - loss: 0.5169 - accuracy: 0.62 - ETA: 7s - loss: 0.5165 - accuracy: 0.62 - ETA: 7s - loss: 0.5178 - accuracy: 0.62 - ETA: 7s - loss: 0.5187 - accuracy: 0.62 - ETA: 7s - loss: 0.5187 - accuracy: 0.62 - ETA: 7s - loss: 0.5192 - accuracy: 0.62 - ETA: 7s - loss: 0.5189 - accuracy: 0.62 - ETA: 6s - loss: 0.5181 - accuracy: 0.62 - ETA: 6s - loss: 0.5182 - accuracy: 0.62 - ETA: 6s - loss: 0.5182 - accuracy: 0.62 - ETA: 6s - loss: 0.5185 - accuracy: 0.62 - ETA: 6s - loss: 0.5189 - accuracy: 0.62 - ETA: 6s - loss: 0.5189 - accuracy: 0.62 - ETA: 6s - loss: 0.5194 - accuracy: 0.62 - ETA: 6s - loss: 0.5192 - accuracy: 0.62 - ETA: 6s - loss: 0.5190 - accuracy: 0.62 - ETA: 6s - loss: 0.5190 - accuracy: 0.62 - ETA: 6s - loss: 0.5190 - accuracy: 0.62 - ETA: 6s - loss: 0.5192 - accuracy: 0.62 - ETA: 6s - loss: 0.5185 - accuracy: 0.62 - ETA: 6s - loss: 0.5192 - accuracy: 0.62 - ETA: 6s - loss: 0.5187 - accuracy: 0.62 - ETA: 6s - loss: 0.5189 - accuracy: 0.62 - ETA: 5s - loss: 0.5196 - accuracy: 0.62 - ETA: 5s - loss: 0.5196 - accuracy: 0.62 - ETA: 5s - loss: 0.5196 - accuracy: 0.62 - ETA: 5s - loss: 0.5198 - accuracy: 0.62 - ETA: 5s - loss: 0.5196 - accuracy: 0.62 - ETA: 5s - loss: 0.5190 - accuracy: 0.62 - ETA: 5s - loss: 0.5190 - accuracy: 0.62 - ETA: 5s - loss: 0.5190 - accuracy: 0.62 - ETA: 5s - loss: 0.5185 - accuracy: 0.62 - ETA: 5s - loss: 0.5185 - accuracy: 0.62 - ETA: 5s - loss: 0.5178 - accuracy: 0.62 - ETA: 5s - loss: 0.5177 - accuracy: 0.62 - ETA: 5s - loss: 0.5177 - accuracy: 0.62 - ETA: 5s - loss: 0.5180 - accuracy: 0.62 - ETA: 5s - loss: 0.5177 - accuracy: 0.62 - ETA: 5s - loss: 0.5174 - accuracy: 0.62 - ETA: 5s - loss: 0.5169 - accuracy: 0.62 - ETA: 4s - loss: 0.5165 - accuracy: 0.62 - ETA: 4s - loss: 0.5162 - accuracy: 0.62 - ETA: 4s - loss: 0.5165 - accuracy: 0.62 - ETA: 4s - loss: 0.5164 - accuracy: 0.62 - ETA: 4s - loss: 0.5162 - accuracy: 0.62 - ETA: 4s - loss: 0.5166 - accuracy: 0.62 - ETA: 4s - loss: 0.5161 - accuracy: 0.62 - ETA: 4s - loss: 0.5162 - accuracy: 0.62 - ETA: 4s - loss: 0.5160 - accuracy: 0.62 - ETA: 4s - loss: 0.5157 - accuracy: 0.62 - ETA: 4s - loss: 0.5159 - accuracy: 0.62 - ETA: 4s - loss: 0.5162 - accuracy: 0.62 - ETA: 4s - loss: 0.5164 - accuracy: 0.62 - ETA: 4s - loss: 0.5166 - accuracy: 0.62 - ETA: 3s - loss: 0.5166 - accuracy: 0.62 - ETA: 3s - loss: 0.5171 - accuracy: 0.62 - ETA: 3s - loss: 0.5172 - accuracy: 0.62 - ETA: 3s - loss: 0.5174 - accuracy: 0.62 - ETA: 3s - loss: 0.5168 - accuracy: 0.62 - ETA: 3s - loss: 0.5173 - accuracy: 0.62 - ETA: 3s - loss: 0.5169 - accuracy: 0.62 - ETA: 3s - loss: 0.5168 - accuracy: 0.62 - ETA: 3s - loss: 0.5165 - accuracy: 0.62 - ETA: 3s - loss: 0.5165 - accuracy: 0.62 - ETA: 3s - loss: 0.5166 - accuracy: 0.62 - ETA: 3s - loss: 0.5171 - accuracy: 0.62 - ETA: 3s - loss: 0.5174 - accuracy: 0.62 - ETA: 3s - loss: 0.5173 - accuracy: 0.62 - ETA: 2s - loss: 0.5172 - accuracy: 0.62 - ETA: 2s - loss: 0.5173 - accuracy: 0.62 - ETA: 2s - loss: 0.5179 - accuracy: 0.62 - ETA: 2s - loss: 0.5182 - accuracy: 0.62 - ETA: 2s - loss: 0.5180 - accuracy: 0.62 - ETA: 2s - loss: 0.5179 - accuracy: 0.62 - ETA: 2s - loss: 0.5178 - accuracy: 0.62 - ETA: 2s - loss: 0.5179 - accuracy: 0.62 - ETA: 2s - loss: 0.5174 - accuracy: 0.62 - ETA: 2s - loss: 0.5177 - accuracy: 0.62 - ETA: 2s - loss: 0.5181 - accuracy: 0.62 - ETA: 2s - loss: 0.5180 - accuracy: 0.62 - ETA: 2s - loss: 0.5181 - accuracy: 0.62 - ETA: 2s - loss: 0.5180 - accuracy: 0.62 - ETA: 1s - loss: 0.5174 - accuracy: 0.62 - ETA: 1s - loss: 0.5178 - accuracy: 0.62 - ETA: 1s - loss: 0.5181 - accuracy: 0.6243"
     ]
    },
    {
     "name": "stdout",
     "output_type": "stream",
     "text": [
      "6400/6400 [==============================] - ETA: 1s - loss: 0.5179 - accuracy: 0.62 - ETA: 1s - loss: 0.5180 - accuracy: 0.62 - ETA: 1s - loss: 0.5180 - accuracy: 0.62 - ETA: 1s - loss: 0.5176 - accuracy: 0.62 - ETA: 1s - loss: 0.5180 - accuracy: 0.62 - ETA: 1s - loss: 0.5181 - accuracy: 0.62 - ETA: 1s - loss: 0.5176 - accuracy: 0.62 - ETA: 1s - loss: 0.5174 - accuracy: 0.62 - ETA: 1s - loss: 0.5171 - accuracy: 0.62 - ETA: 1s - loss: 0.5165 - accuracy: 0.62 - ETA: 1s - loss: 0.5162 - accuracy: 0.62 - ETA: 0s - loss: 0.5162 - accuracy: 0.62 - ETA: 0s - loss: 0.5162 - accuracy: 0.62 - ETA: 0s - loss: 0.5166 - accuracy: 0.62 - ETA: 0s - loss: 0.5167 - accuracy: 0.62 - ETA: 0s - loss: 0.5168 - accuracy: 0.62 - ETA: 0s - loss: 0.5171 - accuracy: 0.62 - ETA: 0s - loss: 0.5170 - accuracy: 0.62 - ETA: 0s - loss: 0.5171 - accuracy: 0.62 - ETA: 0s - loss: 0.5175 - accuracy: 0.62 - ETA: 0s - loss: 0.5176 - accuracy: 0.62 - ETA: 0s - loss: 0.5177 - accuracy: 0.62 - ETA: 0s - loss: 0.5176 - accuracy: 0.62 - ETA: 0s - loss: 0.5175 - accuracy: 0.62 - 15s 2ms/step - loss: 0.5175 - accuracy: 0.6255 - val_loss: 0.5327 - val_accuracy: 0.6131\n",
      "Test loss: 0.532651270031929\n",
      "Test accuracy: 0.6131250262260437\n"
     ]
    }
   ],
   "source": [
    "model.fit(x_train, y_train,\n",
    "          batch_size=batch_size,\n",
    "          epochs=epochs,\n",
    "          verbose=1,\n",
    "          validation_data=(x_test, y_test))\n",
    "score = model.evaluate(x_test, y_test, verbose=0)\n",
    "print('Test loss:', score[0])\n",
    "print('Test accuracy:', score[1])"
   ]
  }
 ],
 "metadata": {
  "kernelspec": {
   "display_name": "Python 3",
   "language": "python",
   "name": "python3"
  },
  "language_info": {
   "codemirror_mode": {
    "name": "ipython",
    "version": 3
   },
   "file_extension": ".py",
   "mimetype": "text/x-python",
   "name": "python",
   "nbconvert_exporter": "python",
   "pygments_lexer": "ipython3",
   "version": "3.7.4"
  }
 },
 "nbformat": 4,
 "nbformat_minor": 2
}
