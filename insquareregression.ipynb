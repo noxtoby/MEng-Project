{
 "cells": [
  {
   "cell_type": "code",
   "execution_count": 176,
   "metadata": {},
   "outputs": [
    {
     "data": {
      "image/png": "[encoded data removed]",
      "text/plain": [
       "<Figure size 432x288 with 1 Axes>"
      ]
     },
     "metadata": {
      "needs_background": "light"
     },
     "output_type": "display_data"
    },
    {
     "name": "stdout",
     "output_type": "stream",
     "text": [
      "0\n"
     ]
    },
    {
     "data": {
      "image/png": "[encoded data removed]",
      "text/plain": [
       "<Figure size 432x288 with 1 Axes>"
      ]
     },
     "metadata": {
      "needs_background": "light"
     },
     "output_type": "display_data"
    },
    {
     "name": "stdout",
     "output_type": "stream",
     "text": [
      "1\n"
     ]
    },
    {
     "name": "stderr",
     "output_type": "stream",
     "text": [
      "100%|██████████| 1000/1000 [00:09<00:00, 105.75it/s]\n",
      "100%|██████████| 1000/1000 [00:26<00:00, 37.70it/s]\n"
     ]
    }
   ],
   "source": [
    "\n",
    "import numpy as np\n",
    "import matplotlib.pyplot as plt\n",
    "import os\n",
    "import cv2\n",
    "from tqdm import tqdm\n",
    "import csv\n",
    "from sklearn.utils import shuffle\n",
    "from sklearn.model_selection import train_test_split\n",
    "from skimage.transform import rotate\n",
    "from keras.models import Sequential\n",
    "from keras.layers import Dense\n",
    "\n",
    "\n",
    "trainxs = []\n",
    "trainximgs = []\n",
    "trainys = []\n",
    "\n",
    "DATADIR = r\"C:\\Users\\colly\\Desktop\\Toyimagesv3\"\n",
    "\n",
    "CATEGORIES = [\"out_square\", \"in_square\"]\n",
    "#CATEGORIES = [\"out_square\", \"in_square\", \"on_line\"]\n",
    "\n",
    "for category in CATEGORIES:\n",
    "    path = os.path.join(DATADIR,category) \n",
    "    class_num = CATEGORIES.index(category)\n",
    "    for img in os.listdir(path):  \n",
    "        img_array = cv2.imread(os.path.join(path,img) ,cv2.IMREAD_GRAYSCALE)  # convert to array\n",
    "        img_array = cv2.bitwise_not(img_array)\n",
    "        plt.imshow(img_array, cmap='gray')  # graph it\n",
    "        plt.show()  # display!\n",
    "        print(class_num)\n",
    "          # we just want one for now so break\n",
    "        break\n",
    "\n",
    "\n",
    "for category in CATEGORIES:  \n",
    "\n",
    "    path = os.path.join(DATADIR,category)  \n",
    "    class_num = CATEGORIES.index(category)  # get the classification  (0 or a 1). 0=notinsquare 1=insquare\n",
    "\n",
    "    for img in tqdm(os.listdir(path)):  # iterate over each image per point value\n",
    "        img_array = cv2.imread(os.path.join(path,img) ,cv2.IMREAD_GRAYSCALE)  # convert to array\n",
    "        img_array = cv2.bitwise_not(img_array)\n",
    "        new_img_array = rotate(img_array, 90)\n",
    "        rot_image = cv2.resize(new_img_array, (50, 50)).flatten()\n",
    "        new_img_array1 = rotate(img_array, 180)\n",
    "        rot_image1 = cv2.resize(new_img_array1, (50, 50)).flatten()\n",
    "        new_img_array2 = rotate(img_array, 270)\n",
    "        rot_image2 = cv2.resize(new_img_array2, (50, 50)).flatten()\n",
    "        image = cv2.resize(img_array, (50, 50)).flatten()\n",
    "        trainxs.append(image)  # add this to our training_data\n",
    "        trainys.append(class_num)\n",
    "        trainxs.append(rot_image)  # add this to our training_data\n",
    "        trainys.append(class_num)\n",
    "        trainxs.append(rot_image1)  # add this to our training_data\n",
    "        trainys.append(class_num)\n",
    "        trainxs.append(rot_image2)  # add this to our training_data\n",
    "        trainys.append(class_num)\n"
   ]
  },
  {
   "cell_type": "code",
   "execution_count": 177,
   "metadata": {},
   "outputs": [
    {
     "data": {
      "text/plain": [
       "0"
      ]
     },
     "execution_count": 177,
     "metadata": {},
     "output_type": "execute_result"
    }
   ],
   "source": [
    "len(trainximgs)"
   ]
  },
  {
   "cell_type": "code",
   "execution_count": 178,
   "metadata": {},
   "outputs": [
    {
     "name": "stdout",
     "output_type": "stream",
     "text": [
      "8000\n"
     ]
    }
   ],
   "source": [
    "trainxs = np.array(trainxs, dtype=\"float\") / 255.0\n",
    "\n",
    "trainys = np.array(trainys)\n",
    "print(len(trainyimgs))\n",
    "trainxs, trainys = shuffle(trainxs, trainys)\n",
    "\n",
    "(trainX, testX, trainY, testY) = train_test_split(trainxs,trainys, test_size=0.1)\n",
    "\n"
   ]
  },
  {
   "cell_type": "code",
   "execution_count": 179,
   "metadata": {},
   "outputs": [
    {
     "data": {
      "text/plain": [
       "(8000, 2500)"
      ]
     },
     "execution_count": 179,
     "metadata": {},
     "output_type": "execute_result"
    }
   ],
   "source": [
    "trainxs.shape"
   ]
  },
  {
   "cell_type": "code",
   "execution_count": 180,
   "metadata": {},
   "outputs": [
    {
     "name": "stdout",
     "output_type": "stream",
     "text": [
      "KNeighbors accuracy score :  0.77875\n"
     ]
    }
   ],
   "source": [
    "#import necessary modules\n",
    "from sklearn.neighbors import KNeighborsClassifier\n",
    "from sklearn.metrics import accuracy_score\n",
    "#create object of the lassifier\n",
    "neigh = KNeighborsClassifier(n_neighbors=8)\n",
    "#Train the algorithm\n",
    "neigh.fit(trainX, trainY)\n",
    "# predict the response\n",
    "pred = neigh.predict(testX)\n",
    "# evaluate accuracy\n",
    "print (\"KNeighbors accuracy score : \",accuracy_score(testY, pred))"
   ]
  },
  {
   "cell_type": "code",
   "execution_count": 173,
   "metadata": {},
   "outputs": [
    {
     "name": "stdout",
     "output_type": "stream",
     "text": [
      "[INFO] training Linear SVM classifier...\n"
     ]
    },
    {
     "name": "stderr",
     "output_type": "stream",
     "text": [
      "C:\\Users\\colly\\Anaconda3\\lib\\site-packages\\sklearn\\svm\\base.py:929: ConvergenceWarning: Liblinear failed to converge, increase the number of iterations.\n",
      "  \"the number of iterations.\", ConvergenceWarning)\n"
     ]
    },
    {
     "name": "stdout",
     "output_type": "stream",
     "text": [
      "[INFO] evaluating classifier...\n",
      "svm accuracy score :  0.60125\n"
     ]
    }
   ],
   "source": [
    "# import the necessary packages\n",
    "from sklearn.preprocessing import LabelEncoder\n",
    "from sklearn.svm import LinearSVC\n",
    "from sklearn.metrics import classification_report\n",
    "import numpy as np\n",
    "import argparse\n",
    "\n",
    " \n",
    "# train the linear regression clasifier\n",
    "print(\"[INFO] training Linear SVM classifier...\")\n",
    "model = LinearSVC()\n",
    "model.fit(trainX, trainY)\n",
    " \n",
    "# evaluate the classifier\n",
    "print(\"[INFO] evaluating classifier...\")\n",
    "pred = model.predict(testX)\n",
    "print (\"svm accuracy score : \",accuracy_score(testY, pred))"
   ]
  },
  {
   "cell_type": "code",
   "execution_count": 174,
   "metadata": {},
   "outputs": [
    {
     "name": "stderr",
     "output_type": "stream",
     "text": [
      "C:\\Users\\colly\\Anaconda3\\lib\\site-packages\\sklearn\\linear_model\\logistic.py:432: FutureWarning: Default solver will be changed to 'lbfgs' in 0.22. Specify a solver to silence this warning.\n",
      "  FutureWarning)\n"
     ]
    },
    {
     "name": "stdout",
     "output_type": "stream",
     "text": [
      "Accuracy of logistic regression classifier on test set: 0.59\n"
     ]
    }
   ],
   "source": [
    "from sklearn.linear_model import LogisticRegression\n",
    "from sklearn import metrics\n",
    "\n",
    "logreg = LogisticRegression()\n",
    "logreg.fit(trainX, trainY)\n",
    "\n",
    "y_pred = logreg.predict(testX)\n",
    "print('Accuracy of logistic regression classifier on test set: {:.2f}'.format(logreg.score(testX, testY)))"
   ]
  }
 ],
 "metadata": {
  "kernelspec": {
   "display_name": "Python 3",
   "language": "python",
   "name": "python3"
  },
  "language_info": {
   "codemirror_mode": {
    "name": "ipython",
    "version": 3
   },
   "file_extension": ".py",
   "mimetype": "text/x-python",
   "name": "python",
   "nbconvert_exporter": "python",
   "pygments_lexer": "ipython3",
   "version": "3.7.4"
  }
 },
 "nbformat": 4,
 "nbformat_minor": 2
}
