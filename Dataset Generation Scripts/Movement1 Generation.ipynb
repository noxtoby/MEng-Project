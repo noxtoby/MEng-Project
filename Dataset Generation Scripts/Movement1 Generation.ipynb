{
 "cells": [
  {
   "cell_type": "code",
   "execution_count": 1,
   "metadata": {},
   "outputs": [],
   "source": [
    "import svgwrite\n",
    "import random\n",
    "from svglib.svglib import svg2rlg\n",
    "from reportlab.graphics import renderPM\n",
    "import math\n",
    "\n"
   ]
  },
  {
   "cell_type": "code",
   "execution_count": 2,
   "metadata": {},
   "outputs": [],
   "source": [
    "def draw_triangle(insert, size, fill, rotate=None):\n",
    "    x, y = insert\n",
    "    points = [insert, (x + size, y), ((x + size / 2.0), (y + size * TRIHEIGHT))]\n",
    "    triangle = dwg.add(dwg.polygon(points, fill=fill, stroke=svgwrite.rgb(0, 0, 0, '%')))\n",
    "    if rotate:\n",
    "            triangle.rotate(rotate, center=insert)"
   ]
  },
  {
   "cell_type": "code",
   "execution_count": 8,
   "metadata": {},
   "outputs": [],
   "source": [
    "def shape_create():\n",
    "    x_min = random.randrange(10,180)\n",
    "    y_min = random.randrange(10,50)\n",
    "    x_circ = random.randrange(10,50)\n",
    "    y_circ = random.randrange(10,50)\n",
    "    x_circ1 = random.randrange(10,50)\n",
    "    y_circ1 = random.randrange(10,50)\n",
    "    rad_circ = 4\n",
    "    rec_size = 25\n",
    "    x_max = x_min + rec_size\n",
    "    y_max = y_min + rec_size\n",
    "\n",
    "    in_square = False\n",
    "    on_line = False\n",
    "    out_square = False\n",
    "    return 0, x_min, y_min, x_max, y_max, x_circ, y_circ, rad_circ, rec_size\n",
    "    '''\n",
    "    if x_circ < (x_max + rad_circ) and x_circ > (x_min - rad_circ) :\n",
    "        if y_circ < (y_max + rad_circ) and y_circ > (y_min - rad_circ) :\n",
    "            if abs(x_min - x_circ) <= rad_circ:\n",
    "                on_line = True\n",
    "            elif abs(x_max - x_circ) <= rad_circ:\n",
    "                on_line = True\n",
    "            elif abs(y_min - y_circ) <= rad_circ:\n",
    "                on_line = True\n",
    "            elif abs(y_max - y_circ) <= rad_circ:\n",
    "                on_line = True\n",
    "            else :\n",
    "                in_square = True\n",
    "        else:\n",
    "            out_square = True\n",
    "    else:\n",
    "        out_square = True\n",
    "    \n",
    "    \n",
    "    \n",
    "    if in_square:\n",
    "        return 0, x_min, y_min, x_max, y_max, x_circ, y_circ, rad_circ, rec_size\n",
    "    if on_line:\n",
    "        return 1, x_min, y_min, x_max, y_max, x_circ, y_circ, rad_circ, rec_size\n",
    "    if out_square:\n",
    "        return 2, x_min, y_min, x_max, y_max, x_circ, y_circ, rad_circ, rec_size\n",
    "    else:\n",
    "        return 2, x_min, y_min, x_max, y_max, x_circ, y_circ, rad_circ, rec_size \n",
    "    '''\n",
    "    "
   ]
  },
  {
   "cell_type": "code",
   "execution_count": 14,
   "metadata": {},
   "outputs": [],
   "source": [
    "name = \"movement.svg\"\n",
    "svg_size_width = 200\n",
    "svg_size_height = 80\n",
    "count = 1000\n",
    "while(count != 0):\n",
    "    dwg = svgwrite.Drawing(name, (svg_size_width, svg_size_height))\n",
    "    pos, x_min, y_min, x_max, y_max, x_circ, y_circ, rad_circ, rec_size = shape_create()\n",
    "\n",
    "    dwg.add(dwg.rect((x_min, y_min), (rec_size,rec_size),\n",
    "        stroke=svgwrite.rgb(0, 0, 0, '%'), \n",
    "        fill='rgb(255,255,255)')\n",
    "    )\n",
    "\n",
    "    #draw_triangle((x_min+7.5,y_min-7.5), 10, 'rgb(120,120,120)', rotate = 60)\n",
    "    dwg.save()\n",
    "    drawing = svg2rlg(name)\n",
    "    new_name = name.strip(\".svg\")\n",
    "    new_name = str(count) + new_name + str(x_min) + \".png\"\n",
    "    renderPM.drawToFile(drawing, new_name, fmt=\"PNG\")\n",
    "    count = count -1\n",
    "\n"
   ]
  }
 ],
 "metadata": {
  "kernelspec": {
   "display_name": "Python 3",
   "language": "python",
   "name": "python3"
  },
  "language_info": {
   "codemirror_mode": {
    "name": "ipython",
    "version": 3
   },
   "file_extension": ".py",
   "mimetype": "text/x-python",
   "name": "python",
   "nbconvert_exporter": "python",
   "pygments_lexer": "ipython3",
   "version": "3.7.4"
  }
 },
 "nbformat": 4,
 "nbformat_minor": 2
}
