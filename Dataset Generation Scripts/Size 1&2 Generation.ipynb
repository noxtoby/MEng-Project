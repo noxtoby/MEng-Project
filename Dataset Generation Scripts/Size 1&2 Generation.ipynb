{
 "cells": [
  {
   "cell_type": "code",
   "execution_count": 10,
   "metadata": {},
   "outputs": [],
   "source": [
    "import svgwrite\n",
    "import random\n",
    "from svglib.svglib import svg2rlg\n",
    "from reportlab.graphics import renderPM\n",
    "import math\n",
    "\n"
   ]
  },
  {
   "cell_type": "code",
   "execution_count": 11,
   "metadata": {},
   "outputs": [],
   "source": [
    "def draw_triangle(insert, size, fill, rotate=None):\n",
    "    x, y = insert\n",
    "    points = [insert, (x + size, y), ((x + size / 2.0), (y + size * TRIHEIGHT))]\n",
    "    triangle = dwg.add(dwg.polygon(points, fill=fill, stroke=svgwrite.rgb(0, 0, 0, '%')))\n",
    "    if rotate:\n",
    "            triangle.rotate(rotate, center=insert)"
   ]
  },
  {
   "cell_type": "code",
   "execution_count": 12,
   "metadata": {},
   "outputs": [],
   "source": [
    "def shape_create(rec_size):\n",
    "    x_min = 10\n",
    "    y_min = 10\n",
    "    rec_size = rec_size\n",
    "    x_max = x_min + rec_size\n",
    "    y_max = y_min + rec_size\n",
    "    \n",
    "    return 1, x_min, y_min, \n",
    "    \n",
    "    "
   ]
  },
  {
   "cell_type": "code",
   "execution_count": 21,
   "metadata": {},
   "outputs": [],
   "source": [
    "name = \"size.svg\"\n",
    "svg_size_width = 350\n",
    "svg_size_height = 350\n",
    "count_1 = 300\n",
    "rec_size = 5\n",
    "while(count_1 != 0):\n",
    "    \n",
    "    pos, x_min, y_min = shape_create(rec_size)\n",
    "    if pos == 1:\n",
    "        dwg = svgwrite.Drawing(name, (svg_size_width, svg_size_height))\n",
    "        dwg.add(dwg.rect((x_min, y_min), (rec_size,rec_size),\n",
    "            stroke=svgwrite.rgb(0, 0, 0, '%'), \n",
    "            fill='white')\n",
    "        )\n",
    "        dwg.save()\n",
    "        drawing = svg2rlg(name)\n",
    "        new_name = name.strip(\".svg\")\n",
    "        new_name = \"one\" + new_name + str(rec_size) + \".png\"\n",
    "        renderPM.drawToFile(drawing, new_name, fmt=\"PNG\")\n",
    "        count_1 = count_1 -1\n",
    "    rec_size = rec_size + 1\n",
    "    \n"
   ]
  },
  {
   "cell_type": "code",
   "execution_count": 22,
   "metadata": {},
   "outputs": [],
   "source": [
    "name = \"size.svg\"\n",
    "svg_size_width = 350\n",
    "svg_size_height = 350\n",
    "count_1 = 300\n",
    "rec_size = 5\n",
    "while(count_1 != 0):\n",
    "    \n",
    "    pos, x_min, y_min = shape_create(rec_size)\n",
    "    if pos == 1:\n",
    "        dwg = svgwrite.Drawing(name, (svg_size_width, svg_size_height))\n",
    "        dwg.add(dwg.rect((x_min, y_min), (rec_size,rec_size),\n",
    "            stroke=svgwrite.rgb(0, 0, 0, '%'), \n",
    "            fill='black')\n",
    "        )\n",
    "        dwg.save()\n",
    "        drawing = svg2rlg(name)\n",
    "        new_name = name.strip(\".svg\")\n",
    "        new_name = \"onefill\" + new_name + str(rec_size) + \".png\"\n",
    "        renderPM.drawToFile(drawing, new_name, fmt=\"PNG\")\n",
    "        count_1 = count_1 -1\n",
    "    rec_size = rec_size + 1\n",
    "    \n"
   ]
  }
 ],
 "metadata": {
  "kernelspec": {
   "display_name": "Python 3",
   "language": "python",
   "name": "python3"
  },
  "language_info": {
   "codemirror_mode": {
    "name": "ipython",
    "version": 3
   },
   "file_extension": ".py",
   "mimetype": "text/x-python",
   "name": "python",
   "nbconvert_exporter": "python",
   "pygments_lexer": "ipython3",
   "version": "3.7.4"
  }
 },
 "nbformat": 4,
 "nbformat_minor": 2
}
