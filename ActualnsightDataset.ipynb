{
 "cells": [
  {
   "cell_type": "code",
   "execution_count": 44,
   "metadata": {
    "colab": {
     "base_uri": "https://localhost:8080/",
     "height": 71
    },
    "colab_type": "code",
    "id": "6FEwDud3WpsM",
    "outputId": "9defa95c-e4c6-49e7-b23d-0fdd238bc072"
   },
   "outputs": [
    {
     "name": "stdout",
     "output_type": "stream",
     "text": [
      "[80.0, 57.0, 49.0, 6.0, 60.0, 44.0, 45.0, 37.0, 80.0, 69.0, 65.0, 64.0, 80.0, 46.0, 46.0, 79.0, 71.0, 68.0, 67.0, 76.0, 68.0, 74.0, 59.0, 75.0, 59.0, 64.0, 55.0, 78.0, 61.0, 60.0, 26.0, 76.0, 57.0, 50.0, 35.0, 79.0, 63.0, 64.0, 59.0, 79.0, 49.0, 49.0, 27.0, 80.0, 62.0, 74.0, 72.0, 80.0, 80.0, 80.0, 75.0, 77.0, 30.0, 23.0, 80.0, 72.0, 69.0, 67.0, 80.0, 69.0, 64.0, 60.0, 78.0, 72.0, 72.0, 51.0, 78.0, 56.0, 62.0, 32.0, 76.0, 54.0, 65.0, 21.0, 73.0, 56.0, 48.0, 34.0, 73.0, 41.0, 38.0, 34.0, 80.0, 71.0, 72.0, 65.0, 75.0, 49.0, 42.0, 27.0, 78.0, 47.0, 54.0, 36.0, 76.0, 53.0, 55.0, 44.0, 80.0, 68.0, 66.0, 60.0, 80.0, 78.0, 78.0, 58.0, 76.0, 66.0, 63.0, 57.0, 76.0, 69.0, 71.0, 49.0, 79.0, 79.0, 74.0, 76.0, 78.0, 58.0, 55.0, 44.0, 80.0, 62.0, 64.0, 51.0, 79.0, 37.0, 39.0, 45.0, 76.0, 63.0, 59.0, 48.0, 80.0, 72.0, 73.0, 49.0, 80.0, 79.0, 77.0, 69.0, 77.0, 65.0, 66.0, 78.0, 30.0, 28.0, 14.0, 77.0, 63.0, 57.0, 54.0, 80.0, 70.0, 66.0, 41.0, 77.0, 48.0, 35.0, 32.0, 80.0, 38.0, 38.0, 34.0, 80.0, 65.0, 66.0, 66.0, 78.0, 66.0, 75.0, 53.0, 71.0, 34.0, 32.0, 31.0, 80.0, 71.0, 79.0, 71.0, 78.0, 46.0, 46.0, 34.0, 79.0, 73.0, 75.0, 50.0, 73.0, 55.0, 49.0, 36.0, 80.0, 80.0, 80.0, 60.0, 76.0, 47.0, 43.0, 40.0, 72.0, 57.0, 48.0, 19.0, 77.0, 65.0, 61.0, 51.0, 77.0, 44.0, 44.0, 28.0, 74.0, 49.0, 51.0, 40.0, 79.0, 49.0, 49.0, 33.0, 80.0, 65.0, 51.0, 43.0, 75.0, 56.0, 37.0, 32.0, 71.0, 69.0, 63.0, 34.0, 75.0, 60.0, 60.0, 43.0, 80.0, 39.0, 36.0, 23.0, 78.0, 56.0, 58.0, 15.0, 77.0, 52.0, 49.0, 33.0, 80.0, 72.0, 68.0, 65.0, 77.0, 74.0, 66.0, 61.0, 78.0, 64.0, 70.0, 38.0, 78.0, 55.0, 59.0, 53.0, 78.0, 59.0, 51.0, 42.0, 77.0, 54.0, 54.0, 39.0, 71.0, 66.0, 74.0, 64.0, 78.0, 65.0, 65.0, 56.0, 80.0, 62.0, 60.0, 37.0, 80.0, 78.0, 70.0, 63.0, 74.0, 47.0, 47.0, 46.0, 78.0, 52.0, 52.0, 29.0, 80.0, 78.0, 76.0, 74.0, 80.0, 64.0, 49.0, 35.0, 77.0, 63.0, 58.0, 58.0, 77.0, 69.0, 64.0, 38.0, 75.0, 69.0, 69.0, 58.0, 79.0, 67.0, 67.0, 32.0, 80.0, 61.0, 62.0, 62.0, 78.0, 67.0, 59.0, 35.0, 74.0, 56.0, 54.0, 38.0, 77.0, 76.0, 79.0, 60.0, 80.0, 61.0, 58.0, 30.0, 74.0, 54.0, 47.0, 31.0, 73.0, 47.0, 45.0, 42.0, 79.0, 62.0, 63.0, 59.0, 80.0, 74.0, 75.0, 74.0, 71.0, 65.0, 65.0, 45.0, 75.0, 66.0, 55.0, 31.0, 67.0, 24.0, 24.0, 78.0, 48.0, 51.0, 42.0, 73.0, 42.0, 36.0, 44.0, 79.0, 54.0, 61.0, 44.0, 77.0, 67.0, 70.0, 58.0, 80.0, 62.0, 62.0, 52.0, 78.0, 42.0, 38.0, 42.0, 80.0, 72.0, 72.0, 52.0, 78.0, 73.0, 73.0, 43.0, 77.0, 51.0, 40.0, 38.0, 74.0, 53.0, 56.0, 51.0, 76.0, 75.0, 75.0, 60.0, 69.0, 39.0, 38.0, 32.0, 78.0, 72.0, 66.0, 67.0, 78.0, 68.0, 59.0, 54.0, 73.0, 64.0, 65.0, 25.0, 80.0, 80.0, 80.0, 80.0, 75.0, 47.0, 44.0, 40.0, 80.0, 77.0, 78.0, 47.0, 79.0, 70.0, 69.0, 45.0, 80.0, 64.0, 66.0, 51.0, 77.0, 77.0, 78.0, 68.0, 79.0, 57.0, 58.0, 53.0, 80.0, 60.0, 52.0, 46.0, 74.0, 64.0, 59.0, 78.0, 52.0, 45.0, 44.0, 78.0, 43.0, 37.0, 34.0, 73.0, 48.0, 44.0, 31.0, 80.0, 61.0, 62.0, 58.0, 80.0, 73.0, 59.0, 39.0, 76.0, 43.0, 56.0, 39.0, 75.0, 52.0, 44.0, 24.0, 78.0, 33.0, 30.0, 24.0, 79.0, 69.0, 69.0, 58.0, 78.0, 52.0, 54.0, 27.0, 77.0, 68.0, 61.0, 54.0, 77.0, 72.0, 68.0, 68.0, 79.0, 61.0, 58.0, 57.0, 78.0, 68.0, 68.0, 48.0, 76.0, 79.0, 79.0, 72.0, 79.0, 73.0, 70.0, 79.0, 65.0, 69.0, 57.0, 76.0, 52.0, 37.0, 30.0, 68.0, 51.0, 41.0, 31.0, 79.0, 73.0, 71.0, 37.0, 77.0, 65.0, 67.0, 63.0, 79.0, 80.0, 75.0, 80.0, 74.0, 68.0, 53.0, 29.0, 70.0, 51.0, 54.0, 51.0, 79.0, 65.0, 64.0, 63.0, 78.0, 46.0, 49.0, 34.0, 74.0, 54.0, 47.0, 50.0, 80.0, 57.0, 44.0, 30.0, 72.0, 61.0, 56.0, 55.0, 80.0, 52.0, 45.0, 30.0, 77.0, 68.0, 69.0, 56.0, 76.0, 43.0, 33.0, 33.0, 80.0, 49.0, 55.0, 47.0, 76.0, 76.0, 73.0, 59.0, 78.0, 64.0, 64.0, 56.0, 78.0, 67.0, 68.0, 51.0, 75.0, 43.0, 45.0, 32.0, 79.0, 54.0, 53.0, 40.0, 75.0, 76.0, 76.0, 65.0, 77.0, 66.0, 62.0, 45.0, 73.0, 55.0, 55.0, 44.0, 76.0, 46.0, 46.0, 37.0, 74.0, 66.0, 72.0, 58.0, 80.0, 79.0, 76.0, 63.0, 73.0, 55.0, 56.0, 38.0, 76.0, 51.0, 40.0, 45.0, 74.0, 34.0, 35.0, 33.0, 80.0, 59.0, 59.0, 40.0, 79.0, 68.0, 62.0, 44.0, 74.0, 48.0, 40.0, 41.0, 80.0, 66.0, 62.0, 33.0, 78.0, 62.0, 61.0, 48.0, 78.0, 73.0, 71.0, 69.0, 77.0, 68.0, 63.0, 51.0, 80.0, 80.0, 68.0, 72.0, 80.0, 80.0, 80.0, 63.0, 74.0, 54.0, 37.0, 30.0, 77.0, 56.0, 42.0, 29.0, 80.0, 57.0, 59.0, 46.0, 74.0, 68.0, 60.0, 61.0, 80.0, 76.0, 75.0, 73.0, 74.0, 54.0, 54.0, 49.0, 79.0, 77.0, 75.0, 74.0, 75.0, 72.0, 78.0, 50.0, 74.0, 57.0, 57.0, 47.0, 80.0, 78.0, 76.0, 74.0, 76.0, 73.0, 74.0, 75.0, 79.0, 62.0, 57.0, 43.0, 80.0, 66.0, 60.0, 61.0, 76.0, 65.0, 53.0, 37.0, 74.0, 69.0, 66.0, 57.0, 77.0, 76.0, 74.0, 57.0, 75.0, 71.0, 71.0, 65.0, 78.0, 72.0, 70.0, 41.0, 80.0, 72.0, 78.0, 51.0, 75.0, 49.0, 46.0, 46.0, 80.0, 79.0, 52.0, 76.0, 80.0, 78.0, 59.0, 79.0, 72.0, 77.0, 74.0, 75.0, 64.0, 62.0, 60.0, 75.0, 73.0, 67.0, 37.0, 80.0, 74.0, 73.0, 50.0, 73.0, 41.0, 38.0, 39.0, 78.0, 70.0, 77.0, 57.0, 78.0, 75.0, 76.0, 54.0, 80.0, 61.0, 51.0, 41.0, 80.0, 75.0, 76.0, 61.0, 73.0, 69.0, 63.0, 65.0, 79.0, 73.0, 72.0, 62.0, 74.0, 59.0, 63.0, 51.0, 77.0, 65.0, 61.0, 42.0, 78.0, 73.0, 63.0, 48.0, 78.0, 69.0, 63.0, 32.0, 79.0, 73.0, 67.0, 49.0, 76.0, 72.0, 61.0, 43.0, 78.0, 47.0, 49.0, 28.0, 73.0, 66.0, 56.0, 50.0, 80.0, 58.0, 57.0, 44.0, 78.0, 67.0, 65.0, 38.0, 80.0, 35.0, 31.0, 18.0, 77.0, 56.0, 58.0, 36.0, 78.0, 78.0, 78.0, 49.0, 80.0, 58.0, 58.0, 54.0, 80.0, 57.0, 62.0, 62.0, 78.0, 79.0, 76.0, 75.0, 78.0, 76.0, 75.0, 57.0, 73.0, 37.0, 36.0, 26.0, 80.0, 47.0, 41.0, 13.0, 74.0, 49.0, 62.0, 44.0, 80.0, 76.0, 78.0, 77.0, 80.0, 68.0, 66.0, 67.0, 80.0, 70.0, 69.0, 56.0, 80.0, 67.0, 61.0, 57.0, 80.0, 65.0, 65.0, 61.0, 76.0, 60.0, 45.0, 39.0, 77.0, 55.0, 57.0, 80.0, 71.0, 72.0, 57.0, 77.0, 74.0, 70.0, 53.0, 79.0, 70.0, 60.0, 51.0, 80.0, 52.0, 52.0, 44.0, 76.0, 57.0, 63.0, 59.0, 80.0, 73.0, 73.0, 73.0, 73.0, 39.0, 39.0, 19.0, 76.0, 48.0, 49.0, 79.0, 73.0, 78.0, 71.0, 80.0, 58.0, 65.0, 35.0, 77.0, 60.0, 61.0, 53.0, 76.0, 47.0, 42.0, 42.0, 80.0, 72.0, 73.0, 67.0, 80.0, 53.0, 53.0, 44.0, 73.0, 63.0, 64.0, 44.0, 70.0, 51.0, 23.0, 22.0, 79.0, 44.0, 43.0, 33.0]\n"
     ]
    },
    {
     "data": {
      "text/plain": [
       "\"\\nfor img in sorted(os.listdir(path)):  \\n    img_array = cv2.imread(os.path.join(path,img) ,cv2.IMREAD_GRAYSCALE)  # convert to array\\n    img_array = cv2.resize(img_array, (400, 400))\\n    #thresh = 170\\n    # assign blue channel to zeros\\n    #img_array = cv2.threshold(img_array, thresh, 255, cv2.THRESH_BINARY)[1]\\n    #plt.imshow(img_array, cmap='gray')  # graph it\\n    #plt.show()  # display!\\n    img = img.strip('.png')\\n    #img = img.strip('insight46_Page_')\\n    #print(img)\\n    #print(trainys[i])\\n    i = i + 1\\n    y.append(img)\\n#print(y)\\n#print(img_array)\\n\""
      ]
     },
     "execution_count": 44,
     "metadata": {},
     "output_type": "execute_result"
    }
   ],
   "source": [
    "import numpy as np\n",
    "import matplotlib.pyplot as plt\n",
    "import os\n",
    "import cv2\n",
    "from tqdm import tqdm\n",
    "\n",
    "import csv\n",
    "\n",
    "with open(r\"C:\\Users\\Tom\\Desktop\\MEng-Project\\insight46labels.csv\", newline='') as csvfile:\n",
    "    data = list(csv.reader(csvfile))\n",
    "    trainystr = data[0]\n",
    "trainys = [float(i) for i in trainystr]\n",
    "print(trainys)\n",
    "\n",
    "path = r\"C:\\Users\\Tom\\Desktop\\MEng-Project\\insight46png\"\n",
    "y = []\n",
    "#path = os.path.join(DATADIR,category)  \n",
    "i = 0\n",
    "'''\n",
    "for img in sorted(os.listdir(path)):  \n",
    "    img_array = cv2.imread(os.path.join(path,img) ,cv2.IMREAD_GRAYSCALE)  # convert to array\n",
    "    img_array = cv2.resize(img_array, (400, 400))\n",
    "    #thresh = 170\n",
    "    # assign blue channel to zeros\n",
    "    #img_array = cv2.threshold(img_array, thresh, 255, cv2.THRESH_BINARY)[1]\n",
    "    #plt.imshow(img_array, cmap='gray')  # graph it\n",
    "    #plt.show()  # display!\n",
    "    img = img.strip('.png')\n",
    "    #img = img.strip('insight46_Page_')\n",
    "    #print(img)\n",
    "    #print(trainys[i])\n",
    "    i = i + 1\n",
    "    y.append(img)\n",
    "#print(y)\n",
    "#print(img_array)\n",
    "'''\n",
    "\n",
    "    "
   ]
  },
  {
   "cell_type": "code",
   "execution_count": 45,
   "metadata": {
    "colab": {
     "base_uri": "https://localhost:8080/",
     "height": 34
    },
    "colab_type": "code",
    "id": "rET88HfJZSJM",
    "outputId": "4731e728-a53e-433a-e66b-9cad79dfbea1"
   },
   "outputs": [
    {
     "name": "stderr",
     "output_type": "stream",
     "text": [
      "100%|███████████████████████████████████████| 991/991 [00:05<00:00, 198.18it/s]\n"
     ]
    }
   ],
   "source": [
    "trainxs = []\n",
    "trainys = []\n",
    "\n",
    "for img in tqdm(sorted(os.listdir(path))):  # iterate over each image per point value\n",
    "    img_array = cv2.imread(os.path.join(path,img) ,cv2.IMREAD_GRAYSCALE)  # convert to array\n",
    "    thresh = 170\n",
    "    # assign blue channel to zeros\n",
    "    img_array = cv2.threshold(img_array, thresh, 255, cv2.THRESH_BINARY)[1]\n",
    "    image = cv2.resize(img_array, (150, 150))\n",
    "    image = cv2.bitwise_not(image)\n",
    "    trainxs.append(image)  # add this to our training_data\n",
    "    img = img.strip('b.png')\n",
    "    #trainys.append(float(img))\n",
    "trainxs = np.array(trainxs, dtype=\"float\") / 255.0\n",
    "#trainys = np.array(trainys)"
   ]
  },
  {
   "cell_type": "code",
   "execution_count": 46,
   "metadata": {
    "colab": {
     "base_uri": "https://localhost:8080/",
     "height": 286
    },
    "colab_type": "code",
    "id": "P8kiJxiAkLoT",
    "outputId": "fe330c1b-d37e-4ccd-ff61-0b277ee99d5d"
   },
   "outputs": [
    {
     "data": {
      "text/plain": [
       "<matplotlib.image.AxesImage at 0x2715a86ac48>"
      ]
     },
     "execution_count": 46,
     "metadata": {},
     "output_type": "execute_result"
    },
    {
     "data": {
      "image/png": "[encoded data removed]",
      "text/plain": [
       "<Figure size 700x500 with 1 Axes>"
      ]
     },
     "metadata": {
      "needs_background": "light"
     },
     "output_type": "display_data"
    }
   ],
   "source": [
    "plt.imshow(trainxs[1], cmap='gray')"
   ]
  },
  {
   "cell_type": "code",
   "execution_count": 47,
   "metadata": {
    "colab": {
     "base_uri": "https://localhost:8080/",
     "height": 54
    },
    "colab_type": "code",
    "id": "cRmOpL0-fOYS",
    "outputId": "81e0afc4-0278-4d65-a90e-b95121fd9e0f"
   },
   "outputs": [
    {
     "name": "stdout",
     "output_type": "stream",
     "text": [
      "[80.0, 57.0, 49.0, 6.0, 60.0, 44.0, 45.0, 37.0, 80.0, 69.0, 65.0, 64.0, 80.0, 46.0, 46.0, 79.0, 71.0, 68.0, 67.0, 76.0, 68.0, 74.0, 59.0, 75.0, 59.0, 64.0, 55.0, 78.0, 61.0, 60.0, 26.0, 76.0, 57.0, 50.0, 35.0, 79.0, 63.0, 64.0, 59.0, 79.0, 49.0, 49.0, 27.0, 80.0, 62.0, 74.0, 72.0, 80.0, 80.0, 80.0, 75.0, 77.0, 30.0, 23.0, 80.0, 72.0, 69.0, 67.0, 80.0, 69.0, 64.0, 60.0, 78.0, 72.0, 72.0, 51.0, 78.0, 56.0, 62.0, 32.0, 76.0, 54.0, 65.0, 21.0, 73.0, 56.0, 48.0, 34.0, 73.0, 41.0, 38.0, 34.0, 80.0, 71.0, 72.0, 65.0, 75.0, 49.0, 42.0, 27.0, 78.0, 47.0, 54.0, 36.0, 76.0, 53.0, 55.0, 44.0, 80.0, 68.0, 66.0, 60.0, 80.0, 78.0, 78.0, 58.0, 76.0, 66.0, 63.0, 57.0, 76.0, 69.0, 71.0, 49.0, 79.0, 79.0, 74.0, 76.0, 78.0, 58.0, 55.0, 44.0, 80.0, 62.0, 64.0, 51.0, 79.0, 37.0, 39.0, 45.0, 76.0, 63.0, 59.0, 48.0, 80.0, 72.0, 73.0, 49.0, 80.0, 79.0, 77.0, 69.0, 77.0, 65.0, 66.0, 78.0, 30.0, 28.0, 14.0, 77.0, 63.0, 57.0, 54.0, 80.0, 70.0, 66.0, 41.0, 77.0, 48.0, 35.0, 32.0, 80.0, 38.0, 38.0, 34.0, 80.0, 65.0, 66.0, 66.0, 78.0, 66.0, 75.0, 53.0, 71.0, 34.0, 32.0, 31.0, 80.0, 71.0, 79.0, 71.0, 78.0, 46.0, 46.0, 34.0, 79.0, 73.0, 75.0, 50.0, 73.0, 55.0, 49.0, 36.0, 80.0, 80.0, 80.0, 60.0, 76.0, 47.0, 43.0, 40.0, 72.0, 57.0, 48.0, 19.0, 77.0, 65.0, 61.0, 51.0, 77.0, 44.0, 44.0, 28.0, 74.0, 49.0, 51.0, 40.0, 79.0, 49.0, 49.0, 33.0, 80.0, 65.0, 51.0, 43.0, 75.0, 56.0, 37.0, 32.0, 71.0, 69.0, 63.0, 34.0, 75.0, 60.0, 60.0, 43.0, 80.0, 39.0, 36.0, 23.0, 78.0, 56.0, 58.0, 15.0, 77.0, 52.0, 49.0, 33.0, 80.0, 72.0, 68.0, 65.0, 77.0, 74.0, 66.0, 61.0, 78.0, 64.0, 70.0, 38.0, 78.0, 55.0, 59.0, 53.0, 78.0, 59.0, 51.0, 42.0, 77.0, 54.0, 54.0, 39.0, 71.0, 66.0, 74.0, 64.0, 78.0, 65.0, 65.0, 56.0, 80.0, 62.0, 60.0, 37.0, 80.0, 78.0, 70.0, 63.0, 74.0, 47.0, 47.0, 46.0, 78.0, 52.0, 52.0, 29.0, 80.0, 78.0, 76.0, 74.0, 80.0, 64.0, 49.0, 35.0, 77.0, 63.0, 58.0, 58.0, 77.0, 69.0, 64.0, 38.0, 75.0, 69.0, 69.0, 58.0, 79.0, 67.0, 67.0, 32.0, 80.0, 61.0, 62.0, 62.0, 78.0, 67.0, 59.0, 35.0, 74.0, 56.0, 54.0, 38.0, 77.0, 76.0, 79.0, 60.0, 80.0, 61.0, 58.0, 30.0, 74.0, 54.0, 47.0, 31.0, 73.0, 47.0, 45.0, 42.0, 79.0, 62.0, 63.0, 59.0, 80.0, 74.0, 75.0, 74.0, 71.0, 65.0, 65.0, 45.0, 75.0, 66.0, 55.0, 31.0, 67.0, 24.0, 24.0, 78.0, 48.0, 51.0, 42.0, 73.0, 42.0, 36.0, 44.0, 79.0, 54.0, 61.0, 44.0, 77.0, 67.0, 70.0, 58.0, 80.0, 62.0, 62.0, 52.0, 78.0, 42.0, 38.0, 42.0, 80.0, 72.0, 72.0, 52.0, 78.0, 73.0, 73.0, 43.0, 77.0, 51.0, 40.0, 38.0, 74.0, 53.0, 56.0, 51.0, 76.0, 75.0, 75.0, 60.0, 69.0, 39.0, 38.0, 32.0, 78.0, 72.0, 66.0, 67.0, 78.0, 68.0, 59.0, 54.0, 73.0, 64.0, 65.0, 25.0, 80.0, 80.0, 80.0, 80.0, 75.0, 47.0, 44.0, 40.0, 80.0, 77.0, 78.0, 47.0, 79.0, 70.0, 69.0, 45.0, 80.0, 64.0, 66.0, 51.0, 77.0, 77.0, 78.0, 68.0, 79.0, 57.0, 58.0, 53.0, 80.0, 60.0, 52.0, 46.0, 74.0, 64.0, 59.0, 78.0, 52.0, 45.0, 44.0, 78.0, 43.0, 37.0, 34.0, 73.0, 48.0, 44.0, 31.0, 80.0, 61.0, 62.0, 58.0, 80.0, 73.0, 59.0, 39.0, 76.0, 43.0, 56.0, 39.0, 75.0, 52.0, 44.0, 24.0, 78.0, 33.0, 30.0, 24.0, 79.0, 69.0, 69.0, 58.0, 78.0, 52.0, 54.0, 27.0, 77.0, 68.0, 61.0, 54.0, 77.0, 72.0, 68.0, 68.0, 79.0, 61.0, 58.0, 57.0, 78.0, 68.0, 68.0, 48.0, 76.0, 79.0, 79.0, 72.0, 79.0, 73.0, 70.0, 79.0, 65.0, 69.0, 57.0, 76.0, 52.0, 37.0, 30.0, 68.0, 51.0, 41.0, 31.0, 79.0, 73.0, 71.0, 37.0, 77.0, 65.0, 67.0, 63.0, 79.0, 80.0, 75.0, 80.0, 74.0, 68.0, 53.0, 29.0, 70.0, 51.0, 54.0, 51.0, 79.0, 65.0, 64.0, 63.0, 78.0, 46.0, 49.0, 34.0, 74.0, 54.0, 47.0, 50.0, 80.0, 57.0, 44.0, 30.0, 72.0, 61.0, 56.0, 55.0, 80.0, 52.0, 45.0, 30.0, 77.0, 68.0, 69.0, 56.0, 76.0, 43.0, 33.0, 33.0, 80.0, 49.0, 55.0, 47.0, 76.0, 76.0, 73.0, 59.0, 78.0, 64.0, 64.0, 56.0, 78.0, 67.0, 68.0, 51.0, 75.0, 43.0, 45.0, 32.0, 79.0, 54.0, 53.0, 40.0, 75.0, 76.0, 76.0, 65.0, 77.0, 66.0, 62.0, 45.0, 73.0, 55.0, 55.0, 44.0, 76.0, 46.0, 46.0, 37.0, 74.0, 66.0, 72.0, 58.0, 80.0, 79.0, 76.0, 63.0, 73.0, 55.0, 56.0, 38.0, 76.0, 51.0, 40.0, 45.0, 74.0, 34.0, 35.0, 33.0, 80.0, 59.0, 59.0, 40.0, 79.0, 68.0, 62.0, 44.0, 74.0, 48.0, 40.0, 41.0, 80.0, 66.0, 62.0, 33.0, 78.0, 62.0, 61.0, 48.0, 78.0, 73.0, 71.0, 69.0, 77.0, 68.0, 63.0, 51.0, 80.0, 80.0, 68.0, 72.0, 80.0, 80.0, 80.0, 63.0, 74.0, 54.0, 37.0, 30.0, 77.0, 56.0, 42.0, 29.0, 80.0, 57.0, 59.0, 46.0, 74.0, 68.0, 60.0, 61.0, 80.0, 76.0, 75.0, 73.0, 74.0, 54.0, 54.0, 49.0, 79.0, 77.0, 75.0, 74.0, 75.0, 72.0, 78.0, 50.0, 74.0, 57.0, 57.0, 47.0, 80.0, 78.0, 76.0, 74.0, 76.0, 73.0, 74.0, 75.0, 79.0, 62.0, 57.0, 43.0, 80.0, 66.0, 60.0, 61.0, 76.0, 65.0, 53.0, 37.0, 74.0, 69.0, 66.0, 57.0, 77.0, 76.0, 74.0, 57.0, 75.0, 71.0, 71.0, 65.0, 78.0, 72.0, 70.0, 41.0, 80.0, 72.0, 78.0, 51.0, 75.0, 49.0, 46.0, 46.0, 80.0, 79.0, 52.0, 76.0, 80.0, 78.0, 59.0, 79.0, 72.0, 77.0, 74.0, 75.0, 64.0, 62.0, 60.0, 75.0, 73.0, 67.0, 37.0, 80.0, 74.0, 73.0, 50.0, 73.0, 41.0, 38.0, 39.0, 78.0, 70.0, 77.0, 57.0, 78.0, 75.0, 76.0, 54.0, 80.0, 61.0, 51.0, 41.0, 80.0, 75.0, 76.0, 61.0, 73.0, 69.0, 63.0, 65.0, 79.0, 73.0, 72.0, 62.0, 74.0, 59.0, 63.0, 51.0, 77.0, 65.0, 61.0, 42.0, 78.0, 73.0, 63.0, 48.0, 78.0, 69.0, 63.0, 32.0, 79.0, 73.0, 67.0, 49.0, 76.0, 72.0, 61.0, 43.0, 78.0, 47.0, 49.0, 28.0, 73.0, 66.0, 56.0, 50.0, 80.0, 58.0, 57.0, 44.0, 78.0, 67.0, 65.0, 38.0, 80.0, 35.0, 31.0, 18.0, 77.0, 56.0, 58.0, 36.0, 78.0, 78.0, 78.0, 49.0, 80.0, 58.0, 58.0, 54.0, 80.0, 57.0, 62.0, 62.0, 78.0, 79.0, 76.0, 75.0, 78.0, 76.0, 75.0, 57.0, 73.0, 37.0, 36.0, 26.0, 80.0, 47.0, 41.0, 13.0, 74.0, 49.0, 62.0, 44.0, 80.0, 76.0, 78.0, 77.0, 80.0, 68.0, 66.0, 67.0, 80.0, 70.0, 69.0, 56.0, 80.0, 67.0, 61.0, 57.0, 80.0, 65.0, 65.0, 61.0, 76.0, 60.0, 45.0, 39.0, 77.0, 55.0, 57.0, 80.0, 71.0, 72.0, 57.0, 77.0, 74.0, 70.0, 53.0, 79.0, 70.0, 60.0, 51.0, 80.0, 52.0, 52.0, 44.0, 76.0, 57.0, 63.0, 59.0, 80.0, 73.0, 73.0, 73.0, 73.0, 39.0, 39.0, 19.0, 76.0, 48.0, 49.0, 79.0, 73.0, 78.0, 71.0, 80.0, 58.0, 65.0, 35.0, 77.0, 60.0, 61.0, 53.0, 76.0, 47.0, 42.0, 42.0, 80.0, 72.0, 73.0, 67.0, 80.0, 53.0, 53.0, 44.0, 73.0, 63.0, 64.0, 44.0, 70.0, 51.0, 23.0, 22.0, 79.0, 44.0, 43.0, 33.0]\n"
     ]
    }
   ],
   "source": [
    "import csv\n",
    "\n",
    "with open(r\"C:\\Users\\Tom\\Desktop\\MEng-Project\\insight46labels.csv\", newline='') as csvfile:\n",
    "    data = list(csv.reader(csvfile))\n",
    "    trainystr = data[0]\n",
    "trainys = [float(i) for i in trainystr]\n",
    "print(trainys)"
   ]
  },
  {
   "cell_type": "code",
   "execution_count": 48,
   "metadata": {
    "colab": {
     "base_uri": "https://localhost:8080/",
     "height": 460
    },
    "colab_type": "code",
    "id": "HaiwOCsLocs7",
    "outputId": "48f1390d-983c-424d-ba50-722fb73c8686"
   },
   "outputs": [
    {
     "data": {
      "image/png": "[encoded data removed]",
      "text/plain": [
       "<Figure size 700x500 with 1 Axes>"
      ]
     },
     "metadata": {
      "needs_background": "light"
     },
     "output_type": "display_data"
    }
   ],
   "source": [
    "import matplotlib.pyplot as plt\n",
    "%matplotlib inline\n",
    "plt.rcParams.update({'figure.figsize':(7,5), 'figure.dpi':100})\n",
    "\n",
    "# Plot Histogram on x\n",
    "plt.hist(trainys, bins=20)\n",
    "plt.gca().set(title='Frequency Histogram', ylabel='Frequency');"
   ]
  },
  {
   "cell_type": "code",
   "execution_count": 49,
   "metadata": {
    "colab": {
     "base_uri": "https://localhost:8080/",
     "height": 34
    },
    "colab_type": "code",
    "id": "GW2PuvZrlE6A",
    "outputId": "9d11d5c8-b4f8-4134-b4f4-3aabbb5e4bcc"
   },
   "outputs": [
    {
     "data": {
      "text/plain": [
       "(991, 150, 150)"
      ]
     },
     "execution_count": 49,
     "metadata": {},
     "output_type": "execute_result"
    }
   ],
   "source": [
    "trainxs.shape"
   ]
  },
  {
   "cell_type": "code",
   "execution_count": 50,
   "metadata": {
    "colab": {},
    "colab_type": "code",
    "id": "1ssX8tR_nAS7"
   },
   "outputs": [],
   "source": [
    "for i,y in enumerate(trainys):\n",
    "    if trainys[i] > 60:\n",
    "        trainys[i] = 3\n",
    "    elif trainys[i] <=60 and trainys[i] >40:\n",
    "        trainys[i] = 2\n",
    "    elif trainys[i] <=40 and trainys[i] >20:\n",
    "        trainys[i] = 1\n",
    "    else:\n",
    "        trainys[i] = 0\n",
    "\n"
   ]
  },
  {
   "cell_type": "code",
   "execution_count": 51,
   "metadata": {
    "colab": {
     "base_uri": "https://localhost:8080/",
     "height": 54
    },
    "colab_type": "code",
    "id": "By4BJQPQqt9O",
    "outputId": "d4c56544-c44d-47b2-daeb-8989c534f54e"
   },
   "outputs": [
    {
     "name": "stdout",
     "output_type": "stream",
     "text": [
      "[3, 2, 2, 0, 2, 2, 2, 1, 3, 3, 3, 3, 3, 2, 2, 3, 3, 3, 3, 3, 3, 3, 2, 3, 2, 3, 2, 3, 3, 2, 1, 3, 2, 2, 1, 3, 3, 3, 2, 3, 2, 2, 1, 3, 3, 3, 3, 3, 3, 3, 3, 3, 1, 1, 3, 3, 3, 3, 3, 3, 3, 2, 3, 3, 3, 2, 3, 2, 3, 1, 3, 2, 3, 1, 3, 2, 2, 1, 3, 2, 1, 1, 3, 3, 3, 3, 3, 2, 2, 1, 3, 2, 2, 1, 3, 2, 2, 2, 3, 3, 3, 2, 3, 3, 3, 2, 3, 3, 3, 2, 3, 3, 3, 2, 3, 3, 3, 3, 3, 2, 2, 2, 3, 3, 3, 2, 3, 1, 1, 2, 3, 3, 2, 2, 3, 3, 3, 2, 3, 3, 3, 3, 3, 3, 3, 3, 1, 1, 0, 3, 3, 2, 2, 3, 3, 3, 2, 3, 2, 1, 1, 3, 1, 1, 1, 3, 3, 3, 3, 3, 3, 3, 2, 3, 1, 1, 1, 3, 3, 3, 3, 3, 2, 2, 1, 3, 3, 3, 2, 3, 2, 2, 1, 3, 3, 3, 2, 3, 2, 2, 1, 3, 2, 2, 0, 3, 3, 3, 2, 3, 2, 2, 1, 3, 2, 2, 1, 3, 2, 2, 1, 3, 3, 2, 2, 3, 2, 1, 1, 3, 3, 3, 1, 3, 2, 2, 2, 3, 1, 1, 1, 3, 2, 2, 0, 3, 2, 2, 1, 3, 3, 3, 3, 3, 3, 3, 3, 3, 3, 3, 1, 3, 2, 2, 2, 3, 2, 2, 2, 3, 2, 2, 1, 3, 3, 3, 3, 3, 3, 3, 2, 3, 3, 2, 1, 3, 3, 3, 3, 3, 2, 2, 2, 3, 2, 2, 1, 3, 3, 3, 3, 3, 3, 2, 1, 3, 3, 2, 2, 3, 3, 3, 1, 3, 3, 3, 2, 3, 3, 3, 1, 3, 3, 3, 3, 3, 3, 2, 1, 3, 2, 2, 1, 3, 3, 3, 2, 3, 3, 2, 1, 3, 2, 2, 1, 3, 2, 2, 2, 3, 3, 3, 2, 3, 3, 3, 3, 3, 3, 3, 2, 3, 3, 2, 1, 3, 1, 1, 3, 2, 2, 2, 3, 2, 1, 2, 3, 2, 3, 2, 3, 3, 3, 2, 3, 3, 3, 2, 3, 2, 1, 2, 3, 3, 3, 2, 3, 3, 3, 2, 3, 2, 1, 1, 3, 2, 2, 2, 3, 3, 3, 2, 3, 1, 1, 1, 3, 3, 3, 3, 3, 3, 2, 2, 3, 3, 3, 1, 3, 3, 3, 3, 3, 2, 2, 1, 3, 3, 3, 2, 3, 3, 3, 2, 3, 3, 3, 2, 3, 3, 3, 3, 3, 2, 2, 2, 3, 2, 2, 2, 3, 3, 2, 3, 2, 2, 2, 3, 2, 1, 1, 3, 2, 2, 1, 3, 3, 3, 2, 3, 3, 2, 1, 3, 2, 2, 1, 3, 2, 2, 1, 3, 1, 1, 1, 3, 3, 3, 2, 3, 2, 2, 1, 3, 3, 3, 2, 3, 3, 3, 3, 3, 3, 2, 2, 3, 3, 3, 2, 3, 3, 3, 3, 3, 3, 3, 3, 3, 3, 2, 3, 2, 1, 1, 3, 2, 2, 1, 3, 3, 3, 1, 3, 3, 3, 3, 3, 3, 3, 3, 3, 3, 2, 1, 3, 2, 2, 2, 3, 3, 3, 3, 3, 2, 2, 1, 3, 2, 2, 2, 3, 2, 2, 1, 3, 3, 2, 2, 3, 2, 2, 1, 3, 3, 3, 2, 3, 2, 1, 1, 3, 2, 2, 2, 3, 3, 3, 2, 3, 3, 3, 2, 3, 3, 3, 2, 3, 2, 2, 1, 3, 2, 2, 1, 3, 3, 3, 3, 3, 3, 3, 2, 3, 2, 2, 2, 3, 2, 2, 1, 3, 3, 3, 2, 3, 3, 3, 3, 3, 2, 2, 1, 3, 2, 1, 2, 3, 1, 1, 1, 3, 2, 2, 1, 3, 3, 3, 2, 3, 2, 1, 2, 3, 3, 3, 1, 3, 3, 3, 2, 3, 3, 3, 3, 3, 3, 3, 2, 3, 3, 3, 3, 3, 3, 3, 3, 3, 2, 1, 1, 3, 2, 2, 1, 3, 2, 2, 2, 3, 3, 2, 3, 3, 3, 3, 3, 3, 2, 2, 2, 3, 3, 3, 3, 3, 3, 3, 2, 3, 2, 2, 2, 3, 3, 3, 3, 3, 3, 3, 3, 3, 3, 2, 2, 3, 3, 2, 3, 3, 3, 2, 1, 3, 3, 3, 2, 3, 3, 3, 2, 3, 3, 3, 3, 3, 3, 3, 2, 3, 3, 3, 2, 3, 2, 2, 2, 3, 3, 2, 3, 3, 3, 2, 3, 3, 3, 3, 3, 3, 3, 2, 3, 3, 3, 1, 3, 3, 3, 2, 3, 2, 1, 1, 3, 3, 3, 2, 3, 3, 3, 2, 3, 3, 2, 2, 3, 3, 3, 3, 3, 3, 3, 3, 3, 3, 3, 3, 3, 2, 3, 2, 3, 3, 3, 2, 3, 3, 3, 2, 3, 3, 3, 1, 3, 3, 3, 2, 3, 3, 3, 2, 3, 2, 2, 1, 3, 3, 2, 2, 3, 2, 2, 2, 3, 3, 3, 1, 3, 1, 1, 0, 3, 2, 2, 1, 3, 3, 3, 2, 3, 2, 2, 2, 3, 2, 3, 3, 3, 3, 3, 3, 3, 3, 3, 2, 3, 1, 1, 1, 3, 2, 2, 0, 3, 2, 3, 2, 3, 3, 3, 3, 3, 3, 3, 3, 3, 3, 3, 2, 3, 3, 3, 2, 3, 3, 3, 3, 3, 2, 2, 1, 3, 2, 2, 3, 3, 3, 2, 3, 3, 3, 2, 3, 3, 2, 2, 3, 2, 2, 2, 3, 2, 3, 2, 3, 3, 3, 3, 3, 1, 1, 0, 3, 2, 2, 3, 3, 3, 3, 3, 2, 3, 1, 3, 2, 3, 2, 3, 2, 2, 2, 3, 3, 3, 3, 3, 2, 2, 2, 3, 3, 3, 2, 3, 2, 1, 1, 3, 2, 2, 1]\n"
     ]
    }
   ],
   "source": [
    "print(trainys)"
   ]
  },
  {
   "cell_type": "code",
   "execution_count": 52,
   "metadata": {
    "colab": {
     "base_uri": "https://localhost:8080/",
     "height": 523
    },
    "colab_type": "code",
    "id": "LbwGfgsqrHBx",
    "outputId": "094fdf21-da52-4540-befd-273627f492fe"
   },
   "outputs": [
    {
     "name": "stdout",
     "output_type": "stream",
     "text": [
      "[0. 0. 1. 0.]\n"
     ]
    },
    {
     "data": {
      "image/png": "[encoded data removed]",
      "text/plain": [
       "<Figure size 700x500 with 1 Axes>"
      ]
     },
     "metadata": {
      "needs_background": "light"
     },
     "output_type": "display_data"
    }
   ],
   "source": [
    "from __future__ import print_function\n",
    "import keras\n",
    "from keras.models import Sequential\n",
    "from keras.layers import Dense, Dropout, Flatten\n",
    "from keras.layers import Conv2D, MaxPooling2D\n",
    "from keras import backend as K\n",
    "\n",
    "batch_size = 1\n",
    "epochs = 15\n",
    "\n",
    "# input image dimensions\n",
    "img_rows, img_cols = 150, 150\n",
    "\n",
    "\n",
    "import numpy as np\n",
    "import matplotlib.pyplot as plt\n",
    "import os\n",
    "import cv2\n",
    "from tqdm import tqdm\n",
    "import csv\n",
    "from sklearn.utils import shuffle\n",
    "from sklearn.model_selection import train_test_split\n",
    "from skimage.transform import rotate\n",
    "from keras.models import Sequential\n",
    "from keras.layers import Dense\n",
    "from sklearn import preprocessing\n",
    "import pandas as pd\n",
    "\n",
    "from sklearn.model_selection import train_test_split\n",
    "from keras.utils.np_utils import to_categorical\n",
    "from sklearn.model_selection import train_test_split\n",
    "np.set_printoptions(threshold=np.inf)\n",
    "\n",
    "#trainys = [0 if x==1 else x for x in trainys]\n",
    "#trainys = [2 if x==3 else x for x in trainys]\n",
    "#trainys = [4 if x==5 else x for x in trainys]\n",
    "trainxs1 = np.asarray(trainxs, dtype=np.float32)\n",
    "trainys1 = np.asarray(trainys, dtype=np.int)\n",
    "#print(trainys)\n",
    "\n",
    "\n",
    "\n",
    "x_train, x_test, y_train_old, y_test_old = train_test_split(trainxs1, trainys1, test_size=0.08, random_state=42)\n",
    "y_train = to_categorical(y_train_old)\n",
    "y_test = to_categorical(y_test_old)\n",
    "#print(y_train)\n",
    "plt.imshow(x_test[1], cmap='gray')\n",
    "print(y_test[1])\n",
    "\n"
   ]
  },
  {
   "cell_type": "code",
   "execution_count": 53,
   "metadata": {
    "colab": {
     "base_uri": "https://localhost:8080/",
     "height": 34
    },
    "colab_type": "code",
    "id": "9suhFobBrjCN",
    "outputId": "6a1fdf3e-f3f4-4854-8e9a-a57cf5136f93"
   },
   "outputs": [
    {
     "data": {
      "text/plain": [
       "(911, 150, 150, 1)"
      ]
     },
     "execution_count": 53,
     "metadata": {},
     "output_type": "execute_result"
    }
   ],
   "source": [
    "x_train = x_train.reshape(x_train.shape[0], img_rows, img_cols, 1)\n",
    "x_test = x_test.reshape(x_test.shape[0], img_rows, img_cols, 1)\n",
    "#x_test = x_test.reshape(x_test.shape[0], img_rows, img_cols, 1)\n",
    "input_shape = (img_rows, img_cols, 1)\n",
    "x_train.shape"
   ]
  },
  {
   "cell_type": "code",
   "execution_count": 54,
   "metadata": {
    "colab": {
     "base_uri": "https://localhost:8080/",
     "height": 548
    },
    "colab_type": "code",
    "id": "vPGs4OpOumlY",
    "outputId": "b2f84bed-693d-4c1a-c64b-8e66d9f936fb"
   },
   "outputs": [
    {
     "name": "stdout",
     "output_type": "stream",
     "text": [
      "[name: \"/device:CPU:0\"\n",
      "device_type: \"CPU\"\n",
      "memory_limit: 268435456\n",
      "locality {\n",
      "}\n",
      "incarnation: 11994161132769306234\n",
      ", name: \"/device:GPU:0\"\n",
      "device_type: \"GPU\"\n",
      "memory_limit: 1346398616\n",
      "locality {\n",
      "  bus_id: 1\n",
      "  links {\n",
      "  }\n",
      "}\n",
      "incarnation: 9716138329174260451\n",
      "physical_device_desc: \"device: 0, name: GeForce GTX 770, pci bus id: 0000:01:00.0, compute capability: 3.0\"\n",
      "]\n"
     ]
    }
   ],
   "source": [
    "from tensorflow.python.client import device_lib\n",
    "print(device_lib.list_local_devices())"
   ]
  },
  {
   "cell_type": "code",
   "execution_count": 55,
   "metadata": {},
   "outputs": [
    {
     "name": "stdout",
     "output_type": "stream",
     "text": [
      "x_train shape: (911, 150, 150, 1)\n",
      "y_train shape: (911, 4)\n",
      "911 train samples\n",
      "80 test samples\n",
      "Model: \"sequential_8\"\n",
      "_________________________________________________________________\n",
      "Layer (type)                 Output Shape              Param #   \n",
      "=================================================================\n",
      "conv2d_15 (Conv2D)           (None, 148, 148, 32)      320       \n",
      "_________________________________________________________________\n",
      "conv2d_16 (Conv2D)           (None, 146, 146, 64)      18496     \n",
      "_________________________________________________________________\n",
      "max_pooling2d_8 (MaxPooling2 (None, 73, 73, 64)        0         \n",
      "_________________________________________________________________\n",
      "dropout_4 (Dropout)          (None, 73, 73, 64)        0         \n",
      "_________________________________________________________________\n",
      "flatten_8 (Flatten)          (None, 341056)            0         \n",
      "_________________________________________________________________\n",
      "dense_8 (Dense)              (None, 128)               43655296  \n",
      "_________________________________________________________________\n",
      "dropout_5 (Dropout)          (None, 128)               0         \n",
      "_________________________________________________________________\n",
      "dense_9 (Dense)              (None, 6)                 774       \n",
      "=================================================================\n",
      "Total params: 43,674,886\n",
      "Trainable params: 43,674,886\n",
      "Non-trainable params: 0\n",
      "_________________________________________________________________\n"
     ]
    }
   ],
   "source": [
    "print('x_train shape:', x_train.shape)\n",
    "x_train = np.array(x_train)\n",
    "x_test = np.array(x_test)\n",
    "\n",
    "#print(x_train[3])\n",
    "x_train = x_train.astype('float32')\n",
    "x_test = x_test.astype('float32')\n",
    "x_train /= 255\n",
    "x_test /= 255\n",
    "print('y_train shape:', y_train.shape)\n",
    "print(x_train.shape[0], 'train samples')\n",
    "print(x_test.shape[0], 'test samples')\n",
    "\n",
    "model = Sequential()\n",
    "model.add(Conv2D(32, kernel_size=(3, 3),\n",
    "                 activation='relu',\n",
    "                 input_shape=input_shape))\n",
    "model.add(Conv2D(64, (3, 3), activation='relu'))\n",
    "model.add(MaxPooling2D(pool_size=(2, 2)))\n",
    "model.add(Dropout(0.25))\n",
    "model.add(Flatten())\n",
    "model.add(Dense(128, activation='relu'))\n",
    "model.add(Dropout(0.5))\n",
    "model.add(Dense(6, activation='softmax'))\n",
    "\n",
    "model.compile(loss=keras.losses.categorical_crossentropy,\n",
    "              optimizer=keras.optimizers.Adadelta(),\n",
    "              metrics=['accuracy'])\n",
    "model.summary()"
   ]
  },
  {
   "cell_type": "code",
   "execution_count": 56,
   "metadata": {
    "colab": {
     "base_uri": "https://localhost:8080/",
     "height": 634
    },
    "colab_type": "code",
    "id": "2p6nWpeHrrG6",
    "outputId": "0354db8f-7298-4c0a-b8dc-7988e1117f9f"
   },
   "outputs": [
    {
     "name": "stdout",
     "output_type": "stream",
     "text": [
      "x_train shape: (911, 150, 150, 1)\n",
      "y_train shape: (911, 4)\n",
      "911 train samples\n",
      "80 test samples\n",
      "Model: \"sequential_9\"\n",
      "_________________________________________________________________\n",
      "Layer (type)                 Output Shape              Param #   \n",
      "=================================================================\n",
      "conv2d_17 (Conv2D)           (None, 146, 146, 32)      832       \n",
      "_________________________________________________________________\n",
      "conv2d_18 (Conv2D)           (None, 142, 142, 64)      51264     \n",
      "_________________________________________________________________\n",
      "max_pooling2d_9 (MaxPooling2 (None, 71, 71, 64)        0         \n",
      "_________________________________________________________________\n",
      "flatten_9 (Flatten)          (None, 322624)            0         \n",
      "_________________________________________________________________\n",
      "dense_10 (Dense)             (None, 128)               41296000  \n",
      "_________________________________________________________________\n",
      "dense_11 (Dense)             (None, 4)                 516       \n",
      "=================================================================\n",
      "Total params: 41,348,612\n",
      "Trainable params: 41,348,612\n",
      "Non-trainable params: 0\n",
      "_________________________________________________________________\n"
     ]
    }
   ],
   "source": [
    "print('x_train shape:', x_train.shape)\n",
    "x_train = np.array(x_train)\n",
    "x_test = np.array(x_test)\n",
    "\n",
    "#print(x_train[3])\n",
    "x_train = x_train.astype('float32')\n",
    "x_test = x_test.astype('float32')\n",
    "x_train /= 255\n",
    "x_test /= 255\n",
    "print('y_train shape:', y_train.shape)\n",
    "print(x_train.shape[0], 'train samples')\n",
    "print(x_test.shape[0], 'test samples')\n",
    "\n",
    "model = Sequential()\n",
    "model.add(Conv2D(32, kernel_size=(5, 5),\n",
    "                 activation='relu',\n",
    "                 input_shape=input_shape))\n",
    "model.add(Conv2D(64, (5, 5), activation='relu'))\n",
    "model.add(MaxPooling2D(pool_size=(2, 2)))\n",
    "model.add(Flatten())\n",
    "model.add(Dense(128, activation='relu'))\n",
    "model.add(Dense(4, activation='softmax'))\n",
    "\n",
    "model.compile(loss=keras.losses.categorical_crossentropy,\n",
    "              optimizer=keras.optimizers.Adadelta(),\n",
    "              metrics=['accuracy'])\n",
    "model.summary()"
   ]
  },
  {
   "cell_type": "code",
   "execution_count": 57,
   "metadata": {
    "colab": {
     "base_uri": "https://localhost:8080/",
     "height": 908
    },
    "colab_type": "code",
    "id": "EnT7KdIhrtV5",
    "outputId": "6a373657-1dec-4ce5-8c99-cd6b7843270e"
   },
   "outputs": [
    {
     "name": "stdout",
     "output_type": "stream",
     "text": [
      "Train on 911 samples, validate on 80 samples\n",
      "Epoch 1/15\n"
     ]
    },
    {
     "ename": "ResourceExhaustedError",
     "evalue": " OOM when allocating tensor with shape[5,5,32,64] and type float on /job:localhost/replica:0/task:0/device:GPU:0 by allocator GPU_0_bfc\n\t [[node mul_12 (defined at C:\\Users\\Tom\\anaconda3\\lib\\site-packages\\keras\\backend\\tensorflow_backend.py:3009) ]]\nHint: If you want to see a list of allocated tensors when OOM happens, add report_tensor_allocations_upon_oom to RunOptions for current allocation info.\n [Op:__inference_keras_scratch_graph_1922]\n\nFunction call stack:\nkeras_scratch_graph\n",
     "output_type": "error",
     "traceback": [
      "\u001b[1;31m---------------------------------------------------------------------------\u001b[0m",
      "\u001b[1;31mResourceExhaustedError\u001b[0m                    Traceback (most recent call last)",
      "\u001b[1;32m<ipython-input-57-7d1064743f5a>\u001b[0m in \u001b[0;36m<module>\u001b[1;34m\u001b[0m\n\u001b[0;32m      3\u001b[0m           \u001b[0mepochs\u001b[0m\u001b[1;33m=\u001b[0m\u001b[0mepochs\u001b[0m\u001b[1;33m,\u001b[0m\u001b[1;33m\u001b[0m\u001b[1;33m\u001b[0m\u001b[0m\n\u001b[0;32m      4\u001b[0m           \u001b[0mverbose\u001b[0m\u001b[1;33m=\u001b[0m\u001b[1;36m1\u001b[0m\u001b[1;33m,\u001b[0m\u001b[1;33m\u001b[0m\u001b[1;33m\u001b[0m\u001b[0m\n\u001b[1;32m----> 5\u001b[1;33m           validation_data=(x_test, y_test))\n\u001b[0m\u001b[0;32m      6\u001b[0m \u001b[0mscore\u001b[0m \u001b[1;33m=\u001b[0m \u001b[0mmodel\u001b[0m\u001b[1;33m.\u001b[0m\u001b[0mevaluate\u001b[0m\u001b[1;33m(\u001b[0m\u001b[0mx_test\u001b[0m\u001b[1;33m,\u001b[0m \u001b[0my_test\u001b[0m\u001b[1;33m,\u001b[0m \u001b[0mverbose\u001b[0m\u001b[1;33m=\u001b[0m\u001b[1;36m0\u001b[0m\u001b[1;33m)\u001b[0m\u001b[1;33m\u001b[0m\u001b[1;33m\u001b[0m\u001b[0m\n\u001b[0;32m      7\u001b[0m \u001b[0mprint\u001b[0m\u001b[1;33m(\u001b[0m\u001b[1;34m'Test loss:'\u001b[0m\u001b[1;33m,\u001b[0m \u001b[0mscore\u001b[0m\u001b[1;33m[\u001b[0m\u001b[1;36m0\u001b[0m\u001b[1;33m]\u001b[0m\u001b[1;33m)\u001b[0m\u001b[1;33m\u001b[0m\u001b[1;33m\u001b[0m\u001b[0m\n",
      "\u001b[1;32m~\\anaconda3\\lib\\site-packages\\keras\\engine\\training.py\u001b[0m in \u001b[0;36mfit\u001b[1;34m(self, x, y, batch_size, epochs, verbose, callbacks, validation_split, validation_data, shuffle, class_weight, sample_weight, initial_epoch, steps_per_epoch, validation_steps, validation_freq, max_queue_size, workers, use_multiprocessing, **kwargs)\u001b[0m\n\u001b[0;32m   1237\u001b[0m                                         \u001b[0msteps_per_epoch\u001b[0m\u001b[1;33m=\u001b[0m\u001b[0msteps_per_epoch\u001b[0m\u001b[1;33m,\u001b[0m\u001b[1;33m\u001b[0m\u001b[1;33m\u001b[0m\u001b[0m\n\u001b[0;32m   1238\u001b[0m                                         \u001b[0mvalidation_steps\u001b[0m\u001b[1;33m=\u001b[0m\u001b[0mvalidation_steps\u001b[0m\u001b[1;33m,\u001b[0m\u001b[1;33m\u001b[0m\u001b[1;33m\u001b[0m\u001b[0m\n\u001b[1;32m-> 1239\u001b[1;33m                                         validation_freq=validation_freq)\n\u001b[0m\u001b[0;32m   1240\u001b[0m \u001b[1;33m\u001b[0m\u001b[0m\n\u001b[0;32m   1241\u001b[0m     def evaluate(self,\n",
      "\u001b[1;32m~\\anaconda3\\lib\\site-packages\\keras\\engine\\training_arrays.py\u001b[0m in \u001b[0;36mfit_loop\u001b[1;34m(model, fit_function, fit_inputs, out_labels, batch_size, epochs, verbose, callbacks, val_function, val_inputs, shuffle, initial_epoch, steps_per_epoch, validation_steps, validation_freq)\u001b[0m\n\u001b[0;32m    194\u001b[0m                     \u001b[0mins_batch\u001b[0m\u001b[1;33m[\u001b[0m\u001b[0mi\u001b[0m\u001b[1;33m]\u001b[0m \u001b[1;33m=\u001b[0m \u001b[0mins_batch\u001b[0m\u001b[1;33m[\u001b[0m\u001b[0mi\u001b[0m\u001b[1;33m]\u001b[0m\u001b[1;33m.\u001b[0m\u001b[0mtoarray\u001b[0m\u001b[1;33m(\u001b[0m\u001b[1;33m)\u001b[0m\u001b[1;33m\u001b[0m\u001b[1;33m\u001b[0m\u001b[0m\n\u001b[0;32m    195\u001b[0m \u001b[1;33m\u001b[0m\u001b[0m\n\u001b[1;32m--> 196\u001b[1;33m                 \u001b[0mouts\u001b[0m \u001b[1;33m=\u001b[0m \u001b[0mfit_function\u001b[0m\u001b[1;33m(\u001b[0m\u001b[0mins_batch\u001b[0m\u001b[1;33m)\u001b[0m\u001b[1;33m\u001b[0m\u001b[1;33m\u001b[0m\u001b[0m\n\u001b[0m\u001b[0;32m    197\u001b[0m                 \u001b[0mouts\u001b[0m \u001b[1;33m=\u001b[0m \u001b[0mto_list\u001b[0m\u001b[1;33m(\u001b[0m\u001b[0mouts\u001b[0m\u001b[1;33m)\u001b[0m\u001b[1;33m\u001b[0m\u001b[1;33m\u001b[0m\u001b[0m\n\u001b[0;32m    198\u001b[0m                 \u001b[1;32mfor\u001b[0m \u001b[0ml\u001b[0m\u001b[1;33m,\u001b[0m \u001b[0mo\u001b[0m \u001b[1;32min\u001b[0m \u001b[0mzip\u001b[0m\u001b[1;33m(\u001b[0m\u001b[0mout_labels\u001b[0m\u001b[1;33m,\u001b[0m \u001b[0mouts\u001b[0m\u001b[1;33m)\u001b[0m\u001b[1;33m:\u001b[0m\u001b[1;33m\u001b[0m\u001b[1;33m\u001b[0m\u001b[0m\n",
      "\u001b[1;32m~\\anaconda3\\lib\\site-packages\\tensorflow_core\\python\\keras\\backend.py\u001b[0m in \u001b[0;36m__call__\u001b[1;34m(self, inputs)\u001b[0m\n\u001b[0;32m   3725\u001b[0m         \u001b[0mvalue\u001b[0m \u001b[1;33m=\u001b[0m \u001b[0mmath_ops\u001b[0m\u001b[1;33m.\u001b[0m\u001b[0mcast\u001b[0m\u001b[1;33m(\u001b[0m\u001b[0mvalue\u001b[0m\u001b[1;33m,\u001b[0m \u001b[0mtensor\u001b[0m\u001b[1;33m.\u001b[0m\u001b[0mdtype\u001b[0m\u001b[1;33m)\u001b[0m\u001b[1;33m\u001b[0m\u001b[1;33m\u001b[0m\u001b[0m\n\u001b[0;32m   3726\u001b[0m       \u001b[0mconverted_inputs\u001b[0m\u001b[1;33m.\u001b[0m\u001b[0mappend\u001b[0m\u001b[1;33m(\u001b[0m\u001b[0mvalue\u001b[0m\u001b[1;33m)\u001b[0m\u001b[1;33m\u001b[0m\u001b[1;33m\u001b[0m\u001b[0m\n\u001b[1;32m-> 3727\u001b[1;33m     \u001b[0moutputs\u001b[0m \u001b[1;33m=\u001b[0m \u001b[0mself\u001b[0m\u001b[1;33m.\u001b[0m\u001b[0m_graph_fn\u001b[0m\u001b[1;33m(\u001b[0m\u001b[1;33m*\u001b[0m\u001b[0mconverted_inputs\u001b[0m\u001b[1;33m)\u001b[0m\u001b[1;33m\u001b[0m\u001b[1;33m\u001b[0m\u001b[0m\n\u001b[0m\u001b[0;32m   3728\u001b[0m \u001b[1;33m\u001b[0m\u001b[0m\n\u001b[0;32m   3729\u001b[0m     \u001b[1;31m# EagerTensor.numpy() will often make a copy to ensure memory safety.\u001b[0m\u001b[1;33m\u001b[0m\u001b[1;33m\u001b[0m\u001b[1;33m\u001b[0m\u001b[0m\n",
      "\u001b[1;32m~\\anaconda3\\lib\\site-packages\\tensorflow_core\\python\\eager\\function.py\u001b[0m in \u001b[0;36m__call__\u001b[1;34m(self, *args, **kwargs)\u001b[0m\n\u001b[0;32m   1549\u001b[0m       \u001b[0mTypeError\u001b[0m\u001b[1;33m:\u001b[0m \u001b[0mFor\u001b[0m \u001b[0minvalid\u001b[0m \u001b[0mpositional\u001b[0m\u001b[1;33m/\u001b[0m\u001b[0mkeyword\u001b[0m \u001b[0margument\u001b[0m \u001b[0mcombinations\u001b[0m\u001b[1;33m.\u001b[0m\u001b[1;33m\u001b[0m\u001b[1;33m\u001b[0m\u001b[0m\n\u001b[0;32m   1550\u001b[0m     \"\"\"\n\u001b[1;32m-> 1551\u001b[1;33m     \u001b[1;32mreturn\u001b[0m \u001b[0mself\u001b[0m\u001b[1;33m.\u001b[0m\u001b[0m_call_impl\u001b[0m\u001b[1;33m(\u001b[0m\u001b[0margs\u001b[0m\u001b[1;33m,\u001b[0m \u001b[0mkwargs\u001b[0m\u001b[1;33m)\u001b[0m\u001b[1;33m\u001b[0m\u001b[1;33m\u001b[0m\u001b[0m\n\u001b[0m\u001b[0;32m   1552\u001b[0m \u001b[1;33m\u001b[0m\u001b[0m\n\u001b[0;32m   1553\u001b[0m   \u001b[1;32mdef\u001b[0m \u001b[0m_call_impl\u001b[0m\u001b[1;33m(\u001b[0m\u001b[0mself\u001b[0m\u001b[1;33m,\u001b[0m \u001b[0margs\u001b[0m\u001b[1;33m,\u001b[0m \u001b[0mkwargs\u001b[0m\u001b[1;33m,\u001b[0m \u001b[0mcancellation_manager\u001b[0m\u001b[1;33m=\u001b[0m\u001b[1;32mNone\u001b[0m\u001b[1;33m)\u001b[0m\u001b[1;33m:\u001b[0m\u001b[1;33m\u001b[0m\u001b[1;33m\u001b[0m\u001b[0m\n",
      "\u001b[1;32m~\\anaconda3\\lib\\site-packages\\tensorflow_core\\python\\eager\\function.py\u001b[0m in \u001b[0;36m_call_impl\u001b[1;34m(self, args, kwargs, cancellation_manager)\u001b[0m\n\u001b[0;32m   1589\u001b[0m       raise TypeError(\"Keyword arguments {} unknown. Expected {}.\".format(\n\u001b[0;32m   1590\u001b[0m           list(kwargs.keys()), list(self._arg_keywords)))\n\u001b[1;32m-> 1591\u001b[1;33m     \u001b[1;32mreturn\u001b[0m \u001b[0mself\u001b[0m\u001b[1;33m.\u001b[0m\u001b[0m_call_flat\u001b[0m\u001b[1;33m(\u001b[0m\u001b[0margs\u001b[0m\u001b[1;33m,\u001b[0m \u001b[0mself\u001b[0m\u001b[1;33m.\u001b[0m\u001b[0mcaptured_inputs\u001b[0m\u001b[1;33m,\u001b[0m \u001b[0mcancellation_manager\u001b[0m\u001b[1;33m)\u001b[0m\u001b[1;33m\u001b[0m\u001b[1;33m\u001b[0m\u001b[0m\n\u001b[0m\u001b[0;32m   1592\u001b[0m \u001b[1;33m\u001b[0m\u001b[0m\n\u001b[0;32m   1593\u001b[0m   \u001b[1;32mdef\u001b[0m \u001b[0m_filtered_call\u001b[0m\u001b[1;33m(\u001b[0m\u001b[0mself\u001b[0m\u001b[1;33m,\u001b[0m \u001b[0margs\u001b[0m\u001b[1;33m,\u001b[0m \u001b[0mkwargs\u001b[0m\u001b[1;33m)\u001b[0m\u001b[1;33m:\u001b[0m\u001b[1;33m\u001b[0m\u001b[1;33m\u001b[0m\u001b[0m\n",
      "\u001b[1;32m~\\anaconda3\\lib\\site-packages\\tensorflow_core\\python\\eager\\function.py\u001b[0m in \u001b[0;36m_call_flat\u001b[1;34m(self, args, captured_inputs, cancellation_manager)\u001b[0m\n\u001b[0;32m   1690\u001b[0m       \u001b[1;31m# No tape is watching; skip to running the function.\u001b[0m\u001b[1;33m\u001b[0m\u001b[1;33m\u001b[0m\u001b[1;33m\u001b[0m\u001b[0m\n\u001b[0;32m   1691\u001b[0m       return self._build_call_outputs(self._inference_function.call(\n\u001b[1;32m-> 1692\u001b[1;33m           ctx, args, cancellation_manager=cancellation_manager))\n\u001b[0m\u001b[0;32m   1693\u001b[0m     forward_backward = self._select_forward_and_backward_functions(\n\u001b[0;32m   1694\u001b[0m         \u001b[0margs\u001b[0m\u001b[1;33m,\u001b[0m\u001b[1;33m\u001b[0m\u001b[1;33m\u001b[0m\u001b[0m\n",
      "\u001b[1;32m~\\anaconda3\\lib\\site-packages\\tensorflow_core\\python\\eager\\function.py\u001b[0m in \u001b[0;36mcall\u001b[1;34m(self, ctx, args, cancellation_manager)\u001b[0m\n\u001b[0;32m    543\u001b[0m               \u001b[0minputs\u001b[0m\u001b[1;33m=\u001b[0m\u001b[0margs\u001b[0m\u001b[1;33m,\u001b[0m\u001b[1;33m\u001b[0m\u001b[1;33m\u001b[0m\u001b[0m\n\u001b[0;32m    544\u001b[0m               \u001b[0mattrs\u001b[0m\u001b[1;33m=\u001b[0m\u001b[1;33m(\u001b[0m\u001b[1;34m\"executor_type\"\u001b[0m\u001b[1;33m,\u001b[0m \u001b[0mexecutor_type\u001b[0m\u001b[1;33m,\u001b[0m \u001b[1;34m\"config_proto\"\u001b[0m\u001b[1;33m,\u001b[0m \u001b[0mconfig\u001b[0m\u001b[1;33m)\u001b[0m\u001b[1;33m,\u001b[0m\u001b[1;33m\u001b[0m\u001b[1;33m\u001b[0m\u001b[0m\n\u001b[1;32m--> 545\u001b[1;33m               ctx=ctx)\n\u001b[0m\u001b[0;32m    546\u001b[0m         \u001b[1;32melse\u001b[0m\u001b[1;33m:\u001b[0m\u001b[1;33m\u001b[0m\u001b[1;33m\u001b[0m\u001b[0m\n\u001b[0;32m    547\u001b[0m           outputs = execute.execute_with_cancellation(\n",
      "\u001b[1;32m~\\anaconda3\\lib\\site-packages\\tensorflow_core\\python\\eager\\execute.py\u001b[0m in \u001b[0;36mquick_execute\u001b[1;34m(op_name, num_outputs, inputs, attrs, ctx, name)\u001b[0m\n\u001b[0;32m     65\u001b[0m     \u001b[1;32melse\u001b[0m\u001b[1;33m:\u001b[0m\u001b[1;33m\u001b[0m\u001b[1;33m\u001b[0m\u001b[0m\n\u001b[0;32m     66\u001b[0m       \u001b[0mmessage\u001b[0m \u001b[1;33m=\u001b[0m \u001b[0me\u001b[0m\u001b[1;33m.\u001b[0m\u001b[0mmessage\u001b[0m\u001b[1;33m\u001b[0m\u001b[1;33m\u001b[0m\u001b[0m\n\u001b[1;32m---> 67\u001b[1;33m     \u001b[0msix\u001b[0m\u001b[1;33m.\u001b[0m\u001b[0mraise_from\u001b[0m\u001b[1;33m(\u001b[0m\u001b[0mcore\u001b[0m\u001b[1;33m.\u001b[0m\u001b[0m_status_to_exception\u001b[0m\u001b[1;33m(\u001b[0m\u001b[0me\u001b[0m\u001b[1;33m.\u001b[0m\u001b[0mcode\u001b[0m\u001b[1;33m,\u001b[0m \u001b[0mmessage\u001b[0m\u001b[1;33m)\u001b[0m\u001b[1;33m,\u001b[0m \u001b[1;32mNone\u001b[0m\u001b[1;33m)\u001b[0m\u001b[1;33m\u001b[0m\u001b[1;33m\u001b[0m\u001b[0m\n\u001b[0m\u001b[0;32m     68\u001b[0m   \u001b[1;32mexcept\u001b[0m \u001b[0mTypeError\u001b[0m \u001b[1;32mas\u001b[0m \u001b[0me\u001b[0m\u001b[1;33m:\u001b[0m\u001b[1;33m\u001b[0m\u001b[1;33m\u001b[0m\u001b[0m\n\u001b[0;32m     69\u001b[0m     keras_symbolic_tensors = [\n",
      "\u001b[1;32m~\\anaconda3\\lib\\site-packages\\six.py\u001b[0m in \u001b[0;36mraise_from\u001b[1;34m(value, from_value)\u001b[0m\n",
      "\u001b[1;31mResourceExhaustedError\u001b[0m:  OOM when allocating tensor with shape[5,5,32,64] and type float on /job:localhost/replica:0/task:0/device:GPU:0 by allocator GPU_0_bfc\n\t [[node mul_12 (defined at C:\\Users\\Tom\\anaconda3\\lib\\site-packages\\keras\\backend\\tensorflow_backend.py:3009) ]]\nHint: If you want to see a list of allocated tensors when OOM happens, add report_tensor_allocations_upon_oom to RunOptions for current allocation info.\n [Op:__inference_keras_scratch_graph_1922]\n\nFunction call stack:\nkeras_scratch_graph\n"
     ]
    }
   ],
   "source": [
    "history = model.fit(x_train, y_train,\n",
    "          batch_size=batch_size,\n",
    "          epochs=epochs,\n",
    "          verbose=1,\n",
    "          validation_data=(x_test, y_test))\n",
    "score = model.evaluate(x_test, y_test, verbose=0)\n",
    "print('Test loss:', score[0])\n",
    "print('Test accuracy:', score[1])"
   ]
  },
  {
   "cell_type": "code",
   "execution_count": null,
   "metadata": {
    "colab": {
     "base_uri": "https://localhost:8080/",
     "height": 943
    },
    "colab_type": "code",
    "id": "zEWwd05eykI3",
    "outputId": "5c13cd4d-8494-40ea-eb48-cccacc75d85c"
   },
   "outputs": [
    {
     "data": {
      "image/png": "[encoded data removed]",
      "text/plain": [
       "<Figure size 700x500 with 1 Axes>"
      ]
     },
     "metadata": {
      "tags": []
     },
     "output_type": "display_data"
    },
    {
     "data": {
      "image/png": "[encoded data removed]",
      "text/plain": [
       "<Figure size 700x500 with 1 Axes>"
      ]
     },
     "metadata": {
      "tags": []
     },
     "output_type": "display_data"
    }
   ],
   "source": [
    "# Plot training & validation accuracy values\n",
    "plt.plot(history.history['acc'])\n",
    "plt.plot(history.history['val_acc'])\n",
    "plt.title('Model accuracy')\n",
    "plt.ylabel('Accuracy')\n",
    "plt.xlabel('Epoch')\n",
    "plt.legend(['Train', 'Test'], loc='upper left')\n",
    "plt.show()\n",
    "\n",
    "# Plot training & validation loss values\n",
    "plt.plot(history.history['loss'])\n",
    "plt.plot(history.history['val_loss'])\n",
    "plt.title('Model loss')\n",
    "plt.ylabel('Loss')\n",
    "plt.xlabel('Epoch')\n",
    "plt.legend(['Train', 'Test'], loc='upper left')\n",
    "plt.show()"
   ]
  },
  {
   "cell_type": "code",
   "execution_count": null,
   "metadata": {
    "colab": {},
    "colab_type": "code",
    "id": "1aAKXUsHapoz"
   },
   "outputs": [],
   "source": [
    "from sklearn.model_selection import train_test_split\n",
    "(trainX, testX, trainY, testY) = train_test_split(trainxs,\n",
    "\ttrainys, test_size=0.1)"
   ]
  },
  {
   "cell_type": "code",
   "execution_count": null,
   "metadata": {
    "colab": {
     "base_uri": "https://localhost:8080/",
     "height": 54
    },
    "colab_type": "code",
    "id": "xzg_2AmxbcFi",
    "outputId": "56ec1bdd-77a1-425b-c8d2-e3ae5983aaec"
   },
   "outputs": [
    {
     "name": "stdout",
     "output_type": "stream",
     "text": [
      "[1, 0, 1, 1, 0, 0, 1, 0, 0, 1, 0, 0, 1, 1, 1, 1, 1, 1, 1, 0, 1, 1, 0, 1, 1, 0, 0, 1, 1, 1, 1, 1, 0, 1, 0, 0, 1, 0, 0, 1, 0, 0, 1, 0, 1, 1, 1, 1, 0, 1, 1, 0, 1, 0, 0, 0, 1, 1, 0, 1, 1, 0, 1, 1, 1, 0, 0, 1, 1, 1, 1, 1, 1, 0, 0, 1, 1, 1, 1, 1, 0, 0, 1, 1, 1, 1, 1, 0, 0, 1, 1, 1, 1, 1, 0, 1, 1, 1, 1, 0, 1, 1, 0, 0, 1, 0, 1, 0, 1, 1, 0, 1, 1, 1, 0, 1, 1, 1, 1, 0, 1, 1, 0, 1, 1, 1, 1, 0, 1, 1, 0, 0, 0, 0, 0, 1, 0, 1, 1, 1, 0, 1, 1, 1, 1, 0, 0, 1, 1, 0, 0, 1, 0, 0, 1, 1, 1, 1, 1, 1, 0, 1, 0, 0, 0, 0, 1, 0, 1, 1, 0, 1, 1, 1, 0, 1, 1, 0, 1, 0, 1, 1, 1, 1, 0, 1, 0, 1, 1, 1, 1, 1, 1, 1, 1, 0, 1, 0, 1, 0, 1, 0, 1, 1, 0, 1, 1, 1, 0, 1, 1, 0, 1, 1, 0, 1, 0, 0, 1, 1, 1, 0, 0, 1, 0, 0, 0, 1, 1, 0, 1, 1, 0, 0, 1, 0, 1, 1, 0, 0, 0, 0, 1, 1, 0, 0, 0, 1, 0, 1, 1, 1, 0, 1, 1, 1, 1, 0, 0, 1, 1, 1, 0, 0, 1, 1, 1, 1, 0, 1, 0, 1, 0, 1, 0, 0, 1, 0, 0, 0, 1, 0, 0, 0, 0, 1, 0, 0, 1, 1, 1, 1, 1, 0, 1, 1, 0, 0, 1, 1, 1, 0, 0, 0, 0, 1, 0, 0, 0, 0, 1, 1, 0, 0, 1, 1, 1, 1, 0, 1, 1, 1, 1, 1, 1, 1, 1, 1, 0, 1, 1, 0, 1, 1, 1, 0, 1, 0, 0, 1, 0, 1, 0, 1, 1, 0, 0, 1, 1, 0, 0, 0, 1, 0, 0, 1, 0, 0, 0, 1, 1, 1, 1, 1, 1, 1, 0, 0, 1, 0, 0, 1, 0, 1, 0, 0, 0, 0, 0, 0, 0, 1, 1, 0, 0, 1, 0, 1, 1, 1, 0, 1, 0, 0, 1, 1, 1, 1, 0, 1, 1, 0, 1, 1, 1, 1, 0, 0, 0, 1, 0, 0, 0, 0, 1, 1, 1, 0, 1, 0, 1, 0, 0, 1, 0, 0, 0, 1, 1, 1, 1, 0, 0, 0, 1, 1, 1, 1, 1, 0, 0, 1, 1, 0, 1, 1, 1, 0, 0, 0, 0, 1, 0, 1, 1, 0, 1, 0, 0, 1, 1, 1, 1, 0, 1, 1, 0, 0, 0, 1, 1, 1, 1, 1, 0, 1, 1, 0, 1, 1, 0, 0, 1, 1, 1, 0, 0, 1, 0, 1, 0, 1, 1, 0, 0, 0, 1, 0, 1, 0, 1, 0, 0, 0, 1, 0, 1, 1, 0, 0, 1, 0, 0, 0, 0, 1, 1, 0, 1, 1, 0, 1, 1, 1, 1, 1, 1, 1, 0, 0, 1, 1, 0, 1, 1, 1, 0, 1, 0, 0, 1, 1, 0, 1, 0, 1, 0, 1, 1, 0, 0, 1, 1, 1, 0, 0, 1, 1, 1, 1, 1, 1, 1, 0, 1, 1, 1, 0, 1, 0, 0, 0, 0, 1, 0, 1, 1, 1, 1, 0, 1, 1, 1, 1, 1, 0, 0, 0, 0, 1, 1, 1, 1, 1, 0, 1, 0, 1, 0, 1, 0, 0, 1, 0, 0, 1, 1, 1, 1, 1, 0, 1, 0, 1, 0, 1, 0, 1, 1, 0, 0, 1, 0, 1, 0, 0, 1, 0, 0, 0, 1, 1, 1, 1, 1, 1, 1, 1, 1, 1, 1, 0, 1, 1, 1, 1, 1, 1, 0, 0, 0, 1, 0, 0, 1, 0, 1, 1, 1, 0, 1, 0, 1, 1, 1, 0, 0, 0, 1, 1, 1, 1, 1, 0, 0, 1, 1, 0, 0, 1, 0, 0, 0, 1, 0, 1, 1, 1, 1, 0, 1, 0, 0, 0, 1, 1, 1, 1, 1, 1, 0, 0, 1, 1, 0, 1, 1, 0, 1, 0, 1, 0, 1, 0, 1, 0, 1, 1, 1, 1, 1, 1, 1, 0, 1, 1, 0, 1, 0, 0, 1, 1, 0, 1, 1, 0, 1, 0, 0, 1, 1, 1, 1, 1, 1, 0, 1, 0, 1, 1, 0, 0, 1, 0, 0, 1, 0, 0, 1, 1, 0, 1, 0, 0, 1, 0, 1, 0, 0, 1, 1, 1, 0, 0, 0, 1, 1, 1, 1, 0, 0, 1, 0, 0, 0, 0, 1, 0, 1, 1, 1, 1, 0, 1, 0, 1, 0, 0, 1, 1, 1, 0, 0, 0, 1, 0, 0, 1, 1, 1, 0, 0, 0, 0, 1, 1, 0, 0, 0, 1, 1, 1, 0, 1, 0, 1, 1, 1, 1, 1, 0, 1, 0, 1, 1, 0, 0, 0, 1, 0, 1, 1, 0, 0, 1, 0, 0, 0, 1, 1, 1, 1, 1, 1, 0, 0, 1, 0, 0, 1, 0, 1, 0, 1, 1, 1, 1, 0, 0, 0, 1, 1, 1, 1, 0, 1, 0, 0, 0, 0, 0, 1, 1, 1, 1, 1, 0, 1, 0, 0, 0, 0, 0, 1, 1, 1, 1, 0, 0, 1, 1, 1, 1, 1, 1, 1, 0, 1, 1, 1, 1, 1, 1, 1, 1, 0, 1, 0, 1, 1, 1, 0, 1, 1, 1, 1, 1, 1, 1, 0, 0, 0, 1, 0, 1, 0, 1, 0, 0, 1, 1, 0, 1, 0, 1, 0, 0, 0, 1, 1, 0, 0, 1, 1, 0, 1, 0, 1, 1, 1, 1, 1, 0, 1, 1, 0, 1, 0, 0, 0, 1, 1, 0, 0, 1, 1, 1, 0, 0, 1, 0, 0, 1, 1, 0, 0, 1, 1, 1, 1, 1]\n"
     ]
    }
   ],
   "source": [
    "from sklearn.utils import shuffle\n",
    "\n",
    "trainxs, trainys = shuffle(trainxs, trainys)\n",
    "print(trainys)"
   ]
  },
  {
   "cell_type": "markdown",
   "metadata": {
    "colab_type": "text",
    "id": "b6oVXIFjA1n4"
   },
   "source": [
    "# **Testing Gradient boosing regressor**"
   ]
  },
  {
   "cell_type": "code",
   "execution_count": null,
   "metadata": {
    "colab": {
     "base_uri": "https://localhost:8080/",
     "height": 397
    },
    "colab_type": "code",
    "id": "lpZ3lo_aagEm",
    "outputId": "c4a2784b-2194-4d22-ea77-3b98fc073546"
   },
   "outputs": [
    {
     "ename": "ValueError",
     "evalue": "ignored",
     "output_type": "error",
     "traceback": [
      "\u001b[0;31m---------------------------------------------------------------------------\u001b[0m",
      "\u001b[0;31mValueError\u001b[0m                                Traceback (most recent call last)",
      "\u001b[0;32m<ipython-input-18-820caf710c89>\u001b[0m in \u001b[0;36m<module>\u001b[0;34m()\u001b[0m\n\u001b[1;32m      5\u001b[0m \u001b[0;34m\u001b[0m\u001b[0m\n\u001b[1;32m      6\u001b[0m \u001b[0;31m# Fit the model on the training data\u001b[0m\u001b[0;34m\u001b[0m\u001b[0;34m\u001b[0m\u001b[0;34m\u001b[0m\u001b[0m\n\u001b[0;32m----> 7\u001b[0;31m \u001b[0mgradient_boosted\u001b[0m\u001b[0;34m.\u001b[0m\u001b[0mfit\u001b[0m\u001b[0;34m(\u001b[0m\u001b[0mtrainX\u001b[0m\u001b[0;34m,\u001b[0m \u001b[0mtrainY\u001b[0m\u001b[0;34m)\u001b[0m\u001b[0;34m\u001b[0m\u001b[0;34m\u001b[0m\u001b[0m\n\u001b[0m\u001b[1;32m      8\u001b[0m \u001b[0;34m\u001b[0m\u001b[0m\n\u001b[1;32m      9\u001b[0m \u001b[0;31m# Make predictions on the test data\u001b[0m\u001b[0;34m\u001b[0m\u001b[0;34m\u001b[0m\u001b[0;34m\u001b[0m\u001b[0m\n",
      "\u001b[0;32m/usr/local/lib/python3.6/dist-packages/sklearn/ensemble/_gb.py\u001b[0m in \u001b[0;36mfit\u001b[0;34m(self, X, y, sample_weight, monitor)\u001b[0m\n\u001b[1;32m   1439\u001b[0m         \u001b[0;31m# Since check_array converts both X and y to the same dtype, but the\u001b[0m\u001b[0;34m\u001b[0m\u001b[0;34m\u001b[0m\u001b[0;34m\u001b[0m\u001b[0m\n\u001b[1;32m   1440\u001b[0m         \u001b[0;31m# trees use different types for X and y, checking them separately.\u001b[0m\u001b[0;34m\u001b[0m\u001b[0;34m\u001b[0m\u001b[0;34m\u001b[0m\u001b[0m\n\u001b[0;32m-> 1441\u001b[0;31m         \u001b[0mX\u001b[0m \u001b[0;34m=\u001b[0m \u001b[0mcheck_array\u001b[0m\u001b[0;34m(\u001b[0m\u001b[0mX\u001b[0m\u001b[0;34m,\u001b[0m \u001b[0maccept_sparse\u001b[0m\u001b[0;34m=\u001b[0m\u001b[0;34m[\u001b[0m\u001b[0;34m'csr'\u001b[0m\u001b[0;34m,\u001b[0m \u001b[0;34m'csc'\u001b[0m\u001b[0;34m,\u001b[0m \u001b[0;34m'coo'\u001b[0m\u001b[0;34m]\u001b[0m\u001b[0;34m,\u001b[0m \u001b[0mdtype\u001b[0m\u001b[0;34m=\u001b[0m\u001b[0mDTYPE\u001b[0m\u001b[0;34m)\u001b[0m\u001b[0;34m\u001b[0m\u001b[0;34m\u001b[0m\u001b[0m\n\u001b[0m\u001b[1;32m   1442\u001b[0m         \u001b[0mn_samples\u001b[0m\u001b[0;34m,\u001b[0m \u001b[0mself\u001b[0m\u001b[0;34m.\u001b[0m\u001b[0mn_features_\u001b[0m \u001b[0;34m=\u001b[0m \u001b[0mX\u001b[0m\u001b[0;34m.\u001b[0m\u001b[0mshape\u001b[0m\u001b[0;34m\u001b[0m\u001b[0;34m\u001b[0m\u001b[0m\n\u001b[1;32m   1443\u001b[0m \u001b[0;34m\u001b[0m\u001b[0m\n",
      "\u001b[0;32m/usr/local/lib/python3.6/dist-packages/sklearn/utils/validation.py\u001b[0m in \u001b[0;36mcheck_array\u001b[0;34m(array, accept_sparse, accept_large_sparse, dtype, order, copy, force_all_finite, ensure_2d, allow_nd, ensure_min_samples, ensure_min_features, warn_on_dtype, estimator)\u001b[0m\n\u001b[1;32m    572\u001b[0m         \u001b[0;32mif\u001b[0m \u001b[0;32mnot\u001b[0m \u001b[0mallow_nd\u001b[0m \u001b[0;32mand\u001b[0m \u001b[0marray\u001b[0m\u001b[0;34m.\u001b[0m\u001b[0mndim\u001b[0m \u001b[0;34m>=\u001b[0m \u001b[0;36m3\u001b[0m\u001b[0;34m:\u001b[0m\u001b[0;34m\u001b[0m\u001b[0;34m\u001b[0m\u001b[0m\n\u001b[1;32m    573\u001b[0m             raise ValueError(\"Found array with dim %d. %s expected <= 2.\"\n\u001b[0;32m--> 574\u001b[0;31m                              % (array.ndim, estimator_name))\n\u001b[0m\u001b[1;32m    575\u001b[0m \u001b[0;34m\u001b[0m\u001b[0m\n\u001b[1;32m    576\u001b[0m         \u001b[0;32mif\u001b[0m \u001b[0mforce_all_finite\u001b[0m\u001b[0;34m:\u001b[0m\u001b[0;34m\u001b[0m\u001b[0;34m\u001b[0m\u001b[0m\n",
      "\u001b[0;31mValueError\u001b[0m: Found array with dim 3. Estimator expected <= 2."
     ]
    }
   ],
   "source": [
    "from sklearn.ensemble import GradientBoostingRegressor\n",
    "\n",
    "# Create the model\n",
    "gradient_boosted = GradientBoostingRegressor()\n",
    "\n",
    "# Fit the model on the training data\n",
    "gradient_boosted.fit(trainX, trainY)\n",
    "\n",
    "# Make predictions on the test data\n",
    "predictions = gradient_boosted.predict(testX)\n",
    "\n",
    "# Evaluate the model\n",
    "mae = np.mean(abs(predictions - testY))\n",
    "\n",
    "print('Gradient Boosted Performance on the test set: MAE = %0.4f' % mae)"
   ]
  },
  {
   "cell_type": "code",
   "execution_count": null,
   "metadata": {
    "colab": {},
    "colab_type": "code",
    "id": "X7obbSaMbmuj"
   },
   "outputs": [],
   "source": [
    "print(testY)"
   ]
  },
  {
   "cell_type": "code",
   "execution_count": null,
   "metadata": {
    "colab": {},
    "colab_type": "code",
    "id": "5pdv_ZFua6hP"
   },
   "outputs": [],
   "source": [
    "print(predictions)"
   ]
  },
  {
   "cell_type": "code",
   "execution_count": null,
   "metadata": {
    "colab": {},
    "colab_type": "code",
    "id": "NYjNzYplvckL"
   },
   "outputs": [],
   "source": [
    "plt.plot(testY,predictions,'.')\n",
    "plt.show()"
   ]
  },
  {
   "cell_type": "code",
   "execution_count": null,
   "metadata": {
    "colab": {},
    "colab_type": "code",
    "id": "puT9DXK2wCyi"
   },
   "outputs": [],
   "source": [
    "np.mean([abs(t-65.13) for t in testY])"
   ]
  },
  {
   "cell_type": "markdown",
   "metadata": {
    "colab_type": "text",
    "id": "PL_mK7gBBBzh"
   },
   "source": [
    "# **Testing linear regression**"
   ]
  },
  {
   "cell_type": "code",
   "execution_count": null,
   "metadata": {
    "colab": {},
    "colab_type": "code",
    "id": "W-SarGZVcTco"
   },
   "outputs": [],
   "source": [
    "from sklearn.linear_model import LinearRegression\n",
    "\n",
    "# Create the model\n",
    "linear_regression = LinearRegression()\n",
    "\n",
    "# Fit the model on the training data\n",
    "linear_regression.fit(trainX, trainY)\n",
    "\n",
    "# Make predictions on the test data\n",
    "predictions1 = linear_regression.predict(testX)\n",
    "\n",
    "# Evaluate the model\n",
    "mae = np.mean(abs(predictions1 - testY))\n",
    "\n",
    "print('Linear regression Performance on the test set: MAE = %0.4f' % mae)"
   ]
  },
  {
   "cell_type": "code",
   "execution_count": null,
   "metadata": {
    "colab": {},
    "colab_type": "code",
    "id": "73oEqxnqchuO"
   },
   "outputs": [],
   "source": [
    "print(testY)"
   ]
  },
  {
   "cell_type": "code",
   "execution_count": null,
   "metadata": {
    "colab": {},
    "colab_type": "code",
    "id": "8Uxkx3VAcjtP"
   },
   "outputs": [],
   "source": [
    "print(predictions1)"
   ]
  },
  {
   "cell_type": "code",
   "execution_count": null,
   "metadata": {
    "colab": {},
    "colab_type": "code",
    "id": "QaHFnbcRGPPW"
   },
   "outputs": [],
   "source": []
  }
 ],
 "metadata": {
  "accelerator": "GPU",
  "colab": {
   "collapsed_sections": [],
   "machine_shape": "hm",
   "name": "ActualnsightDataset.ipynb",
   "provenance": []
  },
  "kernelspec": {
   "display_name": "Python 3",
   "language": "python",
   "name": "python3"
  },
  "language_info": {
   "codemirror_mode": {
    "name": "ipython",
    "version": 3
   },
   "file_extension": ".py",
   "mimetype": "text/x-python",
   "name": "python",
   "nbconvert_exporter": "python",
   "pygments_lexer": "ipython3",
   "version": "3.5.3"
  }
 },
 "nbformat": 4,
 "nbformat_minor": 4
}
